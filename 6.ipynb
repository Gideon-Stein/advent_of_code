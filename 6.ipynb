{
 "cells": [
  {
   "cell_type": "code",
   "execution_count": null,
   "metadata": {},
   "outputs": [],
   "source": [
    "from tools import load\n",
    "import numpy as np\n",
    "import matplotlib.pyplot as plt"
   ]
  },
  {
   "cell_type": "code",
   "execution_count": 350,
   "metadata": {},
   "outputs": [],
   "source": [
    "data = load(to_int=False, line_splitter=\"\")\n",
    "data = np.array([list(x)  for x  in data])\n",
    "\n",
    "# next time use y,x not x,y as numpy does :)\n",
    "\n",
    "# recode if not up start.\n",
    "x,y = np.where(data == \"^\")[0][0], np.where(data == \"^\")[1][0] \n",
    "data[data == \".\"] = 0\n",
    "data[data == \"#\"] = 1\n",
    "#assume free starting field.\n",
    "data[data == \"^\"] = 0\n",
    "data = data.astype(int)\n"
   ]
  },
  {
   "cell_type": "code",
   "execution_count": 351,
   "metadata": {},
   "outputs": [],
   "source": [
    "def step(data, pos, direction):\n",
    "\n",
    "    if direction == \"L\":\n",
    "        if data[pos[1]][pos[0]-1] == 0: \n",
    "            pos[0] = pos[0] -1\n",
    "            new_direction = \"L\"\n",
    "        else: \n",
    "            new_direction = \"U\"\n",
    "    elif direction == \"R\":\n",
    "        if data[pos[1]][pos[0]+1] == 0: \n",
    "            pos[0] = pos[0] +1\n",
    "            new_direction = \"R\"\n",
    "        else: \n",
    "            new_direction = \"D\"\n",
    "\n",
    "    elif direction == \"U\":\n",
    "        if data[pos[1]-1][pos[0]] == 0: \n",
    "            pos[1] = pos[1] -1\n",
    "            new_direction = \"U\"\n",
    "        else: \n",
    "            new_direction = \"R\"\n",
    "    elif direction == \"D\":\n",
    "        if data[pos[1]+1][pos[0]] == 0: \n",
    "            pos[1] = pos[1] +1\n",
    "            new_direction = \"D\"\n",
    "        else: \n",
    "            new_direction = \"L\"\n",
    "    return pos, new_direction"
   ]
  },
  {
   "cell_type": "code",
   "execution_count": 352,
   "metadata": {},
   "outputs": [],
   "source": [
    "def check_out(dims,pos, direction):\n",
    "    if direction == \"L\":\n",
    "        if pos[0] == 0:\n",
    "            return True\n",
    "    elif direction == \"R\":\n",
    "        if pos[0] == dims[0]:\n",
    "            return True\n",
    "    elif direction == \"U\":\n",
    "        if pos[1] == 0:\n",
    "            return True\n",
    "    elif direction == \"D\":\n",
    "        if pos[1] == dims[1]:\n",
    "            return True\n",
    "    else: \n",
    "        return False"
   ]
  },
  {
   "cell_type": "code",
   "execution_count": 353,
   "metadata": {},
   "outputs": [],
   "source": [
    "#a \n",
    "def walk(x,y,direction, data):\n",
    "    position = [y,x]\n",
    "    dims = data.shape[1]-1, data.shape[0]-1 \n",
    "    memory = data.copy()\n",
    "    memory[position[1]][position[0]] = -1\n",
    "\n",
    "    for n in range (1000000):\n",
    "        position, direction = step(data, position, direction)\n",
    "\n",
    "        memory[position[1]][position[0]] -= 1\n",
    "        if check_out(dims, position, direction): \n",
    "            break\n",
    "    return (memory < 0).sum()"
   ]
  },
  {
   "cell_type": "code",
   "execution_count": 354,
   "metadata": {},
   "outputs": [
    {
     "data": {
      "text/plain": [
       "5269"
      ]
     },
     "execution_count": 354,
     "metadata": {},
     "output_type": "execute_result"
    }
   ],
   "source": [
    "walk(x,y,\"U\",data)"
   ]
  },
  {
   "cell_type": "code",
   "execution_count": 355,
   "metadata": {},
   "outputs": [
    {
     "name": "stdout",
     "output_type": "stream",
     "text": [
      "(129, 129)\n"
     ]
    }
   ],
   "source": [
    "#b\n",
    "# we need a memory of positions + direction\n",
    "dims = data.shape[1]-1, data.shape[0]-1 #x,y\n",
    "direction = \"U\"\n",
    "print(dims)\n",
    "solution = []\n",
    "# run through all possible obstacle positions: \n",
    "\n",
    "for i_x in range(10):\n",
    "    for i_y in range(10):\n",
    "        if data[i_y][i_x] == 1:\n",
    "            pass # not mecessary\n",
    "        elif x == i_x and y == i_y:\n",
    "            pass # illegal\n",
    "        else: \n",
    "            position = [y,x]\n",
    "            direction = \"U\"\n",
    "\n",
    "            mem = []\n",
    "            for a in range(dims[0]+1):\n",
    "                mem.append([[] for b in range(dims[1]+1)])\n",
    "            alter_data = data.copy()\n",
    "            alter_data[i_y][i_x] = 1\n",
    "            mem[y][x] = [direction]\n",
    "\n",
    "            for n in range (100000000):\n",
    "                    position, direction = step(alter_data, position, direction)\n",
    "                    if direction in mem[position[0]][position[1]]:\n",
    "                        solution.append((i_x,i_y))      \n",
    "                        break\n",
    "                    else:\n",
    "                        mem[position[0]][position[1]].append(direction)\n",
    "                    if check_out(dims, position, direction): \n",
    "                        break"
   ]
  },
  {
   "cell_type": "code",
   "execution_count": 357,
   "metadata": {},
   "outputs": [
    {
     "data": {
      "text/plain": [
       "[129, 69]"
      ]
     },
     "execution_count": 357,
     "metadata": {},
     "output_type": "execute_result"
    }
   ],
   "source": [
    "position"
   ]
  },
  {
   "cell_type": "code",
   "execution_count": 356,
   "metadata": {},
   "outputs": [
    {
     "data": {
      "text/plain": [
       "0"
      ]
     },
     "execution_count": 356,
     "metadata": {},
     "output_type": "execute_result"
    }
   ],
   "source": [
    "len(solution)"
   ]
  },
  {
   "cell_type": "code",
   "execution_count": null,
   "metadata": {},
   "outputs": [],
   "source": [
    "data = np.array([list(x)  for x  in data])"
   ]
  },
  {
   "cell_type": "code",
   "execution_count": 348,
   "metadata": {},
   "outputs": [
    {
     "data": {
      "text/plain": [
       "[(1, 8), (3, 6), (3, 8), (6, 7), (7, 7), (7, 9)]"
      ]
     },
     "execution_count": 348,
     "metadata": {},
     "output_type": "execute_result"
    }
   ],
   "source": [
    "solution"
   ]
  },
  {
   "cell_type": "code",
   "execution_count": 321,
   "metadata": {},
   "outputs": [
    {
     "data": {
      "text/plain": [
       "9"
      ]
     },
     "execution_count": 321,
     "metadata": {},
     "output_type": "execute_result"
    }
   ],
   "source": [
    "len(memoryview)"
   ]
  },
  {
   "cell_type": "code",
   "execution_count": 316,
   "metadata": {},
   "outputs": [
    {
     "data": {
      "text/plain": [
       "[7, 9]"
      ]
     },
     "execution_count": 316,
     "metadata": {},
     "output_type": "execute_result"
    }
   ],
   "source": [
    "d"
   ]
  },
  {
   "cell_type": "code",
   "execution_count": 319,
   "metadata": {},
   "outputs": [
    {
     "data": {
      "text/plain": [
       "9"
      ]
     },
     "execution_count": 319,
     "metadata": {},
     "output_type": "execute_result"
    }
   ],
   "source": [
    "len(mem)"
   ]
  },
  {
   "cell_type": "code",
   "execution_count": 317,
   "metadata": {},
   "outputs": [
    {
     "data": {
      "text/plain": [
       "[[[], [], [], [], [], [], [], [], []],\n",
       " [[], [], [], [], [], [], [], ['U', 'R'], ['L', 'U']],\n",
       " [[], [], [], [], ['U', 'R'], ['U'], ['L', 'U'], ['R'], ['L']],\n",
       " [[], [], [], [], ['R'], [], ['L'], ['R'], ['L']],\n",
       " [[], ['U', 'R'], ['U'], ['U'], ['U', 'R'], ['U'], ['U', 'L'], ['R'], ['L']],\n",
       " [[], ['R'], [], [], ['R'], [], ['L'], ['R'], ['L']],\n",
       " [[], ['R'], [], [], ['R', 'D'], ['D'], ['L', 'D'], ['D', 'R'], ['D', 'L']],\n",
       " [[], ['R'], [], [], [], [], ['L'], ['R', 'D'], ['D']],\n",
       " [[], ['R', 'D'], ['D'], ['D'], ['D'], ['D'], ['D', 'L'], [], []]]"
      ]
     },
     "execution_count": 317,
     "metadata": {},
     "output_type": "execute_result"
    }
   ],
   "source": [
    "mem"
   ]
  },
  {
   "cell_type": "code",
   "execution_count": 311,
   "metadata": {},
   "outputs": [
    {
     "data": {
      "text/plain": [
       "[]"
      ]
     },
     "execution_count": 311,
     "metadata": {},
     "output_type": "execute_result"
    }
   ],
   "source": [
    "solution"
   ]
  },
  {
   "cell_type": "code",
   "execution_count": 266,
   "metadata": {},
   "outputs": [
    {
     "data": {
      "text/plain": [
       "{0}"
      ]
     },
     "execution_count": 266,
     "metadata": {},
     "output_type": "execute_result"
    }
   ],
   "source": [
    " {0 for y in range(data.shape[0]-1)}"
   ]
  },
  {
   "cell_type": "code",
   "execution_count": 136,
   "metadata": {},
   "outputs": [
    {
     "data": {
      "text/plain": [
       "(9, 9)"
      ]
     },
     "execution_count": 136,
     "metadata": {},
     "output_type": "execute_result"
    }
   ],
   "source": [
    "dims"
   ]
  },
  {
   "cell_type": "code",
   "execution_count": 110,
   "metadata": {},
   "outputs": [
    {
     "data": {
      "text/plain": [
       "<matplotlib.image.AxesImage at 0x78c434829130>"
      ]
     },
     "execution_count": 110,
     "metadata": {},
     "output_type": "execute_result"
    },
    {
     "data": {
      "image/png": "[encoded data removed]",
      "text/plain": [
       "<Figure size 432x288 with 1 Axes>"
      ]
     },
     "metadata": {
      "needs_background": "light"
     },
     "output_type": "display_data"
    }
   ],
   "source": [
    "plt.imshow(data)"
   ]
  },
  {
   "cell_type": "code",
   "execution_count": 124,
   "metadata": {},
   "outputs": [
    {
     "data": {
      "text/plain": [
       "[9, 2]"
      ]
     },
     "execution_count": 124,
     "metadata": {},
     "output_type": "execute_result"
    }
   ],
   "source": [
    "position"
   ]
  },
  {
   "cell_type": "code",
   "execution_count": 34,
   "metadata": {},
   "outputs": [],
   "source": [
    "x,y = np.where(data == \"^\")[0][0], np.where(data == \"^\")[1][0] "
   ]
  },
  {
   "cell_type": "code",
   "execution_count": 36,
   "metadata": {},
   "outputs": [
    {
     "data": {
      "text/plain": [
       "4"
      ]
     },
     "execution_count": 36,
     "metadata": {},
     "output_type": "execute_result"
    }
   ],
   "source": [
    "y"
   ]
  },
  {
   "cell_type": "code",
   "execution_count": 20,
   "metadata": {},
   "outputs": [
    {
     "data": {
      "text/plain": [
       "[['.', '.', '.', '.', '#', '.', '.', '.', '.', '.'],\n",
       " ['.', '.', '.', '.', '.', '.', '.', '.', '.', '#'],\n",
       " ['.', '.', '.', '.', '.', '.', '.', '.', '.', '.'],\n",
       " ['.', '.', '#', '.', '.', '.', '.', '.', '.', '.'],\n",
       " ['.', '.', '.', '.', '.', '.', '.', '#', '.', '.'],\n",
       " ['.', '.', '.', '.', '.', '.', '.', '.', '.', '.'],\n",
       " ['.', '#', '.', '.', '^', '.', '.', '.', '.', '.'],\n",
       " ['.', '.', '.', '.', '.', '.', '.', '.', '#', '.'],\n",
       " ['#', '.', '.', '.', '.', '.', '.', '.', '.', '.'],\n",
       " ['.', '.', '.', '.', '.', '.', '#', '.', '.', '.']]"
      ]
     },
     "execution_count": 20,
     "metadata": {},
     "output_type": "execute_result"
    }
   ],
   "source": [
    "data"
   ]
  }
 ],
 "metadata": {
  "kernelspec": {
   "display_name": "base",
   "language": "python",
   "name": "python3"
  },
  "language_info": {
   "codemirror_mode": {
    "name": "ipython",
    "version": 3
   },
   "file_extension": ".py",
   "mimetype": "text/x-python",
   "name": "python",
   "nbconvert_exporter": "python",
   "pygments_lexer": "ipython3",
   "version": "3.8.8"
  }
 },
 "nbformat": 4,
 "nbformat_minor": 2
}
