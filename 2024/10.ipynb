{
 "cells": [
  {
   "cell_type": "code",
   "execution_count": 37,
   "metadata": {},
   "outputs": [],
   "source": [
    "from tools import load\n",
    "import numpy as np\n",
    "import re\n",
    "import copy "
   ]
  },
  {
   "cell_type": "code",
   "execution_count": 38,
   "metadata": {},
   "outputs": [],
   "source": [
    "data = np.array(load(to_list=True, line_splitter=False)).astype(int)"
   ]
  },
  {
   "cell_type": "code",
   "execution_count": 39,
   "metadata": {},
   "outputs": [],
   "source": [
    "trailheads = np.array(np.where(data== 0)).T"
   ]
  },
  {
   "cell_type": "code",
   "execution_count": 40,
   "metadata": {},
   "outputs": [],
   "source": [
    "def check_trailhead(h, data):\n",
    "\n",
    "    potential_paths = [[h]]\n",
    "    \n",
    "    for _ in range(10):\n",
    "        new_paths = []\n",
    "        for path in potential_paths: \n",
    "            required = len(path)\n",
    "            last_point = path[-1]\n",
    "                        \n",
    "            if last_point[1] != (data.shape[1]-1):\n",
    "                if data[last_point[0], last_point[1]+1] == required:\n",
    "                    new_paths.append(path + [[last_point[0], last_point[1]+1]])\n",
    "          \n",
    "\n",
    "            if last_point[1] != 0:\n",
    "                if data[last_point[0], last_point[1]-1] == required:\n",
    "                    new_paths.append(path + [[last_point[0], last_point[1]-1]])\n",
    "\n",
    "\n",
    "            if last_point[0] != (data.shape[0]-1):\n",
    "                if data[last_point[0]+1, last_point[1]] == required:\n",
    "                    new_paths.append(path + [[last_point[0]+1, last_point[1]]])\n",
    "\n",
    "\n",
    "            if last_point[0] != 0:\n",
    "                if data[last_point[0]-1, last_point[1]] == required:\n",
    "                    new_paths.append(path + [[last_point[0]-1, last_point[1]]])\n",
    "\n",
    "        if required == 9: \n",
    "            return new_paths\n",
    "        else:\n",
    "            potential_paths = copy.deepcopy(new_paths)\n"
   ]
  },
  {
   "cell_type": "code",
   "execution_count": 43,
   "metadata": {},
   "outputs": [
    {
     "data": {
      "text/plain": [
       "587"
      ]
     },
     "execution_count": 43,
     "metadata": {},
     "output_type": "execute_result"
    }
   ],
   "source": [
    "res = []\n",
    "for h in trailheads:\n",
    "    trails = check_trailhead(list(h),data)\n",
    "    end_points = len(set([str(x[-1]) for x in trails]))\n",
    "    res.append(end_points)\n",
    "sum(res)"
   ]
  },
  {
   "cell_type": "code",
   "execution_count": 44,
   "metadata": {},
   "outputs": [
    {
     "data": {
      "text/plain": [
       "1340"
      ]
     },
     "execution_count": 44,
     "metadata": {},
     "output_type": "execute_result"
    }
   ],
   "source": [
    "# b\n",
    "res = []\n",
    "for h in trailheads:\n",
    "    trails = check_trailhead(list(h),data)\n",
    "    res.append(trails)\n",
    "    \n",
    "len([item for sublist in res for item in sublist])"
   ]
  }
 ],
 "metadata": {
  "kernelspec": {
   "display_name": "base",
   "language": "python",
   "name": "python3"
  },
  "language_info": {
   "codemirror_mode": {
    "name": "ipython",
    "version": 3
   },
   "file_extension": ".py",
   "mimetype": "text/x-python",
   "name": "python",
   "nbconvert_exporter": "python",
   "pygments_lexer": "ipython3",
   "version": "3.11.5"
  }
 },
 "nbformat": 4,
 "nbformat_minor": 2
}
