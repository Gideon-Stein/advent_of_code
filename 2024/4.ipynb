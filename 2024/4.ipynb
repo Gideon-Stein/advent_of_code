{
 "cells": [
  {
   "cell_type": "code",
   "execution_count": 191,
   "metadata": {},
   "outputs": [],
   "source": [
    "from tools import load\n",
    "import numpy as np\n",
    "import re"
   ]
  },
  {
   "cell_type": "code",
   "execution_count": 236,
   "metadata": {},
   "outputs": [],
   "source": [
    "data = np.array(load(to_list=True, line_splitter=False))"
   ]
  },
  {
   "cell_type": "code",
   "execution_count": 193,
   "metadata": {},
   "outputs": [],
   "source": [
    "def check_straight(data):\n",
    "    counter = 0\n",
    "    for x in data: \n",
    "        counter +=len(re.findall(\"XMAS\", \"\".join(x)))\n",
    "        counter +=len(re.findall(\"XMAS\", \"\".join(x)[::-1]))\n",
    "    return counter"
   ]
  },
  {
   "cell_type": "code",
   "execution_count": 194,
   "metadata": {},
   "outputs": [],
   "source": [
    "def produce_diagonal(subdata):\n",
    "    out = [subdata[0]]\n",
    "    for x in range(1,4):\n",
    "        replace = np.roll(subdata[x],-x)\n",
    "        replace[-x:] = \"O\"\n",
    "        out.append(replace)\n",
    "    return np.array(out)\n",
    "    "
   ]
  },
  {
   "cell_type": "code",
   "execution_count": 195,
   "metadata": {},
   "outputs": [],
   "source": [
    "def check_diagonal(data):\n",
    "    counter = 0\n",
    "    for line in range(len(data)-3):\n",
    "        #to the right side\n",
    "        counter += check_straight(produce_diagonal(data[line:line+4]).T)\n",
    "      \n",
    "    return counter"
   ]
  },
  {
   "cell_type": "code",
   "execution_count": 196,
   "metadata": {},
   "outputs": [
    {
     "name": "stdout",
     "output_type": "stream",
     "text": [
      "469\n",
      "894\n",
      "1714\n",
      "2569\n"
     ]
    }
   ],
   "source": [
    "counter = 0\n",
    "counter += check_straight(data)\n",
    "print(counter)\n",
    "counter += check_straight(data.T)\n",
    "print(counter)\n",
    "counter += check_diagonal(data)\n",
    "print(counter)\n",
    "counter += check_diagonal(data.T[::-1].T)\n",
    "print(counter)"
   ]
  },
  {
   "cell_type": "code",
   "execution_count": 228,
   "metadata": {},
   "outputs": [],
   "source": [
    "def check_window(window):\n",
    "    if window[1,1] != \"A\":\n",
    "        pass\n",
    "    diag1 = \"\".join(np.diagonal(window))\n",
    "    diag2 = \"\".join(np.diagonal(window[::-1]))\n",
    "\n",
    "    if (diag1 == \"MAS\" or diag1 == \"SAM\"):\n",
    "        if (diag2 == \"MAS\" or diag2 == \"SAM\"):\n",
    "            return True\n",
    "    return False\n"
   ]
  },
  {
   "cell_type": "code",
   "execution_count": 232,
   "metadata": {},
   "outputs": [
    {
     "data": {
      "text/plain": [
       "(140, 140)"
      ]
     },
     "execution_count": 232,
     "metadata": {},
     "output_type": "execute_result"
    }
   ],
   "source": [
    "data.shape"
   ]
  },
  {
   "cell_type": "code",
   "execution_count": 244,
   "metadata": {},
   "outputs": [],
   "source": [
    "#b zzzZZ\n",
    "data = np.array(load(to_list=True, line_splitter=False))\n",
    "counter = 0 \n",
    "for y in range(data.shape[0]-1): \n",
    "    for x in range(data.shape[1]-1): \n",
    "        window = data[y:y+3,x:x+3]\n",
    "        if check_window(window):\n",
    "            counter +=1"
   ]
  },
  {
   "cell_type": "code",
   "execution_count": 245,
   "metadata": {},
   "outputs": [
    {
     "data": {
      "text/plain": [
       "1998"
      ]
     },
     "execution_count": 245,
     "metadata": {},
     "output_type": "execute_result"
    }
   ],
   "source": [
    "counter"
   ]
  }
 ],
 "metadata": {
  "kernelspec": {
   "display_name": "base",
   "language": "python",
   "name": "python3"
  },
  "language_info": {
   "codemirror_mode": {
    "name": "ipython",
    "version": 3
   },
   "file_extension": ".py",
   "mimetype": "text/x-python",
   "name": "python",
   "nbconvert_exporter": "python",
   "pygments_lexer": "ipython3",
   "version": "3.11.5"
  }
 },
 "nbformat": 4,
 "nbformat_minor": 2
}
