{
 "cells": [
  {
   "cell_type": "code",
   "execution_count": 1,
   "metadata": {},
   "outputs": [],
   "source": [
    "from tools import load\n",
    "import numpy as np\n",
    "import re\n",
    "import math\n",
    "import matplotlib.pyplot as plt"
   ]
  },
  {
   "cell_type": "code",
   "execution_count": 2,
   "metadata": {},
   "outputs": [],
   "source": [
    "def bytify(x):\n",
    "     return np.array(list('{0:03b}'.format(x))).astype(int)\n",
    "\n",
    "def intify(x):\n",
    "     return int(\"\".join(list(x)),2)\n",
    "\n",
    "def xor(a,b):\n",
    "    return np.bitwise_xor(a,b)\n",
    "\n",
    "def combo(a,A,B,C):\n",
    "    assert a < 7, \"ISSUE detected. Program broken\"\n",
    "    if a < 4:\n",
    "        return a\n",
    "    if a == 4:\n",
    "        return A\n",
    "    if a  == 5:\n",
    "        return B\n",
    "    if a == 6: \n",
    "        return C\n",
    "\n",
    "\n",
    "# operators\n",
    "def adv(c, A,B,C):\n",
    "    return int(A / (2**combo(c,A,B,C))),B,C\n",
    "\n",
    "def bxl(c, A,B,C):\n",
    "    return A,xor(B, c),C\n",
    "\n",
    "def bst(c, A,B,C):\n",
    "    return A, combo(c,A,B,C)%8, C\n",
    "\n",
    "def bxc(c, A,B,C):\n",
    "    return A,xor(B,C),C\n",
    "\n",
    "def bdv(c, A,B,C):\n",
    "    return A,int(A / (2**combo(c,A,B,C))),C\n",
    "\n",
    "def cdv(c, A,B,C):\n",
    "    return A,B,int(A / (2**combo(c,A,B,C)))"
   ]
  },
  {
   "cell_type": "code",
   "execution_count": 3,
   "metadata": {},
   "outputs": [],
   "source": [
    "instruct = {0: adv, 1: bxl, 2: bst,4: bxc, 6: bdv, 7:cdv}"
   ]
  },
  {
   "cell_type": "code",
   "execution_count": 4,
   "metadata": {},
   "outputs": [
    {
     "name": "stdout",
     "output_type": "stream",
     "text": [
      "72\n"
     ]
    },
    {
     "data": {
      "text/plain": [
       "'6,5,7,4,5,7,3,1,0'"
      ]
     },
     "execution_count": 4,
     "metadata": {},
     "output_type": "execute_result"
    }
   ],
   "source": [
    "# A \n",
    "terminated = False\n",
    "ip = 0\n",
    "\n",
    "data = load(line_splitter=False)\n",
    "P = np.array(data[4][9:].split(\",\")).astype(int)\n",
    "A = int(data[0].split(\": \")[1])\n",
    "B = int(data[1].split(\": \")[1])\n",
    "C = int(data[2].split(\": \")[1])\n",
    "out = []\n",
    "ip_mem = []\n",
    "\n",
    "for x in range(5000):\n",
    "\n",
    "    if ip > (len(P)-2): \n",
    "        print(x)\n",
    "        break\n",
    "    else:\n",
    "        ip_mem.append(ip)\n",
    "    \n",
    "    ins = P[ip]\n",
    "    op = P[ip+1] \n",
    "\n",
    "    \n",
    "    if ins == 3: \n",
    "        if A != 0: \n",
    "            ip = op\n",
    "        else:\n",
    "            ip +=2\n",
    "    elif ins == 5:\n",
    "        out.append(str(combo(op,A,B,C) % 8))\n",
    "        ip += 2\n",
    "    else:\n",
    "        A,B,C = instruct[ins](op, A,B,C)\n",
    "        ip += 2\n",
    "res1 = \",\".join(out)\n",
    "res1"
   ]
  },
  {
   "cell_type": "code",
   "execution_count": 5,
   "metadata": {},
   "outputs": [
    {
     "name": "stdout",
     "output_type": "stream",
     "text": [
      "15\n"
     ]
    }
   ],
   "source": [
    "# B\n",
    "# Determine the lowest possible str that returns the same amount of numbers.\n",
    "investigate = []\n",
    "terminated = False\n",
    "ip = 0\n",
    "data = load(line_splitter=False)\n",
    "P = np.array(data[4][9:].split(\",\")).astype(int)\n",
    "A = 35184372088831\n",
    "B = int(data[1].split(\": \")[1])\n",
    "C = int(data[2].split(\": \")[1])\n",
    "out = []\n",
    "ip_mem = []\n",
    "\n",
    "for x in range(5000):\n",
    "\n",
    "    if ip > (len(P)-2): \n",
    "        \n",
    "        break\n",
    "    else:\n",
    "        ip_mem.append(ip)\n",
    "    \n",
    "    ins = P[ip]\n",
    "    op = P[ip+1] \n",
    "\n",
    "    \n",
    "    if ins == 3: \n",
    "        if A != 0: \n",
    "            ip = op\n",
    "        else:\n",
    "            ip +=2\n",
    "    elif ins == 5:\n",
    "        out.append(str(combo(op,A,B,C) % 8))\n",
    "        ip += 2\n",
    "    else:\n",
    "        A,B,C = instruct[ins](op, A,B,C)\n",
    "        ip += 2\n",
    "\n",
    "print(len(out))\n",
    "\n",
    "# 35184372088832 is the first number that produces the proper number of steps and with that output items\n",
    "# 2**48-1 is the last number that produces the proper number of steps and with that output items\n",
    "\n",
    "# Still a little too many options.\n",
    "r1 =(2**48-1)\n",
    "r2 =35184372088832"
   ]
  },
  {
   "cell_type": "code",
   "execution_count": 6,
   "metadata": {},
   "outputs": [],
   "source": [
    "# B\n",
    "# Determine the range which returns the proper last digit.\n",
    "\n",
    "\n",
    "def investigate_digit(r1,r2,which=[-1,0], granularity= 10000):\n",
    "    investigate = []\n",
    "    for y in range(r2,r1, (r1-r2)//granularity):\n",
    "        ip = 0\n",
    "        data = load(line_splitter=False)\n",
    "        P = np.array(data[4][9:].split(\",\")).astype(int)\n",
    "        A = y\n",
    "        B = int(data[1].split(\": \")[1])\n",
    "        C = int(data[2].split(\": \")[1])\n",
    "        out = []\n",
    "        ip_mem = []\n",
    "\n",
    "        for x in range(200000): #never runs that long.\n",
    "            assert x <199999, \"ISSUE\"\n",
    "            if ip > (len(P)-2): \n",
    "                break\n",
    "            else:\n",
    "                ip_mem.append(ip)\n",
    "            \n",
    "            ins = P[ip]\n",
    "            op = P[ip+1] \n",
    "\n",
    "            \n",
    "            if ins == 3: \n",
    "                if A != 0: \n",
    "                    ip = op\n",
    "                else:\n",
    "                    ip +=2\n",
    "            elif ins == 5:\n",
    "                out.append(str(combo(op,A,B,C) % 8))\n",
    "                ip += 2\n",
    "            else:\n",
    "                A,B,C = instruct[ins](op, A,B,C)\n",
    "                ip += 2\n",
    "\n",
    "        investigate.append(out)\n",
    "\n",
    "    last = np.array(investigate).astype(int).T[which[0]]\n",
    "    earliest_index = np.where(last == which[1])[0][0] - 1\n",
    "    lower = r2 + (r1-r2)//granularity * earliest_index\n",
    "    \n",
    "\n",
    "    constraint = last[earliest_index+1:]\n",
    "    latest_index = earliest_index + np.where(constraint != which[1])[0][0] + 1\n",
    "    upper = r2 + (r1-r2)//granularity * latest_index\n",
    "    return last, lower,upper, earliest_index, latest_index"
   ]
  },
  {
   "cell_type": "code",
   "execution_count": 21,
   "metadata": {},
   "outputs": [],
   "source": [
    "current_r1 = r1\n",
    "current_r2 = r2\n",
    "save = []\n",
    "for x in range(1,4):\n",
    "    inv1,current_r2, current_r1,b1,b2 = investigate_digit(current_r1,current_r2,which=[-x,P[-x]],granularity=10000)\n",
    "    save.append(inv1)"
   ]
  },
  {
   "cell_type": "code",
   "execution_count": 23,
   "metadata": {},
   "outputs": [
    {
     "data": {
      "text/plain": [
       "[<matplotlib.lines.Line2D at 0x79b3c0250ca0>]"
      ]
     },
     "execution_count": 23,
     "metadata": {},
     "output_type": "execute_result"
    },
    {
     "data": {
      "image/png": "[encoded data removed]",
      "text/plain": [
       "<Figure size 432x288 with 1 Axes>"
      ]
     },
     "metadata": {
      "needs_background": "light"
     },
     "output_type": "display_data"
    }
   ],
   "source": [
    "plt.plot(save[0])"
   ]
  },
  {
   "cell_type": "code",
   "execution_count": 24,
   "metadata": {},
   "outputs": [
    {
     "data": {
      "text/plain": [
       "[<matplotlib.lines.Line2D at 0x79b3c0df2460>]"
      ]
     },
     "execution_count": 24,
     "metadata": {},
     "output_type": "execute_result"
    },
    {
     "data": {
      "image/png": "[encoded data removed]",
      "text/plain": [
       "<Figure size 432x288 with 1 Axes>"
      ]
     },
     "metadata": {
      "needs_background": "light"
     },
     "output_type": "display_data"
    }
   ],
   "source": [
    "plt.plot(save[1])"
   ]
  },
  {
   "cell_type": "code",
   "execution_count": 25,
   "metadata": {},
   "outputs": [
    {
     "data": {
      "text/plain": [
       "[<matplotlib.lines.Line2D at 0x79b3c0d4e220>]"
      ]
     },
     "execution_count": 25,
     "metadata": {},
     "output_type": "execute_result"
    },
    {
     "data": {
      "image/png": "[encoded data removed]",
      "text/plain": [
       "<Figure size 432x288 with 1 Axes>"
      ]
     },
     "metadata": {
      "needs_background": "light"
     },
     "output_type": "display_data"
    }
   ],
   "source": [
    "plt.plot(save[2])"
   ]
  },
  {
   "cell_type": "code",
   "execution_count": 13,
   "metadata": {},
   "outputs": [],
   "source": [
    "data = load(line_splitter=False)\n",
    "P = np.array(data[4][9:].split(\",\")).astype(int)\n",
    "for y in range(current_r2,current_r2+10000):\n",
    "    ip = 0\n",
    "    A = y\n",
    "    B = int(data[1].split(\": \")[1])\n",
    "    C = int(data[2].split(\": \")[1])\n",
    "    out = []\n",
    "    ip_mem = []\n",
    "\n",
    "    for x in range(200000): #never runs that long.\n",
    "        assert x <199999, \"ISSUE\"\n",
    "        if ip > (len(P)-2): \n",
    "            break\n",
    "        else:\n",
    "            ip_mem.append(ip)\n",
    "        \n",
    "        ins = P[ip]\n",
    "        op = P[ip+1] \n",
    "\n",
    "        \n",
    "        if ins == 3: \n",
    "            if A != 0: \n",
    "                ip = op\n",
    "            else:\n",
    "                ip +=2\n",
    "        elif ins == 5:\n",
    "            out.append(combo(op,A,B,C) % 8)\n",
    "            ip += 2\n",
    "        else:\n",
    "            A,B,C = instruct[ins](op, A,B,C)\n",
    "            ip += 2\n",
    "\n",
    "\n",
    "    if np.all(P == out):\n",
    "        print(\"Found\")\n",
    "        break\n",
    "\n"
   ]
  },
  {
   "cell_type": "code",
   "execution_count": 17,
   "metadata": {},
   "outputs": [
    {
     "data": {
      "text/plain": [
       "[3, 3, 3, 5, 7, 0, 6, 3, 0, 3, 1, 3, 3, 3, 1, 1]"
      ]
     },
     "execution_count": 17,
     "metadata": {},
     "output_type": "execute_result"
    }
   ],
   "source": [
    "out"
   ]
  },
  {
   "cell_type": "code",
   "execution_count": 11,
   "metadata": {},
   "outputs": [
    {
     "data": {
      "text/plain": [
       "array([2, 4, 1, 5, 7, 5, 0, 3, 1, 6, 4, 3, 5, 5, 3, 0])"
      ]
     },
     "execution_count": 11,
     "metadata": {},
     "output_type": "execute_result"
    }
   ],
   "source": [
    "P"
   ]
  },
  {
   "cell_type": "code",
   "execution_count": 21,
   "metadata": {},
   "outputs": [
    {
     "data": {
      "text/plain": [
       "False"
      ]
     },
     "execution_count": 21,
     "metadata": {},
     "output_type": "execute_result"
    }
   ],
   "source": [
    "np.all(P == investigate[-1])\n"
   ]
  },
  {
   "cell_type": "code",
   "execution_count": 15,
   "metadata": {},
   "outputs": [
    {
     "data": {
      "text/plain": [
       "[0, 7, 2, 6, 1, 6, 6, 2, 3, 3, 3, 7, 2, 5, 3, 0]"
      ]
     },
     "execution_count": 15,
     "metadata": {},
     "output_type": "execute_result"
    }
   ],
   "source": [
    "investigate[-1]"
   ]
  },
  {
   "cell_type": "code",
   "execution_count": 13,
   "metadata": {},
   "outputs": [
    {
     "data": {
      "text/plain": [
       "array([2, 4, 1, 5, 7, 5, 0, 3, 1, 6, 4, 3, 5, 5, 3, 0])"
      ]
     },
     "execution_count": 13,
     "metadata": {},
     "output_type": "execute_result"
    }
   ],
   "source": [
    "P"
   ]
  },
  {
   "cell_type": "code",
   "execution_count": 657,
   "metadata": {},
   "outputs": [
    {
     "data": {
      "text/plain": [
       "105690544757598"
      ]
     },
     "execution_count": 657,
     "metadata": {},
     "output_type": "execute_result"
    }
   ],
   "source": [
    "# LEts brute :)"
   ]
  },
  {
   "cell_type": "code",
   "execution_count": null,
   "metadata": {},
   "outputs": [],
   "source": [
    "\n"
   ]
  },
  {
   "cell_type": "code",
   "execution_count": 637,
   "metadata": {},
   "outputs": [],
   "source": [
    "inv1,r2_n, r1_n,b1,b2 = investigate_digit(r1,r2,which=[-1,0],granularity=10000)\n",
    "plt.plot(inv1)\n",
    "plt.vlines(b1,0,7,color=\"green\")\n",
    "plt.vlines(b2,0,7,color=\"red\")"
   ]
  },
  {
   "cell_type": "code",
   "execution_count": 644,
   "metadata": {},
   "outputs": [
    {
     "data": {
      "text/plain": [
       "<matplotlib.collections.LineCollection at 0x7f82f437fbb0>"
      ]
     },
     "execution_count": 644,
     "metadata": {},
     "output_type": "execute_result"
    },
    {
     "data": {
      "image/png": "[encoded data removed]",
      "text/plain": [
       "<Figure size 432x288 with 1 Axes>"
      ]
     },
     "metadata": {
      "needs_background": "light"
     },
     "output_type": "display_data"
    }
   ],
   "source": [
    "inv2,r2_n2, r1_n2,b3,b4 = investigate_digit(r1_n,r2_n, which=[-2,3],granularity=10000)\n",
    "plt.plot(inv2)\n",
    "plt.vlines(b3,0,7,color=\"green\")\n",
    "plt.vlines(b4,0,7,color=\"red\")"
   ]
  },
  {
   "cell_type": "code",
   "execution_count": 646,
   "metadata": {},
   "outputs": [
    {
     "data": {
      "text/plain": [
       "<matplotlib.collections.LineCollection at 0x7f82f31c3340>"
      ]
     },
     "execution_count": 646,
     "metadata": {},
     "output_type": "execute_result"
    },
    {
     "data": {
      "image/png": "[encoded data removed]",
      "text/plain": [
       "<Figure size 432x288 with 1 Axes>"
      ]
     },
     "metadata": {
      "needs_background": "light"
     },
     "output_type": "display_data"
    }
   ],
   "source": [
    "inv3,r2_n3, r1_n3,b5,b6 = investigate_digit(r1_n2,r2_n2, which=[-3,5],granularity=10000)\n",
    "plt.plot(inv3)\n",
    "plt.vlines(b5,0,7,color=\"green\")\n",
    "plt.vlines(b6,0,7,color=\"red\")"
   ]
  },
  {
   "cell_type": "code",
   "execution_count": 651,
   "metadata": {},
   "outputs": [
    {
     "data": {
      "text/plain": [
       "0.015656259995038377"
      ]
     },
     "execution_count": 651,
     "metadata": {},
     "output_type": "execute_result"
    }
   ],
   "source": [
    "(r1_n3 - r2_n3) /(r1_n - r2_n)"
   ]
  },
  {
   "cell_type": "code",
   "execution_count": 617,
   "metadata": {},
   "outputs": [
    {
     "data": {
      "text/plain": [
       "31888233898461"
      ]
     },
     "execution_count": 617,
     "metadata": {},
     "output_type": "execute_result"
    }
   ],
   "source": [
    "r1_n3 - r2_n3"
   ]
  },
  {
   "cell_type": "code",
   "execution_count": 613,
   "metadata": {},
   "outputs": [
    {
     "data": {
      "text/plain": [
       "[<matplotlib.lines.Line2D at 0x7f82f49f2fa0>]"
      ]
     },
     "execution_count": 613,
     "metadata": {},
     "output_type": "execute_result"
    },
    {
     "data": {
      "image/png": "[encoded data removed]",
      "text/plain": [
       "<Figure size 432x288 with 1 Axes>"
      ]
     },
     "metadata": {
      "needs_background": "light"
     },
     "output_type": "display_data"
    }
   ],
   "source": [
    "plt.plot(inv3)"
   ]
  },
  {
   "cell_type": "code",
   "execution_count": null,
   "metadata": {},
   "outputs": [],
   "source": [
    "# Lets try :)\n",
    "# B\n",
    "\n",
    "investigate = []\n",
    "for y in range(r2_n3,r1_n3):\n",
    "    ip = 0\n",
    "    data = load(line_splitter=False)\n",
    "    P = np.array(data[4][9:].split(\",\")).astype(int)\n",
    "    A = y\n",
    "    B = int(data[1].split(\": \")[1])\n",
    "    C = int(data[2].split(\": \")[1])\n",
    "    out = []\n",
    "    ip_mem = []\n",
    "\n",
    "    for x in range(200000): #never runs that long.\n",
    "        assert x <199999, \"ISSUE\"\n",
    "        if ip > (len(P)-2): \n",
    "            break\n",
    "        else:\n",
    "            ip_mem.append(ip)\n",
    "        \n",
    "        ins = P[ip]\n",
    "        op = P[ip+1] \n",
    "\n",
    "        \n",
    "        if ins == 3: \n",
    "            if A != 0: \n",
    "                ip = op\n",
    "            else:\n",
    "                ip +=2\n",
    "        elif ins == 5:\n",
    "            out.append(str(combo(op,A,B,C) % 8))\n",
    "            ip += 2\n",
    "        else:\n",
    "            A,B,C = instruct[ins](op, A,B,C)\n",
    "            ip += 2\n",
    "\n",
    "    investigate.append(out)\n",
    "    if y "
   ]
  },
  {
   "cell_type": "code",
   "execution_count": 585,
   "metadata": {},
   "outputs": [],
   "source": [
    "inv2,r2_n2, r1_n2 = investigate_last_digit(r1_n,r2_n)\n"
   ]
  },
  {
   "cell_type": "code",
   "execution_count": 591,
   "metadata": {},
   "outputs": [
    {
     "data": {
      "text/plain": [
       "0.1428999999989423"
      ]
     },
     "execution_count": 591,
     "metadata": {},
     "output_type": "execute_result"
    }
   ],
   "source": [
    "(r1_n - r2_n) / (r1 - r2)"
   ]
  },
  {
   "cell_type": "code",
   "execution_count": 589,
   "metadata": {},
   "outputs": [
    {
     "data": {
      "text/plain": [
       "35194927400198"
      ]
     },
     "execution_count": 589,
     "metadata": {},
     "output_type": "execute_result"
    }
   ],
   "source": [
    "r1_n - r2_n"
   ]
  },
  {
   "cell_type": "code",
   "execution_count": 586,
   "metadata": {},
   "outputs": [
    {
     "data": {
      "text/plain": [
       "[<matplotlib.lines.Line2D at 0x7f82ef566fa0>]"
      ]
     },
     "execution_count": 586,
     "metadata": {},
     "output_type": "execute_result"
    },
    {
     "data": {
      "image/png": "[encoded data removed]",
      "text/plain": [
       "<Figure size 432x288 with 1 Axes>"
      ]
     },
     "metadata": {
      "needs_background": "light"
     },
     "output_type": "display_data"
    }
   ],
   "source": [
    "last = np.array(inv2).astype(int).T[-1]\n",
    "plt.plot(last)"
   ]
  },
  {
   "cell_type": "code",
   "execution_count": 582,
   "metadata": {},
   "outputs": [
    {
     "data": {
      "text/plain": [
       "[<matplotlib.lines.Line2D at 0x7f82f39840d0>]"
      ]
     },
     "execution_count": 582,
     "metadata": {},
     "output_type": "execute_result"
    },
    {
     "data": {
      "image/png": "[encoded data removed]",
      "text/plain": [
       "<Figure size 432x288 with 1 Axes>"
      ]
     },
     "metadata": {
      "needs_background": "light"
     },
     "output_type": "display_data"
    }
   ],
   "source": [
    "last = np.array(inv1).astype(int).T[-1]\n",
    "plt.plot(last)\n"
   ]
  },
  {
   "cell_type": "code",
   "execution_count": 566,
   "metadata": {},
   "outputs": [
    {
     "data": {
      "text/plain": [
       "105574226889228"
      ]
     },
     "execution_count": 566,
     "metadata": {},
     "output_type": "execute_result"
    }
   ],
   "source": [
    "r2"
   ]
  },
  {
   "cell_type": "code",
   "execution_count": 567,
   "metadata": {},
   "outputs": [
    {
     "data": {
      "text/plain": [
       "140719896168503"
      ]
     },
     "execution_count": 567,
     "metadata": {},
     "output_type": "execute_result"
    }
   ],
   "source": [
    "r1"
   ]
  },
  {
   "cell_type": "code",
   "execution_count": 557,
   "metadata": {},
   "outputs": [
    {
     "data": {
      "text/plain": [
       "[<matplotlib.lines.Line2D at 0x7f82ea2bd7f0>]"
      ]
     },
     "execution_count": 557,
     "metadata": {},
     "output_type": "execute_result"
    },
    {
     "data": {
      "image/png": "[encoded data removed]",
      "text/plain": [
       "<Figure size 432x288 with 1 Axes>"
      ]
     },
     "metadata": {
      "needs_background": "light"
     },
     "output_type": "display_data"
    }
   ],
   "source": [
    "# There seems to be only one subspace that gives us 0. Now we simply need to check in the left border region.\n",
    "last = np.array(investigate).astype(int).T[-1]\n",
    "plt.plot(last)\n",
    "# There seems to be only one subspace that gives us . Now we simply need to check in the left border region.\n",
    "last = np.array(investigate).astype(int).T[-2]\n",
    "plt.plot(last)"
   ]
  },
  {
   "cell_type": "code",
   "execution_count": 545,
   "metadata": {},
   "outputs": [
    {
     "data": {
      "text/plain": [
       "[<matplotlib.lines.Line2D at 0x7f82ef465b80>]"
      ]
     },
     "execution_count": 545,
     "metadata": {},
     "output_type": "execute_result"
    },
    {
     "data": {
      "image/png": "[encoded data removed]",
      "text/plain": [
       "<Figure size 432x288 with 1 Axes>"
      ]
     },
     "metadata": {
      "needs_background": "light"
     },
     "output_type": "display_data"
    }
   ],
   "source": [
    "# There seems to be only one subspace that gives us 0. Now we simply need to check in the left border region.\n",
    "last = np.array(investigate).astype(int).T[-2]\n",
    "plt.plot(last)"
   ]
  },
  {
   "cell_type": "code",
   "execution_count": 556,
   "metadata": {},
   "outputs": [
    {
     "data": {
      "text/plain": [
       "[<matplotlib.lines.Line2D at 0x7f82ea39f880>]"
      ]
     },
     "execution_count": 556,
     "metadata": {},
     "output_type": "execute_result"
    },
    {
     "data": {
      "image/png": "[encoded data removed]",
      "text/plain": [
       "<Figure size 432x288 with 1 Axes>"
      ]
     },
     "metadata": {
      "needs_background": "light"
     },
     "output_type": "display_data"
    }
   ],
   "source": [
    "# There seems to be only one subspace that gives us 0. Now we simply need to check in the left border region.\n",
    "last = np.array(investigate).astype(int).T[-2]\n",
    "plt.plot(last)"
   ]
  },
  {
   "cell_type": "code",
   "execution_count": null,
   "metadata": {},
   "outputs": [],
   "source": []
  },
  {
   "cell_type": "code",
   "execution_count": 501,
   "metadata": {},
   "outputs": [
    {
     "data": {
      "text/plain": [
       "16"
      ]
     },
     "execution_count": 501,
     "metadata": {},
     "output_type": "execute_result"
    }
   ],
   "source": [
    "len(investigate[-2])"
   ]
  },
  {
   "cell_type": "code",
   "execution_count": null,
   "metadata": {},
   "outputs": [],
   "source": [
    "in"
   ]
  },
  {
   "cell_type": "code",
   "execution_count": 496,
   "metadata": {},
   "outputs": [
    {
     "data": {
      "text/plain": [
       "287"
      ]
     },
     "execution_count": 496,
     "metadata": {},
     "output_type": "execute_result"
    }
   ],
   "source": [
    "counter"
   ]
  },
  {
   "cell_type": "code",
   "execution_count": 491,
   "metadata": {},
   "outputs": [
    {
     "data": {
      "text/plain": [
       "1000"
      ]
     },
     "execution_count": 491,
     "metadata": {},
     "output_type": "execute_result"
    }
   ],
   "source": [
    "len(investigate)"
   ]
  },
  {
   "cell_type": "code",
   "execution_count": 506,
   "metadata": {},
   "outputs": [
    {
     "data": {
      "text/plain": [
       "[<matplotlib.lines.Line2D at 0x7f82ef53fd00>]"
      ]
     },
     "execution_count": 506,
     "metadata": {},
     "output_type": "execute_result"
    },
    {
     "data": {
      "image/png": "[encoded data removed]",
      "text/plain": [
       "<Figure size 432x288 with 1 Axes>"
      ]
     },
     "metadata": {
      "needs_background": "light"
     },
     "output_type": "display_data"
    }
   ],
   "source": [
    "# There seems to be only one subspace that gives us 0. Now we simply need to check in the left border region.\n",
    "last = np.array(investigate).astype(int).T[-1]\n",
    "plt.plot(last)"
   ]
  },
  {
   "cell_type": "code",
   "execution_count": 523,
   "metadata": {},
   "outputs": [
    {
     "data": {
      "text/plain": [
       "array([28572, 28573, 28574, ..., 42855, 42856, 42857])"
      ]
     },
     "execution_count": 523,
     "metadata": {},
     "output_type": "execute_result"
    }
   ],
   "source": [
    "np.where(last == 0)[0]"
   ]
  },
  {
   "cell_type": "code",
   "execution_count": 532,
   "metadata": {},
   "outputs": [
    {
     "data": {
      "text/plain": [
       "35184372088832"
      ]
     },
     "execution_count": 532,
     "metadata": {},
     "output_type": "execute_result"
    }
   ],
   "source": [
    "r2"
   ]
  },
  {
   "cell_type": "code",
   "execution_count": 536,
   "metadata": {},
   "outputs": [
    {
     "data": {
      "text/plain": [
       "246290604621823"
      ]
     },
     "execution_count": 536,
     "metadata": {},
     "output_type": "execute_result"
    }
   ],
   "source": [
    "r1 - r2"
   ]
  },
  {
   "cell_type": "code",
   "execution_count": 538,
   "metadata": {},
   "outputs": [
    {
     "data": {
      "text/plain": [
       "35184372088832"
      ]
     },
     "execution_count": 538,
     "metadata": {},
     "output_type": "execute_result"
    }
   ],
   "source": [
    "r2"
   ]
  },
  {
   "cell_type": "code",
   "execution_count": 539,
   "metadata": {},
   "outputs": [
    {
     "data": {
      "text/plain": [
       "281474976710655"
      ]
     },
     "execution_count": 539,
     "metadata": {},
     "output_type": "execute_result"
    }
   ],
   "source": []
  },
  {
   "cell_type": "code",
   "execution_count": 537,
   "metadata": {},
   "outputs": [
    {
     "data": {
      "text/plain": [
       "35186834994878"
      ]
     },
     "execution_count": 537,
     "metadata": {},
     "output_type": "execute_result"
    }
   ],
   "source": [
    "r2 + (r1-r2)//100000"
   ]
  },
  {
   "cell_type": "code",
   "execution_count": 518,
   "metadata": {},
   "outputs": [],
   "source": [
    "lower = r2 + (r1-r2)//100000 * np.where(last == 0)[0][0]\n",
    "upper = r2 + (r1-r2)//100000 * np.where(last == 0)[0][-1]"
   ]
  },
  {
   "cell_type": "code",
   "execution_count": 531,
   "metadata": {},
   "outputs": [
    {
     "data": {
      "text/plain": [
       "35182612867110"
      ]
     },
     "execution_count": 531,
     "metadata": {},
     "output_type": "execute_result"
    }
   ],
   "source": [
    "(r1-r2)//100000 * np.where(last == 0)[0][-1] - (r1-r2)//100000 * np.where(last == 0)[0][0]"
   ]
  },
  {
   "cell_type": "code",
   "execution_count": 542,
   "metadata": {},
   "outputs": [
    {
     "data": {
      "text/plain": [
       "246290604621823"
      ]
     },
     "execution_count": 542,
     "metadata": {},
     "output_type": "execute_result"
    }
   ],
   "source": [
    "246290604621823"
   ]
  },
  {
   "cell_type": "code",
   "execution_count": 521,
   "metadata": {},
   "outputs": [
    {
     "data": {
      "text/plain": [
       "35184372088832"
      ]
     },
     "execution_count": 521,
     "metadata": {},
     "output_type": "execute_result"
    }
   ],
   "source": [
    "35184372088832"
   ]
  },
  {
   "cell_type": "code",
   "execution_count": 515,
   "metadata": {},
   "outputs": [
    {
     "name": "stdout",
     "output_type": "stream",
     "text": [
      "128\n"
     ]
    },
    {
     "data": {
      "text/plain": [
       "'5,1,1,6,0,3,4,3,1,1,2,3,3,5,3,0'"
      ]
     },
     "execution_count": 515,
     "metadata": {},
     "output_type": "execute_result"
    }
   ],
   "source": [
    "# A \n",
    "terminated = False\n",
    "ip = 0\n",
    "\n",
    "data = load(line_splitter=False)\n",
    "P = np.array(data[4][9:].split(\",\")).astype(int)\n",
    "A = upper\n",
    "B = int(data[1].split(\": \")[1])\n",
    "C = int(data[2].split(\": \")[1])\n",
    "out = []\n",
    "ip_mem = []\n",
    "\n",
    "for x in range(5000):\n",
    "\n",
    "    if ip > (len(P)-2): \n",
    "        print(x)\n",
    "        break\n",
    "    else:\n",
    "        ip_mem.append(ip)\n",
    "    \n",
    "    ins = P[ip]\n",
    "    op = P[ip+1] \n",
    "\n",
    "    \n",
    "    if ins == 3: \n",
    "        if A != 0: \n",
    "            ip = op\n",
    "        else:\n",
    "            ip +=2\n",
    "    elif ins == 5:\n",
    "        out.append(str(combo(op,A,B,C) % 8))\n",
    "        ip += 2\n",
    "    else:\n",
    "        A,B,C = instruct[ins](op, A,B,C)\n",
    "        ip += 2\n",
    "res1 = \",\".join(out)\n",
    "res1"
   ]
  },
  {
   "cell_type": "code",
   "execution_count": 517,
   "metadata": {},
   "outputs": [
    {
     "data": {
      "text/plain": [
       "'5,1,1,6,0,3,4,3,1,1,2,3,3,5,3,0'"
      ]
     },
     "execution_count": 517,
     "metadata": {},
     "output_type": "execute_result"
    }
   ],
   "source": []
  },
  {
   "cell_type": "code",
   "execution_count": 211,
   "metadata": {},
   "outputs": [
    {
     "data": {
      "text/plain": [
       "[<matplotlib.lines.Line2D at 0x7f82f6f85d90>]"
      ]
     },
     "execution_count": 211,
     "metadata": {},
     "output_type": "execute_result"
    },
    {
     "data": {
      "image/png": "[encoded data removed]",
      "text/plain": [
       "<Figure size 432x288 with 1 Axes>"
      ]
     },
     "metadata": {
      "needs_background": "light"
     },
     "output_type": "display_data"
    }
   ],
   "source": [
    "plt.plot(investigate)"
   ]
  },
  {
   "cell_type": "code",
   "execution_count": null,
   "metadata": {},
   "outputs": [],
   "source": [
    "# For the first Round: \n",
    "\n",
    "\n",
    "\n",
    "A%8 # only last 3 digits relevant\n",
    "A / 8 # only last 3 digits relevant\n",
    "A / 8 \n",
    "# Programm insights: \n",
    "# If the last number is 0 or divisible by 8 then the number is divisible by 8\n",
    "# Only the last 3 digits of A are relevant\n",
    "\n",
    "\n",
    "\n",
    "# B is ser to A%8\n",
    "# B is set to Bxor5\n",
    "# C is set to A  / 2*3\n",
    "# A is set to A / 2*3\n",
    "# B is set to Bxor6\n",
    "# B is set to BxorC\n",
    "# Out: B%8\n",
    "# Then the programm repeats if A is not 0\n",
    "\n",
    "# in Order to reproduce the last Digit: \n",
    "#  \n",
    "#  A%8 = 0\n",
    "\n",
    "\n",
    "#    \n",
    "# First digit: \n",
    "\n",
    "# B is se to A%8 --> maximally 7\n",
    "\n",
    "# B is set to Bxor5\n",
    "# C is set to A  / 2*3\n",
    "# A is set to A / 2*3\n",
    "# B is set to Bxor6\n",
    "# B is set to BxorC\n",
    "# Out: B%8\n",
    "# Then the programm repeats if A is not 0\n",
    "\n",
    "# in Order to reproduce the last Digit: \n",
    "#  \n",
    "#  A%8 = 0\n",
    "\n",
    "\n",
    "#    \n",
    "# In order to reproduce the first digit: \n",
    "\n",
    "\n",
    "inp %8 = R1\n",
    "\n",
    "R1 xOR5 = R2\n",
    "R2 xOR6 = R3\n",
    "# If the last number is 0 or divisible by 8 then the number is divisible by 8\n",
    "R3 %8 = 0\n",
    "A%8 = 0 \n",
    "# 5:101\n",
    "# 6:110\n",
    "191608 / (134217727 - 16777216)\n",
    "134217727 - 16777216\n",
    "A"
   ]
  }
 ],
 "metadata": {
  "kernelspec": {
   "display_name": "base",
   "language": "python",
   "name": "python3"
  },
  "language_info": {
   "codemirror_mode": {
    "name": "ipython",
    "version": 3
   },
   "file_extension": ".py",
   "mimetype": "text/x-python",
   "name": "python",
   "nbconvert_exporter": "python",
   "pygments_lexer": "ipython3",
   "version": "3.8.8"
  }
 },
 "nbformat": 4,
 "nbformat_minor": 2
}
