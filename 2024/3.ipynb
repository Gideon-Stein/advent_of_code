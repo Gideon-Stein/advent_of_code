{
 "cells": [
  {
   "cell_type": "code",
   "execution_count": 39,
   "metadata": {},
   "outputs": [],
   "source": [
    "from tools import load\n",
    "import numpy as np\n",
    "import pandas as pd\n",
    "import matplotlib.pyplot as plt"
   ]
  },
  {
   "cell_type": "markdown",
   "metadata": {},
   "source": [
    "### Nr3 "
   ]
  },
  {
   "cell_type": "code",
   "execution_count": 18,
   "metadata": {},
   "outputs": [],
   "source": [
    "data = load(line_splitter=None)\n",
    "data = \"\".join(data)"
   ]
  },
  {
   "cell_type": "code",
   "execution_count": 11,
   "metadata": {},
   "outputs": [],
   "source": [
    "import re"
   ]
  },
  {
   "cell_type": "code",
   "execution_count": 127,
   "metadata": {},
   "outputs": [],
   "source": [
    "def match_mul(data):\n",
    "    matches = []\n",
    "    for x in range(1,4):\n",
    "        for y in range(1,4):\n",
    "            pattern = \"mul\\(\\d{\" + str(x) + \"},\\d{\"  + str(y) +  \"}\\)\"\n",
    "            matches.append(re.findall(pattern, data))\n",
    "    matches = [item for sublist in matches for item in sublist]\n",
    "\n",
    "    res = []\n",
    "    for x in matches: \n",
    "        a,b = x.replace(\"mul(\", \"\")[:-1].split(\",\")\n",
    "        res.append(int(a) * int(b))\n",
    "    return sum(res)"
   ]
  },
  {
   "cell_type": "code",
   "execution_count": 128,
   "metadata": {},
   "outputs": [
    {
     "data": {
      "text/plain": [
       "174561379"
      ]
     },
     "execution_count": 128,
     "metadata": {},
     "output_type": "execute_result"
    }
   ],
   "source": [
    "#a\n",
    "match_mul(data)"
   ]
  },
  {
   "cell_type": "code",
   "execution_count": 148,
   "metadata": {},
   "outputs": [
    {
     "data": {
      "text/plain": [
       "106921067"
      ]
     },
     "execution_count": 148,
     "metadata": {},
     "output_type": "execute_result"
    }
   ],
   "source": [
    "#b \n",
    "stack = []\n",
    "split1 = data.split(\"don't()\")\n",
    "split2 = [x.split(\"do()\") for x in split1[1:]]\n",
    "stack.append(match_mul(split1[0]))\n",
    "\n",
    "for x in split2[1:]:\n",
    "    if len(x) == 1: \n",
    "        pass\n",
    "    else: \n",
    "        valid = \" \".join(x[1:])\n",
    "        stack.append(match_mul(valid))\n",
    "sum(stack)\n"
   ]
  }
 ],
 "metadata": {
  "kernelspec": {
   "display_name": "base",
   "language": "python",
   "name": "python3"
  },
  "language_info": {
   "codemirror_mode": {
    "name": "ipython",
    "version": 3
   },
   "file_extension": ".py",
   "mimetype": "text/x-python",
   "name": "python",
   "nbconvert_exporter": "python",
   "pygments_lexer": "ipython3",
   "version": "3.8.8"
  }
 },
 "nbformat": 4,
 "nbformat_minor": 2
}
