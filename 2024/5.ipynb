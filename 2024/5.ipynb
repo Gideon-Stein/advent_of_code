{
 "cells": [
  {
   "cell_type": "code",
   "execution_count": 145,
   "metadata": {},
   "outputs": [],
   "source": [
    "from tools import load\n",
    "import numpy as np\n",
    "import re\n",
    "import copy"
   ]
  },
  {
   "cell_type": "code",
   "execution_count": 146,
   "metadata": {},
   "outputs": [],
   "source": [
    "data = load(to_list=False, line_splitter=False)\n",
    "splitter = np.where(np.array([len(x) for x in data]) == 0 )[0][0]\n",
    "d1 = data[:splitter]\n",
    "d1 = np.array([x.split(\"|\") for x in d1]).astype(int)\n",
    "d2 = data[splitter+1:]\n",
    "d2 = [np.array(x.split(\",\")).astype(int) for x in d2]"
   ]
  },
  {
   "cell_type": "code",
   "execution_count": 147,
   "metadata": {},
   "outputs": [],
   "source": [
    "not_allowed_behind = {}\n",
    "for rule in d1:   \n",
    "    if rule[1] in not_allowed_behind: \n",
    "        not_allowed_behind[rule[1]].append(rule[0])\n",
    "    else: \n",
    "        not_allowed_behind[rule[1]] = [rule[0]]"
   ]
  },
  {
   "cell_type": "code",
   "execution_count": 148,
   "metadata": {},
   "outputs": [],
   "source": [
    "def check_line(line, not_allowed_behind,spotting_mode=False):\n",
    "    mem = []\n",
    "    for i,item in enumerate(line):\n",
    "        \n",
    "        if item not in not_allowed_behind:\n",
    "            issues = []\n",
    "        else: \n",
    "            issues = [i for i in line[i+1:] if i in not_allowed_behind[item]]\n",
    "            \n",
    "        if spotting_mode: \n",
    "            if len(issues) > 0:\n",
    "                mem.append(issues[0])\n",
    "            else:\n",
    "                mem.append(False) \n",
    "        else:\n",
    "            if len(issues) > 0: \n",
    "                return False\n",
    "    if spotting_mode: \n",
    "        return mem\n",
    "    else:\n",
    "        return True"
   ]
  },
  {
   "cell_type": "code",
   "execution_count": 149,
   "metadata": {},
   "outputs": [
    {
     "data": {
      "text/plain": [
       "4872"
      ]
     },
     "execution_count": 149,
     "metadata": {},
     "output_type": "execute_result"
    }
   ],
   "source": [
    "res = []\n",
    "for line in d2: \n",
    "    if check_line(line, not_allowed_behind):\n",
    "        res.append(line[len(line) //2]) \n",
    "sum(res)"
   ]
  },
  {
   "cell_type": "code",
   "execution_count": 150,
   "metadata": {},
   "outputs": [],
   "source": [
    "def correct_single_rule(line):\n",
    "\n",
    "    issues = check_line(line,not_allowed_behind,spotting_mode=True)\n",
    "    new_line = copy.deepcopy(line)\n",
    "    for n,item in enumerate(issues):\n",
    "        if item: \n",
    "            swap1 = n\n",
    "            swap2 = np.where(line == item)[0][0]\n",
    "            memory = new_line[swap1]\n",
    "            new_line[swap1] = new_line[swap2]\n",
    "            new_line[swap2] = memory\n",
    "            \n",
    "    if check_line(new_line,not_allowed_behind):\n",
    "        return True, new_line\n",
    "    else:\n",
    "        return False, new_line"
   ]
  },
  {
   "cell_type": "code",
   "execution_count": 151,
   "metadata": {},
   "outputs": [],
   "source": [
    "\n",
    "#B\n",
    "remain = []\n",
    "for line in d2: \n",
    "    if not check_line(line, not_allowed_behind):\n",
    "        remain.append(line)"
   ]
  },
  {
   "cell_type": "code",
   "execution_count": 156,
   "metadata": {},
   "outputs": [],
   "source": [
    "result = []\n",
    "still_remain = copy.deepcopy(remain)\n",
    "while len(still_remain) != 0: \n",
    "    new_remain = []\n",
    "    for line in still_remain:\n",
    "\n",
    "        done, new = correct_single_rule(line)\n",
    "        \n",
    "        if done:\n",
    "            result.append(new)\n",
    "        else: \n",
    "            new_remain.append(new)\n",
    "    still_remain = new_remain"
   ]
  },
  {
   "cell_type": "code",
   "execution_count": 157,
   "metadata": {},
   "outputs": [
    {
     "data": {
      "text/plain": [
       "5564"
      ]
     },
     "execution_count": 157,
     "metadata": {},
     "output_type": "execute_result"
    }
   ],
   "source": [
    "res = []\n",
    "for line in result: \n",
    "    res.append(line[len(line) //2]) \n",
    "sum(res)"
   ]
  },
  {
   "cell_type": "code",
   "execution_count": 139,
   "metadata": {},
   "outputs": [
    {
     "data": {
      "text/plain": [
       "[array([97, 75, 13, 47, 29])]"
      ]
     },
     "execution_count": 139,
     "metadata": {},
     "output_type": "execute_result"
    }
   ],
   "source": [
    "still_remain"
   ]
  },
  {
   "cell_type": "code",
   "execution_count": 121,
   "metadata": {},
   "outputs": [
    {
     "data": {
      "text/plain": [
       "[array([97, 75, 47, 61, 53])]"
      ]
     },
     "execution_count": 121,
     "metadata": {},
     "output_type": "execute_result"
    }
   ],
   "source": [
    "corrected"
   ]
  },
  {
   "cell_type": "code",
   "execution_count": 122,
   "metadata": {},
   "outputs": [
    {
     "data": {
      "text/plain": [
       "array([75, 97, 47, 61, 53])"
      ]
     },
     "execution_count": 122,
     "metadata": {},
     "output_type": "execute_result"
    }
   ],
   "source": [
    "line"
   ]
  },
  {
   "cell_type": "code",
   "execution_count": 112,
   "metadata": {},
   "outputs": [],
   "source": [
    "issues = check_line(line,not_allowed_behind,spotting_mode=True)"
   ]
  },
  {
   "cell_type": "code",
   "execution_count": 114,
   "metadata": {},
   "outputs": [
    {
     "data": {
      "text/plain": [
       "[97, False, False, False, False]"
      ]
     },
     "execution_count": 114,
     "metadata": {},
     "output_type": "execute_result"
    }
   ],
   "source": [
    "issues"
   ]
  },
  {
   "cell_type": "code",
   "execution_count": 115,
   "metadata": {},
   "outputs": [],
   "source": [
    "new_line = copy.deepcopy(line)\n",
    "\n",
    "for n,item in enumerate(issues):\n",
    "    if item: \n",
    "        swap1 = n\n",
    "        swap2 = np.where(line == item)[0][0]\n",
    "        memory = new_line[swap1]\n",
    "        new_line[swap1] = new_line[swap2]\n",
    "        new_line[swap2] = memory"
   ]
  },
  {
   "cell_type": "code",
   "execution_count": 116,
   "metadata": {},
   "outputs": [
    {
     "data": {
      "text/plain": [
       "array([97, 75, 47, 61, 53])"
      ]
     },
     "execution_count": 116,
     "metadata": {},
     "output_type": "execute_result"
    }
   ],
   "source": [
    "new_line"
   ]
  },
  {
   "cell_type": "code",
   "execution_count": 117,
   "metadata": {},
   "outputs": [
    {
     "data": {
      "text/plain": [
       "array([75, 97, 47, 61, 53])"
      ]
     },
     "execution_count": 117,
     "metadata": {},
     "output_type": "execute_result"
    }
   ],
   "source": [
    "line"
   ]
  },
  {
   "cell_type": "code",
   "execution_count": 94,
   "metadata": {},
   "outputs": [
    {
     "data": {
      "text/plain": [
       "{53: [47, 75, 61, 97],\n",
       " 13: [97, 61, 29, 47, 75, 53],\n",
       " 61: [97, 47, 75],\n",
       " 47: [97, 75],\n",
       " 29: [75, 97, 53, 61, 47],\n",
       " 75: [97]}"
      ]
     },
     "execution_count": 94,
     "metadata": {},
     "output_type": "execute_result"
    }
   ],
   "source": [
    "not_allowed_behind"
   ]
  }
 ],
 "metadata": {
  "kernelspec": {
   "display_name": "base",
   "language": "python",
   "name": "python3"
  },
  "language_info": {
   "codemirror_mode": {
    "name": "ipython",
    "version": 3
   },
   "file_extension": ".py",
   "mimetype": "text/x-python",
   "name": "python",
   "nbconvert_exporter": "python",
   "pygments_lexer": "ipython3",
   "version": "3.11.5"
  }
 },
 "nbformat": 4,
 "nbformat_minor": 2
}
