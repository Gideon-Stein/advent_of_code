{
 "cells": [
  {
   "cell_type": "code",
   "execution_count": 2,
   "metadata": {},
   "outputs": [],
   "source": [
    "from tools import load, transform_13\n",
    "import numpy as np\n",
    "import re\n",
    "import math\n",
    "import matplotlib.pyplot as plt"
   ]
  },
  {
   "cell_type": "code",
   "execution_count": 3,
   "metadata": {},
   "outputs": [],
   "source": [
    "def gcdExtended(a, b):\n",
    "    if a == 0:\n",
    "        return b, 0, 1\n",
    "    gcd, x1, y1 = gcdExtended(b % a, a)\n",
    "    x = y1 - (b//a) * x1\n",
    "    y = x1\n",
    "    return gcd, x, y"
   ]
  },
  {
   "cell_type": "code",
   "execution_count": 4,
   "metadata": {},
   "outputs": [],
   "source": [
    "def get_factors(a,b,c):\n",
    "    gcd, m, n = gcdExtended(a,b)\n",
    "    factor = c / gcd\n",
    "    f1 = m * factor\n",
    "    f2 = n * factor\n",
    "    c == a *f1+ b * f2\n",
    "    return f1, f2"
   ]
  },
  {
   "cell_type": "code",
   "execution_count": 5,
   "metadata": {},
   "outputs": [],
   "source": [
    "def evaluate_one_dim(values):\n",
    "\n",
    "    results = []\n",
    "\n",
    "    a,b,c = values\n",
    "    f1,f2= get_factors(a,b,c)\n",
    "\n",
    "    # we need straight up positive factors,\n",
    "    # so we can limit the ks that we evaluate.\n",
    "    translate =  lambda inp : -(inp *a - c)/ b\n",
    "\n",
    "    for k in range(101):\n",
    "        res1 = translate(k)\n",
    "        \n",
    "        if (not (res1 % 1)) and (res1 >=0) and (res1 <= 100):\n",
    "            results.append([k,res1])\n",
    "    return results\n"
   ]
  },
  {
   "cell_type": "code",
   "execution_count": 6,
   "metadata": {},
   "outputs": [],
   "source": [
    "def check_if_possible(line):\n",
    "    c1 = not line.T[0][2]%math.gcd(line.T[0][0],line.T[0][1])\n",
    "    c2 = not line.T[1][2]%math.gcd(line.T[1][0],line.T[1][1])\n",
    "    return c1 and c2\n"
   ]
  },
  {
   "cell_type": "code",
   "execution_count": 7,
   "metadata": {},
   "outputs": [],
   "source": [
    "data = transform_13(np.array(load(to_list=False, line_splitter=False)))\n",
    "final_result = []\n",
    "memory = []\n",
    "for line in data:\n",
    "    a = evaluate_one_dim(line.T[0])\n",
    "    b = evaluate_one_dim(line.T[1])\n",
    "    memory.append([a,b])\n",
    "    potential_solutions = [x for x in a if str(x) in [str(y) for y in b]]\n",
    "#        # dont press more than 100 times\n",
    "    if len(potential_solutions) == 0: \n",
    "        final_result.append(0)\n",
    "    else:\n",
    "        associated_costs = [sum(np.array(x) * np.array([3,1])) for x in potential_solutions]            \n",
    "        final_result.append(min(associated_costs))\n",
    "    "
   ]
  },
  {
   "cell_type": "code",
   "execution_count": 8,
   "metadata": {},
   "outputs": [
    {
     "data": {
      "text/plain": [
       "480.0"
      ]
     },
     "execution_count": 8,
     "metadata": {},
     "output_type": "execute_result"
    }
   ],
   "source": [
    "sum(final_result)"
   ]
  },
  {
   "cell_type": "code",
   "execution_count": 9,
   "metadata": {},
   "outputs": [],
   "source": [
    "#B \n",
    "data[:,2,:] += 10000000000000"
   ]
  },
  {
   "cell_type": "code",
   "execution_count": 10,
   "metadata": {},
   "outputs": [],
   "source": [
    "a,b,c = data[0].T[0]"
   ]
  },
  {
   "cell_type": "code",
   "execution_count": 22,
   "metadata": {},
   "outputs": [],
   "source": [
    "a1,b1,c1 = data[0].T[0]\n",
    "f1, f2 = get_factors(a1,b1,c1)\n",
    "a2,b2,c2 = data[0].T[1]\n",
    "f3, f4 = get_factors(a2,b2,c2)"
   ]
  },
  {
   "cell_type": "code",
   "execution_count": 12,
   "metadata": {},
   "outputs": [],
   "source": [
    "translate =  lambda inp : -(inp *a - c)/ b\n"
   ]
  },
  {
   "cell_type": "code",
   "execution_count": null,
   "metadata": {},
   "outputs": [
    {
     "data": {
      "text/plain": [
       "20000000013800.0"
      ]
     },
     "execution_count": 33,
     "metadata": {},
     "output_type": "execute_result"
    }
   ],
   "source": [
    "cost_function = lambda inp : (a1 * inp * 3) + (b1* -((inp *a1 - c1)/ b1)) + (a2 * inp * 3) + (b2* -((inp *a2 - c2)/ b2)) "
   ]
  },
  {
   "cell_type": "code",
   "execution_count": null,
   "metadata": {},
   "outputs": [],
   "source": [
    "n_a = 10\n",
    "\n",
    "cost_function = lambda inp : (a * inp* 3) + (b* -((inp *a - c)/ b)) "
   ]
  },
  {
   "cell_type": "code",
   "execution_count": null,
   "metadata": {},
   "outputs": [],
   "source": [
    "plt.plot([cost_function(x) for x in range(10000000)])\n",
    "    "
   ]
  },
  {
   "cell_type": "code",
   "execution_count": 643,
   "metadata": {},
   "outputs": [],
   "source": [
    "translate =  lambda inp : -(inp *a - c)/ b\n"
   ]
  },
  {
   "cell_type": "code",
   "execution_count": 651,
   "metadata": {},
   "outputs": [],
   "source": [
    "check = [translate(x) for x in range(100)]"
   ]
  },
  {
   "cell_type": "code",
   "execution_count": 653,
   "metadata": {},
   "outputs": [
    {
     "data": {
      "text/plain": [
       "[<matplotlib.lines.Line2D at 0x7f0d33317690>]"
      ]
     },
     "execution_count": 653,
     "metadata": {},
     "output_type": "execute_result"
    },
    {
     "data": {
      "image/png": "[encoded data removed]",
      "text/plain": [
       "<Figure size 640x480 with 1 Axes>"
      ]
     },
     "metadata": {},
     "output_type": "display_data"
    }
   ],
   "source": [
    "plt.plot(check)"
   ]
  },
  {
   "cell_type": "code",
   "execution_count": 603,
   "metadata": {},
   "outputs": [
    {
     "data": {
      "text/plain": [
       "526.0"
      ]
     },
     "execution_count": 603,
     "metadata": {},
     "output_type": "execute_result"
    }
   ],
   "source": [
    "sum(final_result)"
   ]
  },
  {
   "cell_type": "code",
   "execution_count": 618,
   "metadata": {},
   "outputs": [
    {
     "data": {
      "text/plain": [
       "array([[  63,   26],\n",
       "       [  15,   20],\n",
       "       [3699, 1858]])"
      ]
     },
     "execution_count": 618,
     "metadata": {},
     "output_type": "execute_result"
    }
   ],
   "source": [
    "line"
   ]
  },
  {
   "cell_type": "code",
   "execution_count": 510,
   "metadata": {},
   "outputs": [
    {
     "data": {
      "text/plain": [
       "14300.0"
      ]
     },
     "execution_count": 510,
     "metadata": {},
     "output_type": "execute_result"
    }
   ],
   "source": [
    "sum(final_result)"
   ]
  },
  {
   "cell_type": "code",
   "execution_count": 606,
   "metadata": {},
   "outputs": [
    {
     "data": {
      "text/plain": [
       "array([[  63,   26],\n",
       "       [  15,   20],\n",
       "       [3699, 1858]])"
      ]
     },
     "execution_count": 606,
     "metadata": {},
     "output_type": "execute_result"
    }
   ],
   "source": [
    "data[8]"
   ]
  },
  {
   "cell_type": "code",
   "execution_count": 613,
   "metadata": {},
   "outputs": [
    {
     "data": {
      "text/plain": [
       "[[38, 87.0], [43, 66.0], [48, 45.0], [53, 24.0], [58, 3.0]]"
      ]
     },
     "execution_count": 613,
     "metadata": {},
     "output_type": "execute_result"
    }
   ],
   "source": [
    "evaluate_one_dim(data[8].T[0])"
   ]
  },
  {
   "cell_type": "code",
   "execution_count": 614,
   "metadata": {},
   "outputs": [
    {
     "data": {
      "text/plain": [
       "[[[38, 87.0], [43, 66.0], [48, 45.0], [53, 24.0], [58, 3.0]],\n",
       " [[3, 89.0],\n",
       "  [13, 76.0],\n",
       "  [23, 63.0],\n",
       "  [33, 50.0],\n",
       "  [43, 37.0],\n",
       "  [53, 24.0],\n",
       "  [63, 11.0]]]"
      ]
     },
     "execution_count": 614,
     "metadata": {},
     "output_type": "execute_result"
    }
   ],
   "source": [
    "memory[8]"
   ]
  },
  {
   "cell_type": "code",
   "execution_count": 524,
   "metadata": {},
   "outputs": [
    {
     "data": {
      "text/plain": [
       "array([[  63,   26],\n",
       "       [  15,   20],\n",
       "       [3699, 1858]])"
      ]
     },
     "execution_count": 524,
     "metadata": {},
     "output_type": "execute_result"
    }
   ],
   "source": [
    "data[8]"
   ]
  },
  {
   "cell_type": "code",
   "execution_count": 525,
   "metadata": {},
   "outputs": [],
   "source": [
    "col = []\n",
    "for x in range(100):\n",
    "    row = []\n",
    "    for y in range(100):\n",
    "        row.append((x * 26 + y * 20)  == 1858)\n",
    "    col.append(row)\n",
    "col = np.array(col)"
   ]
  },
  {
   "cell_type": "code",
   "execution_count": 526,
   "metadata": {},
   "outputs": [
    {
     "data": {
      "text/plain": [
       "(array([ 3, 13, 23, 33, 43, 53, 63]), array([89, 76, 63, 50, 37, 24, 11]))"
      ]
     },
     "execution_count": 526,
     "metadata": {},
     "output_type": "execute_result"
    }
   ],
   "source": [
    "np.where(col)"
   ]
  },
  {
   "cell_type": "code",
   "execution_count": 593,
   "metadata": {},
   "outputs": [],
   "source": [
    "results = []\n",
    "\n",
    "a,b,c = data[8].T[1]\n",
    "f1,f2= get_factors(a,b,c)\n",
    "\n",
    "# we need straight up positive factors,\n",
    "# so we can limit the ks that we evaluate.\n",
    "translate =  lambda inp : -(inp *a - c)/ b\n",
    "\n",
    "for k in range(101):\n",
    "    res1 = translate(k)\n",
    "    \n",
    "    if not (res1 % 1) and (res1 >=0):\n",
    "         results.append([k,res1])\n"
   ]
  },
  {
   "cell_type": "code",
   "execution_count": 594,
   "metadata": {},
   "outputs": [
    {
     "data": {
      "text/plain": [
       "[[3, 89.0],\n",
       " [13, 76.0],\n",
       " [23, 63.0],\n",
       " [33, 50.0],\n",
       " [43, 37.0],\n",
       " [53, 24.0],\n",
       " [63, 11.0]]"
      ]
     },
     "execution_count": 594,
     "metadata": {},
     "output_type": "execute_result"
    }
   ],
   "source": [
    "results"
   ]
  },
  {
   "cell_type": "code",
   "execution_count": 559,
   "metadata": {},
   "outputs": [
    {
     "data": {
      "text/plain": [
       "1858.0"
      ]
     },
     "execution_count": 559,
     "metadata": {},
     "output_type": "execute_result"
    }
   ],
   "source": [
    "f1 * a + f2 *b = c"
   ]
  },
  {
   "cell_type": "code",
   "execution_count": 587,
   "metadata": {},
   "outputs": [
    {
     "data": {
      "text/plain": [
       "True"
      ]
     },
     "execution_count": 587,
     "metadata": {},
     "output_type": "execute_result"
    }
   ],
   "source": [
    "\n",
    "-(f1 *a - c)/ b ==  f2"
   ]
  },
  {
   "cell_type": "code",
   "execution_count": null,
   "metadata": {},
   "outputs": [],
   "source": [
    "translate =  = lambda inp : -(inp *a - c)/ b"
   ]
  },
  {
   "cell_type": "code",
   "execution_count": 595,
   "metadata": {},
   "outputs": [
    {
     "data": {
      "text/plain": [
       "92.9"
      ]
     },
     "execution_count": 595,
     "metadata": {},
     "output_type": "execute_result"
    }
   ],
   "source": [
    "x(0)"
   ]
  },
  {
   "cell_type": "code",
   "execution_count": null,
   "metadata": {},
   "outputs": [],
   "source": []
  },
  {
   "cell_type": "code",
   "execution_count": 583,
   "metadata": {},
   "outputs": [
    {
     "data": {
      "text/plain": [
       "-2787.0"
      ]
     },
     "execution_count": 583,
     "metadata": {},
     "output_type": "execute_result"
    }
   ],
   "source": [
    "f1"
   ]
  },
  {
   "cell_type": "code",
   "execution_count": null,
   "metadata": {},
   "outputs": [],
   "source": [
    "f1 * a + f2 * b = c"
   ]
  },
  {
   "cell_type": "code",
   "execution_count": 582,
   "metadata": {},
   "outputs": [
    {
     "data": {
      "text/plain": [
       "-72462.0"
      ]
     },
     "execution_count": 582,
     "metadata": {},
     "output_type": "execute_result"
    }
   ],
   "source": [
    "(f1/2) * (a*2)"
   ]
  },
  {
   "cell_type": "code",
   "execution_count": 577,
   "metadata": {},
   "outputs": [
    {
     "data": {
      "text/plain": [
       "-72462.0"
      ]
     },
     "execution_count": 577,
     "metadata": {},
     "output_type": "execute_result"
    }
   ],
   "source": [
    "f1 * a"
   ]
  },
  {
   "cell_type": "code",
   "execution_count": 563,
   "metadata": {},
   "outputs": [
    {
     "data": {
      "text/plain": [
       "3716.0"
      ]
     },
     "execution_count": 563,
     "metadata": {},
     "output_type": "execute_result"
    }
   ],
   "source": [
    "f2"
   ]
  },
  {
   "cell_type": "code",
   "execution_count": 560,
   "metadata": {},
   "outputs": [
    {
     "data": {
      "text/plain": [
       "-2787.0"
      ]
     },
     "execution_count": 560,
     "metadata": {},
     "output_type": "execute_result"
    }
   ],
   "source": [
    "f1"
   ]
  },
  {
   "cell_type": "code",
   "execution_count": 566,
   "metadata": {},
   "outputs": [],
   "source": [
    "k=1"
   ]
  },
  {
   "cell_type": "code",
   "execution_count": 571,
   "metadata": {},
   "outputs": [
    {
     "data": {
      "text/plain": [
       "1858"
      ]
     },
     "execution_count": 571,
     "metadata": {},
     "output_type": "execute_result"
    }
   ],
   "source": [
    "c"
   ]
  },
  {
   "cell_type": "code",
   "execution_count": 572,
   "metadata": {},
   "outputs": [
    {
     "data": {
      "text/plain": [
       "40876.0"
      ]
     },
     "execution_count": 572,
     "metadata": {},
     "output_type": "execute_result"
    }
   ],
   "source": [
    "b* (f1+a*k)+ a*(f2-b*k) "
   ]
  },
  {
   "cell_type": "code",
   "execution_count": 548,
   "metadata": {},
   "outputs": [
    {
     "data": {
      "text/plain": [
       "923.0"
      ]
     },
     "execution_count": 548,
     "metadata": {},
     "output_type": "execute_result"
    }
   ],
   "source": [
    "k = 1\n",
    "(f1 + b* k) +  (f2 - a* k)"
   ]
  },
  {
   "cell_type": "code",
   "execution_count": 549,
   "metadata": {},
   "outputs": [
    {
     "data": {
      "text/plain": [
       "1858"
      ]
     },
     "execution_count": 549,
     "metadata": {},
     "output_type": "execute_result"
    }
   ],
   "source": [
    "c"
   ]
  },
  {
   "cell_type": "code",
   "execution_count": 541,
   "metadata": {},
   "outputs": [
    {
     "data": {
      "text/plain": [
       "3716.0"
      ]
     },
     "execution_count": 541,
     "metadata": {},
     "output_type": "execute_result"
    }
   ],
   "source": [
    "f2"
   ]
  },
  {
   "cell_type": "code",
   "execution_count": 538,
   "metadata": {},
   "outputs": [
    {
     "data": {
      "text/plain": [
       "[[13.0, 76.0], [33.0, 50.0], [53.0, 24.0]]"
      ]
     },
     "execution_count": 538,
     "metadata": {},
     "output_type": "execute_result"
    }
   ],
   "source": [
    "[x for x in results if min(x) >= 0 ]"
   ]
  },
  {
   "cell_type": "code",
   "execution_count": 539,
   "metadata": {},
   "outputs": [
    {
     "data": {
      "text/plain": [
       "1997193.0"
      ]
     },
     "execution_count": 539,
     "metadata": {},
     "output_type": "execute_result"
    }
   ],
   "source": []
  },
  {
   "cell_type": "code",
   "execution_count": 533,
   "metadata": {},
   "outputs": [
    {
     "data": {
      "text/plain": [
       "-2787.0"
      ]
     },
     "execution_count": 533,
     "metadata": {},
     "output_type": "execute_result"
    }
   ],
   "source": [
    "f1"
   ]
  },
  {
   "cell_type": "code",
   "execution_count": 535,
   "metadata": {},
   "outputs": [
    {
     "data": {
      "text/plain": [
       "-2787.0"
      ]
     },
     "execution_count": 535,
     "metadata": {},
     "output_type": "execute_result"
    }
   ],
   "source": [
    "f1"
   ]
  },
  {
   "cell_type": "code",
   "execution_count": 534,
   "metadata": {},
   "outputs": [
    {
     "data": {
      "text/plain": [
       "3716.0"
      ]
     },
     "execution_count": 534,
     "metadata": {},
     "output_type": "execute_result"
    }
   ],
   "source": [
    "f2"
   ]
  },
  {
   "cell_type": "code",
   "execution_count": 531,
   "metadata": {},
   "outputs": [
    {
     "data": {
      "text/plain": [
       "[[13.0, 76.0], [33.0, 50.0], [53.0, 24.0]]"
      ]
     },
     "execution_count": 531,
     "metadata": {},
     "output_type": "execute_result"
    }
   ],
   "source": [
    "results"
   ]
  },
  {
   "cell_type": "code",
   "execution_count": 528,
   "metadata": {},
   "outputs": [
    {
     "data": {
      "text/plain": [
       "(26, 20, 1858)"
      ]
     },
     "execution_count": 528,
     "metadata": {},
     "output_type": "execute_result"
    }
   ],
   "source": [
    "a,b,c"
   ]
  },
  {
   "cell_type": "code",
   "execution_count": 529,
   "metadata": {},
   "outputs": [],
   "source": [
    "for k in range(bottom_end,top_end):\n",
    "    res1 = f1 + b* k\n",
    "    res2 = f2 - a* k\n",
    "    # we need straight up positive factors.\n",
    "    results.append([res1,res2])"
   ]
  },
  {
   "cell_type": "code",
   "execution_count": 521,
   "metadata": {},
   "outputs": [
    {
     "data": {
      "text/plain": [
       "[[13.0, 76.0],\n",
       " [33.0, 50.0],\n",
       " [53.0, 24.0],\n",
       " [13.0, 76.0],\n",
       " [33.0, 50.0],\n",
       " [53.0, 24.0],\n",
       " [array([[-2774., -2711.],\n",
       "         [-2754., -2737.],\n",
       "         [-2734., -2763.],\n",
       "         [-2774., -2711.],\n",
       "         [-2754., -2737.],\n",
       "         [-2734., -2763.],\n",
       "         [-2774., -2711.],\n",
       "         [-2754., -2737.],\n",
       "         [-2734., -2763.],\n",
       "         [-2774., -2711.],\n",
       "         [-2754., -2737.],\n",
       "         [-2734., -2763.],\n",
       "         [-2774., -2711.],\n",
       "         [-2754., -2737.],\n",
       "         [-2734., -2763.],\n",
       "         [-2774., -2711.],\n",
       "         [-2754., -2737.],\n",
       "         [-2734., -2763.],\n",
       "         [-2774., -2711.],\n",
       "         [-2754., -2737.],\n",
       "         [-2734., -2763.],\n",
       "         [-2774., -2711.],\n",
       "         [-2754., -2737.],\n",
       "         [-2734., -2763.],\n",
       "         [-2774., -2711.],\n",
       "         [-2754., -2737.],\n",
       "         [-2734., -2763.],\n",
       "         [-2774., -2711.],\n",
       "         [-2754., -2737.],\n",
       "         [-2734., -2763.],\n",
       "         [-2774., -2711.],\n",
       "         [-2754., -2737.],\n",
       "         [-2734., -2763.],\n",
       "         [-2774., -2711.],\n",
       "         [-2754., -2737.],\n",
       "         [-2734., -2763.],\n",
       "         [-2774., -2711.],\n",
       "         [-2754., -2737.],\n",
       "         [-2734., -2763.],\n",
       "         [-2774., -2711.],\n",
       "         [-2754., -2737.],\n",
       "         [-2734., -2763.],\n",
       "         [-2774., -2711.],\n",
       "         [-2754., -2737.],\n",
       "         [-2734., -2763.],\n",
       "         [-2774., -2711.],\n",
       "         [-2754., -2737.],\n",
       "         [-2734., -2763.],\n",
       "         [-2774., -2711.],\n",
       "         [-2754., -2737.],\n",
       "         [-2734., -2763.],\n",
       "         [-2774., -2711.],\n",
       "         [-2754., -2737.],\n",
       "         [-2734., -2763.],\n",
       "         [-2774., -2711.],\n",
       "         [-2754., -2737.],\n",
       "         [-2734., -2763.],\n",
       "         [-2774., -2711.],\n",
       "         [-2754., -2737.],\n",
       "         [-2734., -2763.],\n",
       "         [-2774., -2711.],\n",
       "         [-2754., -2737.],\n",
       "         [-2734., -2763.],\n",
       "         [-2774., -2711.],\n",
       "         [-2754., -2737.],\n",
       "         [-2734., -2763.],\n",
       "         [-2774., -2711.],\n",
       "         [-2754., -2737.],\n",
       "         [-2734., -2763.],\n",
       "         [-2774., -2711.],\n",
       "         [-2754., -2737.],\n",
       "         [-2734., -2763.],\n",
       "         [-2774., -2711.],\n",
       "         [-2754., -2737.],\n",
       "         [-2734., -2763.],\n",
       "         [-2774., -2711.],\n",
       "         [-2754., -2737.],\n",
       "         [-2734., -2763.],\n",
       "         [-2774., -2711.],\n",
       "         [-2754., -2737.],\n",
       "         [-2734., -2763.],\n",
       "         [-2774., -2711.],\n",
       "         [-2754., -2737.],\n",
       "         [-2734., -2763.],\n",
       "         [-2774., -2711.],\n",
       "         [-2754., -2737.],\n",
       "         [-2734., -2763.],\n",
       "         [-2774., -2711.],\n",
       "         [-2754., -2737.],\n",
       "         [-2734., -2763.],\n",
       "         [-2774., -2711.],\n",
       "         [-2754., -2737.],\n",
       "         [-2734., -2763.],\n",
       "         [-2774., -2711.],\n",
       "         [-2754., -2737.],\n",
       "         [-2734., -2763.],\n",
       "         [-2774., -2711.],\n",
       "         [-2754., -2737.],\n",
       "         [-2734., -2763.],\n",
       "         [-2774., -2711.],\n",
       "         [-2754., -2737.],\n",
       "         [-2734., -2763.],\n",
       "         [-2774., -2711.],\n",
       "         [-2754., -2737.],\n",
       "         [-2734., -2763.],\n",
       "         [-2774., -2711.],\n",
       "         [-2754., -2737.],\n",
       "         [-2734., -2763.],\n",
       "         [-2774., -2711.],\n",
       "         [-2754., -2737.],\n",
       "         [-2734., -2763.],\n",
       "         [-2774., -2711.],\n",
       "         [-2754., -2737.],\n",
       "         [-2734., -2763.],\n",
       "         [-2774., -2711.],\n",
       "         [-2754., -2737.],\n",
       "         [-2734., -2763.],\n",
       "         [-2774., -2711.],\n",
       "         [-2754., -2737.],\n",
       "         [-2734., -2763.],\n",
       "         [-2774., -2711.],\n",
       "         [-2754., -2737.],\n",
       "         [-2734., -2763.],\n",
       "         [-2774., -2711.],\n",
       "         [-2754., -2737.],\n",
       "         [-2734., -2763.],\n",
       "         [-2774., -2711.],\n",
       "         [-2754., -2737.],\n",
       "         [-2734., -2763.],\n",
       "         [-2774., -2711.],\n",
       "         [-2754., -2737.],\n",
       "         [-2734., -2763.],\n",
       "         [-2774., -2711.],\n",
       "         [-2754., -2737.],\n",
       "         [-2734., -2763.],\n",
       "         [-2774., -2711.],\n",
       "         [-2754., -2737.],\n",
       "         [-2734., -2763.],\n",
       "         [-2774., -2711.],\n",
       "         [-2754., -2737.],\n",
       "         [-2734., -2763.],\n",
       "         [-2774., -2711.],\n",
       "         [-2754., -2737.],\n",
       "         [-2734., -2763.],\n",
       "         [-2774., -2711.],\n",
       "         [-2754., -2737.],\n",
       "         [-2734., -2763.],\n",
       "         [-2774., -2711.],\n",
       "         [-2754., -2737.],\n",
       "         [-2734., -2763.],\n",
       "         [-2774., -2711.],\n",
       "         [-2754., -2737.],\n",
       "         [-2734., -2763.],\n",
       "         [-2774., -2711.],\n",
       "         [-2754., -2737.],\n",
       "         [-2734., -2763.],\n",
       "         [-2774., -2711.],\n",
       "         [-2754., -2737.],\n",
       "         [-2734., -2763.],\n",
       "         [-2774., -2711.],\n",
       "         [-2754., -2737.],\n",
       "         [-2734., -2763.],\n",
       "         [-2774., -2711.],\n",
       "         [-2754., -2737.],\n",
       "         [-2734., -2763.],\n",
       "         [-2774., -2711.],\n",
       "         [-2754., -2737.],\n",
       "         [-2734., -2763.],\n",
       "         [-2774., -2711.],\n",
       "         [-2754., -2737.],\n",
       "         [-2734., -2763.],\n",
       "         [-2774., -2711.],\n",
       "         [-2754., -2737.],\n",
       "         [-2734., -2763.],\n",
       "         [-2774., -2711.],\n",
       "         [-2754., -2737.],\n",
       "         [-2734., -2763.],\n",
       "         [-2774., -2711.],\n",
       "         [-2754., -2737.],\n",
       "         [-2734., -2763.],\n",
       "         [-2774., -2711.],\n",
       "         [-2754., -2737.],\n",
       "         [-2734., -2763.],\n",
       "         [-2774., -2711.],\n",
       "         [-2754., -2737.],\n",
       "         [-2734., -2763.],\n",
       "         [-2774., -2711.],\n",
       "         [-2754., -2737.],\n",
       "         [-2734., -2763.],\n",
       "         [-2774., -2711.],\n",
       "         [-2754., -2737.],\n",
       "         [-2734., -2763.],\n",
       "         [-2774., -2711.],\n",
       "         [-2754., -2737.],\n",
       "         [-2734., -2763.],\n",
       "         [-2774., -2711.],\n",
       "         [-2754., -2737.],\n",
       "         [-2734., -2763.],\n",
       "         [-2774., -2711.],\n",
       "         [-2754., -2737.],\n",
       "         [-2734., -2763.],\n",
       "         [-2774., -2711.],\n",
       "         [-2754., -2737.],\n",
       "         [-2734., -2763.],\n",
       "         [-2774., -2711.],\n",
       "         [-2754., -2737.],\n",
       "         [-2734., -2763.],\n",
       "         [-2774., -2711.],\n",
       "         [-2754., -2737.],\n",
       "         [-2734., -2763.],\n",
       "         [-2774., -2711.],\n",
       "         [-2754., -2737.],\n",
       "         [-2734., -2763.],\n",
       "         [-2774., -2711.],\n",
       "         [-2754., -2737.],\n",
       "         [-2734., -2763.],\n",
       "         [-2774., -2711.],\n",
       "         [-2754., -2737.],\n",
       "         [-2734., -2763.],\n",
       "         [-2774., -2711.],\n",
       "         [-2754., -2737.],\n",
       "         [-2734., -2763.],\n",
       "         [-2774., -2711.],\n",
       "         [-2754., -2737.],\n",
       "         [-2734., -2763.],\n",
       "         [-2774., -2711.],\n",
       "         [-2754., -2737.],\n",
       "         [-2734., -2763.],\n",
       "         [-2774., -2711.],\n",
       "         [-2754., -2737.],\n",
       "         [-2734., -2763.],\n",
       "         [-2774., -2711.],\n",
       "         [-2754., -2737.],\n",
       "         [-2734., -2763.],\n",
       "         [-2774., -2711.],\n",
       "         [-2754., -2737.],\n",
       "         [-2734., -2763.],\n",
       "         [-2774., -2711.],\n",
       "         [-2754., -2737.],\n",
       "         [-2734., -2763.],\n",
       "         [-2774., -2711.],\n",
       "         [-2754., -2737.],\n",
       "         [-2734., -2763.],\n",
       "         [-2774., -2711.],\n",
       "         [-2754., -2737.],\n",
       "         [-2734., -2763.],\n",
       "         [-2774., -2711.],\n",
       "         [-2754., -2737.],\n",
       "         [-2734., -2763.],\n",
       "         [-2774., -2711.],\n",
       "         [-2754., -2737.],\n",
       "         [-2734., -2763.],\n",
       "         [-2774., -2711.],\n",
       "         [-2754., -2737.],\n",
       "         [-2734., -2763.],\n",
       "         [-2774., -2711.],\n",
       "         [-2754., -2737.],\n",
       "         [-2734., -2763.],\n",
       "         [-2774., -2711.],\n",
       "         [-2754., -2737.],\n",
       "         [-2734., -2763.],\n",
       "         [-2774., -2711.],\n",
       "         [-2754., -2737.],\n",
       "         [-2734., -2763.],\n",
       "         [-2774., -2711.],\n",
       "         [-2754., -2737.],\n",
       "         [-2734., -2763.],\n",
       "         [-2774., -2711.],\n",
       "         [-2754., -2737.],\n",
       "         [-2734., -2763.],\n",
       "         [-2774., -2711.],\n",
       "         [-2754., -2737.],\n",
       "         [-2734., -2763.],\n",
       "         [-2774., -2711.],\n",
       "         [-2754., -2737.],\n",
       "         [-2734., -2763.],\n",
       "         [-2774., -2711.],\n",
       "         [-2754., -2737.],\n",
       "         [-2734., -2763.],\n",
       "         [-2774., -2711.],\n",
       "         [-2754., -2737.],\n",
       "         [-2734., -2763.],\n",
       "         [-2774., -2711.],\n",
       "         [-2754., -2737.],\n",
       "         [-2734., -2763.],\n",
       "         [-2774., -2711.],\n",
       "         [-2754., -2737.],\n",
       "         [-2734., -2763.],\n",
       "         [-2774., -2711.],\n",
       "         [-2754., -2737.],\n",
       "         [-2734., -2763.],\n",
       "         [-2774., -2711.],\n",
       "         [-2754., -2737.],\n",
       "         [-2734., -2763.],\n",
       "         [-2774., -2711.],\n",
       "         [-2754., -2737.],\n",
       "         [-2734., -2763.],\n",
       "         [-2774., -2711.],\n",
       "         [-2754., -2737.],\n",
       "         [-2734., -2763.],\n",
       "         [-2774., -2711.],\n",
       "         [-2754., -2737.],\n",
       "         [-2734., -2763.],\n",
       "         [-2774., -2711.],\n",
       "         [-2754., -2737.],\n",
       "         [-2734., -2763.],\n",
       "         [-2774., -2711.],\n",
       "         [-2754., -2737.],\n",
       "         [-2734., -2763.],\n",
       "         [-2774., -2711.],\n",
       "         [-2754., -2737.],\n",
       "         [-2734., -2763.],\n",
       "         [-2774., -2711.],\n",
       "         [-2754., -2737.],\n",
       "         [-2734., -2763.],\n",
       "         [-2774., -2711.],\n",
       "         [-2754., -2737.],\n",
       "         [-2734., -2763.],\n",
       "         [-2774., -2711.],\n",
       "         [-2754., -2737.],\n",
       "         [-2734., -2763.],\n",
       "         [-2774., -2711.],\n",
       "         [-2754., -2737.],\n",
       "         [-2734., -2763.],\n",
       "         [-2774., -2711.],\n",
       "         [-2754., -2737.],\n",
       "         [-2734., -2763.],\n",
       "         [-2774., -2711.],\n",
       "         [-2754., -2737.],\n",
       "         [-2734., -2763.],\n",
       "         [-2774., -2711.],\n",
       "         [-2754., -2737.],\n",
       "         [-2734., -2763.],\n",
       "         [-2774., -2711.],\n",
       "         [-2754., -2737.],\n",
       "         [-2734., -2763.],\n",
       "         [-2774., -2711.],\n",
       "         [-2754., -2737.],\n",
       "         [-2734., -2763.],\n",
       "         [-2774., -2711.],\n",
       "         [-2754., -2737.],\n",
       "         [-2734., -2763.],\n",
       "         [-2774., -2711.],\n",
       "         [-2754., -2737.],\n",
       "         [-2734., -2763.],\n",
       "         [-2774., -2711.],\n",
       "         [-2754., -2737.],\n",
       "         [-2734., -2763.],\n",
       "         [-2774., -2711.],\n",
       "         [-2754., -2737.],\n",
       "         [-2734., -2763.],\n",
       "         [-2774., -2711.],\n",
       "         [-2754., -2737.],\n",
       "         [-2734., -2763.],\n",
       "         [-2774., -2711.],\n",
       "         [-2754., -2737.],\n",
       "         [-2734., -2763.],\n",
       "         [-2774., -2711.],\n",
       "         [-2754., -2737.],\n",
       "         [-2734., -2763.],\n",
       "         [-2774., -2711.],\n",
       "         [-2754., -2737.],\n",
       "         [-2734., -2763.],\n",
       "         [-2774., -2711.],\n",
       "         [-2754., -2737.],\n",
       "         [-2734., -2763.],\n",
       "         [-2774., -2711.],\n",
       "         [-2754., -2737.],\n",
       "         [-2734., -2763.],\n",
       "         [-2774., -2711.],\n",
       "         [-2754., -2737.],\n",
       "         [-2734., -2763.],\n",
       "         [-2774., -2711.],\n",
       "         [-2754., -2737.],\n",
       "         [-2734., -2763.],\n",
       "         [-2774., -2711.],\n",
       "         [-2754., -2737.],\n",
       "         [-2734., -2763.],\n",
       "         [-2774., -2711.],\n",
       "         [-2754., -2737.],\n",
       "         [-2734., -2763.],\n",
       "         [-2774., -2711.],\n",
       "         [-2754., -2737.],\n",
       "         [-2734., -2763.],\n",
       "         [-2774., -2711.],\n",
       "         [-2754., -2737.],\n",
       "         [-2734., -2763.],\n",
       "         [-2774., -2711.],\n",
       "         [-2754., -2737.],\n",
       "         [-2734., -2763.],\n",
       "         [-2774., -2711.],\n",
       "         [-2754., -2737.],\n",
       "         [-2734., -2763.],\n",
       "         [-2774., -2711.],\n",
       "         [-2754., -2737.],\n",
       "         [-2734., -2763.],\n",
       "         [-2774., -2711.],\n",
       "         [-2754., -2737.],\n",
       "         [-2734., -2763.],\n",
       "         [-2774., -2711.],\n",
       "         [-2754., -2737.],\n",
       "         [-2734., -2763.],\n",
       "         [-2774., -2711.],\n",
       "         [-2754., -2737.],\n",
       "         [-2734., -2763.],\n",
       "         [-2774., -2711.],\n",
       "         [-2754., -2737.],\n",
       "         [-2734., -2763.],\n",
       "         [-2774., -2711.],\n",
       "         [-2754., -2737.],\n",
       "         [-2734., -2763.],\n",
       "         [-2774., -2711.],\n",
       "         [-2754., -2737.],\n",
       "         [-2734., -2763.],\n",
       "         [-2774., -2711.],\n",
       "         [-2754., -2737.],\n",
       "         [-2734., -2763.],\n",
       "         [-2774., -2711.],\n",
       "         [-2754., -2737.],\n",
       "         [-2734., -2763.]]),\n",
       "  array([[3668., 3671.],\n",
       "         [3668., 3671.],\n",
       "         [3668., 3671.],\n",
       "         [3668., 3671.],\n",
       "         [3668., 3671.],\n",
       "         [3668., 3671.],\n",
       "         [3668., 3671.],\n",
       "         [3668., 3671.],\n",
       "         [3668., 3671.],\n",
       "         [3668., 3671.],\n",
       "         [3668., 3671.],\n",
       "         [3668., 3671.],\n",
       "         [3668., 3671.],\n",
       "         [3668., 3671.],\n",
       "         [3668., 3671.],\n",
       "         [3668., 3671.],\n",
       "         [3668., 3671.],\n",
       "         [3668., 3671.],\n",
       "         [3668., 3671.],\n",
       "         [3668., 3671.],\n",
       "         [3668., 3671.],\n",
       "         [3668., 3671.],\n",
       "         [3668., 3671.],\n",
       "         [3668., 3671.],\n",
       "         [3668., 3671.],\n",
       "         [3668., 3671.],\n",
       "         [3668., 3671.],\n",
       "         [3668., 3671.],\n",
       "         [3668., 3671.],\n",
       "         [3668., 3671.],\n",
       "         [3668., 3671.],\n",
       "         [3668., 3671.],\n",
       "         [3668., 3671.],\n",
       "         [3668., 3671.],\n",
       "         [3668., 3671.],\n",
       "         [3668., 3671.],\n",
       "         [3668., 3671.],\n",
       "         [3668., 3671.],\n",
       "         [3668., 3671.],\n",
       "         [3668., 3671.],\n",
       "         [3668., 3671.],\n",
       "         [3668., 3671.],\n",
       "         [3668., 3671.],\n",
       "         [3668., 3671.],\n",
       "         [3668., 3671.],\n",
       "         [3668., 3671.],\n",
       "         [3668., 3671.],\n",
       "         [3668., 3671.],\n",
       "         [3668., 3671.],\n",
       "         [3668., 3671.],\n",
       "         [3668., 3671.],\n",
       "         [3668., 3671.],\n",
       "         [3668., 3671.],\n",
       "         [3668., 3671.],\n",
       "         [3668., 3671.],\n",
       "         [3668., 3671.],\n",
       "         [3668., 3671.],\n",
       "         [3668., 3671.],\n",
       "         [3668., 3671.],\n",
       "         [3668., 3671.],\n",
       "         [3668., 3671.],\n",
       "         [3668., 3671.],\n",
       "         [3668., 3671.],\n",
       "         [3668., 3671.],\n",
       "         [3668., 3671.],\n",
       "         [3668., 3671.],\n",
       "         [3668., 3671.],\n",
       "         [3668., 3671.],\n",
       "         [3668., 3671.],\n",
       "         [3668., 3671.],\n",
       "         [3668., 3671.],\n",
       "         [3668., 3671.],\n",
       "         [3668., 3671.],\n",
       "         [3668., 3671.],\n",
       "         [3668., 3671.],\n",
       "         [3668., 3671.],\n",
       "         [3668., 3671.],\n",
       "         [3668., 3671.],\n",
       "         [3668., 3671.],\n",
       "         [3668., 3671.],\n",
       "         [3668., 3671.],\n",
       "         [3668., 3671.],\n",
       "         [3668., 3671.],\n",
       "         [3668., 3671.],\n",
       "         [3668., 3671.],\n",
       "         [3668., 3671.],\n",
       "         [3668., 3671.],\n",
       "         [3668., 3671.],\n",
       "         [3668., 3671.],\n",
       "         [3668., 3671.],\n",
       "         [3668., 3671.],\n",
       "         [3668., 3671.],\n",
       "         [3668., 3671.],\n",
       "         [3668., 3671.],\n",
       "         [3668., 3671.],\n",
       "         [3668., 3671.],\n",
       "         [3668., 3671.],\n",
       "         [3668., 3671.],\n",
       "         [3668., 3671.],\n",
       "         [3668., 3671.],\n",
       "         [3668., 3671.],\n",
       "         [3668., 3671.],\n",
       "         [3668., 3671.],\n",
       "         [3668., 3671.],\n",
       "         [3668., 3671.],\n",
       "         [3668., 3671.],\n",
       "         [3668., 3671.],\n",
       "         [3668., 3671.],\n",
       "         [3668., 3671.],\n",
       "         [3668., 3671.],\n",
       "         [3668., 3671.],\n",
       "         [3668., 3671.],\n",
       "         [3668., 3671.],\n",
       "         [3668., 3671.],\n",
       "         [3668., 3671.],\n",
       "         [3668., 3671.],\n",
       "         [3668., 3671.],\n",
       "         [3668., 3671.],\n",
       "         [3668., 3671.],\n",
       "         [3668., 3671.],\n",
       "         [3668., 3671.],\n",
       "         [3668., 3671.],\n",
       "         [3668., 3671.],\n",
       "         [3668., 3671.],\n",
       "         [3668., 3671.],\n",
       "         [3668., 3671.],\n",
       "         [3668., 3671.],\n",
       "         [3668., 3671.],\n",
       "         [3668., 3671.],\n",
       "         [3668., 3671.],\n",
       "         [3668., 3671.],\n",
       "         [3668., 3671.],\n",
       "         [3668., 3671.],\n",
       "         [3668., 3671.],\n",
       "         [3668., 3671.],\n",
       "         [3668., 3671.],\n",
       "         [3668., 3671.],\n",
       "         [3668., 3671.],\n",
       "         [3668., 3671.],\n",
       "         [3668., 3671.]])],\n",
       " [array([[-2774., -2711.],\n",
       "         [-2754., -2737.],\n",
       "         [-2734., -2763.],\n",
       "         [-2774., -2711.],\n",
       "         [-2754., -2737.],\n",
       "         [-2734., -2763.],\n",
       "         [-2774., -2711.],\n",
       "         [-2754., -2737.],\n",
       "         [-2734., -2763.],\n",
       "         [-2774., -2711.],\n",
       "         [-2754., -2737.],\n",
       "         [-2734., -2763.],\n",
       "         [-2774., -2711.],\n",
       "         [-2754., -2737.],\n",
       "         [-2734., -2763.],\n",
       "         [-2774., -2711.],\n",
       "         [-2754., -2737.],\n",
       "         [-2734., -2763.],\n",
       "         [-2774., -2711.],\n",
       "         [-2754., -2737.],\n",
       "         [-2734., -2763.],\n",
       "         [-2774., -2711.],\n",
       "         [-2754., -2737.],\n",
       "         [-2734., -2763.],\n",
       "         [-2774., -2711.],\n",
       "         [-2754., -2737.],\n",
       "         [-2734., -2763.],\n",
       "         [-2774., -2711.],\n",
       "         [-2754., -2737.],\n",
       "         [-2734., -2763.],\n",
       "         [-2774., -2711.],\n",
       "         [-2754., -2737.],\n",
       "         [-2734., -2763.],\n",
       "         [-2774., -2711.],\n",
       "         [-2754., -2737.],\n",
       "         [-2734., -2763.],\n",
       "         [-2774., -2711.],\n",
       "         [-2754., -2737.],\n",
       "         [-2734., -2763.],\n",
       "         [-2774., -2711.],\n",
       "         [-2754., -2737.],\n",
       "         [-2734., -2763.],\n",
       "         [-2774., -2711.],\n",
       "         [-2754., -2737.],\n",
       "         [-2734., -2763.],\n",
       "         [-2774., -2711.],\n",
       "         [-2754., -2737.],\n",
       "         [-2734., -2763.],\n",
       "         [-2774., -2711.],\n",
       "         [-2754., -2737.],\n",
       "         [-2734., -2763.],\n",
       "         [-2774., -2711.],\n",
       "         [-2754., -2737.],\n",
       "         [-2734., -2763.],\n",
       "         [-2774., -2711.],\n",
       "         [-2754., -2737.],\n",
       "         [-2734., -2763.],\n",
       "         [-2774., -2711.],\n",
       "         [-2754., -2737.],\n",
       "         [-2734., -2763.],\n",
       "         [-2774., -2711.],\n",
       "         [-2754., -2737.],\n",
       "         [-2734., -2763.],\n",
       "         [-2774., -2711.],\n",
       "         [-2754., -2737.],\n",
       "         [-2734., -2763.],\n",
       "         [-2774., -2711.],\n",
       "         [-2754., -2737.],\n",
       "         [-2734., -2763.],\n",
       "         [-2774., -2711.],\n",
       "         [-2754., -2737.],\n",
       "         [-2734., -2763.],\n",
       "         [-2774., -2711.],\n",
       "         [-2754., -2737.],\n",
       "         [-2734., -2763.],\n",
       "         [-2774., -2711.],\n",
       "         [-2754., -2737.],\n",
       "         [-2734., -2763.],\n",
       "         [-2774., -2711.],\n",
       "         [-2754., -2737.],\n",
       "         [-2734., -2763.],\n",
       "         [-2774., -2711.],\n",
       "         [-2754., -2737.],\n",
       "         [-2734., -2763.],\n",
       "         [-2774., -2711.],\n",
       "         [-2754., -2737.],\n",
       "         [-2734., -2763.],\n",
       "         [-2774., -2711.],\n",
       "         [-2754., -2737.],\n",
       "         [-2734., -2763.],\n",
       "         [-2774., -2711.],\n",
       "         [-2754., -2737.],\n",
       "         [-2734., -2763.],\n",
       "         [-2774., -2711.],\n",
       "         [-2754., -2737.],\n",
       "         [-2734., -2763.],\n",
       "         [-2774., -2711.],\n",
       "         [-2754., -2737.],\n",
       "         [-2734., -2763.],\n",
       "         [-2774., -2711.],\n",
       "         [-2754., -2737.],\n",
       "         [-2734., -2763.],\n",
       "         [-2774., -2711.],\n",
       "         [-2754., -2737.],\n",
       "         [-2734., -2763.],\n",
       "         [-2774., -2711.],\n",
       "         [-2754., -2737.],\n",
       "         [-2734., -2763.],\n",
       "         [-2774., -2711.],\n",
       "         [-2754., -2737.],\n",
       "         [-2734., -2763.],\n",
       "         [-2774., -2711.],\n",
       "         [-2754., -2737.],\n",
       "         [-2734., -2763.],\n",
       "         [-2774., -2711.],\n",
       "         [-2754., -2737.],\n",
       "         [-2734., -2763.],\n",
       "         [-2774., -2711.],\n",
       "         [-2754., -2737.],\n",
       "         [-2734., -2763.],\n",
       "         [-2774., -2711.],\n",
       "         [-2754., -2737.],\n",
       "         [-2734., -2763.],\n",
       "         [-2774., -2711.],\n",
       "         [-2754., -2737.],\n",
       "         [-2734., -2763.],\n",
       "         [-2774., -2711.],\n",
       "         [-2754., -2737.],\n",
       "         [-2734., -2763.],\n",
       "         [-2774., -2711.],\n",
       "         [-2754., -2737.],\n",
       "         [-2734., -2763.],\n",
       "         [-2774., -2711.],\n",
       "         [-2754., -2737.],\n",
       "         [-2734., -2763.],\n",
       "         [-2774., -2711.],\n",
       "         [-2754., -2737.],\n",
       "         [-2734., -2763.],\n",
       "         [-2774., -2711.],\n",
       "         [-2754., -2737.],\n",
       "         [-2734., -2763.],\n",
       "         [-2774., -2711.],\n",
       "         [-2754., -2737.],\n",
       "         [-2734., -2763.],\n",
       "         [-2774., -2711.],\n",
       "         [-2754., -2737.],\n",
       "         [-2734., -2763.],\n",
       "         [-2774., -2711.],\n",
       "         [-2754., -2737.],\n",
       "         [-2734., -2763.],\n",
       "         [-2774., -2711.],\n",
       "         [-2754., -2737.],\n",
       "         [-2734., -2763.],\n",
       "         [-2774., -2711.],\n",
       "         [-2754., -2737.],\n",
       "         [-2734., -2763.],\n",
       "         [-2774., -2711.],\n",
       "         [-2754., -2737.],\n",
       "         [-2734., -2763.],\n",
       "         [-2774., -2711.],\n",
       "         [-2754., -2737.],\n",
       "         [-2734., -2763.],\n",
       "         [-2774., -2711.],\n",
       "         [-2754., -2737.],\n",
       "         [-2734., -2763.],\n",
       "         [-2774., -2711.],\n",
       "         [-2754., -2737.],\n",
       "         [-2734., -2763.],\n",
       "         [-2774., -2711.],\n",
       "         [-2754., -2737.],\n",
       "         [-2734., -2763.],\n",
       "         [-2774., -2711.],\n",
       "         [-2754., -2737.],\n",
       "         [-2734., -2763.],\n",
       "         [-2774., -2711.],\n",
       "         [-2754., -2737.],\n",
       "         [-2734., -2763.],\n",
       "         [-2774., -2711.],\n",
       "         [-2754., -2737.],\n",
       "         [-2734., -2763.],\n",
       "         [-2774., -2711.],\n",
       "         [-2754., -2737.],\n",
       "         [-2734., -2763.],\n",
       "         [-2774., -2711.],\n",
       "         [-2754., -2737.],\n",
       "         [-2734., -2763.],\n",
       "         [-2774., -2711.],\n",
       "         [-2754., -2737.],\n",
       "         [-2734., -2763.],\n",
       "         [-2774., -2711.],\n",
       "         [-2754., -2737.],\n",
       "         [-2734., -2763.],\n",
       "         [-2774., -2711.],\n",
       "         [-2754., -2737.],\n",
       "         [-2734., -2763.],\n",
       "         [-2774., -2711.],\n",
       "         [-2754., -2737.],\n",
       "         [-2734., -2763.],\n",
       "         [-2774., -2711.],\n",
       "         [-2754., -2737.],\n",
       "         [-2734., -2763.],\n",
       "         [-2774., -2711.],\n",
       "         [-2754., -2737.],\n",
       "         [-2734., -2763.],\n",
       "         [-2774., -2711.],\n",
       "         [-2754., -2737.],\n",
       "         [-2734., -2763.],\n",
       "         [-2774., -2711.],\n",
       "         [-2754., -2737.],\n",
       "         [-2734., -2763.],\n",
       "         [-2774., -2711.],\n",
       "         [-2754., -2737.],\n",
       "         [-2734., -2763.],\n",
       "         [-2774., -2711.],\n",
       "         [-2754., -2737.],\n",
       "         [-2734., -2763.],\n",
       "         [-2774., -2711.],\n",
       "         [-2754., -2737.],\n",
       "         [-2734., -2763.],\n",
       "         [-2774., -2711.],\n",
       "         [-2754., -2737.],\n",
       "         [-2734., -2763.],\n",
       "         [-2774., -2711.],\n",
       "         [-2754., -2737.],\n",
       "         [-2734., -2763.],\n",
       "         [-2774., -2711.],\n",
       "         [-2754., -2737.],\n",
       "         [-2734., -2763.],\n",
       "         [-2774., -2711.],\n",
       "         [-2754., -2737.],\n",
       "         [-2734., -2763.],\n",
       "         [-2774., -2711.],\n",
       "         [-2754., -2737.],\n",
       "         [-2734., -2763.],\n",
       "         [-2774., -2711.],\n",
       "         [-2754., -2737.],\n",
       "         [-2734., -2763.],\n",
       "         [-2774., -2711.],\n",
       "         [-2754., -2737.],\n",
       "         [-2734., -2763.],\n",
       "         [-2774., -2711.],\n",
       "         [-2754., -2737.],\n",
       "         [-2734., -2763.],\n",
       "         [-2774., -2711.],\n",
       "         [-2754., -2737.],\n",
       "         [-2734., -2763.],\n",
       "         [-2774., -2711.],\n",
       "         [-2754., -2737.],\n",
       "         [-2734., -2763.],\n",
       "         [-2774., -2711.],\n",
       "         [-2754., -2737.],\n",
       "         [-2734., -2763.],\n",
       "         [-2774., -2711.],\n",
       "         [-2754., -2737.],\n",
       "         [-2734., -2763.],\n",
       "         [-2774., -2711.],\n",
       "         [-2754., -2737.],\n",
       "         [-2734., -2763.],\n",
       "         [-2774., -2711.],\n",
       "         [-2754., -2737.],\n",
       "         [-2734., -2763.],\n",
       "         [-2774., -2711.],\n",
       "         [-2754., -2737.],\n",
       "         [-2734., -2763.],\n",
       "         [-2774., -2711.],\n",
       "         [-2754., -2737.],\n",
       "         [-2734., -2763.],\n",
       "         [-2774., -2711.],\n",
       "         [-2754., -2737.],\n",
       "         [-2734., -2763.],\n",
       "         [-2774., -2711.],\n",
       "         [-2754., -2737.],\n",
       "         [-2734., -2763.],\n",
       "         [-2774., -2711.],\n",
       "         [-2754., -2737.],\n",
       "         [-2734., -2763.],\n",
       "         [-2774., -2711.],\n",
       "         [-2754., -2737.],\n",
       "         [-2734., -2763.],\n",
       "         [-2774., -2711.],\n",
       "         [-2754., -2737.],\n",
       "         [-2734., -2763.],\n",
       "         [-2774., -2711.],\n",
       "         [-2754., -2737.],\n",
       "         [-2734., -2763.],\n",
       "         [-2774., -2711.],\n",
       "         [-2754., -2737.],\n",
       "         [-2734., -2763.],\n",
       "         [-2774., -2711.],\n",
       "         [-2754., -2737.],\n",
       "         [-2734., -2763.],\n",
       "         [-2774., -2711.],\n",
       "         [-2754., -2737.],\n",
       "         [-2734., -2763.],\n",
       "         [-2774., -2711.],\n",
       "         [-2754., -2737.],\n",
       "         [-2734., -2763.],\n",
       "         [-2774., -2711.],\n",
       "         [-2754., -2737.],\n",
       "         [-2734., -2763.],\n",
       "         [-2774., -2711.],\n",
       "         [-2754., -2737.],\n",
       "         [-2734., -2763.],\n",
       "         [-2774., -2711.],\n",
       "         [-2754., -2737.],\n",
       "         [-2734., -2763.],\n",
       "         [-2774., -2711.],\n",
       "         [-2754., -2737.],\n",
       "         [-2734., -2763.],\n",
       "         [-2774., -2711.],\n",
       "         [-2754., -2737.],\n",
       "         [-2734., -2763.],\n",
       "         [-2774., -2711.],\n",
       "         [-2754., -2737.],\n",
       "         [-2734., -2763.],\n",
       "         [-2774., -2711.],\n",
       "         [-2754., -2737.],\n",
       "         [-2734., -2763.],\n",
       "         [-2774., -2711.],\n",
       "         [-2754., -2737.],\n",
       "         [-2734., -2763.],\n",
       "         [-2774., -2711.],\n",
       "         [-2754., -2737.],\n",
       "         [-2734., -2763.],\n",
       "         [-2774., -2711.],\n",
       "         [-2754., -2737.],\n",
       "         [-2734., -2763.],\n",
       "         [-2774., -2711.],\n",
       "         [-2754., -2737.],\n",
       "         [-2734., -2763.],\n",
       "         [-2774., -2711.],\n",
       "         [-2754., -2737.],\n",
       "         [-2734., -2763.],\n",
       "         [-2774., -2711.],\n",
       "         [-2754., -2737.],\n",
       "         [-2734., -2763.],\n",
       "         [-2774., -2711.],\n",
       "         [-2754., -2737.],\n",
       "         [-2734., -2763.],\n",
       "         [-2774., -2711.],\n",
       "         [-2754., -2737.],\n",
       "         [-2734., -2763.],\n",
       "         [-2774., -2711.],\n",
       "         [-2754., -2737.],\n",
       "         [-2734., -2763.],\n",
       "         [-2774., -2711.],\n",
       "         [-2754., -2737.],\n",
       "         [-2734., -2763.],\n",
       "         [-2774., -2711.],\n",
       "         [-2754., -2737.],\n",
       "         [-2734., -2763.],\n",
       "         [-2774., -2711.],\n",
       "         [-2754., -2737.],\n",
       "         [-2734., -2763.],\n",
       "         [-2774., -2711.],\n",
       "         [-2754., -2737.],\n",
       "         [-2734., -2763.],\n",
       "         [-2774., -2711.],\n",
       "         [-2754., -2737.],\n",
       "         [-2734., -2763.],\n",
       "         [-2774., -2711.],\n",
       "         [-2754., -2737.],\n",
       "         [-2734., -2763.],\n",
       "         [-2774., -2711.],\n",
       "         [-2754., -2737.],\n",
       "         [-2734., -2763.],\n",
       "         [-2774., -2711.],\n",
       "         [-2754., -2737.],\n",
       "         [-2734., -2763.],\n",
       "         [-2774., -2711.],\n",
       "         [-2754., -2737.],\n",
       "         [-2734., -2763.],\n",
       "         [-2774., -2711.],\n",
       "         [-2754., -2737.],\n",
       "         [-2734., -2763.],\n",
       "         [-2774., -2711.],\n",
       "         [-2754., -2737.],\n",
       "         [-2734., -2763.],\n",
       "         [-2774., -2711.],\n",
       "         [-2754., -2737.],\n",
       "         [-2734., -2763.],\n",
       "         [-2774., -2711.],\n",
       "         [-2754., -2737.],\n",
       "         [-2734., -2763.],\n",
       "         [-2774., -2711.],\n",
       "         [-2754., -2737.],\n",
       "         [-2734., -2763.],\n",
       "         [-2774., -2711.],\n",
       "         [-2754., -2737.],\n",
       "         [-2734., -2763.],\n",
       "         [-2774., -2711.],\n",
       "         [-2754., -2737.],\n",
       "         [-2734., -2763.],\n",
       "         [-2774., -2711.],\n",
       "         [-2754., -2737.],\n",
       "         [-2734., -2763.],\n",
       "         [-2774., -2711.],\n",
       "         [-2754., -2737.],\n",
       "         [-2734., -2763.],\n",
       "         [-2774., -2711.],\n",
       "         [-2754., -2737.],\n",
       "         [-2734., -2763.],\n",
       "         [-2774., -2711.],\n",
       "         [-2754., -2737.],\n",
       "         [-2734., -2763.],\n",
       "         [-2774., -2711.],\n",
       "         [-2754., -2737.],\n",
       "         [-2734., -2763.],\n",
       "         [-2774., -2711.],\n",
       "         [-2754., -2737.],\n",
       "         [-2734., -2763.],\n",
       "         [-2774., -2711.],\n",
       "         [-2754., -2737.],\n",
       "         [-2734., -2763.],\n",
       "         [-2774., -2711.],\n",
       "         [-2754., -2737.],\n",
       "         [-2734., -2763.],\n",
       "         [-2774., -2711.],\n",
       "         [-2754., -2737.],\n",
       "         [-2734., -2763.],\n",
       "         [-2774., -2711.],\n",
       "         [-2754., -2737.],\n",
       "         [-2734., -2763.]]),\n",
       "  array([[3668., 3671.],\n",
       "         [3668., 3671.],\n",
       "         [3668., 3671.],\n",
       "         [3668., 3671.],\n",
       "         [3668., 3671.],\n",
       "         [3668., 3671.],\n",
       "         [3668., 3671.],\n",
       "         [3668., 3671.],\n",
       "         [3668., 3671.],\n",
       "         [3668., 3671.],\n",
       "         [3668., 3671.],\n",
       "         [3668., 3671.],\n",
       "         [3668., 3671.],\n",
       "         [3668., 3671.],\n",
       "         [3668., 3671.],\n",
       "         [3668., 3671.],\n",
       "         [3668., 3671.],\n",
       "         [3668., 3671.],\n",
       "         [3668., 3671.],\n",
       "         [3668., 3671.],\n",
       "         [3668., 3671.],\n",
       "         [3668., 3671.],\n",
       "         [3668., 3671.],\n",
       "         [3668., 3671.],\n",
       "         [3668., 3671.],\n",
       "         [3668., 3671.],\n",
       "         [3668., 3671.],\n",
       "         [3668., 3671.],\n",
       "         [3668., 3671.],\n",
       "         [3668., 3671.],\n",
       "         [3668., 3671.],\n",
       "         [3668., 3671.],\n",
       "         [3668., 3671.],\n",
       "         [3668., 3671.],\n",
       "         [3668., 3671.],\n",
       "         [3668., 3671.],\n",
       "         [3668., 3671.],\n",
       "         [3668., 3671.],\n",
       "         [3668., 3671.],\n",
       "         [3668., 3671.],\n",
       "         [3668., 3671.],\n",
       "         [3668., 3671.],\n",
       "         [3668., 3671.],\n",
       "         [3668., 3671.],\n",
       "         [3668., 3671.],\n",
       "         [3668., 3671.],\n",
       "         [3668., 3671.],\n",
       "         [3668., 3671.],\n",
       "         [3668., 3671.],\n",
       "         [3668., 3671.],\n",
       "         [3668., 3671.],\n",
       "         [3668., 3671.],\n",
       "         [3668., 3671.],\n",
       "         [3668., 3671.],\n",
       "         [3668., 3671.],\n",
       "         [3668., 3671.],\n",
       "         [3668., 3671.],\n",
       "         [3668., 3671.],\n",
       "         [3668., 3671.],\n",
       "         [3668., 3671.],\n",
       "         [3668., 3671.],\n",
       "         [3668., 3671.],\n",
       "         [3668., 3671.],\n",
       "         [3668., 3671.],\n",
       "         [3668., 3671.],\n",
       "         [3668., 3671.],\n",
       "         [3668., 3671.],\n",
       "         [3668., 3671.],\n",
       "         [3668., 3671.],\n",
       "         [3668., 3671.],\n",
       "         [3668., 3671.],\n",
       "         [3668., 3671.],\n",
       "         [3668., 3671.],\n",
       "         [3668., 3671.],\n",
       "         [3668., 3671.],\n",
       "         [3668., 3671.],\n",
       "         [3668., 3671.],\n",
       "         [3668., 3671.],\n",
       "         [3668., 3671.],\n",
       "         [3668., 3671.],\n",
       "         [3668., 3671.],\n",
       "         [3668., 3671.],\n",
       "         [3668., 3671.],\n",
       "         [3668., 3671.],\n",
       "         [3668., 3671.],\n",
       "         [3668., 3671.],\n",
       "         [3668., 3671.],\n",
       "         [3668., 3671.],\n",
       "         [3668., 3671.],\n",
       "         [3668., 3671.],\n",
       "         [3668., 3671.],\n",
       "         [3668., 3671.],\n",
       "         [3668., 3671.],\n",
       "         [3668., 3671.],\n",
       "         [3668., 3671.],\n",
       "         [3668., 3671.],\n",
       "         [3668., 3671.],\n",
       "         [3668., 3671.],\n",
       "         [3668., 3671.],\n",
       "         [3668., 3671.],\n",
       "         [3668., 3671.],\n",
       "         [3668., 3671.],\n",
       "         [3668., 3671.],\n",
       "         [3668., 3671.],\n",
       "         [3668., 3671.],\n",
       "         [3668., 3671.],\n",
       "         [3668., 3671.],\n",
       "         [3668., 3671.],\n",
       "         [3668., 3671.],\n",
       "         [3668., 3671.],\n",
       "         [3668., 3671.],\n",
       "         [3668., 3671.],\n",
       "         [3668., 3671.],\n",
       "         [3668., 3671.],\n",
       "         [3668., 3671.],\n",
       "         [3668., 3671.],\n",
       "         [3668., 3671.],\n",
       "         [3668., 3671.],\n",
       "         [3668., 3671.],\n",
       "         [3668., 3671.],\n",
       "         [3668., 3671.],\n",
       "         [3668., 3671.],\n",
       "         [3668., 3671.],\n",
       "         [3668., 3671.],\n",
       "         [3668., 3671.],\n",
       "         [3668., 3671.],\n",
       "         [3668., 3671.],\n",
       "         [3668., 3671.],\n",
       "         [3668., 3671.],\n",
       "         [3668., 3671.],\n",
       "         [3668., 3671.],\n",
       "         [3668., 3671.],\n",
       "         [3668., 3671.],\n",
       "         [3668., 3671.],\n",
       "         [3668., 3671.],\n",
       "         [3668., 3671.],\n",
       "         [3668., 3671.],\n",
       "         [3668., 3671.],\n",
       "         [3668., 3671.],\n",
       "         [3668., 3671.],\n",
       "         [3668., 3671.]])],\n",
       " [array([[-2774., -2711.],\n",
       "         [-2754., -2737.],\n",
       "         [-2734., -2763.],\n",
       "         [-2774., -2711.],\n",
       "         [-2754., -2737.],\n",
       "         [-2734., -2763.],\n",
       "         [-2774., -2711.],\n",
       "         [-2754., -2737.],\n",
       "         [-2734., -2763.],\n",
       "         [-2774., -2711.],\n",
       "         [-2754., -2737.],\n",
       "         [-2734., -2763.],\n",
       "         [-2774., -2711.],\n",
       "         [-2754., -2737.],\n",
       "         [-2734., -2763.],\n",
       "         [-2774., -2711.],\n",
       "         [-2754., -2737.],\n",
       "         [-2734., -2763.],\n",
       "         [-2774., -2711.],\n",
       "         [-2754., -2737.],\n",
       "         [-2734., -2763.],\n",
       "         [-2774., -2711.],\n",
       "         [-2754., -2737.],\n",
       "         [-2734., -2763.],\n",
       "         [-2774., -2711.],\n",
       "         [-2754., -2737.],\n",
       "         [-2734., -2763.],\n",
       "         [-2774., -2711.],\n",
       "         [-2754., -2737.],\n",
       "         [-2734., -2763.],\n",
       "         [-2774., -2711.],\n",
       "         [-2754., -2737.],\n",
       "         [-2734., -2763.],\n",
       "         [-2774., -2711.],\n",
       "         [-2754., -2737.],\n",
       "         [-2734., -2763.],\n",
       "         [-2774., -2711.],\n",
       "         [-2754., -2737.],\n",
       "         [-2734., -2763.],\n",
       "         [-2774., -2711.],\n",
       "         [-2754., -2737.],\n",
       "         [-2734., -2763.],\n",
       "         [-2774., -2711.],\n",
       "         [-2754., -2737.],\n",
       "         [-2734., -2763.],\n",
       "         [-2774., -2711.],\n",
       "         [-2754., -2737.],\n",
       "         [-2734., -2763.],\n",
       "         [-2774., -2711.],\n",
       "         [-2754., -2737.],\n",
       "         [-2734., -2763.],\n",
       "         [-2774., -2711.],\n",
       "         [-2754., -2737.],\n",
       "         [-2734., -2763.],\n",
       "         [-2774., -2711.],\n",
       "         [-2754., -2737.],\n",
       "         [-2734., -2763.],\n",
       "         [-2774., -2711.],\n",
       "         [-2754., -2737.],\n",
       "         [-2734., -2763.],\n",
       "         [-2774., -2711.],\n",
       "         [-2754., -2737.],\n",
       "         [-2734., -2763.],\n",
       "         [-2774., -2711.],\n",
       "         [-2754., -2737.],\n",
       "         [-2734., -2763.],\n",
       "         [-2774., -2711.],\n",
       "         [-2754., -2737.],\n",
       "         [-2734., -2763.],\n",
       "         [-2774., -2711.],\n",
       "         [-2754., -2737.],\n",
       "         [-2734., -2763.],\n",
       "         [-2774., -2711.],\n",
       "         [-2754., -2737.],\n",
       "         [-2734., -2763.],\n",
       "         [-2774., -2711.],\n",
       "         [-2754., -2737.],\n",
       "         [-2734., -2763.],\n",
       "         [-2774., -2711.],\n",
       "         [-2754., -2737.],\n",
       "         [-2734., -2763.],\n",
       "         [-2774., -2711.],\n",
       "         [-2754., -2737.],\n",
       "         [-2734., -2763.],\n",
       "         [-2774., -2711.],\n",
       "         [-2754., -2737.],\n",
       "         [-2734., -2763.],\n",
       "         [-2774., -2711.],\n",
       "         [-2754., -2737.],\n",
       "         [-2734., -2763.],\n",
       "         [-2774., -2711.],\n",
       "         [-2754., -2737.],\n",
       "         [-2734., -2763.],\n",
       "         [-2774., -2711.],\n",
       "         [-2754., -2737.],\n",
       "         [-2734., -2763.],\n",
       "         [-2774., -2711.],\n",
       "         [-2754., -2737.],\n",
       "         [-2734., -2763.],\n",
       "         [-2774., -2711.],\n",
       "         [-2754., -2737.],\n",
       "         [-2734., -2763.],\n",
       "         [-2774., -2711.],\n",
       "         [-2754., -2737.],\n",
       "         [-2734., -2763.],\n",
       "         [-2774., -2711.],\n",
       "         [-2754., -2737.],\n",
       "         [-2734., -2763.],\n",
       "         [-2774., -2711.],\n",
       "         [-2754., -2737.],\n",
       "         [-2734., -2763.],\n",
       "         [-2774., -2711.],\n",
       "         [-2754., -2737.],\n",
       "         [-2734., -2763.],\n",
       "         [-2774., -2711.],\n",
       "         [-2754., -2737.],\n",
       "         [-2734., -2763.],\n",
       "         [-2774., -2711.],\n",
       "         [-2754., -2737.],\n",
       "         [-2734., -2763.],\n",
       "         [-2774., -2711.],\n",
       "         [-2754., -2737.],\n",
       "         [-2734., -2763.],\n",
       "         [-2774., -2711.],\n",
       "         [-2754., -2737.],\n",
       "         [-2734., -2763.],\n",
       "         [-2774., -2711.],\n",
       "         [-2754., -2737.],\n",
       "         [-2734., -2763.],\n",
       "         [-2774., -2711.],\n",
       "         [-2754., -2737.],\n",
       "         [-2734., -2763.],\n",
       "         [-2774., -2711.],\n",
       "         [-2754., -2737.],\n",
       "         [-2734., -2763.],\n",
       "         [-2774., -2711.],\n",
       "         [-2754., -2737.],\n",
       "         [-2734., -2763.],\n",
       "         [-2774., -2711.],\n",
       "         [-2754., -2737.],\n",
       "         [-2734., -2763.],\n",
       "         [-2774., -2711.],\n",
       "         [-2754., -2737.],\n",
       "         [-2734., -2763.],\n",
       "         [-2774., -2711.],\n",
       "         [-2754., -2737.],\n",
       "         [-2734., -2763.],\n",
       "         [-2774., -2711.],\n",
       "         [-2754., -2737.],\n",
       "         [-2734., -2763.],\n",
       "         [-2774., -2711.],\n",
       "         [-2754., -2737.],\n",
       "         [-2734., -2763.],\n",
       "         [-2774., -2711.],\n",
       "         [-2754., -2737.],\n",
       "         [-2734., -2763.],\n",
       "         [-2774., -2711.],\n",
       "         [-2754., -2737.],\n",
       "         [-2734., -2763.],\n",
       "         [-2774., -2711.],\n",
       "         [-2754., -2737.],\n",
       "         [-2734., -2763.],\n",
       "         [-2774., -2711.],\n",
       "         [-2754., -2737.],\n",
       "         [-2734., -2763.],\n",
       "         [-2774., -2711.],\n",
       "         [-2754., -2737.],\n",
       "         [-2734., -2763.],\n",
       "         [-2774., -2711.],\n",
       "         [-2754., -2737.],\n",
       "         [-2734., -2763.],\n",
       "         [-2774., -2711.],\n",
       "         [-2754., -2737.],\n",
       "         [-2734., -2763.],\n",
       "         [-2774., -2711.],\n",
       "         [-2754., -2737.],\n",
       "         [-2734., -2763.],\n",
       "         [-2774., -2711.],\n",
       "         [-2754., -2737.],\n",
       "         [-2734., -2763.],\n",
       "         [-2774., -2711.],\n",
       "         [-2754., -2737.],\n",
       "         [-2734., -2763.],\n",
       "         [-2774., -2711.],\n",
       "         [-2754., -2737.],\n",
       "         [-2734., -2763.],\n",
       "         [-2774., -2711.],\n",
       "         [-2754., -2737.],\n",
       "         [-2734., -2763.],\n",
       "         [-2774., -2711.],\n",
       "         [-2754., -2737.],\n",
       "         [-2734., -2763.],\n",
       "         [-2774., -2711.],\n",
       "         [-2754., -2737.],\n",
       "         [-2734., -2763.],\n",
       "         [-2774., -2711.],\n",
       "         [-2754., -2737.],\n",
       "         [-2734., -2763.],\n",
       "         [-2774., -2711.],\n",
       "         [-2754., -2737.],\n",
       "         [-2734., -2763.],\n",
       "         [-2774., -2711.],\n",
       "         [-2754., -2737.],\n",
       "         [-2734., -2763.],\n",
       "         [-2774., -2711.],\n",
       "         [-2754., -2737.],\n",
       "         [-2734., -2763.],\n",
       "         [-2774., -2711.],\n",
       "         [-2754., -2737.],\n",
       "         [-2734., -2763.],\n",
       "         [-2774., -2711.],\n",
       "         [-2754., -2737.],\n",
       "         [-2734., -2763.],\n",
       "         [-2774., -2711.],\n",
       "         [-2754., -2737.],\n",
       "         [-2734., -2763.],\n",
       "         [-2774., -2711.],\n",
       "         [-2754., -2737.],\n",
       "         [-2734., -2763.],\n",
       "         [-2774., -2711.],\n",
       "         [-2754., -2737.],\n",
       "         [-2734., -2763.],\n",
       "         [-2774., -2711.],\n",
       "         [-2754., -2737.],\n",
       "         [-2734., -2763.],\n",
       "         [-2774., -2711.],\n",
       "         [-2754., -2737.],\n",
       "         [-2734., -2763.],\n",
       "         [-2774., -2711.],\n",
       "         [-2754., -2737.],\n",
       "         [-2734., -2763.],\n",
       "         [-2774., -2711.],\n",
       "         [-2754., -2737.],\n",
       "         [-2734., -2763.],\n",
       "         [-2774., -2711.],\n",
       "         [-2754., -2737.],\n",
       "         [-2734., -2763.],\n",
       "         [-2774., -2711.],\n",
       "         [-2754., -2737.],\n",
       "         [-2734., -2763.],\n",
       "         [-2774., -2711.],\n",
       "         [-2754., -2737.],\n",
       "         [-2734., -2763.],\n",
       "         [-2774., -2711.],\n",
       "         [-2754., -2737.],\n",
       "         [-2734., -2763.],\n",
       "         [-2774., -2711.],\n",
       "         [-2754., -2737.],\n",
       "         [-2734., -2763.],\n",
       "         [-2774., -2711.],\n",
       "         [-2754., -2737.],\n",
       "         [-2734., -2763.],\n",
       "         [-2774., -2711.],\n",
       "         [-2754., -2737.],\n",
       "         [-2734., -2763.],\n",
       "         [-2774., -2711.],\n",
       "         [-2754., -2737.],\n",
       "         [-2734., -2763.],\n",
       "         [-2774., -2711.],\n",
       "         [-2754., -2737.],\n",
       "         [-2734., -2763.],\n",
       "         [-2774., -2711.],\n",
       "         [-2754., -2737.],\n",
       "         [-2734., -2763.],\n",
       "         [-2774., -2711.],\n",
       "         [-2754., -2737.],\n",
       "         [-2734., -2763.],\n",
       "         [-2774., -2711.],\n",
       "         [-2754., -2737.],\n",
       "         [-2734., -2763.],\n",
       "         [-2774., -2711.],\n",
       "         [-2754., -2737.],\n",
       "         [-2734., -2763.],\n",
       "         [-2774., -2711.],\n",
       "         [-2754., -2737.],\n",
       "         [-2734., -2763.],\n",
       "         [-2774., -2711.],\n",
       "         [-2754., -2737.],\n",
       "         [-2734., -2763.],\n",
       "         [-2774., -2711.],\n",
       "         [-2754., -2737.],\n",
       "         [-2734., -2763.],\n",
       "         [-2774., -2711.],\n",
       "         [-2754., -2737.],\n",
       "         [-2734., -2763.],\n",
       "         [-2774., -2711.],\n",
       "         [-2754., -2737.],\n",
       "         [-2734., -2763.],\n",
       "         [-2774., -2711.],\n",
       "         [-2754., -2737.],\n",
       "         [-2734., -2763.],\n",
       "         [-2774., -2711.],\n",
       "         [-2754., -2737.],\n",
       "         [-2734., -2763.],\n",
       "         [-2774., -2711.],\n",
       "         [-2754., -2737.],\n",
       "         [-2734., -2763.],\n",
       "         [-2774., -2711.],\n",
       "         [-2754., -2737.],\n",
       "         [-2734., -2763.],\n",
       "         [-2774., -2711.],\n",
       "         [-2754., -2737.],\n",
       "         [-2734., -2763.],\n",
       "         [-2774., -2711.],\n",
       "         [-2754., -2737.],\n",
       "         [-2734., -2763.],\n",
       "         [-2774., -2711.],\n",
       "         [-2754., -2737.],\n",
       "         [-2734., -2763.],\n",
       "         [-2774., -2711.],\n",
       "         [-2754., -2737.],\n",
       "         [-2734., -2763.],\n",
       "         [-2774., -2711.],\n",
       "         [-2754., -2737.],\n",
       "         [-2734., -2763.],\n",
       "         [-2774., -2711.],\n",
       "         [-2754., -2737.],\n",
       "         [-2734., -2763.],\n",
       "         [-2774., -2711.],\n",
       "         [-2754., -2737.],\n",
       "         [-2734., -2763.],\n",
       "         [-2774., -2711.],\n",
       "         [-2754., -2737.],\n",
       "         [-2734., -2763.],\n",
       "         [-2774., -2711.],\n",
       "         [-2754., -2737.],\n",
       "         [-2734., -2763.],\n",
       "         [-2774., -2711.],\n",
       "         [-2754., -2737.],\n",
       "         [-2734., -2763.],\n",
       "         [-2774., -2711.],\n",
       "         [-2754., -2737.],\n",
       "         [-2734., -2763.],\n",
       "         [-2774., -2711.],\n",
       "         [-2754., -2737.],\n",
       "         [-2734., -2763.],\n",
       "         [-2774., -2711.],\n",
       "         [-2754., -2737.],\n",
       "         [-2734., -2763.],\n",
       "         [-2774., -2711.],\n",
       "         [-2754., -2737.],\n",
       "         [-2734., -2763.],\n",
       "         [-2774., -2711.],\n",
       "         [-2754., -2737.],\n",
       "         [-2734., -2763.],\n",
       "         [-2774., -2711.],\n",
       "         [-2754., -2737.],\n",
       "         [-2734., -2763.],\n",
       "         [-2774., -2711.],\n",
       "         [-2754., -2737.],\n",
       "         [-2734., -2763.],\n",
       "         [-2774., -2711.],\n",
       "         [-2754., -2737.],\n",
       "         [-2734., -2763.],\n",
       "         [-2774., -2711.],\n",
       "         [-2754., -2737.],\n",
       "         [-2734., -2763.],\n",
       "         [-2774., -2711.],\n",
       "         [-2754., -2737.],\n",
       "         [-2734., -2763.],\n",
       "         [-2774., -2711.],\n",
       "         [-2754., -2737.],\n",
       "         [-2734., -2763.],\n",
       "         [-2774., -2711.],\n",
       "         [-2754., -2737.],\n",
       "         [-2734., -2763.],\n",
       "         [-2774., -2711.],\n",
       "         [-2754., -2737.],\n",
       "         [-2734., -2763.],\n",
       "         [-2774., -2711.],\n",
       "         [-2754., -2737.],\n",
       "         [-2734., -2763.],\n",
       "         [-2774., -2711.],\n",
       "         [-2754., -2737.],\n",
       "         [-2734., -2763.],\n",
       "         [-2774., -2711.],\n",
       "         [-2754., -2737.],\n",
       "         [-2734., -2763.],\n",
       "         [-2774., -2711.],\n",
       "         [-2754., -2737.],\n",
       "         [-2734., -2763.],\n",
       "         [-2774., -2711.],\n",
       "         [-2754., -2737.],\n",
       "         [-2734., -2763.],\n",
       "         [-2774., -2711.],\n",
       "         [-2754., -2737.],\n",
       "         [-2734., -2763.],\n",
       "         [-2774., -2711.],\n",
       "         [-2754., -2737.],\n",
       "         [-2734., -2763.],\n",
       "         [-2774., -2711.],\n",
       "         [-2754., -2737.],\n",
       "         [-2734., -2763.],\n",
       "         [-2774., -2711.],\n",
       "         [-2754., -2737.],\n",
       "         [-2734., -2763.],\n",
       "         [-2774., -2711.],\n",
       "         [-2754., -2737.],\n",
       "         [-2734., -2763.],\n",
       "         [-2774., -2711.],\n",
       "         [-2754., -2737.],\n",
       "         [-2734., -2763.],\n",
       "         [-2774., -2711.],\n",
       "         [-2754., -2737.],\n",
       "         [-2734., -2763.],\n",
       "         [-2774., -2711.],\n",
       "         [-2754., -2737.],\n",
       "         [-2734., -2763.],\n",
       "         [-2774., -2711.],\n",
       "         [-2754., -2737.],\n",
       "         [-2734., -2763.],\n",
       "         [-2774., -2711.],\n",
       "         [-2754., -2737.],\n",
       "         [-2734., -2763.],\n",
       "         [-2774., -2711.],\n",
       "         [-2754., -2737.],\n",
       "         [-2734., -2763.],\n",
       "         [-2774., -2711.],\n",
       "         [-2754., -2737.],\n",
       "         [-2734., -2763.],\n",
       "         [-2774., -2711.],\n",
       "         [-2754., -2737.],\n",
       "         [-2734., -2763.],\n",
       "         [-2774., -2711.],\n",
       "         [-2754., -2737.],\n",
       "         [-2734., -2763.]]),\n",
       "  array([[3668., 3671.],\n",
       "         [3668., 3671.],\n",
       "         [3668., 3671.],\n",
       "         [3668., 3671.],\n",
       "         [3668., 3671.],\n",
       "         [3668., 3671.],\n",
       "         [3668., 3671.],\n",
       "         [3668., 3671.],\n",
       "         [3668., 3671.],\n",
       "         [3668., 3671.],\n",
       "         [3668., 3671.],\n",
       "         [3668., 3671.],\n",
       "         [3668., 3671.],\n",
       "         [3668., 3671.],\n",
       "         [3668., 3671.],\n",
       "         [3668., 3671.],\n",
       "         [3668., 3671.],\n",
       "         [3668., 3671.],\n",
       "         [3668., 3671.],\n",
       "         [3668., 3671.],\n",
       "         [3668., 3671.],\n",
       "         [3668., 3671.],\n",
       "         [3668., 3671.],\n",
       "         [3668., 3671.],\n",
       "         [3668., 3671.],\n",
       "         [3668., 3671.],\n",
       "         [3668., 3671.],\n",
       "         [3668., 3671.],\n",
       "         [3668., 3671.],\n",
       "         [3668., 3671.],\n",
       "         [3668., 3671.],\n",
       "         [3668., 3671.],\n",
       "         [3668., 3671.],\n",
       "         [3668., 3671.],\n",
       "         [3668., 3671.],\n",
       "         [3668., 3671.],\n",
       "         [3668., 3671.],\n",
       "         [3668., 3671.],\n",
       "         [3668., 3671.],\n",
       "         [3668., 3671.],\n",
       "         [3668., 3671.],\n",
       "         [3668., 3671.],\n",
       "         [3668., 3671.],\n",
       "         [3668., 3671.],\n",
       "         [3668., 3671.],\n",
       "         [3668., 3671.],\n",
       "         [3668., 3671.],\n",
       "         [3668., 3671.],\n",
       "         [3668., 3671.],\n",
       "         [3668., 3671.],\n",
       "         [3668., 3671.],\n",
       "         [3668., 3671.],\n",
       "         [3668., 3671.],\n",
       "         [3668., 3671.],\n",
       "         [3668., 3671.],\n",
       "         [3668., 3671.],\n",
       "         [3668., 3671.],\n",
       "         [3668., 3671.],\n",
       "         [3668., 3671.],\n",
       "         [3668., 3671.],\n",
       "         [3668., 3671.],\n",
       "         [3668., 3671.],\n",
       "         [3668., 3671.],\n",
       "         [3668., 3671.],\n",
       "         [3668., 3671.],\n",
       "         [3668., 3671.],\n",
       "         [3668., 3671.],\n",
       "         [3668., 3671.],\n",
       "         [3668., 3671.],\n",
       "         [3668., 3671.],\n",
       "         [3668., 3671.],\n",
       "         [3668., 3671.],\n",
       "         [3668., 3671.],\n",
       "         [3668., 3671.],\n",
       "         [3668., 3671.],\n",
       "         [3668., 3671.],\n",
       "         [3668., 3671.],\n",
       "         [3668., 3671.],\n",
       "         [3668., 3671.],\n",
       "         [3668., 3671.],\n",
       "         [3668., 3671.],\n",
       "         [3668., 3671.],\n",
       "         [3668., 3671.],\n",
       "         [3668., 3671.],\n",
       "         [3668., 3671.],\n",
       "         [3668., 3671.],\n",
       "         [3668., 3671.],\n",
       "         [3668., 3671.],\n",
       "         [3668., 3671.],\n",
       "         [3668., 3671.],\n",
       "         [3668., 3671.],\n",
       "         [3668., 3671.],\n",
       "         [3668., 3671.],\n",
       "         [3668., 3671.],\n",
       "         [3668., 3671.],\n",
       "         [3668., 3671.],\n",
       "         [3668., 3671.],\n",
       "         [3668., 3671.],\n",
       "         [3668., 3671.],\n",
       "         [3668., 3671.],\n",
       "         [3668., 3671.],\n",
       "         [3668., 3671.],\n",
       "         [3668., 3671.],\n",
       "         [3668., 3671.],\n",
       "         [3668., 3671.],\n",
       "         [3668., 3671.],\n",
       "         [3668., 3671.],\n",
       "         [3668., 3671.],\n",
       "         [3668., 3671.],\n",
       "         [3668., 3671.],\n",
       "         [3668., 3671.],\n",
       "         [3668., 3671.],\n",
       "         [3668., 3671.],\n",
       "         [3668., 3671.],\n",
       "         [3668., 3671.],\n",
       "         [3668., 3671.],\n",
       "         [3668., 3671.],\n",
       "         [3668., 3671.],\n",
       "         [3668., 3671.],\n",
       "         [3668., 3671.],\n",
       "         [3668., 3671.],\n",
       "         [3668., 3671.],\n",
       "         [3668., 3671.],\n",
       "         [3668., 3671.],\n",
       "         [3668., 3671.],\n",
       "         [3668., 3671.],\n",
       "         [3668., 3671.],\n",
       "         [3668., 3671.],\n",
       "         [3668., 3671.],\n",
       "         [3668., 3671.],\n",
       "         [3668., 3671.],\n",
       "         [3668., 3671.],\n",
       "         [3668., 3671.],\n",
       "         [3668., 3671.],\n",
       "         [3668., 3671.],\n",
       "         [3668., 3671.],\n",
       "         [3668., 3671.],\n",
       "         [3668., 3671.],\n",
       "         [3668., 3671.],\n",
       "         [3668., 3671.],\n",
       "         [3668., 3671.],\n",
       "         [3668., 3671.]])]]"
      ]
     },
     "execution_count": 521,
     "metadata": {},
     "output_type": "execute_result"
    }
   ],
   "source": [
    "results"
   ]
  },
  {
   "cell_type": "code",
   "execution_count": 513,
   "metadata": {},
   "outputs": [
    {
     "data": {
      "text/plain": [
       "[[13.0, 76.0],\n",
       " [33.0, 50.0],\n",
       " [53.0, 24.0],\n",
       " [13.0, 76.0],\n",
       " [33.0, 50.0],\n",
       " [53.0, 24.0]]"
      ]
     },
     "execution_count": 513,
     "metadata": {},
     "output_type": "execute_result"
    }
   ],
   "source": [
    "[x for x in results if max(x) <=100]"
   ]
  },
  {
   "cell_type": "code",
   "execution_count": 478,
   "metadata": {},
   "outputs": [
    {
     "data": {
      "text/plain": [
       "<matplotlib.image.AxesImage at 0x7f0d442ccf50>"
      ]
     },
     "execution_count": 478,
     "metadata": {},
     "output_type": "execute_result"
    },
    {
     "data": {
      "image/png": "[encoded data removed]",
      "text/plain": [
       "<Figure size 640x480 with 1 Axes>"
      ]
     },
     "metadata": {},
     "output_type": "display_data"
    }
   ],
   "source": [
    "plt.imshow(col)"
   ]
  },
  {
   "cell_type": "code",
   "execution_count": 411,
   "metadata": {},
   "outputs": [
    {
     "data": {
      "text/plain": [
       "17244"
      ]
     },
     "execution_count": 411,
     "metadata": {},
     "output_type": "execute_result"
    }
   ],
   "source": [
    "12 * 47 + 834 * 20"
   ]
  },
  {
   "cell_type": "code",
   "execution_count": 422,
   "metadata": {},
   "outputs": [
    {
     "data": {
      "text/plain": [
       "array([47826., 45627., 43428., 41229., 39030., 36831., 34632., 32433.,\n",
       "       30234., 28035., 25836., 23637., 21438., 19239., 17040., 14841.,\n",
       "       12642., 10443.])"
      ]
     },
     "execution_count": 422,
     "metadata": {},
     "output_type": "execute_result"
    }
   ],
   "source": [
    "(memory[4][0] * np.array([[24,57]])).sum(axis=1)"
   ]
  },
  {
   "cell_type": "code",
   "execution_count": 365,
   "metadata": {},
   "outputs": [
    {
     "data": {
      "text/plain": [
       "14300.0"
      ]
     },
     "execution_count": 365,
     "metadata": {},
     "output_type": "execute_result"
    }
   ],
   "source": [
    "sum(final_result)"
   ]
  },
  {
   "cell_type": "code",
   "execution_count": 235,
   "metadata": {},
   "outputs": [
    {
     "data": {
      "text/plain": [
       "[0, 0, 200.0]"
      ]
     },
     "execution_count": 235,
     "metadata": {},
     "output_type": "execute_result"
    }
   ],
   "source": [
    "final_result"
   ]
  },
  {
   "cell_type": "code",
   "execution_count": 210,
   "metadata": {},
   "outputs": [
    {
     "data": {
      "text/plain": [
       "280.0"
      ]
     },
     "execution_count": 210,
     "metadata": {},
     "output_type": "execute_result"
    }
   ],
   "source": [
    "min(associated_costs)"
   ]
  },
  {
   "cell_type": "code",
   "execution_count": 195,
   "metadata": {},
   "outputs": [
    {
     "data": {
      "text/plain": [
       "[[13.0, 74.0], [80.0, 40.0], [147.0, 6.0]]"
      ]
     },
     "execution_count": 195,
     "metadata": {},
     "output_type": "execute_result"
    }
   ],
   "source": [
    "evaluate_one_dim(line.T[1])"
   ]
  },
  {
   "cell_type": "code",
   "execution_count": 192,
   "metadata": {},
   "outputs": [
    {
     "data": {
      "text/plain": [
       "[[14.0, 322.0], [36.0, 228.0], [58.0, 134.0], [80.0, 40.0]]"
      ]
     },
     "execution_count": 192,
     "metadata": {},
     "output_type": "execute_result"
    }
   ],
   "source": [
    "results"
   ]
  },
  {
   "cell_type": "code",
   "execution_count": 137,
   "metadata": {},
   "outputs": [],
   "source": [
    "a,b,c = line.T[0]"
   ]
  },
  {
   "cell_type": "code",
   "execution_count": 138,
   "metadata": {},
   "outputs": [
    {
     "data": {
      "text/plain": [
       "94"
      ]
     },
     "execution_count": 138,
     "metadata": {},
     "output_type": "execute_result"
    }
   ],
   "source": [
    "a"
   ]
  },
  {
   "cell_type": "code",
   "execution_count": 114,
   "metadata": {},
   "outputs": [],
   "source": [
    "a,b,c = 5,3,16\n",
    "f1,f2 = get_factors(a,b,c)"
   ]
  },
  {
   "cell_type": "code",
   "execution_count": 131,
   "metadata": {},
   "outputs": [
    {
     "data": {
      "text/plain": [
       "16.0"
      ]
     },
     "execution_count": 131,
     "metadata": {},
     "output_type": "execute_result"
    }
   ],
   "source": [
    "k = 6\n",
    "\n",
    "res1 = f1 + b* k\n",
    "res2 = f2 - a* k\n",
    "\n",
    "\n",
    "\n",
    "a * res1 + b* res2"
   ]
  },
  {
   "cell_type": "code",
   "execution_count": 134,
   "metadata": {},
   "outputs": [
    {
     "data": {
      "text/plain": [
       "(2.0, 2.0)"
      ]
     },
     "execution_count": 134,
     "metadata": {},
     "output_type": "execute_result"
    }
   ],
   "source": [
    "res1, res2"
   ]
  },
  {
   "cell_type": "code",
   "execution_count": 133,
   "metadata": {},
   "outputs": [],
   "source": [
    "k=1"
   ]
  },
  {
   "cell_type": "code",
   "execution_count": 121,
   "metadata": {},
   "outputs": [
    {
     "data": {
      "text/plain": [
       "16.0"
      ]
     },
     "execution_count": 121,
     "metadata": {},
     "output_type": "execute_result"
    }
   ],
   "source": [
    "a * res1 + b* res2"
   ]
  },
  {
   "cell_type": "code",
   "execution_count": 117,
   "metadata": {},
   "outputs": [
    {
     "data": {
      "text/plain": [
       "True"
      ]
     },
     "execution_count": 117,
     "metadata": {},
     "output_type": "execute_result"
    }
   ],
   "source": [
    "c == a*(f1+b*k) + b*(f2-a*k)\n"
   ]
  },
  {
   "cell_type": "code",
   "execution_count": 116,
   "metadata": {},
   "outputs": [
    {
     "data": {
      "text/plain": [
       "-13.0"
      ]
     },
     "execution_count": 116,
     "metadata": {},
     "output_type": "execute_result"
    }
   ],
   "source": [
    "res1"
   ]
  },
  {
   "cell_type": "code",
   "execution_count": null,
   "metadata": {},
   "outputs": [],
   "source": [
    "a,b,c = 5,3,16\n",
    "\n",
    "\n",
    "\n",
    "\n"
   ]
  },
  {
   "cell_type": "code",
   "execution_count": null,
   "metadata": {},
   "outputs": [],
   "source": [
    "\n",
    "k = 5\n",
    "c == a*(f1+b*k) + b*(f2-a*k)"
   ]
  },
  {
   "cell_type": "code",
   "execution_count": 95,
   "metadata": {},
   "outputs": [],
   "source": [
    "k = 5\n",
    "c == a*(f1+b*k) + b*(f2-a*k)\n",
    "\n",
    "res1 = f1 + 3* k\n",
    "res2 = f2 - 5* k"
   ]
  },
  {
   "cell_type": "code",
   "execution_count": 96,
   "metadata": {},
   "outputs": [
    {
     "data": {
      "text/plain": [
       "-1.0"
      ]
     },
     "execution_count": 96,
     "metadata": {},
     "output_type": "execute_result"
    }
   ],
   "source": [
    "res1"
   ]
  },
  {
   "cell_type": "code",
   "execution_count": 97,
   "metadata": {},
   "outputs": [
    {
     "data": {
      "text/plain": [
       "7.0"
      ]
     },
     "execution_count": 97,
     "metadata": {},
     "output_type": "execute_result"
    }
   ],
   "source": [
    "res2"
   ]
  },
  {
   "cell_type": "code",
   "execution_count": 88,
   "metadata": {},
   "outputs": [
    {
     "data": {
      "text/plain": [
       "-16.0"
      ]
     },
     "execution_count": 88,
     "metadata": {},
     "output_type": "execute_result"
    }
   ],
   "source": [
    "f1"
   ]
  },
  {
   "cell_type": "code",
   "execution_count": 86,
   "metadata": {},
   "outputs": [
    {
     "data": {
      "text/plain": [
       "176.0"
      ]
     },
     "execution_count": 86,
     "metadata": {},
     "output_type": "execute_result"
    }
   ],
   "source": [
    "5*(-f1+b*k) + 3*(f2-a*k)"
   ]
  },
  {
   "cell_type": "code",
   "execution_count": 78,
   "metadata": {},
   "outputs": [
    {
     "data": {
      "text/plain": [
       "-1.0"
      ]
     },
     "execution_count": 78,
     "metadata": {},
     "output_type": "execute_result"
    }
   ],
   "source": [
    "f1 + 3* k"
   ]
  },
  {
   "cell_type": "code",
   "execution_count": 79,
   "metadata": {},
   "outputs": [
    {
     "data": {
      "text/plain": [
       "7.0"
      ]
     },
     "execution_count": 79,
     "metadata": {},
     "output_type": "execute_result"
    }
   ],
   "source": [
    "f2 - 5* k"
   ]
  },
  {
   "cell_type": "code",
   "execution_count": 82,
   "metadata": {},
   "outputs": [
    {
     "data": {
      "text/plain": [
       "16"
      ]
     },
     "execution_count": 82,
     "metadata": {},
     "output_type": "execute_result"
    }
   ],
   "source": [
    "a * -1 + 7*b"
   ]
  },
  {
   "cell_type": "code",
   "execution_count": 67,
   "metadata": {},
   "outputs": [
    {
     "data": {
      "text/plain": [
       "-16.0"
      ]
     },
     "execution_count": 67,
     "metadata": {},
     "output_type": "execute_result"
    }
   ],
   "source": [
    "f1"
   ]
  },
  {
   "cell_type": "code",
   "execution_count": null,
   "metadata": {},
   "outputs": [],
   "source": [
    "c"
   ]
  },
  {
   "cell_type": "code",
   "execution_count": 62,
   "metadata": {},
   "outputs": [
    {
     "data": {
      "text/plain": [
       "(-1, 2)"
      ]
     },
     "execution_count": 62,
     "metadata": {},
     "output_type": "execute_result"
    }
   ],
   "source": [
    "m, n"
   ]
  },
  {
   "cell_type": "code",
   "execution_count": 54,
   "metadata": {},
   "outputs": [
    {
     "data": {
      "text/plain": [
       "-1570800.0"
      ]
     },
     "execution_count": 54,
     "metadata": {},
     "output_type": "execute_result"
    }
   ],
   "source": [
    "b * n * factor"
   ]
  },
  {
   "cell_type": "code",
   "execution_count": 48,
   "metadata": {},
   "outputs": [
    {
     "data": {
      "text/plain": [
       "(94, 22, 8400)"
      ]
     },
     "execution_count": 48,
     "metadata": {},
     "output_type": "execute_result"
    }
   ],
   "source": [
    "a,b,c"
   ]
  },
  {
   "cell_type": "code",
   "execution_count": 49,
   "metadata": {},
   "outputs": [
    {
     "data": {
      "text/plain": [
       "array([[  94,   34],\n",
       "       [  22,   67],\n",
       "       [8400, 5400]])"
      ]
     },
     "execution_count": 49,
     "metadata": {},
     "output_type": "execute_result"
    }
   ],
   "source": [
    "line"
   ]
  },
  {
   "cell_type": "code",
   "execution_count": 46,
   "metadata": {},
   "outputs": [
    {
     "data": {
      "text/plain": [
       "-6342000.0"
      ]
     },
     "execution_count": 46,
     "metadata": {},
     "output_type": "execute_result"
    }
   ],
   "source": [
    "(b *m * factor) + (a * n * factor)"
   ]
  },
  {
   "cell_type": "code",
   "execution_count": 42,
   "metadata": {},
   "outputs": [
    {
     "data": {
      "text/plain": [
       "8400"
      ]
     },
     "execution_count": 42,
     "metadata": {},
     "output_type": "execute_result"
    }
   ],
   "source": [
    "line[2,0]"
   ]
  },
  {
   "cell_type": "code",
   "execution_count": 27,
   "metadata": {},
   "outputs": [
    {
     "data": {
      "text/plain": [
       "22"
      ]
     },
     "execution_count": 27,
     "metadata": {},
     "output_type": "execute_result"
    }
   ],
   "source": [
    "# solve via gcd on single lines and filter later. \n",
    "\n",
    "\n",
    "line[1,0]"
   ]
  },
  {
   "cell_type": "code",
   "execution_count": 31,
   "metadata": {},
   "outputs": [
    {
     "data": {
      "text/plain": [
       "array([[  94,   34],\n",
       "       [  22,   67],\n",
       "       [8400, 5400]])"
      ]
     },
     "execution_count": 31,
     "metadata": {},
     "output_type": "execute_result"
    }
   ],
   "source": [
    "line"
   ]
  },
  {
   "cell_type": "code",
   "execution_count": 32,
   "metadata": {},
   "outputs": [
    {
     "data": {
      "text/plain": [
       "4200.0"
      ]
     },
     "execution_count": 32,
     "metadata": {},
     "output_type": "execute_result"
    }
   ],
   "source": [
    "line[2,0] / math.gcd(line[0,0], line[1,0])"
   ]
  },
  {
   "cell_type": "code",
   "execution_count": 15,
   "metadata": {},
   "outputs": [
    {
     "data": {
      "text/plain": [
       "array([ 89.36170213, 158.82352941])"
      ]
     },
     "execution_count": 15,
     "metadata": {},
     "output_type": "execute_result"
    }
   ],
   "source": [
    "line[2] / line[0]"
   ]
  },
  {
   "cell_type": "code",
   "execution_count": 17,
   "metadata": {},
   "outputs": [
    {
     "data": {
      "text/plain": [
       "array([381.81818182,  80.59701493])"
      ]
     },
     "execution_count": 17,
     "metadata": {},
     "output_type": "execute_result"
    }
   ],
   "source": [
    "line[2] / line[1]"
   ]
  },
  {
   "cell_type": "code",
   "execution_count": 7,
   "metadata": {},
   "outputs": [],
   "source": [
    "line = data[0]"
   ]
  },
  {
   "cell_type": "code",
   "execution_count": 11,
   "metadata": {},
   "outputs": [
    {
     "data": {
      "text/plain": [
       "array([[  94,   34],\n",
       "       [  22,   67],\n",
       "       [8400, 5400]])"
      ]
     },
     "execution_count": 11,
     "metadata": {},
     "output_type": "execute_result"
    }
   ],
   "source": [
    "result_stack = []\n",
    "for x in range(50):\n",
    "    row = []\n",
    "    for y in range(50):\n",
    "        row.append()"
   ]
  },
  {
   "cell_type": "code",
   "execution_count": 13,
   "metadata": {},
   "outputs": [
    {
     "data": {
      "text/plain": [
       "array([110, 335])"
      ]
     },
     "execution_count": 13,
     "metadata": {},
     "output_type": "execute_result"
    }
   ],
   "source": [
    "line[1] * 5"
   ]
  },
  {
   "cell_type": "code",
   "execution_count": 4,
   "metadata": {},
   "outputs": [
    {
     "data": {
      "text/plain": [
       "array([[[   94,    34],\n",
       "        [   22,    67],\n",
       "        [ 8400,  5400]],\n",
       "\n",
       "       [[   26,    66],\n",
       "        [   67,    21],\n",
       "        [12748, 12176]],\n",
       "\n",
       "       [[   17,    86],\n",
       "        [   84,    37],\n",
       "        [ 7870,  6450]]])"
      ]
     },
     "execution_count": 4,
     "metadata": {},
     "output_type": "execute_result"
    }
   ],
   "source": [
    "data"
   ]
  },
  {
   "cell_type": "code",
   "execution_count": 20,
   "metadata": {},
   "outputs": [],
   "source": [
    "x,y = l.split(\",\")\n",
    "x = int(x.split(\"+\")[1])\n",
    "y = int(y.split(\"+\")[1])"
   ]
  },
  {
   "cell_type": "code",
   "execution_count": 19,
   "metadata": {},
   "outputs": [
    {
     "data": {
      "text/plain": [
       "'34'"
      ]
     },
     "execution_count": 19,
     "metadata": {},
     "output_type": "execute_result"
    }
   ],
   "source": [
    "y"
   ]
  },
  {
   "cell_type": "code",
   "execution_count": 14,
   "metadata": {},
   "outputs": [
    {
     "data": {
      "text/plain": [
       "' Y=5400'"
      ]
     },
     "execution_count": 14,
     "metadata": {},
     "output_type": "execute_result"
    }
   ],
   "source": [
    "y"
   ]
  },
  {
   "cell_type": "code",
   "execution_count": 11,
   "metadata": {},
   "outputs": [
    {
     "data": {
      "text/plain": [
       "['Button A: X+94', ' Y+34']"
      ]
     },
     "execution_count": 11,
     "metadata": {},
     "output_type": "execute_result"
    }
   ],
   "source": [
    "data[0].split(\",\")"
   ]
  },
  {
   "cell_type": "code",
   "execution_count": 5,
   "metadata": {},
   "outputs": [
    {
     "data": {
      "text/plain": [
       "array(['Button A: X+94, Y+34', 'Button B: X+22, Y+67',\n",
       "       'Prize: X=8400, Y=5400', '', 'Button A: X+26, Y+66',\n",
       "       'Button B: X+67, Y+21', 'Prize: X=12748, Y=12176', '',\n",
       "       'Button A: X+17, Y+86', 'Button B: X+84, Y+37',\n",
       "       'Prize: X=7870, Y=6450', '', 'Button A: X+69, Y+23',\n",
       "       'Button B: X+27, Y+71', 'Prize: X=18641, Y=10279'], dtype='<U23')"
      ]
     },
     "execution_count": 5,
     "metadata": {},
     "output_type": "execute_result"
    }
   ],
   "source": [
    "data"
   ]
  },
  {
   "cell_type": "code",
   "execution_count": 9,
   "metadata": {},
   "outputs": [],
   "source": [
    "a = [1,2,3]"
   ]
  },
  {
   "cell_type": "code",
   "execution_count": 10,
   "metadata": {},
   "outputs": [
    {
     "data": {
      "text/plain": [
       "3"
      ]
     },
     "execution_count": 10,
     "metadata": {},
     "output_type": "execute_result"
    }
   ],
   "source": [
    "a.pop()"
   ]
  },
  {
   "cell_type": "code",
   "execution_count": 11,
   "metadata": {},
   "outputs": [
    {
     "data": {
      "text/plain": [
       "[1, 2]"
      ]
     },
     "execution_count": 11,
     "metadata": {},
     "output_type": "execute_result"
    }
   ],
   "source": [
    "a"
   ]
  },
  {
   "cell_type": "code",
   "execution_count": 15,
   "metadata": {},
   "outputs": [
    {
     "data": {
      "text/plain": [
       "array([['R', 'R', 'R', 'R', 'I', 'I', 'C', 'C', 'F', 'F'],\n",
       "       ['R', 'R', 'R', 'R', 'I', 'I', 'C', 'C', 'F', 'F']], dtype='<U1')"
      ]
     },
     "execution_count": 15,
     "metadata": {},
     "output_type": "execute_result"
    }
   ],
   "source": [
    "data[[0,0]]"
   ]
  },
  {
   "cell_type": "code",
   "execution_count": null,
   "metadata": {},
   "outputs": [
    {
     "data": {
      "text/plain": [
       "array([['R', 'R', 'R', 'R', 'I', 'I', 'C', 'C', 'F', 'F'],\n",
       "       ['R', 'R', 'R', 'R', 'I', 'I', 'C', 'C', 'C', 'F'],\n",
       "       ['V', 'V', 'R', 'R', 'R', 'C', 'C', 'F', 'F', 'F'],\n",
       "       ['V', 'V', 'R', 'C', 'C', 'C', 'J', 'F', 'F', 'F'],\n",
       "       ['V', 'V', 'V', 'V', 'C', 'J', 'J', 'C', 'F', 'E'],\n",
       "       ['V', 'V', 'I', 'V', 'C', 'C', 'J', 'J', 'E', 'E'],\n",
       "       ['V', 'V', 'I', 'I', 'I', 'C', 'J', 'J', 'E', 'E'],\n",
       "       ['M', 'I', 'I', 'I', 'I', 'I', 'J', 'J', 'E', 'E'],\n",
       "       ['M', 'I', 'I', 'I', 'S', 'I', 'J', 'E', 'E', 'E'],\n",
       "       ['M', 'M', 'M', 'I', 'S', 'S', 'J', 'E', 'E', 'E']], dtype='<U1')"
      ]
     },
     "execution_count": 8,
     "metadata": {},
     "output_type": "execute_result"
    }
   ],
   "source": [
    "start = [0,0]\n",
    "\n",
    "def get_region(data, start):\n",
    "    region = [start]\n",
    "    not_checked = [start]\n",
    "    while  len(not_checked):\n",
    "        investigate = not_checked.pop()\n",
    "        c1 = investigate[0] == 0 \n",
    "        c2 = investigate[1] == 0\n",
    "        c3 = investigate[1] == (data.shape[0]-1)\n",
    "        c4 = investigate[1] == (data.shape[1]-1)\n",
    "\n",
    "        if not c4:\n",
    "            potential = data[investigate[0], investigate[1]+1]\n",
    "            if potential == data[start[0], data[start[1]]]:\n",
    "                if [inv]\n",
    "        \n",
    "        potential2 = data[investigate[0], investigate[1]+1]\n",
    "        potential3 = data[investigate[0], investigate[1]+1]\n",
    "        potential4 = data[investigate[0], investigate[1]+1]\n"
   ]
  },
  {
   "cell_type": "code",
   "execution_count": 85,
   "metadata": {},
   "outputs": [],
   "source": [
    "def change(row):\n",
    "    out = []\n",
    "    for x in row: \n",
    "        if not x: \n",
    "            out.append(1)\n",
    "        elif (len(str(x)) %  2) == 0:\n",
    "            out.append(int(str(x)[:len(str(x))//2]))\n",
    "            out.append(int(str(x)[len(str(x))//2:]))\n",
    "        else:\n",
    "            out.append(x*2024)\n",
    "    return out"
   ]
  },
  {
   "cell_type": "code",
   "execution_count": null,
   "metadata": {},
   "outputs": [
    {
     "data": {
      "text/plain": [
       "220722"
      ]
     },
     "execution_count": 80,
     "metadata": {},
     "output_type": "execute_result"
    }
   ],
   "source": [
    "# A \n",
    "step = data.copy()\n",
    "for _ in range(25):\n",
    "    step = change(step)\n",
    "len(step)"
   ]
  },
  {
   "cell_type": "code",
   "execution_count": 82,
   "metadata": {},
   "outputs": [
    {
     "data": {
      "text/plain": [
       "261952051690787"
      ]
     },
     "execution_count": 82,
     "metadata": {},
     "output_type": "execute_result"
    }
   ],
   "source": [
    "#B\n",
    "data_dict = {x:1 for x in data}\n",
    "\n",
    "for transform in range(75):\n",
    "    change_dict = {}\n",
    "    for n in data_dict: \n",
    "        count = data_dict[n]\n",
    "\n",
    "        if not n: \n",
    "            data_dict[n] = 0\n",
    "            if 1 in change_dict:\n",
    "                change_dict[1] += count\n",
    "            else:\n",
    "                change_dict[1] = count\n",
    "                \n",
    "        elif (len(str(n)) %  2) == 0:\n",
    "            k1 = int(str(n)[:len(str(n))//2])\n",
    "            k2 = int(str(n)[len(str(n))//2:])\n",
    "            if k1 in change_dict:\n",
    "                change_dict[k1] += count\n",
    "            else:\n",
    "                change_dict[k1] = count\n",
    "\n",
    "            if k2 in change_dict:\n",
    "                change_dict[k2] += count\n",
    "            else: \n",
    "                change_dict[k2] = count\n",
    "                \n",
    "        else: \n",
    "            if n * 2024 in change_dict:\n",
    "                change_dict[n*2024] += count\n",
    "            else:\n",
    "                change_dict[n*2024] = count\n",
    "            \n",
    "    data_dict = change_dict\n",
    "sum(data_dict.values())"
   ]
  },
  {
   "cell_type": "code",
   "execution_count": 67,
   "metadata": {},
   "outputs": [
    {
     "data": {
      "text/plain": [
       "{125: 0,\n",
       " 17: 0,\n",
       " 253000: 0,\n",
       " 1: 8586798099345103770,\n",
       " 7: 89217218419390576937,\n",
       " 253: 0,\n",
       " 0: 26231875741715068857,\n",
       " 2024: 0,\n",
       " 14168: 0,\n",
       " 512072: 0,\n",
       " 20: 42733617287336688116,\n",
       " 24: 21366808643668344058,\n",
       " 28676032: 0,\n",
       " 512: 0,\n",
       " 72: 8187673102312189972,\n",
       " 2: 47039522170936485783,\n",
       " 4: 48633441128882675755,\n",
       " 2867: 0,\n",
       " 6032: 0,\n",
       " 1036288: 0,\n",
       " 4048: 0,\n",
       " 8096: 0,\n",
       " 28: 42733617287336688116,\n",
       " 67: 0,\n",
       " 60: 8187673102312189972,\n",
       " 32: 30782747604359590972,\n",
       " 2097446912: 0,\n",
       " 40: 0,\n",
       " 48: 42733617287336688116,\n",
       " 80: 42733617287336688116,\n",
       " 96: 0,\n",
       " 8: 44571189553065797274,\n",
       " 6: 65937998196734141332,\n",
       " 3: 6894220974353103151,\n",
       " 20974: 0,\n",
       " 46912: 0,\n",
       " 9: 28261029618021447209,\n",
       " 16192: 0,\n",
       " 12144: 0,\n",
       " 6072: 0,\n",
       " 42451376: 0,\n",
       " 94949888: 0,\n",
       " 18216: 0,\n",
       " 32772608: 0,\n",
       " 24579456: 0,\n",
       " 4245: 0,\n",
       " 1376: 0,\n",
       " 9494: 0,\n",
       " 9888: 0,\n",
       " 36869184: 0,\n",
       " 3277: 0,\n",
       " 2608: 0,\n",
       " 2457: 0,\n",
       " 9456: 0,\n",
       " 42: 0,\n",
       " 45: 0,\n",
       " 13: 0,\n",
       " 76: 0,\n",
       " 94: 0,\n",
       " 98: 0,\n",
       " 88: 0,\n",
       " 3686: 0,\n",
       " 9184: 0,\n",
       " 77: 0,\n",
       " 26: 0,\n",
       " 57: 0,\n",
       " 56: 0,\n",
       " 5: 0,\n",
       " 36: 0,\n",
       " 86: 0,\n",
       " 91: 0,\n",
       " 84: 0,\n",
       " 10120: 0,\n",
       " 20482880: 0,\n",
       " 2048: 0,\n",
       " 2880: 0}"
      ]
     },
     "execution_count": 67,
     "metadata": {},
     "output_type": "execute_result"
    }
   ],
   "source": [
    "data_dict"
   ]
  },
  {
   "cell_type": "code",
   "execution_count": 57,
   "metadata": {},
   "outputs": [
    {
     "data": {
      "text/plain": [
       "13"
      ]
     },
     "execution_count": 57,
     "metadata": {},
     "output_type": "execute_result"
    }
   ],
   "source": [
    "sum(data_dict.values())"
   ]
  },
  {
   "cell_type": "code",
   "execution_count": 42,
   "metadata": {},
   "outputs": [
    {
     "data": {
      "text/plain": [
       "21789551"
      ]
     },
     "execution_count": 42,
     "metadata": {},
     "output_type": "execute_result"
    }
   ],
   "source": [
    "len(step)"
   ]
  }
 ],
 "metadata": {
  "kernelspec": {
   "display_name": "base",
   "language": "python",
   "name": "python3"
  },
  "language_info": {
   "codemirror_mode": {
    "name": "ipython",
    "version": 3
   },
   "file_extension": ".py",
   "mimetype": "text/x-python",
   "name": "python",
   "nbconvert_exporter": "python",
   "pygments_lexer": "ipython3",
   "version": "3.11.5"
  }
 },
 "nbformat": 4,
 "nbformat_minor": 2
}
