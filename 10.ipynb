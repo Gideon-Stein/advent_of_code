{
 "cells": [
  {
   "cell_type": "code",
   "execution_count": 16,
   "metadata": {},
   "outputs": [],
   "source": [
    "from tools import load\n",
    "import numpy as np\n",
    "import re\n",
    "import copy "
   ]
  },
  {
   "cell_type": "code",
   "execution_count": 17,
   "metadata": {},
   "outputs": [],
   "source": [
    "data = np.array(load(to_list=True, line_splitter=False)).astype(int)"
   ]
  },
  {
   "cell_type": "code",
   "execution_count": 18,
   "metadata": {},
   "outputs": [
    {
     "data": {
      "text/plain": [
       "array([[8, 9, 0, 1, 0, 1, 2, 3],\n",
       "       [7, 8, 1, 2, 1, 8, 7, 4],\n",
       "       [8, 7, 4, 3, 0, 9, 6, 5],\n",
       "       [9, 6, 5, 4, 9, 8, 7, 4],\n",
       "       [4, 5, 6, 7, 8, 9, 0, 3],\n",
       "       [3, 2, 0, 1, 9, 0, 1, 2],\n",
       "       [0, 1, 3, 2, 9, 8, 0, 1],\n",
       "       [1, 0, 4, 5, 6, 7, 3, 2]])"
      ]
     },
     "execution_count": 18,
     "metadata": {},
     "output_type": "execute_result"
    }
   ],
   "source": [
    "data"
   ]
  },
  {
   "cell_type": "code",
   "execution_count": 19,
   "metadata": {},
   "outputs": [],
   "source": [
    "trailheads = np.array(np.where(data== 0)).T"
   ]
  },
  {
   "cell_type": "code",
   "execution_count": 21,
   "metadata": {},
   "outputs": [
    {
     "data": {
      "text/plain": [
       "array([0, 2])"
      ]
     },
     "execution_count": 21,
     "metadata": {},
     "output_type": "execute_result"
    }
   ],
   "source": [
    "trailheads[0]"
   ]
  },
  {
   "cell_type": "code",
   "execution_count": 50,
   "metadata": {},
   "outputs": [],
   "source": [
    "def check_trailhead(h, data):\n",
    "\n",
    "    potential_paths = [[h]]\n",
    "    \n",
    "    for _ in range(10):\n",
    "        new_paths = []\n",
    "        for path in potential_paths: \n",
    "            required = len(path)\n",
    "            last_point = path[-1]\n",
    "            print(path)\n",
    "\n",
    "\n",
    "\n",
    "                        \n",
    "            if last_point[1] != (data.shape[1]-1):\n",
    "                if data[last_point[0], last_point[1]+1] == required:\n",
    "                    new_paths.append(path + [[last_point[0], last_point[1]+1]])\n",
    "          \n",
    "\n",
    "            if last_point[1] != 0:\n",
    "                if data[last_point[0], last_point[1]-1] == required:\n",
    "                    new_paths.append(path + [[last_point[0], last_point[1]-1]])\n",
    "\n",
    "\n",
    "            if last_point[0] != (data.shape[0]-1):\n",
    "                if data[last_point[0]+1, last_point[1]] == required:\n",
    "                    new_paths.append(path + [[last_point[0]+1, last_point[1]]])\n",
    "\n",
    "\n",
    "            if last_point[0] != 0:\n",
    "                if data[last_point[0]-1, last_point[1]] == required:\n",
    "                    new_paths.append(path + [[last_point[0]-1, last_point[1]]])\n",
    "\n",
    "        if required == 9: \n",
    "            return new_paths\n",
    "        else:\n",
    "            potential_paths = copy.deepcopy(new_paths)\n"
   ]
  },
  {
   "cell_type": "code",
   "execution_count": 30,
   "metadata": {},
   "outputs": [],
   "source": [
    "#??"
   ]
  },
  {
   "cell_type": "code",
   "execution_count": 51,
   "metadata": {},
   "outputs": [
    {
     "name": "stdout",
     "output_type": "stream",
     "text": [
      "[[6, 0]]\n",
      "[[6, 0], [6, 1]]\n",
      "[[6, 0], [6, -1]]\n",
      "[[6, 0], [7, 0]]\n",
      "[[6, 0], [6, 1], [5, 1]]\n",
      "[[6, 0], [6, -1], [7, -1]]\n",
      "[[6, 0], [6, -1], [5, -1]]\n",
      "[[6, 0], [7, 0], [7, -1]]\n",
      "[[6, 0], [6, 1], [5, 1], [5, 0]]\n",
      "[[6, 0], [6, -1], [7, -1], [7, -2]]\n",
      "[[6, 0], [6, -1], [5, -1], [5, 0]]\n",
      "[[6, 0], [6, -1], [5, -1], [4, -1]]\n",
      "[[6, 0], [7, 0], [7, -1], [7, -2]]\n",
      "[[6, 0], [6, 1], [5, 1], [5, 0], [4, 0]]\n",
      "[[6, 0], [6, -1], [5, -1], [5, 0], [4, 0]]\n",
      "[[6, 0], [6, -1], [5, -1], [4, -1], [4, 0]]\n",
      "[[6, 0], [6, -1], [5, -1], [4, -1], [3, -1]]\n",
      "[[6, 0], [6, 1], [5, 1], [5, 0], [4, 0], [4, 1]]\n",
      "[[6, 0], [6, -1], [5, -1], [5, 0], [4, 0], [4, 1]]\n",
      "[[6, 0], [6, -1], [5, -1], [4, -1], [4, 0], [4, 1]]\n",
      "[[6, 0], [6, -1], [5, -1], [4, -1], [3, -1], [2, -1]]\n",
      "[[6, 0], [6, 1], [5, 1], [5, 0], [4, 0], [4, 1], [4, 2]]\n",
      "[[6, 0], [6, 1], [5, 1], [5, 0], [4, 0], [4, 1], [3, 1]]\n",
      "[[6, 0], [6, -1], [5, -1], [5, 0], [4, 0], [4, 1], [4, 2]]\n",
      "[[6, 0], [6, -1], [5, -1], [5, 0], [4, 0], [4, 1], [3, 1]]\n",
      "[[6, 0], [6, -1], [5, -1], [4, -1], [4, 0], [4, 1], [4, 2]]\n",
      "[[6, 0], [6, -1], [5, -1], [4, -1], [4, 0], [4, 1], [3, 1]]\n",
      "[[6, 0], [6, -1], [5, -1], [4, -1], [3, -1], [2, -1], [2, -2]]\n",
      "[[6, 0], [6, 1], [5, 1], [5, 0], [4, 0], [4, 1], [4, 2], [4, 3]]\n",
      "[[6, 0], [6, 1], [5, 1], [5, 0], [4, 0], [4, 1], [3, 1], [2, 1]]\n",
      "[[6, 0], [6, -1], [5, -1], [5, 0], [4, 0], [4, 1], [4, 2], [4, 3]]\n",
      "[[6, 0], [6, -1], [5, -1], [5, 0], [4, 0], [4, 1], [3, 1], [2, 1]]\n",
      "[[6, 0], [6, -1], [5, -1], [4, -1], [4, 0], [4, 1], [4, 2], [4, 3]]\n",
      "[[6, 0], [6, -1], [5, -1], [4, -1], [4, 0], [4, 1], [3, 1], [2, 1]]\n",
      "[[6, 0], [6, -1], [5, -1], [4, -1], [3, -1], [2, -1], [2, -2], [3, -2]]\n",
      "[[6, 0], [6, -1], [5, -1], [4, -1], [3, -1], [2, -1], [2, -2], [1, -2]]\n",
      "[[6, 0], [6, 1], [5, 1], [5, 0], [4, 0], [4, 1], [4, 2], [4, 3], [4, 4]]\n",
      "[[6, 0], [6, 1], [5, 1], [5, 0], [4, 0], [4, 1], [3, 1], [2, 1], [2, 0]]\n",
      "[[6, 0], [6, 1], [5, 1], [5, 0], [4, 0], [4, 1], [3, 1], [2, 1], [1, 1]]\n",
      "[[6, 0], [6, -1], [5, -1], [5, 0], [4, 0], [4, 1], [4, 2], [4, 3], [4, 4]]\n",
      "[[6, 0], [6, -1], [5, -1], [5, 0], [4, 0], [4, 1], [3, 1], [2, 1], [2, 0]]\n",
      "[[6, 0], [6, -1], [5, -1], [5, 0], [4, 0], [4, 1], [3, 1], [2, 1], [1, 1]]\n",
      "[[6, 0], [6, -1], [5, -1], [4, -1], [4, 0], [4, 1], [4, 2], [4, 3], [4, 4]]\n",
      "[[6, 0], [6, -1], [5, -1], [4, -1], [4, 0], [4, 1], [3, 1], [2, 1], [2, 0]]\n",
      "[[6, 0], [6, -1], [5, -1], [4, -1], [4, 0], [4, 1], [3, 1], [2, 1], [1, 1]]\n",
      "[[6, 0], [6, -1], [5, -1], [4, -1], [3, -1], [2, -1], [2, -2], [3, -2], [3, -3]]\n",
      "[[6, 0], [6, -1], [5, -1], [4, -1], [3, -1], [2, -1], [2, -2], [1, -2], [1, -3]]\n",
      "8\n"
     ]
    },
    {
     "data": {
      "text/plain": [
       "8"
      ]
     },
     "execution_count": 51,
     "metadata": {},
     "output_type": "execute_result"
    }
   ],
   "source": [
    "res = []\n",
    "for h in [trailheads[-3]]:\n",
    "    trails = check_trailhead(list(h),data)\n",
    "    end_points = len(set([str(x[-1]) for x in trails]))\n",
    "    print(end_points)\n",
    "    res.append(end_points)\n",
    "sum(res)"
   ]
  },
  {
   "cell_type": "code",
   "execution_count": 47,
   "metadata": {},
   "outputs": [
    {
     "data": {
      "text/plain": [
       "array([[8, 9, 0, 1, 0, 1, 2, 3],\n",
       "       [7, 8, 1, 2, 1, 8, 7, 4],\n",
       "       [8, 7, 4, 3, 0, 9, 6, 5],\n",
       "       [9, 6, 5, 4, 9, 8, 7, 4],\n",
       "       [4, 5, 6, 7, 8, 9, 0, 3],\n",
       "       [3, 2, 0, 1, 9, 0, 1, 2],\n",
       "       [0, 1, 3, 2, 9, 8, 0, 1],\n",
       "       [1, 0, 4, 5, 6, 7, 3, 2]])"
      ]
     },
     "execution_count": 47,
     "metadata": {},
     "output_type": "execute_result"
    }
   ],
   "source": [
    "data"
   ]
  },
  {
   "cell_type": "code",
   "execution_count": 49,
   "metadata": {},
   "outputs": [
    {
     "data": {
      "text/plain": [
       "[[6, 0],\n",
       " [6, 1],\n",
       " [5, 1],\n",
       " [5, 0],\n",
       " [4, 0],\n",
       " [4, 1],\n",
       " [4, 2],\n",
       " [4, 3],\n",
       " [4, 4],\n",
       " [5, 4]]"
      ]
     },
     "execution_count": 49,
     "metadata": {},
     "output_type": "execute_result"
    }
   ],
   "source": [
    "trails[1]"
   ]
  },
  {
   "cell_type": "code",
   "execution_count": 42,
   "metadata": {},
   "outputs": [
    {
     "data": {
      "text/plain": [
       "array([6, 0])"
      ]
     },
     "execution_count": 42,
     "metadata": {},
     "output_type": "execute_result"
    }
   ],
   "source": [
    "trailheads[-3]"
   ]
  },
  {
   "cell_type": "code",
   "execution_count": 43,
   "metadata": {},
   "outputs": [
    {
     "data": {
      "text/plain": [
       "array([[8, 9, 0, 1, 0, 1, 2, 3],\n",
       "       [7, 8, 1, 2, 1, 8, 7, 4],\n",
       "       [8, 7, 4, 3, 0, 9, 6, 5],\n",
       "       [9, 6, 5, 4, 9, 8, 7, 4],\n",
       "       [4, 5, 6, 7, 8, 9, 0, 3],\n",
       "       [3, 2, 0, 1, 9, 0, 1, 2],\n",
       "       [0, 1, 3, 2, 9, 8, 0, 1],\n",
       "       [1, 0, 4, 5, 6, 7, 3, 2]])"
      ]
     },
     "execution_count": 43,
     "metadata": {},
     "output_type": "execute_result"
    }
   ],
   "source": [
    "data"
   ]
  },
  {
   "cell_type": "code",
   "execution_count": 37,
   "metadata": {},
   "outputs": [
    {
     "data": {
      "text/plain": [
       "[3, 0]"
      ]
     },
     "execution_count": 37,
     "metadata": {},
     "output_type": "execute_result"
    }
   ],
   "source": [
    "trails[0][-1]"
   ]
  },
  {
   "cell_type": "code",
   "execution_count": 39,
   "metadata": {},
   "outputs": [
    {
     "data": {
      "text/plain": [
       "9"
      ]
     },
     "execution_count": 39,
     "metadata": {},
     "output_type": "execute_result"
    }
   ],
   "source": []
  },
  {
   "cell_type": "code",
   "execution_count": null,
   "metadata": {},
   "outputs": [],
   "source": []
  }
 ],
 "metadata": {
  "kernelspec": {
   "display_name": "base",
   "language": "python",
   "name": "python3"
  },
  "language_info": {
   "codemirror_mode": {
    "name": "ipython",
    "version": 3
   },
   "file_extension": ".py",
   "mimetype": "text/x-python",
   "name": "python",
   "nbconvert_exporter": "python",
   "pygments_lexer": "ipython3",
   "version": "3.8.8"
  }
 },
 "nbformat": 4,
 "nbformat_minor": 2
}
