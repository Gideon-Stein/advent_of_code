{
 "cells": [
  {
   "cell_type": "code",
   "execution_count": 1,
   "metadata": {},
   "outputs": [],
   "source": [
    "from tools import load\n",
    "import numpy as np\n",
    "from IPython.display import HTML\n",
    "import numpy as np\n",
    "import matplotlib.pyplot as plt"
   ]
  },
  {
   "cell_type": "code",
   "execution_count": 2,
   "metadata": {},
   "outputs": [],
   "source": [
    "def step_if_empty(pos, direc, board):\n",
    "    # never moves out so no need to check overflow.\n",
    "    if direc == \">\":\n",
    "            return ((pos[0],pos[1] + 1),True) if board[pos[0],pos[1] + 1] == \".\" else (pos,False)\n",
    "    elif direc == \"<\":\n",
    "            return ((pos[0],pos[1] - 1),True) if board[pos[0],pos[1] - 1] == \".\" else (pos,False)\n",
    "    elif direc == \"^\":\n",
    "            return ((pos[0]-1,pos[1]),True) if board[pos[0]-1,pos[1]] == \".\" else (pos,False)\n",
    "    elif direc == \"v\":\n",
    "            return ((pos[0]+1,pos[1] ),True) if board[pos[0]+1,pos[1]] == \".\" else (pos,False)\n",
    "    else:\n",
    "        print(\"UNKNOWN\")"
   ]
  },
  {
   "cell_type": "code",
   "execution_count": 4,
   "metadata": {},
   "outputs": [],
   "source": [
    "def check_movable(board,p, move_vector=[0,1], markers = [\"O\"]):\n",
    "    counter = 1\n",
    "    while True:\n",
    "        step = (p[0] + move_vector[0]*counter, p[1] + move_vector[1]*counter)\n",
    "        if board[step] == \".\":\n",
    "            return counter\n",
    "        elif board[step] == \"#\":\n",
    "            return 0\n",
    "        elif board[step] in markers:\n",
    "            counter +=1\n"
   ]
  },
  {
   "cell_type": "code",
   "execution_count": 5,
   "metadata": {},
   "outputs": [],
   "source": [
    "def check_if_wall(pos,direc,board):\n",
    "    # never moves out so no need to check overflow.\n",
    "    if direc == \">\":\n",
    "            return True if  board[pos[0],pos[1] + 1] == \"#\" else False\n",
    "    if direc == \"<\":\n",
    "            return True if  board[pos[0],pos[1] -1] == \"#\" else False\n",
    "    elif direc == \"^\":\n",
    "            return True if  board[pos[0]-1,pos[1]] == \"#\" else False\n",
    "    elif direc == \"v\":\n",
    "            return True if  board[pos[0]+1,pos[1]] == \"#\" else False\n",
    "    else:\n",
    "        print(\"UNKNOWN\")"
   ]
  },
  {
   "cell_type": "code",
   "execution_count": 7,
   "metadata": {},
   "outputs": [],
   "source": [
    "def push_if_possible(pos, direc, board):\n",
    "    if direc == \">\":\n",
    "        if board[pos[0],pos[1] + 1] == \"O\":\n",
    "            counter =check_movable(board, (pos[0],pos[1] + 1), move_vector=[0,1])\n",
    "            if not counter: # wall\n",
    "                return (pos, board, False)\n",
    "            else:\n",
    "                board[pos[0],pos[1] + 1] = \".\"\n",
    "                board[pos[0],pos[1] + (counter*1+1)] = \"O\"\n",
    "                return ((pos[0],pos[1] + 1), board, True)\n",
    "\n",
    "    if direc == \"<\":\n",
    "        if board[pos[0],pos[1] - 1] == \"O\":\n",
    "            counter =check_movable(board, (pos[0],pos[1] -1), move_vector=[0,-1])\n",
    "            if not counter: # wall\n",
    "                return (pos, board, False)\n",
    "            else:\n",
    "                board[pos[0],pos[1] - 1] = \".\"\n",
    "                board[pos[0],pos[1] + (counter*-1-1)] = \"O\"\n",
    "                return ((pos[0],pos[1] -1), board, True)\n",
    "\n",
    "            \n",
    "    if direc == \"v\":\n",
    "        if board[pos[0]+1,pos[1]] == \"O\":\n",
    "            counter =check_movable(board, (pos[0]+1,pos[1] ), move_vector=[1,0])\n",
    "            if not counter: # wall\n",
    "                return (pos, board, False)\n",
    "            else:\n",
    "                board[pos[0]+1,pos[1]] = \".\"\n",
    "                board[pos[0] + (counter*1+1),pos[1]] = \"O\"\n",
    "                return ((pos[0]+1,pos[1]), board, True)\n",
    "\n",
    "    if direc == \"^\":\n",
    "        if board[pos[0]-1,pos[1]] == \"O\":\n",
    "            counter =check_movable(board, (pos[0]-1,pos[1] ), move_vector=[-1,0])\n",
    "            if not counter: # wall\n",
    "                return (pos, board, False)\n",
    "            else:\n",
    "                board[pos[0]-1,pos[1]] = \".\"\n",
    "                board[pos[0] + (counter*-1-1),pos[1]] = \"O\"\n",
    "                return ((pos[0]-1,pos[1]), board, True)"
   ]
  },
  {
   "cell_type": "code",
   "execution_count": 8,
   "metadata": {},
   "outputs": [
    {
     "data": {
      "text/plain": [
       "10092"
      ]
     },
     "execution_count": 8,
     "metadata": {},
     "output_type": "execute_result"
    }
   ],
   "source": [
    "data = load(to_list=False, line_splitter=False)\n",
    "board = np.array([list(x) for x in data if \"#\" in x])\n",
    "position = np.where(board == \"@\")\n",
    "board[np.where(board == \"@\")] = \".\"\n",
    "instruction = list(\"\".join([x for x in data if \"#\"  not in x][1:]))\n",
    "\n",
    "for ins in instruction:\n",
    "    \n",
    "    if check_if_wall(position, ins, board):\n",
    "        continue\n",
    "    new_pos, moved = step_if_empty(position,ins, board)\n",
    "    if moved: \n",
    "        position = new_pos\n",
    "    else: \n",
    "        new_pos, new_board, changed = push_if_possible(position, ins, board)\n",
    "        if changed: \n",
    "            position = new_pos\n",
    "            board = new_board\n",
    "            \n",
    "#A\n",
    "boxes = np.where(board == \"O\")\n",
    "(boxes[0] * 100 + boxes[1]).sum()\n"
   ]
  },
  {
   "cell_type": "code",
   "execution_count": 42,
   "metadata": {},
   "outputs": [],
   "source": [
    "def extend_board(board):\n",
    "    new_board = []\n",
    "    for line in board:\n",
    "        new_line = \"\"\n",
    "        for item in line:\n",
    "            if item == \"O\":\n",
    "                new_line += (\"[]\")\n",
    "            if item == \"#\":\n",
    "                new_line +=(\"##\")\n",
    "            if item == \".\":\n",
    "                new_line +=(\"..\")\n",
    "            if item == \"@\":\n",
    "                new_line +=(\"@.\")\n",
    "        new_board.append(list(new_line))\n",
    "    return np.array(new_board)"
   ]
  },
  {
   "cell_type": "code",
   "execution_count": 55,
   "metadata": {},
   "outputs": [],
   "source": [
    "def move_horizontal(pos, move_vector= [0,1]):\n",
    "    # horizontal cases still the same\n",
    "    if board[pos[0],pos[1] + move_vector[1]] == \"[\":\n",
    "        counter =check_movable(board, (pos[0],pos[1] + move_vector[1]), move_vector=move_vector,markers=[\"]\", \"[\"])\n",
    "        if not counter: # wall\n",
    "            return (pos, board, False)\n",
    "        else:\n",
    "            board[pos[0],pos[1] + move_vector[1]] = \".\"\n",
    "            l = pos[1]+ (2*move_vector[1])\n",
    "            r = pos[1] + (counter*move_vector[1]+(2*move_vector[1]))\n",
    "            print(lr,)\n",
    "            board[pos[0],pos[1]+ 2:pos[1] + (counter*1+2)] = board[pos[0],pos[1] + 1:pos[1] + (counter*1+1)]\n",
    "            return ((pos[0],pos[1] + 1), board, True)\n",
    "\n"
   ]
  },
  {
   "cell_type": "code",
   "execution_count": null,
   "metadata": {},
   "outputs": [],
   "source": [
    "def move_vertical():\n",
    "    # new special cases.    \n",
    "    if direc == \"v\":\n",
    "        if board[pos[0]+1,pos[1]]  == \"[\":\n",
    "            \n",
    "            counter1 =check_movable(board, (pos[0]+1,pos[1] ), move_vector=[1,0],markers=[\"]\", \"[\"])\n",
    "            counter2 =check_movable(board, (pos[0]+1,pos[1]+1), move_vector=[1,0],markers=[\"]\", \"[\"])\n",
    "\n",
    "            if (not counter1) or (not counter2): # wall\n",
    "                return (pos, board, False)\n",
    "            else:\n",
    "                counter = min([counter1, counter2])\n",
    "                board[pos[0]+1,pos[1]] = \".\"\n",
    "                board[pos[0]+1,pos[1]+1] = \".\"\n",
    "                board[pos[0] + (counter*1+1),pos[1]] = \"[\"\n",
    "                board[pos[0] + (counter*1+1),pos[1]+1] = \"]\"\n",
    "                return ((pos[0]+1,pos[1]), board, True)\n",
    "            \n",
    "        if board[pos[0]+1,pos[1]]  == \"]\":\n",
    "            \n",
    "            counter1 =check_movable(board, (pos[0]+1,pos[1] ), move_vector=[1,0],markers=[\"]\", \"[\"])\n",
    "            counter2 =check_movable(board, (pos[0]+1,pos[1]-1), move_vector=[1,0],markers=[\"]\", \"[\"])\n",
    "\n",
    "            if (not counter1) or (not counter2): # wall\n",
    "                return (pos, board, False)\n",
    "            else:\n",
    "                counter = min([counter1, counter2])\n",
    "                board[pos[0]+1,pos[1]] = \".\"\n",
    "                board[pos[0]+1,pos[1]-1] = \".\"\n",
    "                board[pos[0] + (counter*1+1),pos[1]] = \"]\"\n",
    "                board[pos[0] + (counter*1+1),pos[1]-1] = \"[\"\n",
    "                return ((pos[0]+1,pos[1]), board, True)\n",
    "\n",
    "    if direc == \"^\":\n",
    "        if board[pos[0]-1,pos[1]]  == \"[\":\n",
    "            \n",
    "            counter1 =check_movable(board, (pos[0]-1,pos[1] ), move_vector=[-1,0],markers=[\"]\", \"[\"])\n",
    "            counter2 =check_movable(board, (pos[0]-1,pos[1]+1), move_vector=[-1,0],markers=[\"]\", \"[\"])\n",
    "\n",
    "            if (not counter1) or (not counter2): # wall\n",
    "                return (pos, board, False)\n",
    "            else:\n",
    "                counter = min([counter1, counter2])\n",
    "                board[pos[0]-1,pos[1]] = \".\"\n",
    "                board[pos[0]-1,pos[1]+1] = \".\"\n",
    "                board[pos[0] + (counter*-1-1),pos[1]] = \"[\"\n",
    "                board[pos[0] + (counter*-1-1),pos[1]+1] = \"]\"\n",
    "                return ((pos[0]-1,pos[1]), board, True)\n",
    "            \n",
    "        if board[pos[0]+1,pos[1]]  == \"]\":\n",
    "            \n",
    "            counter1 =check_movable(board, (pos[0]-1,pos[1] ), move_vector=[-1,0],markers=[\"]\", \"[\"])\n",
    "            counter2 =check_movable(board, (pos[0]-1,pos[1]-1), move_vector=[-1,0],markers=[\"]\", \"[\"])\n",
    "\n",
    "            if (not counter1) or (not counter2): # wall\n",
    "                return (pos, board, False)\n",
    "            else:\n",
    "                counter = min([counter1, counter2])\n",
    "                board[pos[0]-1,pos[1]] = \".\"\n",
    "                board[pos[0]-1,pos[1]-1] = \".\"\n",
    "                board[pos[0] + (counter*1-1),pos[1]] = \"]\"\n",
    "                board[pos[0] + (counter*-1-1),pos[1]-1] = \"[\""
   ]
  },
  {
   "cell_type": "code",
   "execution_count": null,
   "metadata": {},
   "outputs": [],
   "source": [
    "def double_push_if_possible(pos, direc, board):\n",
    "    if direc == \">\":\n",
    "        move_horizontal(pos, move_vector=[0,1])\n",
    "\n",
    "    if direc == \"<\":\n",
    "        move_horizontal(pos)\n",
    "\n",
    "    if direc == \"^\": \n",
    "         move_vertical(pos, move_vector=[-1,0])\n",
    "    if direc == \"v\":\n",
    "         move_vertical(pos, move_vector=[1,0])\n",
    "\n",
    "                return ((pos[0]-1,pos[1]), board, True)"
   ]
  },
  {
   "cell_type": "code",
   "execution_count": 59,
   "metadata": {},
   "outputs": [
    {
     "name": "stdout",
     "output_type": "stream",
     "text": [
      "<\n"
     ]
    },
    {
     "ename": "TypeError",
     "evalue": "cannot unpack non-iterable NoneType object",
     "output_type": "error",
     "traceback": [
      "\u001b[0;31m---------------------------------------------------------------------------\u001b[0m",
      "\u001b[0;31mTypeError\u001b[0m                                 Traceback (most recent call last)",
      "Cell \u001b[0;32mIn[59], line 20\u001b[0m\n\u001b[1;32m     18\u001b[0m     position \u001b[38;5;241m=\u001b[39m new_pos\n\u001b[1;32m     19\u001b[0m \u001b[38;5;28;01melse\u001b[39;00m: \n\u001b[0;32m---> 20\u001b[0m     new_pos, new_board, changed \u001b[38;5;241m=\u001b[39m double_push_if_possible(position, ins, board)\n\u001b[1;32m     21\u001b[0m     \u001b[38;5;28;01mif\u001b[39;00m changed: \n\u001b[1;32m     22\u001b[0m         position \u001b[38;5;241m=\u001b[39m new_pos\n",
      "\u001b[0;31mTypeError\u001b[0m: cannot unpack non-iterable NoneType object"
     ]
    }
   ],
   "source": [
    "#B\n",
    "data = load(to_list=False, line_splitter=False)\n",
    "board = np.array([list(x) for x in data if \"#\" in x])\n",
    "instruction = list(\"\".join([x for x in data if \"#\"  not in x][1:]))\n",
    "board = extend_board(board)\n",
    "position = np.where(board == \"@\")\n",
    "board[np.where(board == \"@\")] = \".\"\n",
    "    \n",
    "\n",
    "\n",
    "\n",
    "for ins in instruction[:1]:\n",
    "    print(ins)\n",
    "    if check_if_wall(position, ins, board):\n",
    "        continue\n",
    "    new_pos, moved = step_if_empty(position,ins, board)\n",
    "    if moved: \n",
    "        position = new_pos\n",
    "    else: \n",
    "        new_pos, new_board, changed = double_push_if_possible(position, ins, board)\n",
    "        if changed: \n",
    "            position = new_pos\n",
    "            board = new_board"
   ]
  },
  {
   "cell_type": "code",
   "execution_count": 30,
   "metadata": {},
   "outputs": [
    {
     "data": {
      "text/plain": [
       "(array([3]), array([10]))"
      ]
     },
     "execution_count": 30,
     "metadata": {},
     "output_type": "execute_result"
    }
   ],
   "source": [
    "position"
   ]
  },
  {
   "cell_type": "code",
   "execution_count": 32,
   "metadata": {},
   "outputs": [
    {
     "data": {
      "text/plain": [
       "array([['.', '.', '.', '.', '.', '.', '#', '#', '.', '.'],\n",
       "       ['.', '.', '.', '.', '.', '.', '.', '.', '.', '.'],\n",
       "       ['.', '.', '.', 'O', '[', ']', '[', '.', '.', '.'],\n",
       "       ['.', '.', '.', '.', '[', ']', '.', '.', '.', '.'],\n",
       "       ['.', '.', '.', '.', '.', '.', '.', '.', '.', '.']], dtype='<U1')"
      ]
     },
     "execution_count": 32,
     "metadata": {},
     "output_type": "execute_result"
    }
   ],
   "source": [
    "board[1:-1, 2:-2]"
   ]
  },
  {
   "cell_type": "code",
   "execution_count": 28,
   "metadata": {},
   "outputs": [
    {
     "data": {
      "text/plain": [
       "10092"
      ]
     },
     "execution_count": 28,
     "metadata": {},
     "output_type": "execute_result"
    }
   ],
   "source": [
    "(boxes[0] * 100 + boxes[1]).sum()"
   ]
  },
  {
   "cell_type": "code",
   "execution_count": null,
   "metadata": {},
   "outputs": [],
   "source": []
  }
 ],
 "metadata": {
  "kernelspec": {
   "display_name": "base",
   "language": "python",
   "name": "python3"
  },
  "language_info": {
   "codemirror_mode": {
    "name": "ipython",
    "version": 3
   },
   "file_extension": ".py",
   "mimetype": "text/x-python",
   "name": "python",
   "nbconvert_exporter": "python",
   "pygments_lexer": "ipython3",
   "version": "3.11.5"
  }
 },
 "nbformat": 4,
 "nbformat_minor": 2
}
