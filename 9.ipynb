{
 "cells": [
  {
   "cell_type": "code",
   "execution_count": 196,
   "metadata": {},
   "outputs": [],
   "source": [
    "from tools import load\n",
    "import numpy as np"
   ]
  },
  {
   "cell_type": "code",
   "execution_count": 206,
   "metadata": {},
   "outputs": [],
   "source": [
    "def get_gaps(transfer1):\n",
    "    \n",
    "    gap_length = 0\n",
    "    index = 0\n",
    "    gaps = []\n",
    "\n",
    "    for n,x in enumerate(transfer1): \n",
    "        if x != -1: \n",
    "            if gap_length != 0: \n",
    "                gaps.append([index,gap_length])\n",
    "                gap_length = 0\n",
    "        else: \n",
    "            if gap_length == 0:\n",
    "                index = n\n",
    "                gap_length = 1\n",
    "            else:\n",
    "                gap_length += 1\n",
    "                \n",
    "    gaps = np.array(gaps)\n",
    "    return gaps\n",
    "    "
   ]
  },
  {
   "cell_type": "code",
   "execution_count": 207,
   "metadata": {},
   "outputs": [],
   "source": [
    "def perform_transfer1(data):\n",
    "    transfer1 = []\n",
    "\n",
    "    is_sep = False\n",
    "    count = 0\n",
    "    for item in data: \n",
    "        if is_sep: \n",
    "            for _ in range(item):\n",
    "                transfer1.append(-1)\n",
    "            is_sep=False\n",
    "        else: \n",
    "            for _ in range(item):\n",
    "                transfer1.append(count)\n",
    "            is_sep=True\n",
    "            count+=1\n",
    "    transfer1 = np.array(transfer1)\n",
    "    return transfer1"
   ]
  },
  {
   "cell_type": "code",
   "execution_count": 208,
   "metadata": {},
   "outputs": [
    {
     "data": {
      "text/plain": [
       "60"
      ]
     },
     "execution_count": 208,
     "metadata": {},
     "output_type": "execute_result"
    }
   ],
   "source": [
    "#a \n",
    "data = load()\n",
    "data = np.array(list(data[0][00])).astype(int)\n",
    "transfer1 = perform_transfer1(data)\n",
    "mem = transfer1.copy()\n",
    "transfer2 = transfer1.copy()\n",
    "mem = np.flip(mem)\n",
    "fillable = np.where(transfer1 == -1)[0]\n",
    "counter =0 \n",
    "len(fillable)\n",
    "for n,item in enumerate(mem[:len(fillable)]):\n",
    "    if item != -1:\n",
    "        transfer2[fillable[counter]] = item\n",
    "        transfer2[-(n+1)] = -1\n",
    "        counter +=1\n",
    "transfer2[transfer2 == -1] = 0     \n",
    "\n",
    "sum(transfer2 * np.arange(len(transfer2)))"
   ]
  },
  {
   "cell_type": "code",
   "execution_count": 275,
   "metadata": {},
   "outputs": [
    {
     "data": {
      "text/plain": [
       "6408966547049"
      ]
     },
     "execution_count": 275,
     "metadata": {},
     "output_type": "execute_result"
    }
   ],
   "source": [
    "#b \n",
    "data = load()\n",
    "data = np.array(list(data[0][00])).astype(int)\n",
    "transfer1 = perform_transfer1(data)\n",
    "mem = transfer1.copy()\n",
    "transfer2 = transfer1.copy()\n",
    "mem = np.flip(mem)\n",
    "gaps = get_gaps(transfer1)\n",
    "\n",
    "already_tested = []    \n",
    "for n,x in enumerate(mem):\n",
    "    if x == -1:\n",
    "        continue\n",
    "    if x in already_tested: \n",
    "        continue\n",
    "    else:\n",
    "        already_tested.append(x)\n",
    "        length = (transfer1 == x).sum()\n",
    "        left_gaps = gaps[gaps.T[0] <  (len(transfer2)-n- length)]\n",
    "        if len(left_gaps) > 0:\n",
    "            if length <= max(left_gaps.T[1]):\n",
    "                #space available\n",
    "                which_gap = np.where(length <= left_gaps.T[1])[0][0]\n",
    "                destination = gaps[which_gap]\n",
    "                transfer2[destination[0]:destination[0]+length] = mem[n:n+length]\n",
    "                # update the gap storage\n",
    "                update = np.where(gaps.T[0] == destination[0])[0][0]\n",
    "                gaps[update,1]  -= length \n",
    "                gaps[update,0]  += length \n",
    "                transfer2[len(transfer2)-n- length : len(transfer2)-n] = -1\n",
    "\n",
    "transfer2[transfer2 == -1] = 0     \n",
    "\n",
    "sum(transfer2 * np.arange(len(transfer2)))"
   ]
  }
 ],
 "metadata": {
  "kernelspec": {
   "display_name": "base",
   "language": "python",
   "name": "python3"
  },
  "language_info": {
   "codemirror_mode": {
    "name": "ipython",
    "version": 3
   },
   "file_extension": ".py",
   "mimetype": "text/x-python",
   "name": "python",
   "nbconvert_exporter": "python",
   "pygments_lexer": "ipython3",
   "version": "3.11.5"
  }
 },
 "nbformat": 4,
 "nbformat_minor": 2
}
