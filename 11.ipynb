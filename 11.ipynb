{
 "cells": [
  {
   "cell_type": "code",
   "execution_count": 86,
   "metadata": {},
   "outputs": [],
   "source": [
    "from tools import load\n",
    "import numpy as np\n",
    "import re"
   ]
  },
  {
   "cell_type": "code",
   "execution_count": null,
   "metadata": {},
   "outputs": [],
   "source": [
    "data = np.array(load(to_list=True, line_splitter=False))"
   ]
  },
  {
   "cell_type": "code",
   "execution_count": 85,
   "metadata": {},
   "outputs": [],
   "source": [
    "def change(row):\n",
    "    out = []\n",
    "    for x in row: \n",
    "        if not x: \n",
    "            out.append(1)\n",
    "        elif (len(str(x)) %  2) == 0:\n",
    "            out.append(int(str(x)[:len(str(x))//2]))\n",
    "            out.append(int(str(x)[len(str(x))//2:]))\n",
    "        else:\n",
    "            out.append(x*2024)\n",
    "    return out"
   ]
  },
  {
   "cell_type": "code",
   "execution_count": null,
   "metadata": {},
   "outputs": [
    {
     "data": {
      "text/plain": [
       "220722"
      ]
     },
     "execution_count": 80,
     "metadata": {},
     "output_type": "execute_result"
    }
   ],
   "source": [
    "# A \n",
    "step = data.copy()\n",
    "for _ in range(25):\n",
    "    step = change(step)\n",
    "len(step)"
   ]
  },
  {
   "cell_type": "code",
   "execution_count": 82,
   "metadata": {},
   "outputs": [
    {
     "data": {
      "text/plain": [
       "261952051690787"
      ]
     },
     "execution_count": 82,
     "metadata": {},
     "output_type": "execute_result"
    }
   ],
   "source": [
    "#B\n",
    "data_dict = {x:1 for x in data}\n",
    "\n",
    "for transform in range(75):\n",
    "    change_dict = {}\n",
    "    for n in data_dict: \n",
    "        count = data_dict[n]\n",
    "\n",
    "        if not n: \n",
    "            data_dict[n] = 0\n",
    "            if 1 in change_dict:\n",
    "                change_dict[1] += count\n",
    "            else:\n",
    "                change_dict[1] = count\n",
    "                \n",
    "        elif (len(str(n)) %  2) == 0:\n",
    "            k1 = int(str(n)[:len(str(n))//2])\n",
    "            k2 = int(str(n)[len(str(n))//2:])\n",
    "            if k1 in change_dict:\n",
    "                change_dict[k1] += count\n",
    "            else:\n",
    "                change_dict[k1] = count\n",
    "\n",
    "            if k2 in change_dict:\n",
    "                change_dict[k2] += count\n",
    "            else: \n",
    "                change_dict[k2] = count\n",
    "                \n",
    "        else: \n",
    "            if n * 2024 in change_dict:\n",
    "                change_dict[n*2024] += count\n",
    "            else:\n",
    "                change_dict[n*2024] = count\n",
    "            \n",
    "    data_dict = change_dict\n",
    "sum(data_dict.values())"
   ]
  },
  {
   "cell_type": "code",
   "execution_count": 67,
   "metadata": {},
   "outputs": [
    {
     "data": {
      "text/plain": [
       "{125: 0,\n",
       " 17: 0,\n",
       " 253000: 0,\n",
       " 1: 8586798099345103770,\n",
       " 7: 89217218419390576937,\n",
       " 253: 0,\n",
       " 0: 26231875741715068857,\n",
       " 2024: 0,\n",
       " 14168: 0,\n",
       " 512072: 0,\n",
       " 20: 42733617287336688116,\n",
       " 24: 21366808643668344058,\n",
       " 28676032: 0,\n",
       " 512: 0,\n",
       " 72: 8187673102312189972,\n",
       " 2: 47039522170936485783,\n",
       " 4: 48633441128882675755,\n",
       " 2867: 0,\n",
       " 6032: 0,\n",
       " 1036288: 0,\n",
       " 4048: 0,\n",
       " 8096: 0,\n",
       " 28: 42733617287336688116,\n",
       " 67: 0,\n",
       " 60: 8187673102312189972,\n",
       " 32: 30782747604359590972,\n",
       " 2097446912: 0,\n",
       " 40: 0,\n",
       " 48: 42733617287336688116,\n",
       " 80: 42733617287336688116,\n",
       " 96: 0,\n",
       " 8: 44571189553065797274,\n",
       " 6: 65937998196734141332,\n",
       " 3: 6894220974353103151,\n",
       " 20974: 0,\n",
       " 46912: 0,\n",
       " 9: 28261029618021447209,\n",
       " 16192: 0,\n",
       " 12144: 0,\n",
       " 6072: 0,\n",
       " 42451376: 0,\n",
       " 94949888: 0,\n",
       " 18216: 0,\n",
       " 32772608: 0,\n",
       " 24579456: 0,\n",
       " 4245: 0,\n",
       " 1376: 0,\n",
       " 9494: 0,\n",
       " 9888: 0,\n",
       " 36869184: 0,\n",
       " 3277: 0,\n",
       " 2608: 0,\n",
       " 2457: 0,\n",
       " 9456: 0,\n",
       " 42: 0,\n",
       " 45: 0,\n",
       " 13: 0,\n",
       " 76: 0,\n",
       " 94: 0,\n",
       " 98: 0,\n",
       " 88: 0,\n",
       " 3686: 0,\n",
       " 9184: 0,\n",
       " 77: 0,\n",
       " 26: 0,\n",
       " 57: 0,\n",
       " 56: 0,\n",
       " 5: 0,\n",
       " 36: 0,\n",
       " 86: 0,\n",
       " 91: 0,\n",
       " 84: 0,\n",
       " 10120: 0,\n",
       " 20482880: 0,\n",
       " 2048: 0,\n",
       " 2880: 0}"
      ]
     },
     "execution_count": 67,
     "metadata": {},
     "output_type": "execute_result"
    }
   ],
   "source": [
    "data_dict"
   ]
  },
  {
   "cell_type": "code",
   "execution_count": 57,
   "metadata": {},
   "outputs": [
    {
     "data": {
      "text/plain": [
       "13"
      ]
     },
     "execution_count": 57,
     "metadata": {},
     "output_type": "execute_result"
    }
   ],
   "source": [
    "sum(data_dict.values())"
   ]
  },
  {
   "cell_type": "code",
   "execution_count": 42,
   "metadata": {},
   "outputs": [
    {
     "data": {
      "text/plain": [
       "21789551"
      ]
     },
     "execution_count": 42,
     "metadata": {},
     "output_type": "execute_result"
    }
   ],
   "source": [
    "len(step)"
   ]
  }
 ],
 "metadata": {
  "kernelspec": {
   "display_name": "base",
   "language": "python",
   "name": "python3"
  },
  "language_info": {
   "codemirror_mode": {
    "name": "ipython",
    "version": 3
   },
   "file_extension": ".py",
   "mimetype": "text/x-python",
   "name": "python",
   "nbconvert_exporter": "python",
   "pygments_lexer": "ipython3",
   "version": "3.11.5"
  }
 },
 "nbformat": 4,
 "nbformat_minor": 2
}
