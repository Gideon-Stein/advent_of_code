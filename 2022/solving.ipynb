{
 "cells": [
  {
   "cell_type": "code",
   "execution_count": 6,
   "metadata": {},
   "outputs": [],
   "source": [
    "from tools import * \n",
    "import numpy as np\n",
    "data = read_list_list(1)\n",
    "#a \n",
    "a = np.max([sum(x) for x in data])\n",
    "#b\n",
    "b = sum(sorted([sum(x) for x in data])[-3:])"
   ]
  },
  {
   "cell_type": "code",
   "execution_count": null,
   "metadata": {},
   "outputs": [],
   "source": []
  },
  {
   "cell_type": "code",
   "execution_count": null,
   "metadata": {},
   "outputs": [],
   "source": []
  },
  {
   "cell_type": "code",
   "execution_count": 9,
   "metadata": {},
   "outputs": [
    {
     "name": "stdout",
     "output_type": "stream",
     "text": [
      "526\n",
      "886\n"
     ]
    }
   ],
   "source": [
    "# a\n",
    "from tools import * \n",
    "import numpy as np\n",
    "a = read_4(4)\n",
    "\n",
    "#a\n",
    "count = 0\n",
    "for x in a:\n",
    "    if (x[0][0] >= x[1][0]) and (x[0][1] <= x[1][1]):\n",
    "        count += 1\n",
    "    elif (x[1][0] >= x[0][0]) and (x[1][1] <= x[0][1]):\n",
    "        count += 1\n",
    "print(count)\n",
    "\n",
    "#b\n",
    "count = 0\n",
    "for x in a:\n",
    "    if (x[0][1] < x[1][0]):\n",
    "        count += 1\n",
    "    elif (x[1][1] < x[0][0]):\n",
    "        count += 1\n",
    "print(len(a) - count)\n",
    "\n",
    "\n",
    "\n"
   ]
  },
  {
   "cell_type": "code",
   "execution_count": 86,
   "metadata": {},
   "outputs": [],
   "source": [
    "#5\n",
    "f = open(str(5) + \".txt\", \"r\")\n",
    "data = f.read()\n",
    "data = data.split(\"\\n\")\n",
    "f.close()"
   ]
  },
  {
   "cell_type": "code",
   "execution_count": 89,
   "metadata": {},
   "outputs": [],
   "source": [
    "stack = []\n",
    "for row in data[:8]:\n",
    "    stack.append([(row[x]) for x in range(1, len(data[4]),4)])"
   ]
  },
  {
   "cell_type": "code",
   "execution_count": 90,
   "metadata": {},
   "outputs": [
    {
     "data": {
      "text/plain": [
       "{1: ['B', 'G', 'S', 'C'],\n",
       " 2: ['T', 'M', 'W', 'H', 'J', 'N', 'V', 'G'],\n",
       " 3: ['M', 'Q', 'S'],\n",
       " 4: ['B', 'S', 'L', 'T', 'W', 'N', 'M'],\n",
       " 5: ['J', 'Z', 'F', 'T', 'V', 'G', 'W', 'P'],\n",
       " 6: ['C', 'T', 'B', 'G', 'Q', 'H', 'S'],\n",
       " 7: ['T', 'J', 'P', 'B', 'W'],\n",
       " 8: ['G', 'D', 'C', 'Z', 'F', 'T', 'Q', 'M'],\n",
       " 9: ['N', 'S', 'H', 'B', 'P', 'F']}"
      ]
     },
     "execution_count": 90,
     "metadata": {},
     "output_type": "execute_result"
    }
   ],
   "source": [
    "# init\n",
    "stacks = {}\n",
    "for x in range(len(stack[0])):\n",
    "    stacks[x+1] = []\n",
    "for x in range(len(stack)-1,-1,-1):\n",
    "    for y in range(len(stack[0])):\n",
    "        if stack[x][y] == \" \":\n",
    "            pass\n",
    "        else:\n",
    "            stacks[y+1].append(stack[x][y])\n",
    "# commands: \n",
    "cStack = []\n",
    "for x in data[10:-1]:\n",
    "    a = x.split(\" \")\n",
    "    cStack.append([int(a[1]), int(a[3]), int(a[5])])\n",
    "\n",
    "stacks"
   ]
  },
  {
   "cell_type": "code",
   "execution_count": 80,
   "metadata": {},
   "outputs": [],
   "source": [
    "# a process: \n",
    "import copy\n",
    "s = copy.deepcopy(stacks)\n",
    "for x in cStack:\n",
    "    for n in range(x[0]):\n",
    "        s[x[2]].append(s[x[1]].pop())\n",
    "\"\".join([s[x].pop() for x in s])    "
   ]
  },
  {
   "cell_type": "code",
   "execution_count": 107,
   "metadata": {},
   "outputs": [
    {
     "data": {
      "text/plain": [
       "[2, 4, 2]"
      ]
     },
     "execution_count": 107,
     "metadata": {},
     "output_type": "execute_result"
    }
   ],
   "source": [
    "s = copy.deepcopy(stacks)\n",
    "cStack[0]"
   ]
  },
  {
   "cell_type": "code",
   "execution_count": 111,
   "metadata": {},
   "outputs": [
    {
     "data": {
      "text/plain": [
       "{1: ['B', 'G'],\n",
       " 2: ['T', 'M', 'W', 'H', 'J', 'N', 'V', 'G', 'S', 'C'],\n",
       " 3: ['M', 'Q', 'S'],\n",
       " 4: ['B', 'S', 'L', 'T', 'W', 'N', 'M'],\n",
       " 5: ['J', 'Z', 'F', 'T', 'V', 'G', 'W', 'P'],\n",
       " 6: ['C', 'T', 'B', 'G', 'Q', 'H', 'S'],\n",
       " 7: ['T', 'J', 'P', 'B', 'W'],\n",
       " 8: ['G', 'D', 'C', 'Z', 'F', 'T', 'Q', 'M'],\n",
       " 9: ['N', 'S', 'H', 'B', 'P', 'F']}"
      ]
     },
     "execution_count": 111,
     "metadata": {},
     "output_type": "execute_result"
    }
   ],
   "source": [
    "s"
   ]
  },
  {
   "cell_type": "code",
   "execution_count": 110,
   "metadata": {},
   "outputs": [],
   "source": [
    "a = s[1][-2:]\n",
    "for item in a: \n",
    "    s[2].append(item)\n",
    "s[1] = s[1][:-2]"
   ]
  },
  {
   "cell_type": "code",
   "execution_count": 112,
   "metadata": {},
   "outputs": [
    {
     "data": {
      "text/plain": [
       "'FSZWBPTBG'"
      ]
     },
     "execution_count": 112,
     "metadata": {},
     "output_type": "execute_result"
    }
   ],
   "source": [
    "#b  process: \n",
    "import copy\n",
    "s = copy.deepcopy(stacks)\n",
    "for x in cStack:\n",
    "        a = s[x[1]][-x[0]:]\n",
    "        for item in a:\n",
    "                s[x[2]].append(item)\n",
    "\n",
    "        s[x[1]] = s[x[1]][:-x[0]]\n",
    "\"\".join([s[x].pop() for x in s])    "
   ]
  },
  {
   "cell_type": "code",
   "execution_count": 1,
   "metadata": {},
   "outputs": [],
   "source": [
    "#6 \n",
    "#5\n",
    "f = open(str(6) + \".txt\", \"r\")\n",
    "data = f.read()\n",
    "f.close()"
   ]
  },
  {
   "cell_type": "code",
   "execution_count": 8,
   "metadata": {},
   "outputs": [
    {
     "name": "stdout",
     "output_type": "stream",
     "text": [
      "1651\n",
      "3837\n"
     ]
    }
   ],
   "source": [
    "#a\n",
    "for x in range(4,len(data)):\n",
    "    if len(set(data[x-4:x])) == 4: \n",
    "        break\n",
    "print(x)\n",
    "#b\n",
    "for x in range(14,len(data)):\n",
    "    if len(set(data[x-14:x])) == 14: \n",
    "        break\n",
    "print(x)"
   ]
  }
 ],
 "metadata": {
  "kernelspec": {
   "display_name": "Python 3.10.4 ('dash')",
   "language": "python",
   "name": "python3"
  },
  "language_info": {
   "codemirror_mode": {
    "name": "ipython",
    "version": 3
   },
   "file_extension": ".py",
   "mimetype": "text/x-python",
   "name": "python",
   "nbconvert_exporter": "python",
   "pygments_lexer": "ipython3",
   "version": "3.10.4"
  },
  "orig_nbformat": 4,
  "vscode": {
   "interpreter": {
    "hash": "03f93eeb02647ff7f0e5534b9c82c3d82b6cd893995b731a94ca87c96d192ef8"
   }
  }
 },
 "nbformat": 4,
 "nbformat_minor": 2
}
