{
 "cells": [
  {
   "cell_type": "code",
   "execution_count": 107,
   "id": "2076b02c",
   "metadata": {},
   "outputs": [],
   "source": [
    "import pickle\n",
    "import matplotlib.pyplot as plt\n",
    "from collections import Counter"
   ]
  },
  {
   "cell_type": "markdown",
   "id": "1493624f",
   "metadata": {},
   "source": [
    "# 3"
   ]
  },
  {
   "cell_type": "code",
   "execution_count": 117,
   "id": "e378536d-e465-4630-af81-c25833e15685",
   "metadata": {},
   "outputs": [],
   "source": [
    "f = open(\"3.txt\", \"r\")\n",
    "d = f.read()\n",
    "d = d.split(\"\\n\")\n",
    "stack = []\n",
    "for x in d: \n",
    "    l = int(len(x) / 2)\n",
    "    stack.append([x[:l], x[l:]])\n",
    "d = stack"
   ]
  },
  {
   "cell_type": "code",
   "execution_count": 73,
   "id": "5fc1a03c-366a-49bc-8815-dc529a7ac7bf",
   "metadata": {},
   "outputs": [],
   "source": [
    "def str_to_int(s):\n",
    "    n = ord(s)\n",
    "    if n < 92: \n",
    "        return n -38\n",
    "    else:\n",
    "        return n - 96"
   ]
  },
  {
   "cell_type": "code",
   "execution_count": 79,
   "id": "d0fcdfc5-aa10-49cd-bd00-7fe4569c8aaa",
   "metadata": {},
   "outputs": [],
   "source": [
    "# a \n",
    "stack = []\n",
    "for x in d: \n",
    "    for y in x[0]:\n",
    "        if y in x[1]:\n",
    "            stack.append(y)\n",
    "            break"
   ]
  },
  {
   "cell_type": "code",
   "execution_count": 80,
   "id": "4774070c-2a00-4e41-a9fe-5cb46f01b1ca",
   "metadata": {},
   "outputs": [
    {
     "data": {
      "text/plain": [
       "300"
      ]
     },
     "execution_count": 80,
     "metadata": {},
     "output_type": "execute_result"
    }
   ],
   "source": [
    "len(stack)\n",
    "sum([str_to_int(x) for x in stack])"
   ]
  },
  {
   "cell_type": "code",
   "execution_count": 122,
   "id": "e5901979-6fd3-4d5d-8984-23b1e30567de",
   "metadata": {},
   "outputs": [
    {
     "data": {
      "text/plain": [
       "100"
      ]
     },
     "execution_count": 122,
     "metadata": {},
     "output_type": "execute_result"
    }
   ],
   "source": [
    "#b \n",
    "f = open(\"3.txt\", \"r\")\n",
    "d = f.read()\n",
    "d = d.split(\"\\n\")\n",
    "s = []\n",
    "for x in range(0,len(d)-2, 3):\n",
    "    s.append(d[x:x+3])\n",
    "d = s\n",
    "len(d)"
   ]
  },
  {
   "cell_type": "code",
   "execution_count": 123,
   "id": "96df3542-23b3-4ec5-a45a-4809e2ff8fca",
   "metadata": {},
   "outputs": [],
   "source": [
    "def check(s):\n",
    "    for l in s[0]:\n",
    "        if (l in s[1]) and (l in s[2]):\n",
    "            return l"
   ]
  },
  {
   "cell_type": "code",
   "execution_count": 127,
   "id": "8d695828-fa96-4dc2-8a9c-a60d42e281f3",
   "metadata": {},
   "outputs": [
    {
     "data": {
      "text/plain": [
       "2522"
      ]
     },
     "execution_count": 127,
     "metadata": {},
     "output_type": "execute_result"
    }
   ],
   "source": [
    "sum([str_to_int(check(x)) for x in d])"
   ]
  },
  {
   "cell_type": "markdown",
   "id": "338d9942",
   "metadata": {},
   "source": [
    "# 7 "
   ]
  },
  {
   "cell_type": "code",
   "execution_count": 36,
   "id": "2f929ce7-a15a-4ff2-a640-b3d0de54420f",
   "metadata": {},
   "outputs": [
    {
     "name": "stdout",
     "output_type": "stream",
     "text": [
      "1\n"
     ]
    }
   ],
   "source": [
    "# 7\n",
    "from anytree import Node, RenderTree\n",
    "from anytree import Node, RenderTree, AsciiStyle, PreOrderIter\n",
    "\n",
    "\n",
    "f = open(\"7.txt\", \"r\")\n",
    "d = f.read()\n",
    "print(d.count(\"/\")) # doesnt jump back to root\n",
    "d = d.split(\"$\")\n",
    "d= [x.split(\"\\n\") for x in d]\n",
    "\n"
   ]
  },
  {
   "cell_type": "code",
   "execution_count": 212,
   "id": "9d7df617",
   "metadata": {},
   "outputs": [],
   "source": [
    "root = Node(\"root\")\n",
    "current = root\n",
    "storage  =  {\"root\": root}\n",
    "for n, x in enumerate(d[2:]):\n",
    "    if \"ls\" == x[0][1:3]:\n",
    "        for y in x[1:]:\n",
    "            if y[:3] == \"dir\":\n",
    "                    if str(current) + \"/\" + y[4:]  in storage: \n",
    "                        print(\"OOF\")\n",
    "                    storage[str(current)[:-2] + \"/\" + y[4:] + \"')\" ] = Node(y[4:], parent=current)\n",
    "            elif len(y)> 0: #file\n",
    "                if int(y.split(\" \")[0]) in storage: \n",
    "                    print(\"AF\")\n",
    "                storage[str(current)[:-2] + \"/\" +  y.split(\" \")[0]+ \"')\"] = Node(int(y.split(\" \")[0]), parent=current)\n",
    "    elif \"cd ..\" in x[0]:\n",
    "        current = current.parent\n",
    "    elif \"cd\" in x[0]:\n",
    "        current = storage[str(current)[:-2] + \"/\" + x[0][4:]+ \"')\"]\n",
    "    else: \n",
    "         print(\"Uncatched case!\")\n",
    "         print(x)\n",
    "\n",
    "\n",
    "#for pre, fill, node in RenderTree(root):\n",
    "#    print(\"%s%s\" % (pre, node.name))"
   ]
  },
  {
   "cell_type": "code",
   "execution_count": 218,
   "id": "aaa2029c",
   "metadata": {},
   "outputs": [
    {
     "name": "stdout",
     "output_type": "stream",
     "text": [
      "Node('/root')\n",
      "919137\n"
     ]
    }
   ],
   "source": [
    "#\n",
    "c = 0\n",
    "folders =[node for node in PreOrderIter(root) if not isinstance(node.name, int)]\n",
    "for x in folders:\n",
    "    if str(x) not in storage.keys():\n",
    "        print(x)\n",
    "    else:\n",
    "        s = sum([y.name for y in storage[str(x)].leaves if isinstance(y.name, int)])\n",
    "        if s <= 100000:\n",
    "            c+= s\n",
    "print(c)"
   ]
  },
  {
   "cell_type": "code",
   "execution_count": 222,
   "id": "bbcd7ef7",
   "metadata": {},
   "outputs": [
    {
     "data": {
      "text/plain": [
       "2805968"
      ]
     },
     "execution_count": 222,
     "metadata": {},
     "output_type": "execute_result"
    }
   ],
   "source": [
    "x = \"root\"\n",
    "30000000 - (70000000 - sum([y.name for y in storage[str(x)].leaves if isinstance(y.name, int)]))"
   ]
  },
  {
   "cell_type": "code",
   "execution_count": 223,
   "id": "36924aa4",
   "metadata": {},
   "outputs": [
    {
     "name": "stdout",
     "output_type": "stream",
     "text": [
      "Node('/root')\n",
      "2877389\n"
     ]
    }
   ],
   "source": [
    "#\n",
    "import numpy as np\n",
    "c = np.inf\n",
    "folders =[node for node in PreOrderIter(root) if not isinstance(node.name, int)]\n",
    "for x in folders:\n",
    "    if str(x) not in storage.keys():\n",
    "        print(x)\n",
    "    else:\n",
    "        s = sum([y.name for y in storage[str(x)].leaves if isinstance(y.name, int)])\n",
    "        if s >= 2805968:\n",
    "            if s < c:\n",
    "                c = s \n",
    "print(c)"
   ]
  },
  {
   "cell_type": "markdown",
   "id": "fee78055",
   "metadata": {},
   "source": [
    "# 2 "
   ]
  },
  {
   "cell_type": "code",
   "execution_count": 16,
   "id": "a4cc2bea-5715-4556-9b07-8e8ac99ffa26",
   "metadata": {},
   "outputs": [],
   "source": [
    "def get_points(r): \n",
    "    if r[1] == \"X\":\n",
    "        p = 1\n",
    "    elif r[1] == \"Y\":\n",
    "        p = 2\n",
    "    else:\n",
    "        p = 3\n",
    "        \n",
    "    if  (r[0] == \"A\") and (r[1] ==\"X\"):\n",
    "        p+= 3\n",
    "    elif  (r[0] == \"B\") and (r[1] ==\"Y\"):\n",
    "        p+= 3\n",
    "    elif  (r[0] == \"C\") and (r[1] ==\"Z\"):\n",
    "        p+= 3\n",
    "    elif (r[0] == \"A\") and (r[1] ==\"Y\"):\n",
    "        p += 6\n",
    "    elif (r[0] == \"B\") and (r[1] ==\"Z\"):\n",
    "        p += 6\n",
    "    elif (r[0] == \"C\") and (r[1] ==\"X\"):\n",
    "        p += 6\n",
    "    else: \n",
    "        pass\n",
    "    return p"
   ]
  },
  {
   "cell_type": "code",
   "execution_count": 26,
   "id": "3faea3cb-1498-48fe-a3b6-9a969d845cee",
   "metadata": {},
   "outputs": [],
   "source": [
    "def get_sol(r):\n",
    "    if r[1] == \"X\":\n",
    "        for sol in [\"X\", \"Y\", \"Z\"]: \n",
    "            if get_points([r[0], sol]) <= 3: \n",
    "                out =get_points([r[0], sol])\n",
    "    elif r[1] == \"Y\":\n",
    "        for sol in [\"X\", \"Y\", \"Z\"]: \n",
    "            if (get_points([r[0], sol]) <= 6) and (get_points([r[0], sol]) > 3) : \n",
    "                out = get_points([r[0], sol])\n",
    "    \n",
    "    else:\n",
    "        for sol in [\"X\", \"Y\", \"Z\"]: \n",
    "            if (get_points([r[0], sol]) > 6): \n",
    "                out = get_points([r[0], sol])\n",
    "    return out\n",
    "            \n",
    "        \n",
    "        \n",
    "    "
   ]
  },
  {
   "cell_type": "code",
   "execution_count": 29,
   "id": "0da54766-faf8-4336-9d36-11de8aebbaa7",
   "metadata": {},
   "outputs": [
    {
     "data": {
      "text/plain": [
       "14060"
      ]
     },
     "execution_count": 29,
     "metadata": {},
     "output_type": "execute_result"
    }
   ],
   "source": [
    "sum([get_sol(x) for x in d])"
   ]
  },
  {
   "cell_type": "code",
   "execution_count": 17,
   "id": "5cbee08e-2a64-4354-ab58-818b7b6a3e32",
   "metadata": {},
   "outputs": [
    {
     "data": {
      "text/plain": [
       "10624"
      ]
     },
     "execution_count": 17,
     "metadata": {},
     "output_type": "execute_result"
    }
   ],
   "source": [
    "sum([get_points(x) for x in d])"
   ]
  },
  {
   "cell_type": "markdown",
   "id": "fc0c5163",
   "metadata": {},
   "source": [
    "# 8"
   ]
  },
  {
   "cell_type": "code",
   "execution_count": 1,
   "id": "79a7508a",
   "metadata": {},
   "outputs": [],
   "source": [
    "# 8\n",
    "import numpy as np\n",
    "f = open(\"8.txt\", \"r\")\n",
    "d = f.read()\n",
    "d = d.split(\"\\n\")\n",
    "d = [list(x) for x in d]\n",
    "d = np.array(d).astype(int)"
   ]
  },
  {
   "cell_type": "code",
   "execution_count": 2,
   "id": "fef8a1b8",
   "metadata": {},
   "outputs": [],
   "source": [
    "def run_visible(d):\n",
    "    save = []\n",
    "    for y in range(d.shape[0]):\n",
    "        for x in range(d.shape[1]): \n",
    "            if x == 0: \n",
    "                save.append((y,x))\n",
    "            elif d[y][x] > max(d[y][:x]):\n",
    "                save.append((y,x))\n",
    "            if x == d.shape[1] - 1: \n",
    "                save.append((y,x))\n",
    "            elif d[y][x] > max(d[y][x+1:]):\n",
    "                save.append((y,x))\n",
    "    return set(save)"
   ]
  },
  {
   "cell_type": "code",
   "execution_count": 3,
   "id": "225ef5b9",
   "metadata": {},
   "outputs": [
    {
     "data": {
      "text/plain": [
       "1705"
      ]
     },
     "execution_count": 3,
     "metadata": {},
     "output_type": "execute_result"
    }
   ],
   "source": [
    "s1 = list(run_visible(d))\n",
    "s2 = list(run_visible(d.T))\n",
    "s2 = [tuple(reversed(list(x))) for x in s2]\n",
    "len(set(s1 + s2))"
   ]
  },
  {
   "cell_type": "code",
   "execution_count": 19,
   "id": "12fa728e",
   "metadata": {},
   "outputs": [],
   "source": [
    "#b\n",
    "def count(d):\n",
    "    length = np.ones(d.shape)\n",
    "    for y in range(d.shape[0]):\n",
    "        for x in range(d.shape[1]): \n",
    "\n",
    "\n",
    "            \n",
    "            c = d[y,x]\n",
    "            l= np.flip(d[y,:x])\n",
    "            r =d[y,x+1:]\n",
    "\n",
    "            if len(r) > 0:\n",
    "                for nr in range(len(r)):\n",
    "                    if r[nr] >= c: \n",
    "                        break\n",
    "                length[y,x] = length[y,x] * (nr+1)\n",
    "\n",
    "            if len(l) > 0:\n",
    "                for nl in range(len(l)):\n",
    "                    if l[nl] >= c: \n",
    "                        break\n",
    "                length[y,x] = length[y,x] * (nl+1)\n",
    "            \n",
    "    return length"
   ]
  },
  {
   "cell_type": "code",
   "execution_count": 20,
   "id": "d27e5fd4",
   "metadata": {},
   "outputs": [],
   "source": [
    "s1 = count(d)\n",
    "s2 = count(d.T).T"
   ]
  },
  {
   "cell_type": "code",
   "execution_count": 33,
   "id": "397248ab",
   "metadata": {},
   "outputs": [
    {
     "data": {
      "text/plain": [
       "371200.0"
      ]
     },
     "execution_count": 33,
     "metadata": {},
     "output_type": "execute_result"
    }
   ],
   "source": [
    "np.multiply(s1,s2).max()"
   ]
  },
  {
   "cell_type": "markdown",
   "id": "47e58f10",
   "metadata": {},
   "source": [
    "# 9"
   ]
  },
  {
   "cell_type": "code",
   "execution_count": 311,
   "id": "9930d0a2",
   "metadata": {},
   "outputs": [],
   "source": [
    "import numpy as np\n",
    "f = open(\"9.txt\", \"r\")\n",
    "d = f.read()\n",
    "d = d.split(\"\\n\")\n",
    "d = [x.split(\" \") for x in d]\n",
    "import matplotlib.pyplot as plt"
   ]
  },
  {
   "cell_type": "code",
   "execution_count": 294,
   "id": "6d3ba657",
   "metadata": {},
   "outputs": [],
   "source": [
    "def update_tail(cH, cT):\n",
    "\n",
    "    # nothing happens: \n",
    "    # check which case: \n",
    "    dist  = np.abs(cH - cT)\n",
    "    # nothing\n",
    "    if dist.max() < 2: \n",
    "        pass\n",
    "    # non diagonal\n",
    "    elif 0 in dist: \n",
    "\n",
    "        # up\n",
    "        if dist[1] == 0: \n",
    "            cT[0] += (cH[0] - cT[0]) / 2\n",
    "        #hori\n",
    "        elif dist[0] == 0: \n",
    "            cT[1] += (cH[1] - cT[1]) / 2        \n",
    "        else: \n",
    "            print(\"YEET\")\n",
    "    # catch case\n",
    "    elif 3 in dist: \n",
    "        print(\"OOF. Broken\")\n",
    "    # diagonal\n",
    "    else:\n",
    "        j = np.sign(cH - cT)\n",
    "        cT += j\n",
    "    return cT"
   ]
  },
  {
   "cell_type": "code",
   "execution_count": 318,
   "id": "f6d87d89",
   "metadata": {},
   "outputs": [
    {
     "name": "stdout",
     "output_type": "stream",
     "text": [
      "6642\n"
     ]
    },
    {
     "data": {
      "image/png": "[encoded data removed]",
      "text/plain": [
       "<Figure size 432x288 with 1 Axes>"
      ]
     },
     "metadata": {
      "needs_background": "light"
     },
     "output_type": "display_data"
    }
   ],
   "source": [
    "size = (700,700)\n",
    "currentH = np.array([200,200])\n",
    "currentT = np.array([200,200])\n",
    "field = np.zeros(size).astype(bool)\n",
    "field[200,200] = True\n",
    "for step in d: \n",
    "    for n in range(int(step[1])): \n",
    "        if step[0] == \"U\":\n",
    "            currentH[0] -=1\n",
    "        elif step[0] == \"D\":\n",
    "            currentH[0] +=1\n",
    "        elif step[0] == \"R\":\n",
    "            currentH[1] +=1\n",
    "        elif step[0] == \"L\":\n",
    "            currentH[1] -=1\n",
    "        else:\n",
    "            print(\"OOF\")\n",
    "\n",
    "        currentT = update_tail(currentH, currentT)\n",
    "        field[currentT[0], currentT[1]] = True\n",
    "plt.imshow(field)\n",
    "print(field.sum())"
   ]
  },
  {
   "cell_type": "code",
   "execution_count": 317,
   "id": "e5222f1a",
   "metadata": {},
   "outputs": [
    {
     "name": "stdout",
     "output_type": "stream",
     "text": [
      "2765\n"
     ]
    },
    {
     "data": {
      "image/png": "[encoded data removed]",
      "text/plain": [
       "<Figure size 432x288 with 1 Axes>"
      ]
     },
     "metadata": {
      "needs_background": "light"
     },
     "output_type": "display_data"
    }
   ],
   "source": [
    "# b \n",
    "size = (700,700)\n",
    "ropePos = np.repeat(np.array([[200,200]]),10,).reshape(10,2)\n",
    "\n",
    "field = np.zeros(size).astype(bool)\n",
    "field[200,200] = True\n",
    "for step in d: \n",
    "    for n in range(int(step[1])): \n",
    "        if step[0] == \"U\":\n",
    "            ropePos[0][0] -=1\n",
    "        elif step[0] == \"D\":\n",
    "            ropePos[0][0] +=1\n",
    "        elif step[0] == \"R\":\n",
    "            ropePos[0][1] +=1\n",
    "        elif step[0] == \"L\":\n",
    "            ropePos[0][1] -=1\n",
    "        else:\n",
    "            print(\"OOF\")\n",
    "        for l in range(1,len(ropePos)):\n",
    "            ropePos[l] = update_tail(ropePos[l-1], ropePos[l])\n",
    "        field[ropePos[-1][0], ropePos[-1][1]] = True\n",
    "plt.imshow(field)\n",
    "print(field.sum())"
   ]
  },
  {
   "cell_type": "markdown",
   "id": "4dfdb5b2",
   "metadata": {},
   "source": [
    "\n",
    "# 10"
   ]
  },
  {
   "cell_type": "code",
   "execution_count": 156,
   "id": "8f6545a7",
   "metadata": {},
   "outputs": [],
   "source": [
    "import numpy as np\n",
    "import matplotlib.pyplot as plt\n",
    "f = open(\"10.txt\", \"r\")\n",
    "d = f.read()\n",
    "d = d.split(\"\\n\")"
   ]
  },
  {
   "cell_type": "code",
   "execution_count": 157,
   "id": "96391bcd",
   "metadata": {},
   "outputs": [
    {
     "data": {
      "text/plain": [
       "13740"
      ]
     },
     "execution_count": 157,
     "metadata": {},
     "output_type": "execute_result"
    }
   ],
   "source": [
    "#a\n",
    "hist = [np.nan] * 500\n",
    "hist[0] = 1\n",
    "current  = 1\n",
    "for x in d: \n",
    "    if \"addx\" in x:\n",
    "        v = int(x.split(\" \")[1])\n",
    "        hist[current] = hist[current-1]\n",
    "        hist[current+1] = hist[current-1] + v\n",
    "        current += 2\n",
    "\n",
    "    elif \"noop\" in x:\n",
    "        hist[current] = hist[current-1]\n",
    "        current += 1\n",
    "sum([hist[x-1] * x for x in [20,60,100,140,180,220]])\n"
   ]
  },
  {
   "cell_type": "code",
   "execution_count": 167,
   "id": "fc33516d",
   "metadata": {},
   "outputs": [],
   "source": [
    "#W\n",
    "draw = []\n",
    "for x in range(240):\n",
    "    if hist[x] == x%40:\n",
    "        draw.append(True)\n",
    "    elif hist[x] == (x +1)%40:\n",
    "        draw.append(True)\n",
    "    elif hist[x] == (x -1)%40:\n",
    "        draw.append(True)\n",
    "    else:\n",
    "        draw.append(False)"
   ]
  },
  {
   "cell_type": "code",
   "execution_count": 168,
   "id": "22788048",
   "metadata": {},
   "outputs": [
    {
     "data": {
      "text/plain": [
       "<matplotlib.image.AxesImage at 0x7f7ac41a8be0>"
      ]
     },
     "execution_count": 168,
     "metadata": {},
     "output_type": "execute_result"
    },
    {
     "data": {
      "image/png": "[encoded data removed]",
      "text/plain": [
       "<Figure size 432x288 with 1 Axes>"
      ]
     },
     "metadata": {
      "needs_background": "light"
     },
     "output_type": "display_data"
    }
   ],
   "source": [
    "plt.imshow(np.array(draw).reshape(6,40))"
   ]
  },
  {
   "cell_type": "markdown",
   "id": "157e2f08",
   "metadata": {},
   "source": [
    "# 12"
   ]
  },
  {
   "cell_type": "code",
   "execution_count": 125,
   "id": "ca36ed63",
   "metadata": {},
   "outputs": [
    {
     "data": {
      "text/plain": [
       "<matplotlib.image.AxesImage at 0x7fafcc0791c0>"
      ]
     },
     "execution_count": 125,
     "metadata": {},
     "output_type": "execute_result"
    },
    {
     "data": {
      "image/png": "[encoded data removed]",
      "text/plain": [
       "<Figure size 432x288 with 1 Axes>"
      ]
     },
     "metadata": {
      "needs_background": "light"
     },
     "output_type": "display_data"
    }
   ],
   "source": [
    "# 12\n",
    "import matplotlib.pyplot as plt\n",
    "import numpy as np\n",
    "f = open(\"12.txt\", \"r\")\n",
    "d = f.read()\n",
    "d = d.split(\"\\n\")\n",
    "stack = []\n",
    "for row in d: \n",
    "    stack.append([ord(x) - 97 for x in row])\n",
    "d = np.array(stack)\n",
    "start = np.array([np.where(d == -14)[0][0], np.where(d == -14)[1][0]])\n",
    "end = np.array([np.where(d == -28)[0][0], np.where(d == -28)[1][0]])\n",
    "d[d == -14] = 0 # start\n",
    "d[d == -28] = 25 # end\n",
    "plt.imshow(d)"
   ]
  },
  {
   "cell_type": "code",
   "execution_count": 126,
   "id": "f7795fab",
   "metadata": {},
   "outputs": [],
   "source": [
    "distMap = np.zeros(d.shape) \n",
    "distMap[:] = np.inf"
   ]
  },
  {
   "cell_type": "code",
   "execution_count": 128,
   "id": "5c90de99",
   "metadata": {},
   "outputs": [],
   "source": [
    "def calc_one_step(d): \n",
    "    for x in range(len(d)): \n",
    "        for y in range(len(d[0])): \n",
    "            if np.all(np.array([x,y]) == end):\n",
    "                distMap[x,y] = 0\n",
    "            else:\n",
    "                options = []\n",
    "                if x+1 < len(d):\n",
    "                    if not d[x,y]+1 < d[x+1,y]:\n",
    "                        options.append(distMap[x+1,y])\n",
    "                if x-1 > -1:\n",
    "                    if not d[x,y]+1 < d[x-1,y]:\n",
    "                        options.append(distMap[x-1,y])\n",
    "                if y+1 < len(d[0]):\n",
    "                    if not d[x,y]+1 < d[x,y+1]:\n",
    "                        options.append(distMap[x,y+1])\n",
    "                if y-1 > -1:\n",
    "                    if not d[x,y]+1 < d[x,y-1]:\n",
    "                        options.append(distMap[x,y-1])\n",
    "                options = np.array(options)\n",
    "\n",
    "                if options.min() == np.inf: \n",
    "                    pass\n",
    "                else: \n",
    "                    distMap[x,y] = options.min() + 1\n"
   ]
  },
  {
   "cell_type": "code",
   "execution_count": 129,
   "id": "4e48ea3a",
   "metadata": {},
   "outputs": [],
   "source": [
    "distMap = np.zeros(d.shape) \n",
    "distMap[:] = np.inf\n",
    "for x in range(500):\n",
    "    calc_one_step(d)"
   ]
  },
  {
   "cell_type": "code",
   "execution_count": 146,
   "id": "a6498541",
   "metadata": {},
   "outputs": [
    {
     "data": {
      "text/plain": [
       "388.0"
      ]
     },
     "execution_count": 146,
     "metadata": {},
     "output_type": "execute_result"
    }
   ],
   "source": [
    "stack = np.where(d==0)\n",
    "min([(distMap[stack[0][x], stack[1][x]]) for x in range(len(stack[0]))])"
   ]
  },
  {
   "cell_type": "markdown",
   "id": "85a64067",
   "metadata": {},
   "source": [
    "# 13"
   ]
  },
  {
   "cell_type": "code",
   "execution_count": 147,
   "id": "7ff97cd3",
   "metadata": {},
   "outputs": [],
   "source": [
    "import numpy as np\n",
    "import matplotlib.pyplot as plt\n",
    "import ast\n",
    "f = open(\"13_1.txt\", \"r\")\n",
    "d = f.read()\n",
    "d = d.split(\"\\n\\n\")\n",
    "d  = [x.split(\"\\n\") for x in d]\n",
    "d = [[ast.literal_eval(x[0]),ast.literal_eval(x[1])] for x in d]"
   ]
  },
  {
   "cell_type": "code",
   "execution_count": 124,
   "id": "f5a62a3d",
   "metadata": {},
   "outputs": [],
   "source": [
    "def compare(l):\n",
    "    #print(l)\n",
    "    a  = l[0]\n",
    "    b = l[1]\n",
    "\n",
    "    if (type(a) is int) and (type(b) is int):\n",
    "        if a < b: \n",
    "            return 1\n",
    "        elif b < a:\n",
    "            return -1\n",
    "        else: \n",
    "            return 0\n",
    "\n",
    "    elif (type(a) is int) and (type(b) is list):\n",
    "        return compare([[a],b])\n",
    "\n",
    "    elif (type(a) is list) and (type(b) is int):\n",
    "        return compare([a,[b]])\n",
    "\n",
    "    if (type(a) is list) and (type(b) is list):\n",
    "\n",
    "\n",
    "        for x in range(min(len(a), len(b))):\n",
    "            res = compare([a[x], b[x]])\n",
    "            if res == 0 : \n",
    "                continue\n",
    "            else: \n",
    "                return res\n",
    "        if len(a) < len(b):\n",
    "            return 1\n",
    "        \n",
    "        elif len(a) == len(b):\n",
    "            return 0 \n",
    "\n",
    "        else: \n",
    "            return -1"
   ]
  },
  {
   "cell_type": "code",
   "execution_count": 128,
   "id": "c1d99844",
   "metadata": {},
   "outputs": [],
   "source": [
    "res = np.array([(compare(x)) for x in d])"
   ]
  },
  {
   "cell_type": "code",
   "execution_count": 135,
   "id": "bb7b3899",
   "metadata": {},
   "outputs": [
    {
     "data": {
      "text/plain": [
       "5555"
      ]
     },
     "execution_count": 135,
     "metadata": {},
     "output_type": "execute_result"
    }
   ],
   "source": [
    "sum(np.where(res == 1)[0] + 1)"
   ]
  },
  {
   "cell_type": "code",
   "execution_count": 148,
   "id": "7de6c679",
   "metadata": {},
   "outputs": [],
   "source": [
    "#b\n",
    "# Put all packages into giant list\n",
    "stack = []\n",
    "for x in d: \n",
    "    for y in x: \n",
    "        stack.append(y)\n",
    "stack.append([[6]])\n",
    "stack.append([[2]])"
   ]
  },
  {
   "cell_type": "code",
   "execution_count": 149,
   "id": "ef24ff2a",
   "metadata": {},
   "outputs": [
    {
     "data": {
      "text/plain": [
       "[[1, 1, 3, 1, 1],\n",
       " [1, 1, 5, 1, 1],\n",
       " [[1], [2, 3, 4]],\n",
       " [[1], 4],\n",
       " [9],\n",
       " [[8, 7, 6]],\n",
       " [[4, 4], 4, 4],\n",
       " [[4, 4], 4, 4, 4],\n",
       " [7, 7, 7, 7],\n",
       " [7, 7, 7],\n",
       " [],\n",
       " [3],\n",
       " [[[]]],\n",
       " [[]],\n",
       " [1, [2, [3, [4, [5, 6, 7]]]], 8, 9],\n",
       " [1, [2, [3, [4, [5, 6, 0]]]], 8, 9],\n",
       " [[6]],\n",
       " [[2]]]"
      ]
     },
     "execution_count": 149,
     "metadata": {},
     "output_type": "execute_result"
    }
   ],
   "source": [
    "stack"
   ]
  },
  {
   "cell_type": "code",
   "execution_count": 150,
   "id": "fc3abc56",
   "metadata": {},
   "outputs": [
    {
     "name": "stdout",
     "output_type": "stream",
     "text": [
      "True\n"
     ]
    }
   ],
   "source": [
    "# lets make the most naive sorting algorithm possible: \n",
    "correct = True\n",
    "count = 0\n",
    "while not correct:\n",
    "    correct = True\n",
    "    for x in range(len(stack)-1):\n",
    "        res = compare([stack[x], stack[x+1]])\n",
    "        if res == 1: \n",
    "            pass\n",
    "        else: \n",
    "            correct = False\n",
    "            a = stack[x]\n",
    "            b = stack[x+1]\n",
    "            stack[x] = b\n",
    "            stack[x+1] = a\n",
    "print(correct)"
   ]
  },
  {
   "cell_type": "code",
   "execution_count": 151,
   "id": "ce3c5fe1",
   "metadata": {},
   "outputs": [
    {
     "data": {
      "text/plain": [
       "[[],\n",
       " [[]],\n",
       " [[[]]],\n",
       " [1, 1, 3, 1, 1],\n",
       " [1, 1, 5, 1, 1],\n",
       " [[1], [2, 3, 4]],\n",
       " [1, [2, [3, [4, [5, 6, 0]]]], 8, 9],\n",
       " [1, [2, [3, [4, [5, 6, 7]]]], 8, 9],\n",
       " [[1], 4],\n",
       " [[2]],\n",
       " [3],\n",
       " [[4, 4], 4, 4],\n",
       " [[4, 4], 4, 4, 4],\n",
       " [[6]],\n",
       " [7, 7, 7],\n",
       " [7, 7, 7, 7],\n",
       " [[8, 7, 6]],\n",
       " [9]]"
      ]
     },
     "execution_count": 151,
     "metadata": {},
     "output_type": "execute_result"
    }
   ],
   "source": [
    "stack"
   ]
  },
  {
   "cell_type": "code",
   "execution_count": 117,
   "id": "ef63b4b7",
   "metadata": {},
   "outputs": [
    {
     "name": "stdout",
     "output_type": "stream",
     "text": [
      "[[[4, 4], 4, 4], [[4, 4], 4, 4, 4]]\n",
      "[[4, 4], [4, 4]]\n",
      "[4, 4]\n",
      "[4, 4]\n",
      "[4, 4]\n",
      "[4, 4]\n"
     ]
    },
    {
     "data": {
      "text/plain": [
       "-1"
      ]
     },
     "execution_count": 117,
     "metadata": {},
     "output_type": "execute_result"
    }
   ],
   "source": [
    "compare(d[3])"
   ]
  },
  {
   "cell_type": "code",
   "execution_count": null,
   "id": "e8a68709",
   "metadata": {},
   "outputs": [],
   "source": [
    "def parse_line(l):\n",
    "    ast.literal_eval(\n"
   ]
  },
  {
   "cell_type": "code",
   "execution_count": 12,
   "id": "5317e61f",
   "metadata": {},
   "outputs": [
    {
     "data": {
      "text/plain": [
       "'[1,[2,[3,[4,[5,6,7]]]],8,9]'"
      ]
     },
     "execution_count": 12,
     "metadata": {},
     "output_type": "execute_result"
    }
   ],
   "source": [
    "d[-1][0]"
   ]
  },
  {
   "cell_type": "code",
   "execution_count": 17,
   "id": "eaf571b5",
   "metadata": {},
   "outputs": [
    {
     "data": {
      "text/plain": [
       "2"
      ]
     },
     "execution_count": 17,
     "metadata": {},
     "output_type": "execute_result"
    }
   ],
   "source": [
    "ast.literal_eval(d[-1][0])[1][0]"
   ]
  },
  {
   "cell_type": "code",
   "execution_count": 27,
   "id": "9da38f81",
   "metadata": {},
   "outputs": [],
   "source": [
    "depth = lambda L: isinstance(d, list) and max(map(d, L))+1"
   ]
  },
  {
   "cell_type": "code",
   "execution_count": 28,
   "id": "bac0842c",
   "metadata": {},
   "outputs": [
    {
     "data": {
      "text/plain": [
       "<function __main__.<lambda>(L)>"
      ]
     },
     "execution_count": 28,
     "metadata": {},
     "output_type": "execute_result"
    }
   ],
   "source": [
    "depth"
   ]
  },
  {
   "cell_type": "code",
   "execution_count": null,
   "id": "a7f6277d",
   "metadata": {},
   "outputs": [],
   "source": []
  }
 ],
 "metadata": {
  "kernelspec": {
   "display_name": "Python 3.8.8 ('base')",
   "language": "python",
   "name": "python3"
  },
  "language_info": {
   "codemirror_mode": {
    "name": "ipython",
    "version": 3
   },
   "file_extension": ".py",
   "mimetype": "text/x-python",
   "name": "python",
   "nbconvert_exporter": "python",
   "pygments_lexer": "ipython3",
   "version": "3.8.8"
  },
  "vscode": {
   "interpreter": {
    "hash": "2741d317af302cb17f8204e30671b0cf96e304c4704b91018e02be5b6330cd86"
   }
  }
 },
 "nbformat": 4,
 "nbformat_minor": 5
}
