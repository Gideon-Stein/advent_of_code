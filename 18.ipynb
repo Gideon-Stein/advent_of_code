{
 "cells": [
  {
   "cell_type": "code",
   "execution_count": 132,
   "metadata": {},
   "outputs": [],
   "source": [
    "from tools import load\n",
    "import numpy as np\n",
    "import re\n",
    "import math\n",
    "import matplotlib.pyplot as plt"
   ]
  },
  {
   "cell_type": "code",
   "execution_count": 133,
   "metadata": {},
   "outputs": [],
   "source": [
    "data = np.array(load(line_splitter=\",\", to_list=False)).astype(int)"
   ]
  },
  {
   "cell_type": "code",
   "execution_count": 134,
   "metadata": {},
   "outputs": [],
   "source": [
    "def cost_update(c, costs, board):\n",
    "    new_cost = costs[c[0], c[1]] + 1\n",
    "\n",
    "    if c[0] != 0:\n",
    "        if not board[c[0]-1, c[1]]:\n",
    "            if new_cost < costs[c[0]-1, c[1]]:\n",
    "                costs[c[0]-1, c[1]] = new_cost\n",
    "                        \n",
    "    if c[0] != (board.shape[0]-1):\n",
    "        if not board[c[0]+1, c[1]]:\n",
    "            if new_cost < costs[c[0]+1, c[1]]:\n",
    "                costs[c[0]+1, c[1]] = new_cost\n",
    "                        \n",
    "\n",
    "    if c[1] != 0:\n",
    "        if not board[c[0], c[1]-1]:\n",
    "            if new_cost < costs[c[0], c[1]-1]:\n",
    "                costs[c[0], c[1]-1] = new_cost\n",
    "                        \n",
    "    if c[1] != (board.shape[1]-1):\n",
    "        if not board[c[0], c[1]+1]:\n",
    "            if new_cost < costs[c[0], c[1]+1]:\n",
    "                costs[c[0], c[1]+1] = new_cost\n"
   ]
  },
  {
   "cell_type": "code",
   "execution_count": 145,
   "metadata": {},
   "outputs": [],
   "source": [
    "# Dikstras again?\n",
    "def sp(grid, end):\n",
    "    start = [0,0]\n",
    "    end = [70,70]\n",
    "    # Shortest path lets go. \n",
    "\n",
    "    unvisited = np.ones(grid.shape).astype(bool)\n",
    "    unvisited[grid.astype(bool)] = False\n",
    "    costs = np.zeros(grid.shape)\n",
    "    costs[:,:] = np.inf\n",
    "    costs[start[0], start[1]] = 0\n",
    "\n",
    "    current_position = start\n",
    "\n",
    "    while unvisited[end[0],end[1]]:\n",
    "        cost_update(current_position, costs, grid)\n",
    "        unvisited[current_position[0], current_position[1]] = False\n",
    "        options = costs == costs[unvisited].min()\n",
    "        options = np.where(options * unvisited)\n",
    "        current_position = options[0][0], options[1][0]\n",
    "    return costs\n"
   ]
  },
  {
   "cell_type": "code",
   "execution_count": 153,
   "metadata": {},
   "outputs": [
    {
     "data": {
      "text/plain": [
       "<matplotlib.image.AxesImage at 0x7a0630f97100>"
      ]
     },
     "execution_count": 153,
     "metadata": {},
     "output_type": "execute_result"
    },
    {
     "data": {
      "image/png": "[encoded data removed]",
      "text/plain": [
       "<Figure size 432x288 with 1 Axes>"
      ]
     },
     "metadata": {
      "needs_background": "light"
     },
     "output_type": "display_data"
    }
   ],
   "source": [
    "plt.imshow(costs)"
   ]
  },
  {
   "cell_type": "code",
   "execution_count": 158,
   "metadata": {},
   "outputs": [
    {
     "data": {
      "text/plain": [
       "270.0"
      ]
     },
     "execution_count": 158,
     "metadata": {},
     "output_type": "execute_result"
    }
   ],
   "source": [
    "# a\n",
    "grid = np.zeros((71,71))\n",
    "for x in data[:1024]: \n",
    "    grid[x[1], x[0]] = 1\n",
    "sp(grid, end = [70,70])[-1,-1]"
   ]
  },
  {
   "cell_type": "code",
   "execution_count": 157,
   "metadata": {},
   "outputs": [
    {
     "ename": "TypeError",
     "evalue": "'int' object is not subscriptable",
     "output_type": "error",
     "traceback": [
      "\u001b[0;31m---------------------------------------------------------------------------\u001b[0m",
      "\u001b[0;31mTypeError\u001b[0m                                 Traceback (most recent call last)",
      "\u001b[0;32m<ipython-input-157-2f755f117ac9>\u001b[0m in \u001b[0;36m<module>\u001b[0;34m\u001b[0m\n\u001b[0;32m----> 1\u001b[0;31m \u001b[0mx\u001b[0m\u001b[0;34m[\u001b[0m\u001b[0;36m0\u001b[0m\u001b[0;34m]\u001b[0m\u001b[0;34m\u001b[0m\u001b[0;34m\u001b[0m\u001b[0m\n\u001b[0m",
      "\u001b[0;31mTypeError\u001b[0m: 'int' object is not subscriptable"
     ]
    }
   ],
   "source": [
    "x[0]"
   ]
  },
  {
   "cell_type": "code",
   "execution_count": 159,
   "metadata": {},
   "outputs": [
    {
     "name": "stdout",
     "output_type": "stream",
     "text": [
      "[51 40] unreachable\n"
     ]
    }
   ],
   "source": [
    "# b\n",
    "grid = np.zeros((71,71))\n",
    "for x in data[:2524]: # still runs so we can search from here to make it quicker.\n",
    "    grid[x[1], x[0]] = 1\n",
    "\n",
    "\n",
    "for x in data[2524:]:\n",
    "    try:\n",
    "        grid[x[1], x[0]] = 1\n",
    "        sp(grid, end = [70,70])[-1,-1]\n",
    "    except: \n",
    "        print(x, \"unreachable\")\n",
    "        break"
   ]
  }
 ],
 "metadata": {
  "kernelspec": {
   "display_name": "base",
   "language": "python",
   "name": "python3"
  },
  "language_info": {
   "codemirror_mode": {
    "name": "ipython",
    "version": 3
   },
   "file_extension": ".py",
   "mimetype": "text/x-python",
   "name": "python",
   "nbconvert_exporter": "python",
   "pygments_lexer": "ipython3",
   "version": "3.8.8"
  }
 },
 "nbformat": 4,
 "nbformat_minor": 2
}
