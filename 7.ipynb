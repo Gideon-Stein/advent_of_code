{
 "cells": [
  {
   "cell_type": "code",
   "execution_count": 78,
   "metadata": {},
   "outputs": [],
   "source": [
    "from tools import load\n",
    "import numpy as np\n",
    "import re\n",
    "import itertools"
   ]
  },
  {
   "cell_type": "code",
   "execution_count": 79,
   "metadata": {},
   "outputs": [],
   "source": [
    "data = load(to_list=False, line_splitter=\":\")"
   ]
  },
  {
   "cell_type": "code",
   "execution_count": 80,
   "metadata": {},
   "outputs": [],
   "source": [
    "res = [int(x[0]) for x in data]\n",
    "comp = [[int(y) for y in x[1].split(\" \")[1:]] for x in data]"
   ]
  },
  {
   "cell_type": "code",
   "execution_count": 82,
   "metadata": {},
   "outputs": [
    {
     "data": {
      "text/plain": [
       "303876485655"
      ]
     },
     "execution_count": 82,
     "metadata": {},
     "output_type": "execute_result"
    }
   ],
   "source": [
    "#A\n",
    "def check_line(comp,res):\n",
    "    # wtf is the edge case here?\n",
    "    m = len(comp)-1\n",
    "    combos = list(itertools.product([0, 1], repeat=m))\n",
    "    for combo in combos: \n",
    "        result = comp[0]\n",
    "        for n,operation in enumerate(combo): \n",
    "            if operation == 0: \n",
    "                result += comp[n+1]\n",
    "            else: \n",
    "                result = (result * comp[n+1])\n",
    "            if result > res:\n",
    "                break\n",
    "        if result == res:\n",
    "            return True   \n",
    "    return False\n",
    "\n",
    "result = []\n",
    "for x in range(len(res)):\n",
    "    if check_line(comp[x], res[x]):\n",
    "        result.append(res[x])\n",
    "sum(result)"
   ]
  },
  {
   "cell_type": "code",
   "execution_count": 83,
   "metadata": {},
   "outputs": [],
   "source": [
    "#b\n",
    "def check_line(comp,res):\n",
    "    # wtf is the edge case here?\n",
    "    m = len(comp)-1\n",
    "    combos = list(itertools.product([0, 1,2], repeat=m))\n",
    "    for combo in combos: \n",
    "        result = comp[0]\n",
    "        for n,operation in enumerate(combo): \n",
    "            if operation == 0: \n",
    "                result += comp[n+1]\n",
    "            elif operation == 1: \n",
    "                result =  int(str(result) + str(comp[n+1]))\n",
    "            else: \n",
    "                result = (result * comp[n+1])\n",
    "            if result > res:\n",
    "                break\n",
    "        if result == res:\n",
    "            return True   \n",
    "    return False\n",
    "\n",
    "result = []\n",
    "for x in range(len(res)):\n",
    "    if check_line(comp[x], res[x]):\n",
    "        result.append(res[x])\n",
    "sum(result)"
   ]
  }
 ],
 "metadata": {
  "kernelspec": {
   "display_name": "base",
   "language": "python",
   "name": "python3"
  },
  "language_info": {
   "codemirror_mode": {
    "name": "ipython",
    "version": 3
   },
   "file_extension": ".py",
   "mimetype": "text/x-python",
   "name": "python",
   "nbconvert_exporter": "python",
   "pygments_lexer": "ipython3",
   "version": "3.11.5"
  }
 },
 "nbformat": 4,
 "nbformat_minor": 2
}
