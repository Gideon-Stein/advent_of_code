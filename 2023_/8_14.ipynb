{
 "cells": [
  {
   "cell_type": "code",
   "execution_count": 1431,
   "metadata": {},
   "outputs": [],
   "source": [
    "from aocd import get_data\n",
    "import numpy as np\n",
    "import pandas as pd\n",
    "import matplotlib.pyplot as plt\n",
    "from pathlib import Path\n",
    "import re\n",
    "import numpy as np\n",
    "import seaborn as sns\n",
    "import matplotlib.pylab as plt"
   ]
  },
  {
   "cell_type": "code",
   "execution_count": 1432,
   "metadata": {},
   "outputs": [],
   "source": [
    "f = open(\"test.txt\", \"r\")\n",
    "f = f.read()\n",
    "data = f.split(\"\\n\") "
   ]
  },
  {
   "cell_type": "markdown",
   "metadata": {},
   "source": [
    "# Nr 8"
   ]
  },
  {
   "cell_type": "code",
   "execution_count": null,
   "metadata": {},
   "outputs": [],
   "source": []
  },
  {
   "cell_type": "markdown",
   "metadata": {},
   "source": [
    "# Nr 9 "
   ]
  },
  {
   "cell_type": "code",
   "execution_count": 715,
   "metadata": {},
   "outputs": [
    {
     "ename": "ValueError",
     "evalue": "invalid literal for int() with base 10: '...#......'",
     "output_type": "error",
     "traceback": [
      "\u001b[0;31m---------------------------------------------------------------------------\u001b[0m",
      "\u001b[0;31mValueError\u001b[0m                                Traceback (most recent call last)",
      "\u001b[1;32m/home/stein/project_repos/aoc2023/8_14.ipynb Cell 6\u001b[0m line \u001b[0;36m1\n\u001b[0;32m----> <a href='vscode-notebook-cell:/home/stein/project_repos/aoc2023/8_14.ipynb#W5sZmlsZQ%3D%3D?line=0'>1</a>\u001b[0m d \u001b[39m=\u001b[39m np\u001b[39m.\u001b[39marray([[\u001b[39mint\u001b[39;49m(x) \u001b[39mfor\u001b[39;49;00m x \u001b[39min\u001b[39;49;00m row\u001b[39m.\u001b[39;49msplit(\u001b[39m\"\u001b[39;49m\u001b[39m \u001b[39;49m\u001b[39m\"\u001b[39;49m)] \u001b[39mfor\u001b[39;49;00m row \u001b[39min\u001b[39;49;00m data])\n",
      "\u001b[1;32m/home/stein/project_repos/aoc2023/8_14.ipynb Cell 6\u001b[0m line \u001b[0;36m1\n\u001b[0;32m----> <a href='vscode-notebook-cell:/home/stein/project_repos/aoc2023/8_14.ipynb#W5sZmlsZQ%3D%3D?line=0'>1</a>\u001b[0m d \u001b[39m=\u001b[39m np\u001b[39m.\u001b[39marray([[\u001b[39mint\u001b[39;49m(x) \u001b[39mfor\u001b[39;49;00m x \u001b[39min\u001b[39;49;00m row\u001b[39m.\u001b[39;49msplit(\u001b[39m\"\u001b[39;49m\u001b[39m \u001b[39;49m\u001b[39m\"\u001b[39;49m)] \u001b[39mfor\u001b[39;00m row \u001b[39min\u001b[39;00m data])\n",
      "\u001b[1;32m/home/stein/project_repos/aoc2023/8_14.ipynb Cell 6\u001b[0m line \u001b[0;36m1\n\u001b[0;32m----> <a href='vscode-notebook-cell:/home/stein/project_repos/aoc2023/8_14.ipynb#W5sZmlsZQ%3D%3D?line=0'>1</a>\u001b[0m d \u001b[39m=\u001b[39m np\u001b[39m.\u001b[39marray([[\u001b[39mint\u001b[39;49m(x) \u001b[39mfor\u001b[39;00m x \u001b[39min\u001b[39;00m row\u001b[39m.\u001b[39msplit(\u001b[39m\"\u001b[39m\u001b[39m \u001b[39m\u001b[39m\"\u001b[39m)] \u001b[39mfor\u001b[39;00m row \u001b[39min\u001b[39;00m data])\n",
      "\u001b[0;31mValueError\u001b[0m: invalid literal for int() with base 10: '...#......'"
     ]
    }
   ],
   "source": [
    "d = np.array([[int(x) for x in row.split(\" \")] for row in data])"
   ]
  },
  {
   "cell_type": "code",
   "execution_count": 226,
   "metadata": {},
   "outputs": [],
   "source": [
    "def calc_diff(r):\n",
    "    return (np.roll(r, -1) - r)[:-1]\n"
   ]
  },
  {
   "cell_type": "code",
   "execution_count": 227,
   "metadata": {},
   "outputs": [],
   "source": [
    "def calc_next_number(d, reverse = False):\n",
    "    remember = [d]\n",
    "    current = d\n",
    "    while np.any(current): \n",
    "        current = calc_diff(current)\n",
    "        remember.append(current)\n",
    "    if reverse: \n",
    "        remember = [np.flip(x) for x in remember]\n",
    "    remember[-1] = np.append(remember[-1], 0)\n",
    "    for x in range(len(remember)-1): \n",
    "        if reverse:\n",
    "            value = remember[-2-x][-1] - remember[-1-x][-1]\n",
    "        else:\n",
    "            value = remember[-2-x][-1] + remember[-1-x][-1]\n",
    "        remember[-2-x] = np.append(remember[-2-x],value)\n",
    "    return remember[0][-1]"
   ]
  },
  {
   "cell_type": "code",
   "execution_count": 228,
   "metadata": {},
   "outputs": [
    {
     "data": {
      "text/plain": [
       "1012"
      ]
     },
     "execution_count": 228,
     "metadata": {},
     "output_type": "execute_result"
    }
   ],
   "source": [
    "sum([calc_next_number(x, reverse=True) for x in d])"
   ]
  },
  {
   "cell_type": "markdown",
   "metadata": {},
   "source": [
    "# Nr 1 0"
   ]
  },
  {
   "cell_type": "code",
   "execution_count": 501,
   "metadata": {},
   "outputs": [],
   "source": [
    "def step(d, come_from, pos):\n",
    "    if (\n",
    "        (d[pos[0] - 1, pos[1]] in [\"|\", \"7\", \"F\"])\n",
    "        and (come_from != \"t\")\n",
    "        and (d[pos[0], pos[1]] in [\"|\", \"L\", \"J\", \"S\"])\n",
    "    ):\n",
    "        return (pos[0] - 1, pos[1]), \"b\"\n",
    "    elif (\n",
    "        (d[pos[0] + 1, pos[1]] in [\"|\", \"J\", \"L\"])\n",
    "        and (come_from != \"b\")\n",
    "        and (d[pos[0], pos[1]] in [\"|\", \"7\", \"F\", \"S\"])\n",
    "    ):\n",
    "        return (pos[0] + 1, pos[1]), \"t\"\n",
    "    elif (\n",
    "        (d[pos[0], pos[1] + 1] in [\"-\", \"J\", \"7\"])\n",
    "        and (come_from != \"r\")\n",
    "        and (d[pos[0], pos[1]] in [\"-\", \"L\", \"F\", \"S\"])\n",
    "    ):\n",
    "        return (pos[0], pos[1] + 1), \"l\"\n",
    "    elif (\n",
    "        (d[pos[0], pos[1] - 1] in [\"-\", \"F\", \"L\"])\n",
    "        and (come_from != \"l\")\n",
    "        and (d[pos[0], pos[1]] in [\"-\", \"7\", \"J\", \"S\"])\n",
    "    ):\n",
    "        return (pos[0], pos[1] - 1), \"r\"\n",
    "    else:\n",
    "        return \"End\", None"
   ]
  },
  {
   "cell_type": "code",
   "execution_count": 502,
   "metadata": {},
   "outputs": [],
   "source": [
    "d =  np.array([list(x) for x in data])\n",
    "d = np.pad(d, pad_width=1, constant_values=\"X\") "
   ]
  },
  {
   "cell_type": "code",
   "execution_count": 503,
   "metadata": {},
   "outputs": [],
   "source": [
    "distance = np.zeros(d.shape)\n",
    "distance[:,:] = -1\n",
    "distance[d == \"S\"] = 0\n",
    "\n",
    "pos = np.where(distance == 0)\n",
    "pos = (pos[0][0], pos[1][0])\n",
    "\n",
    "current, origin  = step(d,\"nothing\", pos)\n",
    "distance[current[0], current[1]] = 1\n",
    "\n",
    "for x in range(20000):\n",
    "    new, origin = step(d,origin, current)\n",
    "    if new == \"End\":\n",
    "        break\n",
    "    else:\n",
    "        distance[new[0], new[1]] = distance[current[0],current[1]] + 1\n",
    "        current = new"
   ]
  },
  {
   "cell_type": "code",
   "execution_count": 504,
   "metadata": {},
   "outputs": [
    {
     "data": {
      "text/plain": [
       "70"
      ]
     },
     "execution_count": 504,
     "metadata": {},
     "output_type": "execute_result"
    }
   ],
   "source": [
    "import math \n",
    "math.ceil(distance.max() / 2)"
   ]
  },
  {
   "cell_type": "code",
   "execution_count": 506,
   "metadata": {},
   "outputs": [
    {
     "data": {
      "text/plain": [
       "<matplotlib.image.AxesImage at 0x7fe4c0dfb7d0>"
      ]
     },
     "execution_count": 506,
     "metadata": {},
     "output_type": "execute_result"
    },
    {
     "data": {
      "image/png": "[encoded data removed]",
      "text/plain": [
       "<Figure size 640x480 with 1 Axes>"
      ]
     },
     "metadata": {},
     "output_type": "display_data"
    }
   ],
   "source": [
    "plt.imshow(distance == -1)\n",
    "# beautiful"
   ]
  },
  {
   "cell_type": "code",
   "execution_count": 491,
   "metadata": {},
   "outputs": [],
   "source": [
    "distance[0] = -1000\n",
    "distance[-1] = -1000\n",
    "distance[:,0] = -1000\n",
    "distance[:,-1] = -1000"
   ]
  },
  {
   "cell_type": "code",
   "execution_count": 492,
   "metadata": {},
   "outputs": [],
   "source": [
    "def warp_one_step(distance):\n",
    "    for x in range(len(distance)):\n",
    "        for y in range(len(distance[0])):\n",
    "            if distance[x, y] == -1:\n",
    "                if (\n",
    "                    (distance[x, y - 1] == -1000.0)\n",
    "                    or (distance[x, y + 1] == -1000.0)\n",
    "                    or (distance[x-1, y] == -1000.0)\n",
    "                    or (distance[x+1 , y] == -1000.0)\n",
    "                ):\n",
    "                    distance[x, y] = -1000\n",
    "    return distance"
   ]
  },
  {
   "cell_type": "code",
   "execution_count": 493,
   "metadata": {},
   "outputs": [],
   "source": [
    "for x in range(100):\n",
    "    distance = warp_one_step(distance)"
   ]
  },
  {
   "cell_type": "code",
   "execution_count": 494,
   "metadata": {},
   "outputs": [
    {
     "data": {
      "text/plain": [
       "-10.0"
      ]
     },
     "execution_count": 494,
     "metadata": {},
     "output_type": "execute_result"
    }
   ],
   "source": [
    "sum(distance[distance == -1])"
   ]
  },
  {
   "cell_type": "code",
   "execution_count": 496,
   "metadata": {},
   "outputs": [
    {
     "data": {
      "text/plain": [
       "<matplotlib.image.AxesImage at 0x7fe4c0f04290>"
      ]
     },
     "execution_count": 496,
     "metadata": {},
     "output_type": "execute_result"
    },
    {
     "data": {
      "image/png": "[encoded data removed]",
      "text/plain": [
       "<Figure size 640x480 with 1 Axes>"
      ]
     },
     "metadata": {},
     "output_type": "display_data"
    }
   ],
   "source": [
    "plt.imshow(distance)"
   ]
  },
  {
   "cell_type": "markdown",
   "metadata": {},
   "source": [
    "# Nr 11"
   ]
  },
  {
   "cell_type": "code",
   "execution_count": 761,
   "metadata": {},
   "outputs": [],
   "source": [
    "def expand(d, apply=True):\n",
    "    add = []\n",
    "    for n, x in enumerate(d): \n",
    "        if np.all(np.array(x) == \".\"):\n",
    "            add.append(n)\n",
    "    if apply:\n",
    "        for n,y in enumerate(add): \n",
    "            d = list(d[:y+n])+ [list(d[y+n])] + list(d[y+n:])\n",
    "        return d\n",
    "    else:\n",
    "        return add"
   ]
  },
  {
   "cell_type": "code",
   "execution_count": 762,
   "metadata": {},
   "outputs": [
    {
     "data": {
      "text/plain": [
       "9312968.0"
      ]
     },
     "execution_count": 762,
     "metadata": {},
     "output_type": "execute_result"
    }
   ],
   "source": [
    "#a\n",
    "d = [list(x) for x in data]\n",
    "d = expand(d)\n",
    "d = expand(list([list(x) for x in np.array(d).T]))\n",
    "d = np.array(d).T\n",
    "\n",
    "stars = np.stack(np.where(d == \"#\")).T\n",
    "\n",
    "distances = []\n",
    "for x in stars: \n",
    "    for y in stars: \n",
    "        distances.append(sum(np.abs(x - y)))\n",
    "\n",
    "sum(distances) / 2"
   ]
  },
  {
   "cell_type": "code",
   "execution_count": 763,
   "metadata": {},
   "outputs": [],
   "source": [
    "#b \n",
    "d = [list(x) for x in data]\n",
    "rows = expand(d, apply=False)\n",
    "columns = expand(list([list(x) for x in np.array(d).T]), apply=False)\n",
    "d = np.array(d)\n",
    "\n",
    "stars = np.stack(np.where(d == \"#\")).T\n",
    "\n",
    "\n",
    "distances = []\n",
    "add_dist = 999999 # WHY?\n",
    "add_count = 0\n",
    "c = 0\n",
    "for x in stars: \n",
    "    for y in stars: \n",
    "        base_distance = sum(np.abs(x - y))\n",
    "        for z in rows: \n",
    "            if x[0] <  z < y[0] and x[0] < y[0]:\n",
    "                base_distance+= add_dist\n",
    "            elif y[0] <  z < x[0] and y[0] < x[0]:\n",
    "                base_distance+= add_dist\n",
    "\n",
    "\n",
    "        for w in columns: \n",
    "            if x[1] <  w < y[1] and x[1] < y[1]:\n",
    "                 base_distance+= add_dist\n",
    "            if y[1] <  w < x[1] and y[1] < x[1]:\n",
    "                 base_distance+= add_dist\n",
    "        distances.append(base_distance)"
   ]
  },
  {
   "cell_type": "code",
   "execution_count": 764,
   "metadata": {},
   "outputs": [
    {
     "data": {
      "text/plain": [
       "597714117556.0"
      ]
     },
     "execution_count": 764,
     "metadata": {},
     "output_type": "execute_result"
    }
   ],
   "source": [
    "(sum(distances) / 2)"
   ]
  },
  {
   "cell_type": "markdown",
   "metadata": {},
   "source": [
    "# Nr 12"
   ]
  },
  {
   "cell_type": "code",
   "execution_count": 941,
   "metadata": {},
   "outputs": [],
   "source": [
    "card = [x[:np.where(np.array(x) == \" \")[0][0]] for x in [list(x) for x in data]]\n",
    "info = [[int(x) for x in y.split(\" \")[1].split(\",\")] for y in data]"
   ]
  },
  {
   "cell_type": "code",
   "execution_count": 942,
   "metadata": {},
   "outputs": [],
   "source": [
    "import itertools"
   ]
  },
  {
   "cell_type": "code",
   "execution_count": 943,
   "metadata": {},
   "outputs": [],
   "source": [
    "def check_if_met(c, i):\n",
    "\n",
    "    remember = []\n",
    "    current = 0\n",
    "\n",
    "    for x in c: \n",
    "        if (x != \".\") and (x != \"#\"):\n",
    "            print (\"bricked\")\n",
    "            return None\n",
    "        if x == \".\":\n",
    "            if current == 0:\n",
    "                pass\n",
    "            else:\n",
    "                remember.append(current)\n",
    "                current = 0\n",
    "        if x == \"#\":\n",
    "            current +=1\n",
    "    if current != 0: \n",
    "        remember.append(current)\n",
    "    return remember == i"
   ]
  },
  {
   "cell_type": "code",
   "execution_count": 944,
   "metadata": {},
   "outputs": [],
   "source": [
    "def check_all_combos(c, i):\n",
    "    count = 0\n",
    "    ind = np.where(np.array(c) == \"?\")[0]\n",
    "    possible = list(itertools.product(*([[\"#\", \".\"]] * len(ind))))\n",
    "    for p in possible:\n",
    "        current = c.copy()\n",
    "        for n,x in enumerate(ind): \n",
    "            current[x] = p[n]\n",
    "        if check_if_met(current, i):\n",
    "            count +=1\n",
    "    return count\n",
    "\n"
   ]
  },
  {
   "cell_type": "code",
   "execution_count": 953,
   "metadata": {},
   "outputs": [],
   "source": [
    "def extend(c, i):\n",
    "    return c * 5, i * 5"
   ]
  },
  {
   "cell_type": "code",
   "execution_count": 946,
   "metadata": {},
   "outputs": [
    {
     "data": {
      "text/plain": [
       "21"
      ]
     },
     "execution_count": 946,
     "metadata": {},
     "output_type": "execute_result"
    }
   ],
   "source": [
    "sum([(check_all_combos(card[x], info[x])) for x in range(len(card))])\n"
   ]
  },
  {
   "cell_type": "code",
   "execution_count": 947,
   "metadata": {},
   "outputs": [
    {
     "data": {
      "text/plain": [
       "[1, 1, 3]"
      ]
     },
     "execution_count": 947,
     "metadata": {},
     "output_type": "execute_result"
    }
   ],
   "source": [
    "info[0]"
   ]
  },
  {
   "cell_type": "code",
   "execution_count": 952,
   "metadata": {},
   "outputs": [
    {
     "name": "stdout",
     "output_type": "stream",
     "text": [
      "['.', '?', '?', '.', '.', '?', '?', '.', '.', '.', '?', '#', '#', '.', '.', '?', '?', '.', '.', '?', '?', '.', '.', '.', '?', '#', '#', '.', '.', '?', '?', '.', '.', '?', '?', '.', '.', '.', '?', '#', '#', '.', '.', '?', '?', '.', '.', '?', '?', '.', '.', '.', '?', '#', '#', '.', '.', '?', '?', '.', '.', '?', '?', '.', '.', '.', '?', '#', '#', '.']\n"
     ]
    }
   ],
   "source": [
    "print(extend(card[1], info[1])[0])"
   ]
  },
  {
   "cell_type": "code",
   "execution_count": null,
   "metadata": {},
   "outputs": [],
   "source": []
  },
  {
   "cell_type": "markdown",
   "metadata": {},
   "source": [
    "# Nr 13"
   ]
  },
  {
   "cell_type": "code",
   "execution_count": 1107,
   "metadata": {},
   "outputs": [],
   "source": [
    "d = [list(x.replace(\"#\", \"1\").replace(\".\", \"0\")) for x in data]\n",
    "start = 0\n",
    "fields = []\n",
    "for x in range(len(d)):\n",
    "    if len(d[x]) == 0: \n",
    "        fields.append(np.array(d[start:x]).astype(int))\n",
    "        start = x+1\n",
    "fields.append(np.array(d[start:x]).astype(int))"
   ]
  },
  {
   "cell_type": "code",
   "execution_count": 1108,
   "metadata": {},
   "outputs": [],
   "source": [
    "def check_split(f, split, second_part=False):\n",
    "    a = f[:,:split]\n",
    "    b = f[:,split:]\n",
    "\n",
    "    diff = a.shape[1] - b.shape[1]\n",
    "\n",
    "    if diff > 0: \n",
    "        npad = ((0, 0), (0, diff))\n",
    "        b = np.pad(b, pad_width=npad, mode='constant', constant_values=-1)\n",
    "        dist = (np.flip(b,axis=1) == a).sum()\n",
    "        if second_part: \n",
    "            return np.abs(dist - (b != -1).sum()) ==1\n",
    "        else:\n",
    "            return dist == (b != -1).sum()\n",
    "    else:\n",
    "        npad = ((0, 0), (np.abs(diff), 0))\n",
    "        a= np.pad(a, pad_width=npad, mode='constant', constant_values=-1)\n",
    "        dist = (np.flip(b,axis=1) == a).sum()\n",
    "        if second_part:\n",
    "            return np.abs(dist - (a != -1).sum()) ==1\n",
    "\n",
    "        else:\n",
    "            return dist == (a != -1).sum()\n"
   ]
  },
  {
   "cell_type": "code",
   "execution_count": 1109,
   "metadata": {},
   "outputs": [
    {
     "data": {
      "text/plain": [
       "35799"
      ]
     },
     "execution_count": 1109,
     "metadata": {},
     "output_type": "execute_result"
    }
   ],
   "source": [
    "count = 0 \n",
    "sp = True\n",
    "for f in fields:\n",
    "    for x in range(1, f.shape[0]):\n",
    "        if check_split(f.T,x, second_part=sp):\n",
    "            count += (x * 100)\n",
    "    for x in range(1, f.shape[1]):\n",
    "        if check_split(f,x, second_part=sp):\n",
    "            count += x\n",
    "count"
   ]
  },
  {
   "cell_type": "markdown",
   "metadata": {},
   "source": [
    "# Nr 14"
   ]
  },
  {
   "cell_type": "code",
   "execution_count": 1433,
   "metadata": {},
   "outputs": [],
   "source": [
    "d = np.array([list(x) for x in data])"
   ]
  },
  {
   "cell_type": "code",
   "execution_count": 1388,
   "metadata": {},
   "outputs": [],
   "source": [
    "def flip_direction(d, direction):\n",
    "\n",
    "    if direction == \"s\":\n",
    "        d = np.flip(d,axis=0)\n",
    "    elif direction == \"w\":\n",
    "        d = d.T\n",
    "    elif direction == \"e\":\n",
    "        d = np.flip(d.T)\n",
    "    elif direction == \"n\":\n",
    "        pass\n",
    "    else:\n",
    "        print(\"broken direction.\")\n",
    "        return 0\n",
    "    return d\n",
    "\n",
    "\n",
    "def move_one_step(d_in, direction = \"n\"):\n",
    "    d = d_in.copy()\n",
    "\n",
    "    d = flip_direction(d, direction)\n",
    "\n",
    "    for x in range(len(d)-1):\n",
    "        move = ~((d[x] == \"#\") | (d[x] == \"O\"))   & (d[x+1] == \"O\")\n",
    "        d[x][move] = \"O\"\n",
    "        d[x+1][move] = \".\"\n",
    "\n",
    "    d = flip_direction(d, direction)\n",
    "\n",
    "    return d"
   ]
  },
  {
   "cell_type": "code",
   "execution_count": 1389,
   "metadata": {},
   "outputs": [],
   "source": [
    "def count(d):\n",
    "    return np.dot((d == \"O\").sum(axis=1), np.arange(len(d), 0, -1))"
   ]
  },
  {
   "cell_type": "code",
   "execution_count": 1390,
   "metadata": {},
   "outputs": [],
   "source": [
    "# move one circle: \n",
    "def one_circle(d):\n",
    "    current = d\n",
    "\n",
    "    for x in range(500):\n",
    "        new = move_one_step(current, direction=\"n\")\n",
    "        if np.all(new == current):\n",
    "            current = new\n",
    "            break\n",
    "        current = new\n",
    "    for x in range(500):\n",
    "        new = move_one_step(current, direction=\"w\")\n",
    "        if np.all(new == current):\n",
    "            current = new\n",
    "            break\n",
    "        current = new\n",
    "    for x in range(500):\n",
    "        new = move_one_step(current, direction=\"s\")\n",
    "        if np.all(new == current):\n",
    "            current = new\n",
    "            break\n",
    "        current = new\n",
    "    for x in range(500):\n",
    "        new = move_one_step(current, direction=\"e\")\n",
    "        if np.all(new == current):\n",
    "            current = new\n",
    "            break\n",
    "        current = new\n",
    "    return current\n"
   ]
  },
  {
   "cell_type": "code",
   "execution_count": 1434,
   "metadata": {},
   "outputs": [
    {
     "data": {
      "text/plain": [
       "106517"
      ]
     },
     "execution_count": 1434,
     "metadata": {},
     "output_type": "execute_result"
    }
   ],
   "source": [
    "current = d\n",
    "\n",
    "for x in range(500):\n",
    "    new = move_one_step(current)\n",
    "    if np.all(new == current):\n",
    "        current = new\n",
    "        break\n",
    "    current = new\n",
    "count(current)"
   ]
  },
  {
   "cell_type": "code",
   "execution_count": 1435,
   "metadata": {},
   "outputs": [],
   "source": [
    "stack = []\n",
    "current = d.copy()\n",
    "for x in range(500): \n",
    "    current = one_circle(current)\n",
    "    stack.append(count(current))"
   ]
  },
  {
   "cell_type": "code",
   "execution_count": 1436,
   "metadata": {},
   "outputs": [
    {
     "data": {
      "text/plain": [
       "[<matplotlib.lines.Line2D at 0x7fe4b9fede90>]"
      ]
     },
     "execution_count": 1436,
     "metadata": {},
     "output_type": "execute_result"
    },
    {
     "data": {
      "image/png": "[encoded data removed]",
      "text/plain": [
       "<Figure size 640x480 with 1 Axes>"
      ]
     },
     "metadata": {},
     "output_type": "display_data"
    }
   ],
   "source": [
    "plt.plot(stack[120:200])"
   ]
  },
  {
   "cell_type": "code",
   "execution_count": 1439,
   "metadata": {},
   "outputs": [
    {
     "data": {
      "text/plain": [
       "(79708, 79708, 79708)"
      ]
     },
     "execution_count": 1439,
     "metadata": {},
     "output_type": "execute_result"
    }
   ],
   "source": [
    "stack[198], stack[216], stack[234]"
   ]
  },
  {
   "cell_type": "code",
   "execution_count": 1441,
   "metadata": {},
   "outputs": [
    {
     "data": {
      "text/plain": [
       "79723"
      ]
     },
     "execution_count": 1441,
     "metadata": {},
     "output_type": "execute_result"
    }
   ],
   "source": [
    "stack[198 + ((1000000000 - 1) % 18)]"
   ]
  }
 ],
 "metadata": {
  "kernelspec": {
   "display_name": "aoc",
   "language": "python",
   "name": "python3"
  },
  "language_info": {
   "codemirror_mode": {
    "name": "ipython",
    "version": 3
   },
   "file_extension": ".py",
   "mimetype": "text/x-python",
   "name": "python",
   "nbconvert_exporter": "python",
   "pygments_lexer": "ipython3",
   "version": "3.11.5"
  }
 },
 "nbformat": 4,
 "nbformat_minor": 2
}
