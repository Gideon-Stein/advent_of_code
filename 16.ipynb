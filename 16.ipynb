{
 "cells": [
  {
   "cell_type": "code",
   "execution_count": 95,
   "metadata": {},
   "outputs": [],
   "source": [
    "from tools import load\n",
    "import numpy as np\n",
    "import matplotlib.pyplot as plt"
   ]
  },
  {
   "cell_type": "code",
   "execution_count": 96,
   "metadata": {},
   "outputs": [],
   "source": [
    "data = np.array(load(line_splitter=False, to_list=True))\n",
    "start = np.where(data == \"S\")[0][0],  np.where(data == \"S\")[1][0]\n",
    "end = np.where(data == \"E\")[0][0],  np.where(data == \"E\")[1][0]\n",
    "\n",
    "data[data == \"#\"] = 0\n",
    "data[data == \"E\"] = 1\n",
    "data[data == \"S\"] = 1\n",
    "data[data == \".\"] = 1\n",
    "\n",
    "data = data.astype(bool)"
   ]
  },
  {
   "cell_type": "code",
   "execution_count": 97,
   "metadata": {},
   "outputs": [],
   "source": [
    "def update_if_smaller(c,nc,direction, cost, costs, unvisited, to_visit_next):\n",
    "    cost = costs[c[0], c[1]] + cost\n",
    "    if costs[nc[0], nc[1]] > cost:\n",
    "        costs[nc[0], nc[1]] = cost\n",
    "        if unvisited[nc[0],nc[1]]:\n",
    "            to_visit_next.append((cost,nc[0],nc[1], direction))\n",
    "\n",
    "def calc_costs(c_d, towards): \n",
    "        if c_d == towards:\n",
    "            return 1\n",
    "        opt1 = (c_d == \"E\") and (towards == \"W\")\n",
    "        opt2 = (c_d == \"W\") and (towards == \"E\")\n",
    "        opt3 = (c_d == \"S\") and (towards == \"N\")\n",
    "        opt4 = (c_d == \"N\") and (towards == \"S\")\n",
    "\n",
    "        if opt1 or opt2 or opt3 or opt4:\n",
    "            return 2001\n",
    "        else: \n",
    "            return 1001\n",
    "\n",
    "\n",
    "def cost_update(c,c_d, costs, board, unvisited, to_visit_next):\n",
    "    if c[0] != 0:\n",
    "        if board[c[0]-1, c[1]]:\n",
    "            cost = calc_costs(c_d, \"N\")\n",
    "            update_if_smaller(c,(c[0]-1,c[1]),\"N\",cost, costs, unvisited, to_visit_next)\n",
    "\n",
    "    if c[0] != (costs.shape[0]-1):\n",
    "        if board[c[0]+1, c[1]]:\n",
    "            cost = calc_costs(c_d, \"S\")\n",
    "            update_if_smaller(c,(c[0]+1,c[1]),\"S\",cost, costs, unvisited, to_visit_next)\n",
    "                \n",
    "    if c[1] != 0:\n",
    "        if board[c[0], c[1]-1]:\n",
    "            cost = calc_costs(c_d, \"W\")\n",
    "            update_if_smaller(c,(c[0],c[1]-1),\"W\",cost, costs, unvisited, to_visit_next)\n",
    "                \n",
    "    if c[1] != (costs.shape[0]+1):\n",
    "        if board[c[0], c[1]+1]:\n",
    "            cost = calc_costs(c_d, \"E\")\n",
    "            update_if_smaller(c,(c[0],c[1]+1),\"E\",cost, costs, unvisited, to_visit_next)"
   ]
  },
  {
   "cell_type": "code",
   "execution_count": 99,
   "metadata": {},
   "outputs": [],
   "source": [
    "# Shortest path lets go. \n",
    "\n",
    "unvisited = np.ones(data.shape).astype(bool)\n",
    "costs = np.zeros(data.shape)\n",
    "costs[:,:] = np.inf\n",
    "costs[start[0], start[1]] = 0\n",
    "# have to update the current direction as well with this. better also do the distance. \n",
    "current_direction = \"E\"\n",
    "to_visit_next = [tuple([0]) +  start + tuple(current_direction)]\n",
    "\n",
    "\n",
    "\n",
    "while len(to_visit_next):\n",
    "    to_visit_next.sort()\n",
    "    current = to_visit_next.pop(0)\n",
    "    current_position = current[1:3]\n",
    "    current_direction = current[3]\n",
    "    cost_update(current_position,current_direction, costs, data, unvisited, to_visit_next)\n",
    "    \n",
    "    # proper lowest cost selection as next\n",
    "    \n",
    "    unvisited[current_position[0], current_position[1]] = False"
   ]
  },
  {
   "cell_type": "code",
   "execution_count": null,
   "metadata": {},
   "outputs": [
    {
     "data": {
      "text/plain": [
       "11048.0"
      ]
     },
     "execution_count": 100,
     "metadata": {},
     "output_type": "execute_result"
    }
   ],
   "source": [
    "#A\n",
    "costs[end[0], end[1]]"
   ]
  },
  {
   "cell_type": "code",
   "execution_count": null,
   "metadata": {},
   "outputs": [
    {
     "data": {
      "text/plain": [
       "<matplotlib.image.AxesImage at 0x710e284b89d0>"
      ]
     },
     "execution_count": 102,
     "metadata": {},
     "output_type": "execute_result"
    },
    {
     "data": {
      "image/png": "[encoded data removed]",
      "text/plain": [
       "<Figure size 640x480 with 1 Axes>"
      ]
     },
     "metadata": {},
     "output_type": "display_data"
    }
   ],
   "source": [
    "#B\n",
    "plt.imshow(costs)"
   ]
  },
  {
   "cell_type": "code",
   "execution_count": 144,
   "metadata": {},
   "outputs": [
    {
     "data": {
      "text/plain": [
       "array([[   inf,    inf,    inf,    inf,    inf],\n",
       "       [   inf, 11046., 12047., 11048.,    inf],\n",
       "       [   inf, 11045.,    inf, 11047.,    inf],\n",
       "       [12035., 11044.,    inf, 11046.,    inf],\n",
       "       [   inf, 11043.,    inf, 11045.,    inf],\n",
       "       [10041., 10042.,    inf, 11044.,    inf],\n",
       "       [   inf,    inf,    inf, 11043.,    inf],\n",
       "       [10039., 10040., 10041., 10042.,    inf],\n",
       "       [   inf,    inf,    inf, 11041.,    inf],\n",
       "       [   inf,  9038., 10039., 10040.,    inf],\n",
       "       [   inf,  9037.,    inf,    inf,    inf],\n",
       "       [ 8035.,  8036.,    inf,  5038.,    inf],\n",
       "       [   inf,    inf,    inf,  5037.,    inf],\n",
       "       [ 6033.,  6034.,    inf,  5036.,    inf],\n",
       "       [   inf,    inf,    inf,  5035.,    inf],\n",
       "       [ 4031.,  4032.,  4033.,  4034.,    inf],\n",
       "       [   inf,    inf,    inf,    inf,    inf]])"
      ]
     },
     "execution_count": 144,
     "metadata": {},
     "output_type": "execute_result"
    }
   ],
   "source": [
    "costs[:,-5:]"
   ]
  },
  {
   "cell_type": "code",
   "execution_count": null,
   "metadata": {},
   "outputs": [
    {
     "name": "stdout",
     "output_type": "stream",
     "text": [
      "[(2, 15, 11047.0), (1, 14, 12047.0)]\n",
      "11047.0\n",
      "[(2, 15, 11047.0)]\n",
      "(2, 15, 11047.0)\n",
      "[(1, 15, 11048.0), (3, 15, 11046.0)]\n",
      "11046.0\n",
      "[(3, 15, 11046.0)]\n",
      "(3, 15, 11046.0)\n",
      "[(2, 15, 11047.0), (4, 15, 11045.0)]\n",
      "11045.0\n",
      "[(4, 15, 11045.0)]\n",
      "(4, 15, 11045.0)\n",
      "[(3, 15, 11046.0), (5, 15, 11044.0)]\n",
      "11044.0\n",
      "[(5, 15, 11044.0)]\n",
      "(5, 15, 11044.0)\n",
      "[(4, 15, 11045.0), (6, 15, 11043.0)]\n",
      "11043.0\n",
      "[(6, 15, 11043.0)]\n",
      "(6, 15, 11043.0)\n",
      "[(5, 15, 11044.0), (7, 15, 10042.0)]\n",
      "10042.0\n",
      "[(7, 15, 10042.0)]\n",
      "(7, 15, 10042.0)\n",
      "[(6, 15, 11043.0), (8, 15, 11041.0), (7, 14, 10041.0)]\n",
      "10041.0\n",
      "[(7, 14, 10041.0)]\n",
      "(7, 14, 10041.0)\n",
      "[(7, 13, 10040.0), (7, 15, 10042.0)]\n",
      "10040.0\n",
      "[(7, 13, 10040.0)]\n",
      "(7, 13, 10040.0)\n",
      "[(7, 12, 10039.0), (7, 14, 10041.0)]\n",
      "10039.0\n",
      "[(7, 12, 10039.0)]\n",
      "(7, 12, 10039.0)\n",
      "[(7, 11, 9038.0), (7, 13, 10040.0)]\n",
      "9038.0\n",
      "[(7, 11, 9038.0)]\n",
      "(7, 11, 9038.0)\n",
      "[(8, 11, 9037.0), (7, 12, 10039.0)]\n",
      "9037.0\n",
      "[(8, 11, 9037.0)]\n",
      "(8, 11, 9037.0)\n",
      "[(7, 11, 9038.0), (9, 11, 8036.0)]\n",
      "8036.0\n",
      "[(9, 11, 8036.0)]\n",
      "(9, 11, 8036.0)\n",
      "[(8, 11, 9037.0), (9, 10, 8035.0)]\n",
      "8035.0\n",
      "[(9, 10, 8035.0)]\n",
      "(9, 10, 8035.0)\n",
      "[(9, 9, 8034.0), (9, 11, 8036.0)]\n",
      "8034.0\n",
      "[(9, 9, 8034.0)]\n",
      "(9, 9, 8034.0)\n",
      "[(8, 9, 9035.0), (9, 8, 8033.0), (9, 10, 8035.0)]\n",
      "8033.0\n",
      "[(9, 8, 8033.0)]\n",
      "(9, 8, 8033.0)\n",
      "[(9, 7, 7032.0), (9, 9, 8034.0)]\n",
      "7032.0\n",
      "[(9, 7, 7032.0)]\n",
      "(9, 7, 7032.0)\n",
      "[(10, 7, 7031.0), (9, 6, 8033.0), (9, 8, 8033.0)]\n",
      "7031.0\n",
      "[(10, 7, 7031.0)]\n",
      "(10, 7, 7031.0)\n",
      "[(9, 7, 7032.0), (11, 7, 6030.0)]\n",
      "6030.0\n",
      "[(11, 7, 6030.0)]\n",
      "(11, 7, 6030.0)\n",
      "[(10, 7, 7031.0), (11, 6, 6029.0)]\n",
      "6029.0\n",
      "[(11, 6, 6029.0)]\n",
      "(11, 6, 6029.0)\n",
      "[(11, 5, 5028.0), (11, 7, 6030.0)]\n",
      "5028.0\n",
      "[(11, 5, 5028.0)]\n",
      "(11, 5, 5028.0)\n",
      "[(12, 5, 5027.0), (11, 6, 6029.0)]\n",
      "5027.0\n",
      "[(12, 5, 5027.0)]\n",
      "(12, 5, 5027.0)\n",
      "[(11, 5, 5028.0), (13, 5, 5026.0)]\n",
      "5026.0\n",
      "[(13, 5, 5026.0)]\n",
      "(13, 5, 5026.0)\n",
      "[(12, 5, 5027.0), (14, 5, 5025.0), (13, 6, 6027.0)]\n",
      "5025.0\n",
      "[(14, 5, 5025.0)]\n",
      "(14, 5, 5025.0)\n",
      "[(13, 5, 5026.0), (15, 5, 4024.0)]\n",
      "4024.0\n",
      "[(15, 5, 4024.0)]\n",
      "(15, 5, 4024.0)\n",
      "[(14, 5, 5025.0), (15, 4, 4023.0), (15, 6, 4025.0)]\n",
      "4023.0\n",
      "[(15, 4, 4023.0)]\n",
      "(15, 4, 4023.0)\n",
      "[(15, 3, 3022.0), (15, 5, 4024.0)]\n",
      "3022.0\n",
      "[(15, 3, 3022.0)]\n",
      "(15, 3, 3022.0)\n",
      "[(14, 3, 3021.0), (15, 4, 4023.0)]\n",
      "3021.0\n",
      "[(14, 3, 3021.0)]\n",
      "(14, 3, 3021.0)\n",
      "[(13, 3, 3020.0), (15, 3, 3022.0)]\n",
      "3020.0\n",
      "[(13, 3, 3020.0)]\n",
      "(13, 3, 3020.0)\n",
      "[(12, 3, 3019.0), (14, 3, 3021.0)]\n",
      "3019.0\n",
      "[(12, 3, 3019.0)]\n",
      "(12, 3, 3019.0)\n",
      "[(11, 3, 3018.0), (13, 3, 3020.0)]\n",
      "3018.0\n",
      "[(11, 3, 3018.0)]\n",
      "(11, 3, 3018.0)\n",
      "[(10, 3, 3017.0), (12, 3, 3019.0)]\n",
      "3017.0\n",
      "[(10, 3, 3017.0)]\n",
      "(10, 3, 3017.0)\n",
      "[(9, 3, 3016.0), (11, 3, 3018.0)]\n",
      "3016.0\n",
      "[(9, 3, 3016.0)]\n",
      "(9, 3, 3016.0)\n",
      "[(8, 3, 3015.0), (10, 3, 3017.0)]\n",
      "3015.0\n",
      "[(8, 3, 3015.0)]\n",
      "(8, 3, 3015.0)\n",
      "[(7, 3, 3014.0), (9, 3, 3016.0)]\n",
      "3014.0\n",
      "[(7, 3, 3014.0)]\n",
      "(7, 3, 3014.0)\n",
      "[(6, 3, 3013.0), (8, 3, 3015.0), (7, 4, 4015.0)]\n",
      "3013.0\n",
      "[(6, 3, 3013.0)]\n",
      "(6, 3, 3013.0)\n",
      "[(5, 3, 2012.0), (7, 3, 3014.0)]\n",
      "2012.0\n",
      "[(5, 3, 2012.0)]\n",
      "(5, 3, 2012.0)\n",
      "[(4, 3, 3013.0), (6, 3, 3013.0), (5, 2, 2011.0)]\n",
      "2011.0\n",
      "[(5, 2, 2011.0)]\n",
      "(5, 2, 2011.0)\n",
      "[(5, 1, 1010.0), (5, 3, 2012.0)]\n",
      "1010.0\n",
      "[(5, 1, 1010.0)]\n",
      "(5, 1, 1010.0)\n",
      "[(4, 1, 1011.0), (6, 1, 1009.0), (5, 2, 2011.0)]\n",
      "1009.0\n",
      "[(6, 1, 1009.0)]\n",
      "(6, 1, 1009.0)\n",
      "[(5, 1, 1010.0), (7, 1, 1008.0)]\n",
      "1008.0\n",
      "[(7, 1, 1008.0)]\n",
      "(7, 1, 1008.0)\n",
      "[(6, 1, 1009.0), (8, 1, 1007.0)]\n",
      "1007.0\n",
      "[(8, 1, 1007.0)]\n",
      "(8, 1, 1007.0)\n",
      "[(7, 1, 1008.0), (9, 1, 1006.0)]\n",
      "1006.0\n",
      "[(9, 1, 1006.0)]\n",
      "(9, 1, 1006.0)\n",
      "[(8, 1, 1007.0), (10, 1, 1005.0)]\n",
      "1005.0\n",
      "[(10, 1, 1005.0)]\n",
      "(10, 1, 1005.0)\n",
      "[(9, 1, 1006.0), (11, 1, 1004.0)]\n",
      "1004.0\n",
      "[(11, 1, 1004.0)]\n",
      "(11, 1, 1004.0)\n",
      "[(10, 1, 1005.0), (12, 1, 1003.0)]\n",
      "1003.0\n",
      "[(12, 1, 1003.0)]\n",
      "(12, 1, 1003.0)\n",
      "[(11, 1, 1004.0), (13, 1, 1002.0)]\n",
      "1002.0\n",
      "[(13, 1, 1002.0)]\n",
      "(13, 1, 1002.0)\n",
      "[(12, 1, 1003.0), (14, 1, 1001.0)]\n",
      "1001.0\n",
      "[(14, 1, 1001.0)]\n",
      "(14, 1, 1001.0)\n",
      "[(13, 1, 1002.0), (15, 1, 0.0)]\n",
      "0.0\n",
      "[(15, 1, 0.0)]\n",
      "(15, 1, 0.0)\n",
      "[(14, 1, 1001.0)]\n",
      "1001.0\n",
      "[(14, 1, 1001.0)]\n",
      "(14, 1, 1001.0)\n"
     ]
    }
   ],
   "source": [
    "paths = [([end])]\n",
    "\n",
    "belongs_to_path = []\n",
    "\n",
    "while len(paths):\n",
    "\n",
    "    item = paths.pop(0)\n",
    "    c = item[-1]\n",
    "    lowest = []\n",
    "    if c[0] != 0:\n",
    "        if data[c[0]-1, c[1]]:\n",
    "            lowest.append((c[0]-1, c[1],costs[c[0]-1, c[1]]))\n",
    "           \n",
    "    if c[0] != (costs.shape[0]-1):\n",
    "        if data[c[0]+1, c[1]]:\n",
    "            lowest.append((c[0]+1, c[1],costs[c[0]+1, c[1]]))\n",
    "    \n",
    "    if c[1] != 0:\n",
    "        if data[c[0], c[1]-1]:\n",
    "            lowest.append((c[0], c[1]-1,costs[c[0], c[1]-1]))\n",
    "\n",
    "    if c[1] != (costs.shape[0]+1):\n",
    "        if data[c[0], c[1]+1]:\n",
    "            lowest.append((c[0], c[1]+1,costs[c[0], c[1]+1]))\n",
    "\n",
    "    #something is off here. only one remains.\n",
    "    mini = min([x[2]  for x in lowest])\n",
    "    print(mini)\n",
    "    print(lowest)\n",
    "    potential_paths = [y for y in lowest if y[2] == mini]\n",
    "    print(potential_paths)\n",
    "    for p in potential_paths:\n",
    "        print(p)\n",
    "        if p[:2] not in belongs_to_path:\n",
    "            belongs_to_path.append(p[:2])\n",
    "            paths.append(item + [p[:2]])"
   ]
  },
  {
   "cell_type": "code",
   "execution_count": 143,
   "metadata": {},
   "outputs": [
    {
     "data": {
      "text/plain": [
       "<matplotlib.image.AxesImage at 0x710e1050c710>"
      ]
     },
     "execution_count": 143,
     "metadata": {},
     "output_type": "execute_result"
    },
    {
     "data": {
      "image/png": "[encoded data removed]",
      "text/plain": [
       "<Figure size 640x480 with 1 Axes>"
      ]
     },
     "metadata": {},
     "output_type": "display_data"
    }
   ],
   "source": [
    "visu =np.zeros(data.shape)\n",
    "for x in belongs_to_path:\n",
    "    visu[x] = 1\n",
    "plt.imshow(visu)"
   ]
  },
  {
   "cell_type": "code",
   "execution_count": 131,
   "metadata": {},
   "outputs": [
    {
     "data": {
      "text/plain": [
       "[(2, 15), (3, 15), (4, 15), (5, 15), (6, 15), (7, 15), (7, 4), (7, 5), (6, 5)]"
      ]
     },
     "execution_count": 131,
     "metadata": {},
     "output_type": "execute_result"
    }
   ],
   "source": [
    "belongs_to_path"
   ]
  },
  {
   "cell_type": "code",
   "execution_count": 123,
   "metadata": {},
   "outputs": [
    {
     "data": {
      "text/plain": [
       "[(2, 15)]"
      ]
     },
     "execution_count": 123,
     "metadata": {},
     "output_type": "execute_result"
    }
   ],
   "source": [
    "[p[:2]]"
   ]
  },
  {
   "cell_type": "code",
   "execution_count": 118,
   "metadata": {},
   "outputs": [
    {
     "data": {
      "text/plain": [
       "(2, 15, 11047.0)"
      ]
     },
     "execution_count": 118,
     "metadata": {},
     "output_type": "execute_result"
    }
   ],
   "source": [
    "item"
   ]
  },
  {
   "cell_type": "code",
   "execution_count": 51,
   "metadata": {},
   "outputs": [
    {
     "data": {
      "text/plain": [
       "[]"
      ]
     },
     "execution_count": 51,
     "metadata": {},
     "output_type": "execute_result"
    }
   ],
   "source": [
    "to_visit_next"
   ]
  },
  {
   "cell_type": "code",
   "execution_count": 147,
   "metadata": {},
   "outputs": [
    {
     "name": "stdout",
     "output_type": "stream",
     "text": [
      "(13, 1) (12, 1)\n",
      "(13, 1) (13, 2)\n"
     ]
    }
   ],
   "source": [
    "cost_update(current_position, current_direction, costs, data)\n",
    "\n",
    "unvisited[current_position[0], current_position[1]] = False\n",
    "\n",
    "current_position = np.where(costs == costs[unvisited].min())\n",
    "current_position = current_position[0][0],  current_position[1][0]"
   ]
  },
  {
   "cell_type": "code",
   "execution_count": 148,
   "metadata": {},
   "outputs": [
    {
     "data": {
      "text/plain": [
       "(13, 2)"
      ]
     },
     "execution_count": 148,
     "metadata": {},
     "output_type": "execute_result"
    }
   ],
   "source": [
    "current_position"
   ]
  },
  {
   "cell_type": "code",
   "execution_count": 140,
   "metadata": {},
   "outputs": [
    {
     "data": {
      "text/plain": [
       "array([[      inf,       inf,       inf,       inf,       inf,       inf,\n",
       "              inf,       inf,       inf,       inf,       inf,       inf,\n",
       "              inf,       inf,       inf],\n",
       "       [      inf,       inf,       inf,       inf,       inf,       inf,\n",
       "              inf,       inf,       inf,       inf,       inf,       inf,\n",
       "              inf,       inf,       inf],\n",
       "       [      inf,       inf,       inf,       inf,       inf,       inf,\n",
       "              inf,       inf,       inf,       inf,       inf,       inf,\n",
       "              inf,       inf,       inf],\n",
       "       [      inf,       inf,       inf,       inf,       inf,       inf,\n",
       "              inf,       inf,       inf,       inf,       inf,       inf,\n",
       "              inf,       inf,       inf],\n",
       "       [      inf,       inf,       inf,       inf,       inf,       inf,\n",
       "              inf,       inf,       inf,       inf,       inf,       inf,\n",
       "              inf,       inf,       inf],\n",
       "       [      inf,       inf,       inf,       inf,       inf,       inf,\n",
       "              inf,       inf,       inf,       inf,       inf,       inf,\n",
       "              inf,       inf,       inf],\n",
       "       [      inf,       inf,       inf,       inf,       inf,       inf,\n",
       "              inf,       inf,       inf,       inf,       inf,       inf,\n",
       "              inf,       inf,       inf],\n",
       "       [      inf,       inf,       inf,       inf,       inf,       inf,\n",
       "              inf,       inf,       inf,       inf,       inf,       inf,\n",
       "              inf,       inf,       inf],\n",
       "       [      inf,       inf,       inf,       inf,       inf,       inf,\n",
       "              inf,       inf,       inf,       inf,       inf,       inf,\n",
       "              inf,       inf,       inf],\n",
       "       [      inf,       inf,       inf,       inf,       inf,       inf,\n",
       "              inf,       inf,       inf,       inf,       inf,       inf,\n",
       "              inf,       inf,       inf],\n",
       "       [      inf,       inf,       inf,       inf,       inf,       inf,\n",
       "              inf,       inf,       inf,       inf,       inf,       inf,\n",
       "              inf,       inf,       inf],\n",
       "       [      inf,       inf,       inf,       inf,       inf,       inf,\n",
       "              inf,       inf,       inf,       inf,       inf,       inf,\n",
       "              inf,       inf,       inf],\n",
       "       [      inf, 1.001e+03,       inf,       inf,       inf,       inf,\n",
       "              inf,       inf,       inf,       inf,       inf,       inf,\n",
       "              inf,       inf,       inf],\n",
       "       [      inf, 0.000e+00, 1.000e+00,       inf,       inf,       inf,\n",
       "              inf,       inf,       inf,       inf,       inf,       inf,\n",
       "              inf,       inf,       inf],\n",
       "       [      inf,       inf,       inf,       inf,       inf,       inf,\n",
       "              inf,       inf,       inf,       inf,       inf,       inf,\n",
       "              inf,       inf,       inf]])"
      ]
     },
     "execution_count": 140,
     "metadata": {},
     "output_type": "execute_result"
    }
   ],
   "source": [
    "(costs * unvisited)"
   ]
  },
  {
   "cell_type": "code",
   "execution_count": 135,
   "metadata": {},
   "outputs": [
    {
     "data": {
      "text/plain": [
       "array([[      inf,       inf,       inf,       inf,       inf,       inf,\n",
       "              inf,       inf,       inf,       inf,       inf,       inf,\n",
       "              inf,       inf,       inf],\n",
       "       [      inf,       inf,       inf,       inf,       inf,       inf,\n",
       "              inf,       inf,       inf,       inf,       inf,       inf,\n",
       "              inf,       inf,       inf],\n",
       "       [      inf,       inf,       inf,       inf,       inf,       inf,\n",
       "              inf,       inf,       inf,       inf,       inf,       inf,\n",
       "              inf,       inf,       inf],\n",
       "       [      inf,       inf,       inf,       inf,       inf,       inf,\n",
       "              inf,       inf,       inf,       inf,       inf,       inf,\n",
       "              inf,       inf,       inf],\n",
       "       [      inf,       inf,       inf,       inf,       inf,       inf,\n",
       "              inf,       inf,       inf,       inf,       inf,       inf,\n",
       "              inf,       inf,       inf],\n",
       "       [      inf,       inf,       inf,       inf,       inf,       inf,\n",
       "              inf,       inf,       inf,       inf,       inf,       inf,\n",
       "              inf,       inf,       inf],\n",
       "       [      inf,       inf,       inf,       inf,       inf,       inf,\n",
       "              inf,       inf,       inf,       inf,       inf,       inf,\n",
       "              inf,       inf,       inf],\n",
       "       [      inf,       inf,       inf,       inf,       inf,       inf,\n",
       "              inf,       inf,       inf,       inf,       inf,       inf,\n",
       "              inf,       inf,       inf],\n",
       "       [      inf,       inf,       inf,       inf,       inf,       inf,\n",
       "              inf,       inf,       inf,       inf,       inf,       inf,\n",
       "              inf,       inf,       inf],\n",
       "       [      inf,       inf,       inf,       inf,       inf,       inf,\n",
       "              inf,       inf,       inf,       inf,       inf,       inf,\n",
       "              inf,       inf,       inf],\n",
       "       [      inf,       inf,       inf,       inf,       inf,       inf,\n",
       "              inf,       inf,       inf,       inf,       inf,       inf,\n",
       "              inf,       inf,       inf],\n",
       "       [      inf,       inf,       inf,       inf,       inf,       inf,\n",
       "              inf,       inf,       inf,       inf,       inf,       inf,\n",
       "              inf,       inf,       inf],\n",
       "       [      inf, 1.001e+03,       inf,       inf,       inf,       inf,\n",
       "              inf,       inf,       inf,       inf,       inf,       inf,\n",
       "              inf,       inf,       inf],\n",
       "       [      inf, 0.000e+00, 1.000e+00,       inf,       inf,       inf,\n",
       "              inf,       inf,       inf,       inf,       inf,       inf,\n",
       "              inf,       inf,       inf],\n",
       "       [      inf,       inf,       inf,       inf,       inf,       inf,\n",
       "              inf,       inf,       inf,       inf,       inf,       inf,\n",
       "              inf,       inf,       inf]])"
      ]
     },
     "execution_count": 135,
     "metadata": {},
     "output_type": "execute_result"
    }
   ],
   "source": [
    "costs[np.]"
   ]
  },
  {
   "cell_type": "code",
   "execution_count": 130,
   "metadata": {},
   "outputs": [
    {
     "data": {
      "text/plain": [
       "array([[      inf,       inf,       inf,       inf,       inf,       inf,\n",
       "              inf,       inf,       inf,       inf,       inf,       inf,\n",
       "              inf,       inf,       inf],\n",
       "       [      inf,       inf,       inf,       inf,       inf,       inf,\n",
       "              inf,       inf,       inf,       inf,       inf,       inf,\n",
       "              inf,       inf,       inf],\n",
       "       [      inf,       inf,       inf,       inf,       inf,       inf,\n",
       "              inf,       inf,       inf,       inf,       inf,       inf,\n",
       "              inf,       inf,       inf],\n",
       "       [      inf,       inf,       inf,       inf,       inf,       inf,\n",
       "              inf,       inf,       inf,       inf,       inf,       inf,\n",
       "              inf,       inf,       inf],\n",
       "       [      inf,       inf,       inf,       inf,       inf,       inf,\n",
       "              inf,       inf,       inf,       inf,       inf,       inf,\n",
       "              inf,       inf,       inf],\n",
       "       [      inf,       inf,       inf,       inf,       inf,       inf,\n",
       "              inf,       inf,       inf,       inf,       inf,       inf,\n",
       "              inf,       inf,       inf],\n",
       "       [      inf,       inf,       inf,       inf,       inf,       inf,\n",
       "              inf,       inf,       inf,       inf,       inf,       inf,\n",
       "              inf,       inf,       inf],\n",
       "       [      inf,       inf,       inf,       inf,       inf,       inf,\n",
       "              inf,       inf,       inf,       inf,       inf,       inf,\n",
       "              inf,       inf,       inf],\n",
       "       [      inf,       inf,       inf,       inf,       inf,       inf,\n",
       "              inf,       inf,       inf,       inf,       inf,       inf,\n",
       "              inf,       inf,       inf],\n",
       "       [      inf,       inf,       inf,       inf,       inf,       inf,\n",
       "              inf,       inf,       inf,       inf,       inf,       inf,\n",
       "              inf,       inf,       inf],\n",
       "       [      inf,       inf,       inf,       inf,       inf,       inf,\n",
       "              inf,       inf,       inf,       inf,       inf,       inf,\n",
       "              inf,       inf,       inf],\n",
       "       [      inf,       inf,       inf,       inf,       inf,       inf,\n",
       "              inf,       inf,       inf,       inf,       inf,       inf,\n",
       "              inf,       inf,       inf],\n",
       "       [      inf, 1.001e+03,       inf,       inf,       inf,       inf,\n",
       "              inf,       inf,       inf,       inf,       inf,       inf,\n",
       "              inf,       inf,       inf],\n",
       "       [      inf, 0.000e+00, 1.000e+00,       inf,       inf,       inf,\n",
       "              inf,       inf,       inf,       inf,       inf,       inf,\n",
       "              inf,       inf,       inf],\n",
       "       [      inf,       inf,       inf,       inf,       inf,       inf,\n",
       "              inf,       inf,       inf,       inf,       inf,       inf,\n",
       "              inf,       inf,       inf]])"
      ]
     },
     "execution_count": 130,
     "metadata": {},
     "output_type": "execute_result"
    }
   ],
   "source": [
    "costs"
   ]
  },
  {
   "cell_type": "code",
   "execution_count": 128,
   "metadata": {},
   "outputs": [
    {
     "name": "stderr",
     "output_type": "stream",
     "text": [
      "<ipython-input-128-b0df09843ac9>:1: RuntimeWarning: invalid value encountered in multiply\n",
      "  np.where((costs * visited) == np.nanmin(costs * visited))\n"
     ]
    },
    {
     "data": {
      "text/plain": [
       "(array([12, 13, 13]), array([1, 1, 2]))"
      ]
     },
     "execution_count": 128,
     "metadata": {},
     "output_type": "execute_result"
    }
   ],
   "source": [
    "np.where((costs * visited) == np.nanmin(costs * visited))"
   ]
  },
  {
   "cell_type": "code",
   "execution_count": 126,
   "metadata": {},
   "outputs": [
    {
     "data": {
      "text/plain": [
       "(12, 1)"
      ]
     },
     "execution_count": 126,
     "metadata": {},
     "output_type": "execute_result"
    }
   ],
   "source": [
    "current_position"
   ]
  },
  {
   "cell_type": "code",
   "execution_count": 123,
   "metadata": {},
   "outputs": [
    {
     "data": {
      "text/plain": [
       "<matplotlib.image.AxesImage at 0x7c01ec9a3fa0>"
      ]
     },
     "execution_count": 123,
     "metadata": {},
     "output_type": "execute_result"
    },
    {
     "data": {
      "image/png": "[encoded data removed]",
      "text/plain": [
       "<Figure size 432x288 with 1 Axes>"
      ]
     },
     "metadata": {
      "needs_background": "light"
     },
     "output_type": "display_data"
    }
   ],
   "source": [
    "plt.imshow(costs)"
   ]
  },
  {
   "cell_type": "code",
   "execution_count": 99,
   "metadata": {},
   "outputs": [
    {
     "data": {
      "text/plain": [
       "<matplotlib.image.AxesImage at 0x7c01eca74760>"
      ]
     },
     "execution_count": 99,
     "metadata": {},
     "output_type": "execute_result"
    },
    {
     "data": {
      "image/png": "[encoded data removed]",
      "text/plain": [
       "<Figure size 432x288 with 1 Axes>"
      ]
     },
     "metadata": {
      "needs_background": "light"
     },
     "output_type": "display_data"
    }
   ],
   "source": [
    "plt.imshow(visited)"
   ]
  },
  {
   "cell_type": "code",
   "execution_count": 15,
   "metadata": {},
   "outputs": [
    {
     "data": {
      "text/plain": [
       "array([['-', '-', '-', '-', '-', '-', '-', '-', '-', '-', '-', '-', '-',\n",
       "        '-', '-'],\n",
       "       ['-', 'i', 'i', 'i', 'i', 'i', 'i', 'i', '-', 'i', 'i', 'i', 'i',\n",
       "        'E', '-'],\n",
       "       ['-', 'i', '-', 'i', '-', '-', '-', 'i', '-', 'i', '-', '-', '-',\n",
       "        'i', '-'],\n",
       "       ['-', 'i', 'i', 'i', 'i', 'i', '-', 'i', '-', 'i', 'i', 'i', '-',\n",
       "        'i', '-'],\n",
       "       ['-', 'i', '-', '-', '-', 'i', '-', '-', '-', '-', '-', 'i', '-',\n",
       "        'i', '-'],\n",
       "       ['-', 'i', '-', 'i', '-', 'i', 'i', 'i', 'i', 'i', 'i', 'i', '-',\n",
       "        'i', '-'],\n",
       "       ['-', 'i', '-', 'i', '-', '-', '-', '-', '-', 'i', '-', '-', '-',\n",
       "        'i', '-'],\n",
       "       ['-', 'i', 'i', 'i', 'i', 'i', 'i', 'i', 'i', 'i', 'i', 'i', '-',\n",
       "        'i', '-'],\n",
       "       ['-', '-', '-', 'i', '-', 'i', '-', '-', '-', '-', '-', 'i', '-',\n",
       "        'i', '-'],\n",
       "       ['-', 'i', 'i', 'i', '-', 'i', 'i', 'i', 'i', 'i', '-', 'i', '-',\n",
       "        'i', '-'],\n",
       "       ['-', 'i', '-', 'i', '-', 'i', '-', '-', '-', 'i', '-', 'i', '-',\n",
       "        'i', '-'],\n",
       "       ['-', 'i', 'i', 'i', 'i', 'i', '-', 'i', 'i', 'i', '-', 'i', '-',\n",
       "        'i', '-'],\n",
       "       ['-', 'i', '-', '-', '-', 'i', '-', 'i', '-', 'i', '-', 'i', '-',\n",
       "        'i', '-'],\n",
       "       ['-', '0', 'i', 'i', '-', 'i', 'i', 'i', 'i', 'i', '-', 'i', 'i',\n",
       "        'i', '-'],\n",
       "       ['-', '-', '-', '-', '-', '-', '-', '-', '-', '-', '-', '-', '-',\n",
       "        '-', '-']], dtype='<U1')"
      ]
     },
     "execution_count": 15,
     "metadata": {},
     "output_type": "execute_result"
    }
   ],
   "source": [
    "\n",
    "data[data == \"#\"] = False\n",
    "data[data == \"S\"] = True\n",
    "data[data == \".\"] = True"
   ]
  },
  {
   "cell_type": "code",
   "execution_count": null,
   "metadata": {},
   "outputs": [],
   "source": []
  }
 ],
 "metadata": {
  "kernelspec": {
   "display_name": "base",
   "language": "python",
   "name": "python3"
  },
  "language_info": {
   "codemirror_mode": {
    "name": "ipython",
    "version": 3
   },
   "file_extension": ".py",
   "mimetype": "text/x-python",
   "name": "python",
   "nbconvert_exporter": "python",
   "pygments_lexer": "ipython3",
   "version": "3.11.5"
  }
 },
 "nbformat": 4,
 "nbformat_minor": 2
}
