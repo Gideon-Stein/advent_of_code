{
 "cells": [
  {
   "cell_type": "code",
   "execution_count": 37,
   "metadata": {},
   "outputs": [],
   "source": [
    "from tools import load\n",
    "import numpy as np\n",
    "import re"
   ]
  },
  {
   "cell_type": "code",
   "execution_count": 38,
   "metadata": {},
   "outputs": [],
   "source": [
    "data = np.array(load(to_list=True, line_splitter=False))"
   ]
  },
  {
   "cell_type": "code",
   "execution_count": 39,
   "metadata": {},
   "outputs": [],
   "source": [
    "\n",
    "def cond(data, p, region, to_check, what):\n",
    "    \n",
    "    return (p not in region) and (p not in to_check) and (data[p] == what)\n",
    "\n",
    "\n",
    "\n",
    "\n",
    "def get_connected(data, start):\n",
    "    region = []\n",
    "    \n",
    "    to_check = [start]\n",
    "    what = data[start]\n",
    "    \n",
    "    while len(to_check):\n",
    "        p = to_check.pop(0)\n",
    "        region.append(p)   \n",
    "         \n",
    "        if p[1] != (data.shape[1]-1):\n",
    "            if cond(data, (p[0], p[1]+1), region, to_check, what):\n",
    "                to_check.append((p[0], p[1]+1))\n",
    "\n",
    "        if p[1] != 0:\n",
    "            if cond(data, (p[0], p[1]-1), region, to_check, what):\n",
    "                to_check.append((p[0], p[1]-1))\n",
    "\n",
    "        if p[0] != (data.shape[0]-1):\n",
    "            if cond(data, (p[0]+1, p[1]), region, to_check, what):\n",
    "                to_check.append((p[0]+1, p[1]))\n",
    "\n",
    "        if p[0] != 0:\n",
    "            if cond(data, (p[0]-1, p[1]), region, to_check, what):\n",
    "                to_check.append((p[0]-1, p[1]))                \n",
    "    return region\n",
    "\n",
    "    "
   ]
  },
  {
   "cell_type": "code",
   "execution_count": null,
   "metadata": {},
   "outputs": [],
   "source": [
    "def get_dia(region, data):\n",
    "    hull = []\n",
    "    diameter = 0 \n",
    "    for tile in region:\n",
    "        dia  = 4\n",
    "        if tile[0] != 0:\n",
    "            if (tile[0]-1, tile[1]) in region: \n",
    "                dia-=1\n",
    "                \n",
    "        if tile[0] != (data.shape[0]-1):\n",
    "            if (tile[0]+1,tile[1]) in region: \n",
    "                dia -=1\n",
    "                \n",
    "        if tile[1] != 0:\n",
    "            if (tile[0],tile[1]-1) in region: \n",
    "                dia -=1\n",
    "                \n",
    "        if tile[1] != (data.shape[1]-1):\n",
    "            if (tile[0],tile[1]+1) in region: \n",
    "                dia -=1  \n",
    "        if dia != 0: \n",
    "            hull.append(dia)\n",
    "            diameter += dia\n",
    "    return diameter,hull\n"
   ]
  },
  {
   "cell_type": "code",
   "execution_count": null,
   "metadata": {},
   "outputs": [],
   "source": [
    "not_located = [tuple(x) for x in np.array(np.where(data)).T]\n",
    "res = []\n",
    "while len(not_located):\n",
    "    \n",
    "    start = not_located[0]\n",
    "    region  =get_connected(data, start)\n",
    "    cost, _ = get_dia(region,data) * len(region)\n",
    "    res.append((region, cost))\n",
    "    not_located = [x for x in not_located if x not in region]\n"
   ]
  },
  {
   "cell_type": "code",
   "execution_count": 55,
   "metadata": {},
   "outputs": [
    {
     "data": {
      "text/plain": [
       "1930"
      ]
     },
     "execution_count": 55,
     "metadata": {},
     "output_type": "execute_result"
    }
   ],
   "source": [
    "sum([x[1] for x in res])"
   ]
  },
  {
   "cell_type": "code",
   "execution_count": 45,
   "metadata": {},
   "outputs": [],
   "source": [
    "r = get_connected(data,(0,0))"
   ]
  },
  {
   "cell_type": "code",
   "execution_count": 51,
   "metadata": {},
   "outputs": [
    {
     "data": {
      "text/plain": [
       "{0, 1, 2, 3}"
      ]
     },
     "execution_count": 51,
     "metadata": {},
     "output_type": "execute_result"
    }
   ],
   "source": [
    "set(np.array(r).T[0])"
   ]
  },
  {
   "cell_type": "code",
   "execution_count": 52,
   "metadata": {},
   "outputs": [
    {
     "data": {
      "text/plain": [
       "{0, 1, 2, 3, 4}"
      ]
     },
     "execution_count": 52,
     "metadata": {},
     "output_type": "execute_result"
    }
   ],
   "source": [
    "set(np.array(r).T[1])"
   ]
  },
  {
   "cell_type": "code",
   "execution_count": 43,
   "metadata": {},
   "outputs": [
    {
     "data": {
      "text/plain": [
       "array([['R', 'R', 'R', 'R', 'I', 'I', 'C', 'C', 'F', 'F'],\n",
       "       ['R', 'R', 'R', 'R', 'I', 'I', 'C', 'C', 'C', 'F'],\n",
       "       ['V', 'V', 'R', 'R', 'R', 'C', 'C', 'F', 'F', 'F'],\n",
       "       ['V', 'V', 'R', 'C', 'C', 'C', 'J', 'F', 'F', 'F'],\n",
       "       ['V', 'V', 'V', 'V', 'C', 'J', 'J', 'C', 'F', 'E'],\n",
       "       ['V', 'V', 'I', 'V', 'C', 'C', 'J', 'J', 'E', 'E'],\n",
       "       ['V', 'V', 'I', 'I', 'I', 'C', 'J', 'J', 'E', 'E'],\n",
       "       ['M', 'I', 'I', 'I', 'I', 'I', 'J', 'J', 'E', 'E'],\n",
       "       ['M', 'I', 'I', 'I', 'S', 'I', 'J', 'E', 'E', 'E'],\n",
       "       ['M', 'M', 'M', 'I', 'S', 'S', 'J', 'E', 'E', 'E']], dtype='<U1')"
      ]
     },
     "execution_count": 43,
     "metadata": {},
     "output_type": "execute_result"
    }
   ],
   "source": [
    "# B \n",
    "data\n",
    "\n",
    "\n",
    "\n"
   ]
  }
 ],
 "metadata": {
  "kernelspec": {
   "display_name": "base",
   "language": "python",
   "name": "python3"
  },
  "language_info": {
   "codemirror_mode": {
    "name": "ipython",
    "version": 3
   },
   "file_extension": ".py",
   "mimetype": "text/x-python",
   "name": "python",
   "nbconvert_exporter": "python",
   "pygments_lexer": "ipython3",
   "version": "3.11.5"
  }
 },
 "nbformat": 4,
 "nbformat_minor": 2
}
