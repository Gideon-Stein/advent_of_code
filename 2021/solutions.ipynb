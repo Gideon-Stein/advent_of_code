{
 "cells": [
  {
   "cell_type": "code",
   "execution_count": 1,
   "id": "bd74d277",
   "metadata": {},
   "outputs": [],
   "source": [
    "import numpy as np\n",
    "import matplotlib.pyplot as plt\n",
    "from collections import Counter as cntr\n",
    "import operator\n",
    "from collections import defaultdict\n",
    "import sys\n",
    "from queue import PriorityQueue\n",
    "import time\n",
    "import copy"
   ]
  },
  {
   "cell_type": "markdown",
   "id": "d6241dbf",
   "metadata": {
    "jp-MarkdownHeadingCollapsed": true,
    "tags": []
   },
   "source": [
    "# 1"
   ]
  },
  {
   "cell_type": "code",
   "execution_count": 4,
   "id": "4be889e0",
   "metadata": {},
   "outputs": [
    {
     "ename": "FileNotFoundError",
     "evalue": "[Errno 2] No such file or directory: 'input1.txt'",
     "output_type": "error",
     "traceback": [
      "\u001b[1;31m---------------------------------------------------------------------------\u001b[0m",
      "\u001b[1;31mFileNotFoundError\u001b[0m                         Traceback (most recent call last)",
      "\u001b[1;32m<ipython-input-4-daf6f4f7792b>\u001b[0m in \u001b[0;36m<module>\u001b[1;34m\u001b[0m\n\u001b[1;32m----> 1\u001b[1;33m \u001b[0minp\u001b[0m \u001b[1;33m=\u001b[0m \u001b[0mopen\u001b[0m\u001b[1;33m(\u001b[0m\u001b[1;34m\"input1.txt\"\u001b[0m\u001b[1;33m,\u001b[0m \u001b[1;34m\"r+\"\u001b[0m\u001b[1;33m)\u001b[0m\u001b[1;33m\u001b[0m\u001b[1;33m\u001b[0m\u001b[0m\n\u001b[0m\u001b[0;32m      2\u001b[0m \u001b[0minp\u001b[0m \u001b[1;33m=\u001b[0m \u001b[0minp\u001b[0m\u001b[1;33m.\u001b[0m\u001b[0mread\u001b[0m\u001b[1;33m(\u001b[0m\u001b[1;33m)\u001b[0m\u001b[1;33m\u001b[0m\u001b[1;33m\u001b[0m\u001b[0m\n\u001b[0;32m      3\u001b[0m \u001b[0minp\u001b[0m \u001b[1;33m=\u001b[0m \u001b[0mnp\u001b[0m\u001b[1;33m.\u001b[0m\u001b[0marray\u001b[0m\u001b[1;33m(\u001b[0m\u001b[0minp\u001b[0m\u001b[1;33m.\u001b[0m\u001b[0msplit\u001b[0m\u001b[1;33m(\u001b[0m\u001b[1;34m\"\\n\"\u001b[0m\u001b[1;33m)\u001b[0m\u001b[1;33m)\u001b[0m\u001b[1;33m.\u001b[0m\u001b[0mastype\u001b[0m\u001b[1;33m(\u001b[0m\u001b[1;34m\"int\"\u001b[0m\u001b[1;33m)\u001b[0m\u001b[1;33m\u001b[0m\u001b[1;33m\u001b[0m\u001b[0m\n",
      "\u001b[1;31mFileNotFoundError\u001b[0m: [Errno 2] No such file or directory: 'input1.txt'"
     ]
    }
   ],
   "source": [
    "inp = open(\"input1.txt\", \"r+\")\n",
    "inp = inp.read()\n",
    "inp = np.array(inp.split(\"\\n\")).astype(\"int\")"
   ]
  },
  {
   "cell_type": "code",
   "execution_count": 34,
   "id": "8dadde2c",
   "metadata": {},
   "outputs": [],
   "source": [
    "## a"
   ]
  },
  {
   "cell_type": "code",
   "execution_count": 29,
   "id": "a0a0f29a",
   "metadata": {},
   "outputs": [],
   "source": [
    "shift = np.roll(inp, 1)"
   ]
  },
  {
   "cell_type": "code",
   "execution_count": 32,
   "id": "ae4684be",
   "metadata": {},
   "outputs": [
    {
     "data": {
      "text/plain": [
       "1713"
      ]
     },
     "execution_count": 32,
     "metadata": {},
     "output_type": "execute_result"
    }
   ],
   "source": [
    "sum(inp > shift) # first one should be nan but doesnt matter since its big"
   ]
  },
  {
   "cell_type": "code",
   "execution_count": 35,
   "id": "13025a2e",
   "metadata": {},
   "outputs": [],
   "source": [
    "##b "
   ]
  },
  {
   "cell_type": "code",
   "execution_count": 51,
   "id": "de995700",
   "metadata": {},
   "outputs": [],
   "source": [
    "sliding = []\n",
    "for x in range(len(inp)):\n",
    "     sliding.append(inp[x:x+3])\n",
    "sliding = np.array(sliding[:-2])"
   ]
  },
  {
   "cell_type": "code",
   "execution_count": 57,
   "id": "a9868a58",
   "metadata": {},
   "outputs": [],
   "source": [
    "a = np.sum(sliding,axis=1)\n",
    "b =  np.roll(a, 1)"
   ]
  },
  {
   "cell_type": "code",
   "execution_count": 59,
   "id": "c23296f6",
   "metadata": {},
   "outputs": [
    {
     "data": {
      "text/plain": [
       "1734"
      ]
     },
     "execution_count": 59,
     "metadata": {},
     "output_type": "execute_result"
    }
   ],
   "source": [
    "sum(a > b)"
   ]
  },
  {
   "cell_type": "markdown",
   "id": "3399b79e",
   "metadata": {
    "jp-MarkdownHeadingCollapsed": true,
    "tags": []
   },
   "source": [
    "# 2"
   ]
  },
  {
   "cell_type": "code",
   "execution_count": null,
   "id": "bb55ffeb",
   "metadata": {},
   "outputs": [],
   "source": []
  },
  {
   "cell_type": "code",
   "execution_count": 4,
   "id": "6f7c36f5",
   "metadata": {},
   "outputs": [],
   "source": [
    "inp = open(\"inputs/input2.txt\", \"r+\")\n",
    "inp = inp.read()\n",
    "inp = np.array(inp.split(\"\\n\"))"
   ]
  },
  {
   "cell_type": "code",
   "execution_count": null,
   "id": "f4792753",
   "metadata": {},
   "outputs": [],
   "source": []
  },
  {
   "cell_type": "code",
   "execution_count": 9,
   "id": "6bd14260",
   "metadata": {},
   "outputs": [
    {
     "name": "stdout",
     "output_type": "stream",
     "text": [
      "1561344\n"
     ]
    }
   ],
   "source": [
    "#a\n",
    "counter = {}\n",
    "counter[\"forward\"] = 0\n",
    "counter[\"down\"] = 0\n",
    "counter[\"up\"] = 0\n",
    "\n",
    "for x in inp:\n",
    "    a = x.split(\" \")\n",
    "    counter[a[0]] += int(a[1])\n",
    "print(counter[\"forward\"] * (counter[\"down\"] - counter[\"up\"]))"
   ]
  },
  {
   "cell_type": "code",
   "execution_count": 12,
   "id": "ef8a9aa8",
   "metadata": {},
   "outputs": [
    {
     "name": "stdout",
     "output_type": "stream",
     "text": [
      "1848454425\n"
     ]
    }
   ],
   "source": [
    "#b\n",
    "counter = {}\n",
    "counter[\"aim\"] = 0\n",
    "counter[\"hor\"] = 0\n",
    "counter[\"depth\"] = 0\n",
    "\n",
    "for x in inp:\n",
    "    a = x.split(\" \")\n",
    "    if a[0] == \"down\":\n",
    "        counter[\"aim\"] += int(a[1])\n",
    "    \n",
    "    elif a[0] == \"up\":\n",
    "        counter[\"aim\"] -= int(a[1])\n",
    "    \n",
    "    elif a[0] == \"forward\":\n",
    "        counter[\"hor\"] += int(a[1])\n",
    "        counter[\"depth\"] += int(a[1]) * counter[\"aim\"]\n",
    "    else:\n",
    "        print(\"broken\")\n",
    "print(counter[\"hor\"] * counter[\"depth\"])"
   ]
  },
  {
   "cell_type": "markdown",
   "id": "5f70a979",
   "metadata": {
    "jp-MarkdownHeadingCollapsed": true,
    "tags": []
   },
   "source": [
    "# 3"
   ]
  },
  {
   "cell_type": "code",
   "execution_count": 270,
   "id": "02a9ae81",
   "metadata": {},
   "outputs": [],
   "source": [
    "inp = open(\"inputs/input3.txt\", \"r+\")\n",
    "inp = inp.read()\n",
    "inp = inp.split(\"\\n\")\n",
    "splitted = []\n",
    "for x in range(len(inp)): \n",
    "    splitted.append([char for char in inp[x]])\n",
    "inp = np.array(splitted).astype(\"int\")"
   ]
  },
  {
   "cell_type": "code",
   "execution_count": 271,
   "id": "10a52033",
   "metadata": {},
   "outputs": [],
   "source": [
    "#a"
   ]
  },
  {
   "cell_type": "code",
   "execution_count": 272,
   "id": "18bcf83b",
   "metadata": {},
   "outputs": [],
   "source": [
    "a = (np.sum(inp,axis=0) > (len(inp) // 2)).astype(int)\n",
    "b = 1-a"
   ]
  },
  {
   "cell_type": "code",
   "execution_count": 273,
   "id": "bc543403",
   "metadata": {},
   "outputs": [],
   "source": [
    "a = int(\"\".join(list(a.astype(\"str\"))),2)\n",
    "b = int(\"\".join(list(b.astype(\"str\"))),2)"
   ]
  },
  {
   "cell_type": "code",
   "execution_count": 274,
   "id": "c9df9471",
   "metadata": {},
   "outputs": [
    {
     "data": {
      "text/plain": [
       "3148794"
      ]
     },
     "execution_count": 274,
     "metadata": {},
     "output_type": "execute_result"
    }
   ],
   "source": [
    "a * b"
   ]
  },
  {
   "cell_type": "code",
   "execution_count": 275,
   "id": "b67f7d6e",
   "metadata": {},
   "outputs": [],
   "source": [
    "#b"
   ]
  },
  {
   "cell_type": "code",
   "execution_count": 280,
   "id": "331ffff1",
   "metadata": {},
   "outputs": [],
   "source": [
    "def check(inp,up=True):\n",
    "    save = []\n",
    "    current = 0\n",
    "    start = inp.T\n",
    "    for x in range(12):\n",
    "        print(start.shape)\n",
    "        if up == True: \n",
    "            if (len(start[current]) % 2) == 0:\n",
    "                condition = sum(start[current]) >= (len(start[current])//2)\n",
    "            else:\n",
    "                condition = sum(start[current]) > (len(start[current])//2)\n",
    "        else: \n",
    "            if (len(start[current]) % 2) == 0:\n",
    "                condition = sum(start[current]) < (len(start[current])//2)\n",
    "            else:\n",
    "                condition = sum(start[current]) <= (len(start[current])//2)\n",
    "        toRemove = np.where(start[current] ==  ~condition)\n",
    "        save.append(start)\n",
    "        new = np.delete(start,toRemove, axis=1)\n",
    "        start = new\n",
    "        current += 1\n",
    "        if start.shape[1] == 1: \n",
    "            break\n",
    "    return start"
   ]
  },
  {
   "cell_type": "code",
   "execution_count": 281,
   "id": "7e91a7af",
   "metadata": {},
   "outputs": [
    {
     "name": "stdout",
     "output_type": "stream",
     "text": [
      "(12, 1000)\n",
      "(12, 519)\n",
      "(12, 260)\n",
      "(12, 135)\n",
      "(12, 69)\n",
      "(12, 37)\n",
      "(12, 19)\n",
      "(12, 11)\n",
      "(12, 6)\n",
      "(12, 4)\n",
      "(12, 3)\n",
      "(12, 2)\n",
      "(12, 1000)\n",
      "(12, 481)\n",
      "(12, 239)\n",
      "(12, 114)\n",
      "(12, 53)\n",
      "(12, 25)\n",
      "(12, 11)\n",
      "(12, 2)\n"
     ]
    }
   ],
   "source": [
    "a = check(inp)\n",
    "b = check(inp,False)"
   ]
  },
  {
   "cell_type": "code",
   "execution_count": 282,
   "id": "2a72da82",
   "metadata": {},
   "outputs": [],
   "source": [
    "a = int(\"\".join([str(point[0]) for point in list(a)]),2)\n",
    "b = int(\"\".join([str(point[0]) for point in list(b)]),2)"
   ]
  },
  {
   "cell_type": "code",
   "execution_count": 283,
   "id": "6f5adfc2",
   "metadata": {},
   "outputs": [
    {
     "data": {
      "text/plain": [
       "2795310"
      ]
     },
     "execution_count": 283,
     "metadata": {},
     "output_type": "execute_result"
    }
   ],
   "source": [
    "a * b"
   ]
  },
  {
   "cell_type": "markdown",
   "id": "074dfeaa",
   "metadata": {
    "tags": []
   },
   "source": [
    "# 4"
   ]
  },
  {
   "cell_type": "code",
   "execution_count": 405,
   "id": "c9b85035",
   "metadata": {},
   "outputs": [],
   "source": [
    "inp2 = open(\"inputs/input4.txt\", \"r+\")\n",
    "inp2 = inp2.read()\n",
    "inp2 = inp2.split(\"\\n\")\n",
    "inp = open(\"inputs/input4.1.txt\", \"r+\")\n",
    "inp = inp.read()\n",
    "inp = [int(n) for n in inp.split(\",\")]\n",
    "stack = []\n",
    "for x in inp2:\n",
    "    if len(x) == 0: \n",
    "        stack.append([])\n",
    "    else: \n",
    "        numbers = np.array(x.split(\" \"))\n",
    "        numbers = numbers[np.where(numbers != \"\")]\n",
    "        stack.append([int(n) for n in numbers])\n",
    "out = []\n",
    "for x in range(0,len(stack),6):\n",
    "    out.append(stack[x: x+5])\n",
    "inp2 = np.array(out)"
   ]
  },
  {
   "cell_type": "code",
   "execution_count": 406,
   "id": "08a2346e",
   "metadata": {},
   "outputs": [],
   "source": [
    "#a"
   ]
  },
  {
   "cell_type": "code",
   "execution_count": 413,
   "id": "89247f97",
   "metadata": {},
   "outputs": [
    {
     "name": "stdout",
     "output_type": "stream",
     "text": [
      "Winner\n",
      "Final number\n",
      "48\n",
      "(array([], dtype=int64), array([], dtype=int64))\n",
      "(array([41]), array([2]))\n"
     ]
    }
   ],
   "source": [
    "drawn = np.zeros((100,5,5))\n",
    "for n in inp: \n",
    "    drawn[np.where(inp2 == n)] = 1\n",
    "    if (5 in drawn.sum(axis=1)) or (5 in drawn.sum(axis=2)):\n",
    "        print(\"Winner\")\n",
    "        print(\"Final number\")\n",
    "        print(n)\n",
    "        print(np.where(drawn.sum(axis=1) == 5))\n",
    "        print(np.where(drawn.sum(axis=2) == 5))\n",
    "\n",
    "        break"
   ]
  },
  {
   "cell_type": "code",
   "execution_count": 419,
   "id": "74167b80",
   "metadata": {},
   "outputs": [
    {
     "data": {
      "text/plain": [
       "44736"
      ]
     },
     "execution_count": 419,
     "metadata": {},
     "output_type": "execute_result"
    }
   ],
   "source": [
    "reverse = np.abs(drawn[41] -1).astype(\"bool\")\n",
    "sum(inp2[41,reverse]) * 48"
   ]
  },
  {
   "cell_type": "code",
   "execution_count": 418,
   "id": "e2d2d3ae",
   "metadata": {},
   "outputs": [],
   "source": [
    "#b "
   ]
  },
  {
   "cell_type": "code",
   "execution_count": 450,
   "id": "34167a22",
   "metadata": {},
   "outputs": [
    {
     "name": "stdout",
     "output_type": "stream",
     "text": [
      "19\n",
      "(array([39]),)\n",
      "57\n",
      "(array([39]),)\n",
      "Looser\n",
      "Final number\n",
      "7\n"
     ]
    }
   ],
   "source": [
    "drawn = np.zeros((100,5,5))\n",
    "for n in inp: \n",
    "    drawn[np.where(inp2 == n)] = 1\n",
    "    condition1 = drawn.sum(axis=1).max(axis=1)\n",
    "    condition2 = drawn.sum(axis=2).max(axis=1)\n",
    "    win = np.maximum(condition1, condition2)\n",
    "    finish = sum(np.where(win == 5, True, False))\n",
    "    if finish == 99:\n",
    "        print(n)\n",
    "        print(np.where(win != 5))\n",
    "    if finish == 100: \n",
    "        print(\"Looser\")\n",
    "        print(\"Final number\")\n",
    "        print(n)\n",
    "        break"
   ]
  },
  {
   "cell_type": "code",
   "execution_count": 451,
   "id": "d1e0298e",
   "metadata": {},
   "outputs": [
    {
     "data": {
      "text/plain": [
       "1827"
      ]
     },
     "execution_count": 451,
     "metadata": {},
     "output_type": "execute_result"
    }
   ],
   "source": [
    "reverse = np.abs(drawn[39] -1).astype(\"bool\")\n",
    "sum(inp2[39,reverse]) * 7"
   ]
  },
  {
   "cell_type": "code",
   "execution_count": 442,
   "id": "891bcbb5",
   "metadata": {},
   "outputs": [
    {
     "data": {
      "text/plain": [
       "array([5., 5., 5., 5., 5., 5., 5., 5., 5., 5., 5., 5., 5., 5., 5., 5., 5.,\n",
       "       5., 5., 5., 5., 5., 5., 5., 5., 5., 5., 5., 5., 5., 5., 5., 5., 5.,\n",
       "       5., 5., 5., 5., 5., 5., 5., 5., 5., 5., 5., 5., 5., 5., 5., 5., 5.,\n",
       "       5., 5., 4., 5., 5., 5., 5., 5., 5., 5., 5., 5., 5., 5., 5., 5., 5.,\n",
       "       5., 5., 5., 5., 5., 5., 5., 5., 5., 5., 5., 5., 5., 5., 5., 5., 5.,\n",
       "       5., 5., 5., 5., 5., 5., 5., 5., 5., 5., 5., 5., 5., 5., 5.])"
      ]
     },
     "execution_count": 442,
     "metadata": {},
     "output_type": "execute_result"
    }
   ],
   "source": [
    "condition2"
   ]
  },
  {
   "cell_type": "code",
   "execution_count": 443,
   "id": "c08402bd",
   "metadata": {},
   "outputs": [
    {
     "data": {
      "text/plain": [
       "array([5., 5., 5., 5., 5., 5., 5., 5., 5., 5., 5., 5., 5., 5., 5., 5., 5.,\n",
       "       5., 5., 5., 5., 5., 5., 5., 5., 5., 5., 5., 5., 5., 5., 5., 5., 5.,\n",
       "       5., 5., 5., 5., 5., 5., 5., 5., 5., 5., 5., 5., 5., 5., 5., 5., 5.,\n",
       "       5., 5., 5., 5., 5., 5., 5., 5., 5., 5., 5., 5., 5., 5., 5., 5., 5.,\n",
       "       5., 5., 5., 5., 5., 5., 5., 5., 5., 5., 5., 5., 5., 5., 5., 5., 5.,\n",
       "       5., 5., 5., 5., 5., 5., 5., 5., 5., 5., 5., 5., 5., 5., 5.])"
      ]
     },
     "execution_count": 443,
     "metadata": {},
     "output_type": "execute_result"
    }
   ],
   "source": [
    "np.maximum(condition1, condition2)"
   ]
  },
  {
   "cell_type": "markdown",
   "id": "5e6014ba",
   "metadata": {
    "tags": []
   },
   "source": [
    "# 5"
   ]
  },
  {
   "cell_type": "code",
   "execution_count": null,
   "id": "a05443c8",
   "metadata": {},
   "outputs": [],
   "source": [
    "#\n",
    "#[x1, y1\n",
    "#x2, y2]"
   ]
  },
  {
   "cell_type": "code",
   "execution_count": 677,
   "id": "c897f2d7",
   "metadata": {},
   "outputs": [],
   "source": [
    "inp = open(\"inputs/input5.txt\", \"r+\")\n",
    "inp = inp.read()\n",
    "inp = inp.split(\"\\n\")\n",
    "stack = []\n",
    "for x in range(len(inp)):\n",
    "    a = inp[x].split(\" -> \")\n",
    "    b = [cord.split(\",\") for cord in a]\n",
    "    c =  np.array(b).astype(int)\n",
    "    stack.append(c)\n",
    "inp = np.array(stack)"
   ]
  },
  {
   "cell_type": "code",
   "execution_count": 558,
   "id": "fcd39e1b",
   "metadata": {},
   "outputs": [],
   "source": [
    "#a"
   ]
  },
  {
   "cell_type": "code",
   "execution_count": 581,
   "id": "0e833286",
   "metadata": {},
   "outputs": [],
   "source": [
    "hor = []\n",
    "ver = []\n",
    "for x in inp: \n",
    "    check1 = x[0][0] == x[1][0]\n",
    "    check2 = x[0][1] == x[1][1]\n",
    "    if check1 and check2:\n",
    "        print(\"point!\")\n",
    "    if check1 :\n",
    "        hor.append(False)\n",
    "        ver.append(True)\n",
    "    elif check2:\n",
    "        hor.append(True)\n",
    "        ver.append(False)\n",
    "    else: \n",
    "        hor.append(False)\n",
    "        ver.append(False)"
   ]
  },
  {
   "cell_type": "code",
   "execution_count": 582,
   "id": "47f73a0f",
   "metadata": {},
   "outputs": [],
   "source": [
    "grid = np.zeros((1000,1000))"
   ]
  },
  {
   "cell_type": "code",
   "execution_count": 583,
   "id": "164b804b",
   "metadata": {},
   "outputs": [],
   "source": [
    "hor = inp[hor]\n",
    "ver = inp[ver]"
   ]
  },
  {
   "cell_type": "code",
   "execution_count": 584,
   "id": "2839ccb8",
   "metadata": {},
   "outputs": [],
   "source": [
    "for z in hor:\n",
    "    y = z.T[1][0]\n",
    "    xRange = z.T[0]\n",
    "    if xRange[1] >= xRange[0]:\n",
    "        grid[np.arange(xRange[0],xRange[1]+1),y] +=1\n",
    "    else:\n",
    "        grid[np.arange(xRange[1],xRange[0]+1),y] +=1"
   ]
  },
  {
   "cell_type": "code",
   "execution_count": 585,
   "id": "b4a797c5",
   "metadata": {},
   "outputs": [],
   "source": [
    "for z in ver:\n",
    "    x = z.T[0][0]\n",
    "    yRange = z.T[1]\n",
    "    if yRange[1] >= yRange[0]:\n",
    "        grid[x, np.arange(yRange[0],yRange[1]+1)] +=1\n",
    "    else:\n",
    "        grid[x, np.arange(yRange[1],yRange[0]+1)] +=1"
   ]
  },
  {
   "cell_type": "code",
   "execution_count": 586,
   "id": "c33e6a78",
   "metadata": {},
   "outputs": [
    {
     "data": {
      "text/plain": [
       "<matplotlib.image.AxesImage at 0x7f8d7f8c1898>"
      ]
     },
     "execution_count": 586,
     "metadata": {},
     "output_type": "execute_result"
    },
    {
     "data": {
      "image/png": "[encoded data removed]",
      "text/plain": [
       "<Figure size 432x288 with 1 Axes>"
      ]
     },
     "metadata": {
      "needs_background": "light"
     },
     "output_type": "display_data"
    }
   ],
   "source": [
    "plt.imshow(grid)"
   ]
  },
  {
   "cell_type": "code",
   "execution_count": 588,
   "id": "014c7ecd",
   "metadata": {},
   "outputs": [
    {
     "data": {
      "text/plain": [
       "7468"
      ]
     },
     "execution_count": 588,
     "metadata": {},
     "output_type": "execute_result"
    }
   ],
   "source": [
    "(grid >= 2).sum()"
   ]
  },
  {
   "cell_type": "code",
   "execution_count": null,
   "id": "a2bbaaee",
   "metadata": {},
   "outputs": [],
   "source": [
    "#b"
   ]
  },
  {
   "cell_type": "code",
   "execution_count": 739,
   "id": "b03414ce",
   "metadata": {},
   "outputs": [
    {
     "data": {
      "text/plain": [
       "array([[130, 130, 130, 130, 130, 130, 130, 130, 130, 130, 130, 130, 130,\n",
       "        130, 130, 130, 130, 130, 130, 130, 130, 130, 130, 130, 130, 130,\n",
       "        130, 130, 130, 130, 130, 130, 130, 130, 130, 130, 130, 130, 130,\n",
       "        130, 130, 130, 130, 130, 130, 130, 130, 130, 130, 130],\n",
       "       [657, 658, 659, 660, 661, 662, 663, 664, 665, 666, 667, 668, 669,\n",
       "        670, 671, 672, 673, 674, 675, 676, 677, 678, 679, 680, 681, 682,\n",
       "        683, 684, 685, 686, 687, 688, 689, 690, 691, 692, 693, 694, 695,\n",
       "        696, 697, 698, 699, 700, 701, 702, 703, 704, 705, 706]])"
      ]
     },
     "execution_count": 739,
     "metadata": {},
     "output_type": "execute_result"
    }
   ],
   "source": [
    "points"
   ]
  },
  {
   "cell_type": "code",
   "execution_count": 786,
   "id": "cd3adccf",
   "metadata": {},
   "outputs": [
    {
     "data": {
      "text/plain": [
       "array([[593,  10],\n",
       "       [593,  98]])"
      ]
     },
     "execution_count": 786,
     "metadata": {},
     "output_type": "execute_result"
    }
   ],
   "source": [
    "inp[0]"
   ]
  },
  {
   "cell_type": "code",
   "execution_count": 788,
   "id": "66567734",
   "metadata": {},
   "outputs": [],
   "source": [
    "grid = np.zeros((1000,1000))"
   ]
  },
  {
   "cell_type": "code",
   "execution_count": 789,
   "id": "8bd31a35",
   "metadata": {},
   "outputs": [],
   "source": [
    "for p in inp: \n",
    "    #create the points \n",
    "    number_of_points= np.max(list((np.abs(p.T[1][0] - p.T[1][1]),np.abs(p.T[0][0] - p.T[0][1])))) + 1\n",
    "    xs=np.linspace(p.T[0][0],p.T[0][1],number_of_points)\n",
    "    ys=np.linspace(p.T[1][0],p.T[1][1],number_of_points)\n",
    "    grid[xs.astype(int),ys.astype(int)] +=1"
   ]
  },
  {
   "cell_type": "code",
   "execution_count": 790,
   "id": "076bf451",
   "metadata": {},
   "outputs": [
    {
     "data": {
      "text/plain": [
       "<matplotlib.image.AxesImage at 0x7f8d7dab1128>"
      ]
     },
     "execution_count": 790,
     "metadata": {},
     "output_type": "execute_result"
    },
    {
     "data": {
      "image/png": "[encoded data removed]",
      "text/plain": [
       "<Figure size 432x288 with 1 Axes>"
      ]
     },
     "metadata": {
      "needs_background": "light"
     },
     "output_type": "display_data"
    }
   ],
   "source": [
    "plt.imshow(grid)"
   ]
  },
  {
   "cell_type": "code",
   "execution_count": 791,
   "id": "0aad8f92",
   "metadata": {},
   "outputs": [
    {
     "data": {
      "text/plain": [
       "22364"
      ]
     },
     "execution_count": 791,
     "metadata": {},
     "output_type": "execute_result"
    }
   ],
   "source": [
    "(grid >= 2).sum()"
   ]
  },
  {
   "cell_type": "markdown",
   "id": "50694227",
   "metadata": {
    "tags": []
   },
   "source": [
    "# 6"
   ]
  },
  {
   "cell_type": "code",
   "execution_count": 801,
   "id": "bd1b5297",
   "metadata": {},
   "outputs": [],
   "source": [
    "inp = open(\"inputs/input6.txt\", \"r+\")\n",
    "inp = inp.read()\n",
    "inp = np.array(inp.split(\",\")).astype(int)"
   ]
  },
  {
   "cell_type": "code",
   "execution_count": null,
   "id": "b9ef839a",
   "metadata": {},
   "outputs": [],
   "source": [
    "#a brute force"
   ]
  },
  {
   "cell_type": "code",
   "execution_count": 961,
   "id": "5fe83f7e",
   "metadata": {},
   "outputs": [
    {
     "data": {
      "text/plain": [
       "395627"
      ]
     },
     "execution_count": 961,
     "metadata": {},
     "output_type": "execute_result"
    }
   ],
   "source": [
    "current = inp\n",
    "counter = [len(current)]\n",
    "for x in range(80): \n",
    "    current = current -1\n",
    "    bebe = np.where(current <0, True,False)\n",
    "    new = sum(bebe)\n",
    "    current[bebe] = 6\n",
    "    current = np.append(current,[8]*new)\n",
    "    counter.append(len(current))\n",
    "len(current)"
   ]
  },
  {
   "cell_type": "code",
   "execution_count": null,
   "id": "5382146e",
   "metadata": {},
   "outputs": [],
   "source": [
    "# b nice"
   ]
  },
  {
   "cell_type": "code",
   "execution_count": 962,
   "id": "f3c57130",
   "metadata": {},
   "outputs": [
    {
     "data": {
      "text/plain": [
       "1767323539209"
      ]
     },
     "execution_count": 962,
     "metadata": {},
     "output_type": "execute_result"
    }
   ],
   "source": [
    "counter = [0]\n",
    "for x in range (0,9): \n",
    "    counter.append(len(np.where(inp == x)[0]))\n",
    "counter = np.array(counter)\n",
    "for x in range(256):\n",
    "    counter = np.roll(counter,-1)\n",
    "    counter[-1] = counter[0]\n",
    "    counter[-3] += counter[0]\n",
    "    counter[0] =  0 \n",
    "sum(counter)"
   ]
  },
  {
   "cell_type": "markdown",
   "id": "2f19a03d",
   "metadata": {
    "tags": []
   },
   "source": [
    "# 7"
   ]
  },
  {
   "cell_type": "code",
   "execution_count": 963,
   "id": "b1382535",
   "metadata": {},
   "outputs": [],
   "source": [
    "inp = open(\"inputs/input7.txt\", \"r+\")\n",
    "inp = inp.read()\n",
    "inp = np.array(inp.split(\",\")).astype(int)"
   ]
  },
  {
   "cell_type": "code",
   "execution_count": null,
   "id": "bb14b570",
   "metadata": {},
   "outputs": [],
   "source": [
    "#a"
   ]
  },
  {
   "cell_type": "code",
   "execution_count": 973,
   "id": "f85ea894",
   "metadata": {},
   "outputs": [
    {
     "data": {
      "text/plain": [
       "341.0"
      ]
     },
     "execution_count": 973,
     "metadata": {},
     "output_type": "execute_result"
    }
   ],
   "source": [
    "np.median(inp)"
   ]
  },
  {
   "cell_type": "code",
   "execution_count": 974,
   "id": "d651623f",
   "metadata": {},
   "outputs": [
    {
     "data": {
      "text/plain": [
       "344605"
      ]
     },
     "execution_count": 974,
     "metadata": {},
     "output_type": "execute_result"
    }
   ],
   "source": [
    "np.sum(np.abs(inp - 341))"
   ]
  },
  {
   "cell_type": "code",
   "execution_count": null,
   "id": "5bb8e7d9",
   "metadata": {},
   "outputs": [],
   "source": [
    "#b"
   ]
  },
  {
   "cell_type": "code",
   "execution_count": 1016,
   "id": "e54196ae",
   "metadata": {},
   "outputs": [],
   "source": [
    "def check(g):\n",
    "    dist = np.abs(inp - g)\n",
    "    scaled_dist = ((dist*(dist+1)) / 2)\n",
    "    return sum(scaled_dist)"
   ]
  },
  {
   "cell_type": "code",
   "execution_count": 1018,
   "id": "fd1267b2",
   "metadata": {
    "tags": []
   },
   "outputs": [],
   "source": [
    "distance = []\n",
    "up = max(inp)\n",
    "down = min(inp)\n",
    "for x in range(down,up):\n",
    "    distance.append(check(x))"
   ]
  },
  {
   "cell_type": "code",
   "execution_count": 1023,
   "id": "5ce85d82",
   "metadata": {},
   "outputs": [
    {
     "data": {
      "text/plain": [
       "93699985.0"
      ]
     },
     "execution_count": 1023,
     "metadata": {},
     "output_type": "execute_result"
    }
   ],
   "source": [
    "min(distance)"
   ]
  },
  {
   "cell_type": "markdown",
   "id": "cbd73720",
   "metadata": {
    "tags": []
   },
   "source": [
    "# 8"
   ]
  },
  {
   "cell_type": "code",
   "execution_count": 1050,
   "id": "14f41fa4",
   "metadata": {},
   "outputs": [],
   "source": [
    "inp = open(\"inputs/input8.txt\", \"r+\")\n",
    "inp = inp.read()\n",
    "inp = inp.split(\"\\n\")\n",
    "inp = [line.split(\" | \") for line in inp]\n",
    "inp = [[line.split(\" \") for line in inpLine] for inpLine in inp]"
   ]
  },
  {
   "cell_type": "code",
   "execution_count": null,
   "id": "512d20ec",
   "metadata": {},
   "outputs": [],
   "source": [
    "# a "
   ]
  },
  {
   "cell_type": "code",
   "execution_count": 1056,
   "id": "817d2d22",
   "metadata": {},
   "outputs": [],
   "source": [
    "out = [x[1] for x in inp]"
   ]
  },
  {
   "cell_type": "code",
   "execution_count": 1064,
   "id": "8436b752",
   "metadata": {},
   "outputs": [],
   "source": [
    "counter = 0\n",
    "for x in out: \n",
    "    for instance in x: \n",
    "        if len(instance) == 2 or len(instance) == 3 or len(instance) == 4 or len(instance) == 7:\n",
    "            counter +=1 "
   ]
  },
  {
   "cell_type": "code",
   "execution_count": 1065,
   "id": "c0549649",
   "metadata": {},
   "outputs": [
    {
     "data": {
      "text/plain": [
       "381"
      ]
     },
     "execution_count": 1065,
     "metadata": {},
     "output_type": "execute_result"
    }
   ],
   "source": [
    "counter"
   ]
  },
  {
   "cell_type": "code",
   "execution_count": null,
   "id": "513946a1",
   "metadata": {},
   "outputs": [],
   "source": [
    "# b "
   ]
  },
  {
   "cell_type": "code",
   "execution_count": null,
   "id": "e48260a0",
   "metadata": {},
   "outputs": [],
   "source": [
    "# 2 --> 2\n",
    "# 3 --> 7\n",
    "# 4 --> 4 \n",
    "# 5 --> 2, 3 ,5 \n",
    "# 6 --> 0, 6, 9\n",
    "# 7 --> 8"
   ]
  },
  {
   "cell_type": "code",
   "execution_count": 1084,
   "id": "234e2571",
   "metadata": {},
   "outputs": [],
   "source": [
    "tester = [sorted(x) for x in inp[0][0]]"
   ]
  },
  {
   "cell_type": "code",
   "execution_count": 1099,
   "id": "8cccd306",
   "metadata": {},
   "outputs": [],
   "source": [
    "decoding = {}\n",
    "positions = {}\n",
    "for x in [\"a\",\"b\",\"c\",\"d\",\"e\",\"f\",\"g\"]:\n",
    "    positions[x] = None"
   ]
  },
  {
   "cell_type": "code",
   "execution_count": 1100,
   "id": "1f5105fb",
   "metadata": {},
   "outputs": [],
   "source": [
    "for x in range(len(tester)): \n",
    "    if len(tester[x]) == 2: \n",
    "        decoding[1] = tester[x]\n",
    "    elif len(tester[x]) == 3: \n",
    "        decoding[7] = tester[x]\n",
    "    elif len(tester[x]) == 4: \n",
    "        decoding[4] = tester[x]\n",
    "    elif len(tester[x]) == 7: \n",
    "        decoding[8] = tester[x]"
   ]
  },
  {
   "cell_type": "code",
   "execution_count": 1104,
   "id": "856ab391",
   "metadata": {},
   "outputs": [],
   "source": [
    "for x in decoding[4]:\n",
    "    if x not in decoding[1]:\n",
    "        positions[\"a\"] = x"
   ]
  },
  {
   "cell_type": "code",
   "execution_count": 1115,
   "id": "f52592c3",
   "metadata": {},
   "outputs": [],
   "source": [
    "for x in tester:\n",
    "    nine = True\n",
    "    if len(x) != 6:\n",
    "        pass\n",
    "        nine = False\n",
    "    else: \n",
    "        for y in set(decoding[4] + decoding[7]):\n",
    "            if y not in x:\n",
    "                nine = False\n",
    "    if nine == True:\n",
    "        nine = x\n",
    "        break\n",
    "for x in nine: \n",
    "    if x not in set(decoding[4] + decoding[7]):\n",
    "        positions[\"g\"] = x\n",
    "decoding[9] = nine"
   ]
  },
  {
   "cell_type": "code",
   "execution_count": 1116,
   "id": "0ad76cb1",
   "metadata": {},
   "outputs": [
    {
     "data": {
      "text/plain": [
       "{'a': 'd', 'b': None, 'c': None, 'd': None, 'e': None, 'f': None, 'g': 'a'}"
      ]
     },
     "execution_count": 1116,
     "metadata": {},
     "output_type": "execute_result"
    }
   ],
   "source": [
    "positions"
   ]
  },
  {
   "cell_type": "code",
   "execution_count": 1117,
   "id": "9d6ce22b",
   "metadata": {},
   "outputs": [
    {
     "data": {
      "text/plain": [
       "{8: ['a', 'b', 'c', 'd', 'e', 'f', 'g'],\n",
       " 4: ['b', 'c', 'd', 'f'],\n",
       " 1: ['c', 'f'],\n",
       " 7: ['c', 'f', 'g'],\n",
       " 9: ['a', 'b', 'c', 'd', 'f', 'g']}"
      ]
     },
     "execution_count": 1117,
     "metadata": {},
     "output_type": "execute_result"
    }
   ],
   "source": [
    "decoding"
   ]
  },
  {
   "cell_type": "code",
   "execution_count": null,
   "id": "a772bbbc",
   "metadata": {},
   "outputs": [],
   "source": []
  },
  {
   "cell_type": "code",
   "execution_count": null,
   "id": "0b038129",
   "metadata": {},
   "outputs": [],
   "source": []
  },
  {
   "cell_type": "code",
   "execution_count": null,
   "id": "0bc6238d",
   "metadata": {},
   "outputs": [],
   "source": []
  },
  {
   "cell_type": "code",
   "execution_count": null,
   "id": "c5cd1443",
   "metadata": {},
   "outputs": [],
   "source": []
  },
  {
   "cell_type": "code",
   "execution_count": 1106,
   "id": "47b31405",
   "metadata": {},
   "outputs": [
    {
     "data": {
      "text/plain": [
       "{'a': 'd', 'b': None, 'c': None, 'd': None, 'e': None, 'f': None, 'g': None}"
      ]
     },
     "execution_count": 1106,
     "metadata": {},
     "output_type": "execute_result"
    }
   ],
   "source": [
    "positions"
   ]
  },
  {
   "cell_type": "code",
   "execution_count": 1071,
   "id": "d1ca26b5",
   "metadata": {},
   "outputs": [
    {
     "data": {
      "text/plain": [
       "(array([], dtype=int64),)"
      ]
     },
     "execution_count": 1071,
     "metadata": {},
     "output_type": "execute_result"
    }
   ],
   "source": [
    "np.where(len(inp[0][0]) == 2 )"
   ]
  },
  {
   "cell_type": "code",
   "execution_count": 1077,
   "id": "2b42a800",
   "metadata": {},
   "outputs": [
    {
     "data": {
      "text/plain": [
       "['cfgeda',\n",
       " 'afcbg',\n",
       " 'fbcdaeg',\n",
       " 'gbdfa',\n",
       " 'fdgcba',\n",
       " 'cbdf',\n",
       " 'becga',\n",
       " 'cf',\n",
       " 'gcf',\n",
       " 'gbdefa']"
      ]
     },
     "execution_count": 1077,
     "metadata": {},
     "output_type": "execute_result"
    }
   ],
   "source": [
    "for x in inp[0][0]:\n",
    " "
   ]
  },
  {
   "cell_type": "code",
   "execution_count": 1073,
   "id": "9f2f3546",
   "metadata": {},
   "outputs": [
    {
     "ename": "SyntaxError",
     "evalue": "can't assign to literal (<ipython-input-1073-be3572498821>, line 1)",
     "output_type": "error",
     "traceback": [
      "\u001b[0;36m  File \u001b[0;32m\"<ipython-input-1073-be3572498821>\"\u001b[0;36m, line \u001b[0;32m1\u001b[0m\n\u001b[0;31m    \"1\" = np.where(len(inp[0][0]) ==2 )\u001b[0m\n\u001b[0m                                       ^\u001b[0m\n\u001b[0;31mSyntaxError\u001b[0m\u001b[0;31m:\u001b[0m can't assign to literal\n"
     ]
    }
   ],
   "source": [
    " = np.where(len(inp[0][0]) ==2 )"
   ]
  },
  {
   "cell_type": "markdown",
   "id": "308c274c",
   "metadata": {
    "tags": []
   },
   "source": [
    "# 9"
   ]
  },
  {
   "cell_type": "code",
   "execution_count": 1535,
   "id": "6174ca03",
   "metadata": {},
   "outputs": [],
   "source": [
    "inp = open(\"inputs/input9.txt\", \"r+\")\n",
    "inp = inp.read()\n",
    "inp = inp.split(\"\\n\")\n",
    "del inp[-1]\n",
    "inp = np.array([list(x) for x in inp]).astype(int)"
   ]
  },
  {
   "cell_type": "code",
   "execution_count": 1536,
   "id": "9b3492c3",
   "metadata": {},
   "outputs": [],
   "source": [
    "#padding\n",
    "padded = np.pad(inp,1, constant_values=np.inf)"
   ]
  },
  {
   "cell_type": "code",
   "execution_count": 1537,
   "id": "34f5a741",
   "metadata": {},
   "outputs": [],
   "source": [
    "center = padded[1:101,1:101]"
   ]
  },
  {
   "cell_type": "code",
   "execution_count": 1538,
   "id": "3d4b8b10",
   "metadata": {},
   "outputs": [],
   "source": [
    "up = padded[0:100,1:101]\n",
    "down = padded[2:102,1:101]\n",
    "left = padded[1:101,0:100]\n",
    "right = padded[1:101,2:102]"
   ]
  },
  {
   "cell_type": "code",
   "execution_count": 1539,
   "id": "1b7e5893",
   "metadata": {},
   "outputs": [],
   "source": [
    "gradUP = np.where((center - up) < 0, True, False)\n",
    "gradDO = np.where((center - down) < 0, True, False)\n",
    "gradLE = np.where((center - left) < 0, True, False)\n",
    "gradRI = np.where((center - right) < 0, True, False)"
   ]
  },
  {
   "cell_type": "code",
   "execution_count": 1540,
   "id": "9881be8a",
   "metadata": {},
   "outputs": [
    {
     "data": {
      "text/plain": [
       "456"
      ]
     },
     "execution_count": 1540,
     "metadata": {},
     "output_type": "execute_result"
    }
   ],
   "source": [
    "sum(center[gradRI & gradUP & gradLE & gradDO] +1)"
   ]
  },
  {
   "cell_type": "code",
   "execution_count": 1658,
   "id": "ba101ee2",
   "metadata": {},
   "outputs": [],
   "source": [
    "# b"
   ]
  },
  {
   "cell_type": "code",
   "execution_count": 1791,
   "id": "1d6ab225",
   "metadata": {},
   "outputs": [],
   "source": [
    "basins = np.stack(np.where((gradRI & gradUP & gradLE & gradDO) == True)).T\n",
    "group = np.zeros((100,100,2))\n",
    "group[:,:,:] = np.nan"
   ]
  },
  {
   "cell_type": "code",
   "execution_count": 1792,
   "id": "8eff48f6",
   "metadata": {},
   "outputs": [],
   "source": [
    "def grow_basin(which):\n",
    "    stack = []\n",
    "    stack.append(which)\n",
    "    group[which[0],which[1]] = which\n",
    "    while len(stack) > 0: \n",
    "        current = stack.pop()\n",
    "        \n",
    "        if (current[1] < 99) and (current[0] < 99): \n",
    "            center = inp[current[0],current[1]]\n",
    "            down = inp[current[0],current[1] + 1 ]\n",
    "            up = inp[current[0],current[1] -1 ]\n",
    "            left = inp[current[0] -1,current[1]]\n",
    "            right = inp[current[0] +1,current[1]]\n",
    "        elif (current[1] >= 99) and (current[0] >= 99): \n",
    "            center = inp[current[0],current[1]]\n",
    "            down = inp[current[0],current[1]]\n",
    "            up = inp[current[0],current[1] -1]\n",
    "            left = inp[current[0] -1,current[1]]\n",
    "            right = inp[current[0],current[1]]\n",
    "        elif current[1] >= 99:\n",
    "            center = inp[current[0],current[1]]\n",
    "            down = inp[current[0],current[1]]\n",
    "            up = inp[current[0],current[1] -1 ]\n",
    "            left = inp[current[0] -1,current[1]]\n",
    "            right = inp[current[0] +1,current[1]]\n",
    "        elif current[0] >= 99:\n",
    "            center = inp[current[0],current[1]]\n",
    "            down = inp[current[0],current[1]+1]\n",
    "            up = inp[current[0],current[1] -1 ]\n",
    "            left = inp[current[0] -1,current[1]]\n",
    "            right = inp[current[0],current[1]]\n",
    "            \n",
    "\n",
    "        if (down > center) & (down != 9) & (current[1] +1 < 100):\n",
    "            if np.all(np.isnan(group[current[0],current[1]+1])):\n",
    "                stack.append(current + np.array([0,1]))\n",
    "                group[current[0],current[1]+1] = group[current[0], current[1]]\n",
    "        if (up > center) & (up != 9)& (current[1] -1 >= 0):\n",
    "            if np.all(np.isnan(group[current[0],current[1]-1])):\n",
    "                stack.append(current + np.array([0,-1]))\n",
    "                group[current[0],current[1]-1] = group[current[0], current[1]]\n",
    "        if (left > center) & (left != 9) & (current[0] -1 >=0):\n",
    "            if np.all(np.isnan(group[current[0]-1,current[1]])):\n",
    "                stack.append(current + np.array([-1,0]))\n",
    "                group[current[0]-1,current[1]] = group[current[0], current[1]]\n",
    "        if (right > center) & (right != 9) & (current[0] +1 < 100):\n",
    "            if np.all(np.isnan(group[current[0]+1,current[1]])):\n",
    "                stack.append(current + np.array([1,0]))\n",
    "                group[current[0]+1,current[1]] = group[current[0], current[1]]\n",
    "    "
   ]
  },
  {
   "cell_type": "code",
   "execution_count": 1793,
   "id": "03e63ebf",
   "metadata": {
    "tags": []
   },
   "outputs": [],
   "source": [
    "for x in basins:\n",
    "    grow_basin(x)    "
   ]
  },
  {
   "cell_type": "code",
   "execution_count": 1794,
   "id": "0f96c706",
   "metadata": {},
   "outputs": [
    {
     "data": {
      "text/plain": [
       "(array([], dtype=int64), array([], dtype=int64))"
      ]
     },
     "execution_count": 1794,
     "metadata": {},
     "output_type": "execute_result"
    }
   ],
   "source": [
    "np.where(((np.all(np.isnan(group),axis=2)==True) == (inp == 9)) == False) # Check if only 9s are still nan"
   ]
  },
  {
   "cell_type": "code",
   "execution_count": 1796,
   "id": "50e05f9c",
   "metadata": {},
   "outputs": [],
   "source": [
    "a = np.reshape(group,(10000,2))"
   ]
  },
  {
   "cell_type": "code",
   "execution_count": 1797,
   "id": "982e7cba",
   "metadata": {},
   "outputs": [],
   "source": [
    "counter = {}\n",
    "for x in a: \n",
    "    if str(x) in counter.keys():\n",
    "        counter[str(x)] +=1\n",
    "    else:\n",
    "        counter[str(x)] =1"
   ]
  },
  {
   "cell_type": "code",
   "execution_count": 1798,
   "id": "adb65b2a",
   "metadata": {},
   "outputs": [],
   "source": [
    "a = sorted(counter, key=lambda k: counter[k])\n",
    "a.reverse()"
   ]
  },
  {
   "cell_type": "code",
   "execution_count": 1803,
   "id": "ec2fc58c",
   "metadata": {},
   "outputs": [
    {
     "data": {
      "text/plain": [
       "96"
      ]
     },
     "execution_count": 1803,
     "metadata": {},
     "output_type": "execute_result"
    }
   ],
   "source": [
    "counter[a[3]]"
   ]
  },
  {
   "cell_type": "code",
   "execution_count": 1804,
   "id": "248cdd35",
   "metadata": {},
   "outputs": [
    {
     "data": {
      "text/plain": [
       "1047744"
      ]
     },
     "execution_count": 1804,
     "metadata": {},
     "output_type": "execute_result"
    }
   ],
   "source": [
    "counter[a[1]] * counter[a[2]] * counter[a[3]]"
   ]
  },
  {
   "cell_type": "markdown",
   "id": "5e801c6f",
   "metadata": {
    "tags": []
   },
   "source": [
    "# 10"
   ]
  },
  {
   "cell_type": "code",
   "execution_count": 1519,
   "id": "c9096fb0",
   "metadata": {},
   "outputs": [],
   "source": [
    "inp = open(\"inputs/input10.txt\", \"r+\")\n",
    "inp = inp.read()\n",
    "inp = inp.split(\"\\n\")\n",
    "inp = [list(x) for x in inp]\n",
    "del inp[-1]"
   ]
  },
  {
   "cell_type": "code",
   "execution_count": 1520,
   "id": "98f97977",
   "metadata": {},
   "outputs": [],
   "source": [
    "ends = [\")\",\">\",\"]\",\"}\"]\n",
    "mapping = {\"}\": \"{\",\")\": \"(\",\"]\": \"[\",\">\": \"<\"}\n",
    "inv_map = {v: k for k, v in mapping.items()}"
   ]
  },
  {
   "cell_type": "code",
   "execution_count": 1521,
   "id": "2913a852",
   "metadata": {},
   "outputs": [],
   "source": [
    "def check_line(line):\n",
    "    count = 0\n",
    "    stack = []\n",
    "    for x in line:\n",
    "        if x not in ends: \n",
    "            stack.append(x)\n",
    "        else:\n",
    "            op = stack.pop()\n",
    "            if op != mapping[x]:\n",
    "                return x,count\n",
    "        count+=1\n",
    "    return False\n",
    "    "
   ]
  },
  {
   "cell_type": "code",
   "execution_count": 1522,
   "id": "b8d2f881",
   "metadata": {},
   "outputs": [],
   "source": [
    "result = []\n",
    "for line in inp: \n",
    "    result.append(check_line(line))"
   ]
  },
  {
   "cell_type": "code",
   "execution_count": 1523,
   "id": "50f0025b",
   "metadata": {},
   "outputs": [],
   "source": [
    "#a"
   ]
  },
  {
   "cell_type": "code",
   "execution_count": 1524,
   "id": "2ec40c92",
   "metadata": {},
   "outputs": [],
   "source": [
    "out = []\n",
    "for x in result:\n",
    "    if x: \n",
    "        out.append(x[0])"
   ]
  },
  {
   "cell_type": "code",
   "execution_count": 1525,
   "id": "b2c3b89a",
   "metadata": {},
   "outputs": [
    {
     "data": {
      "text/plain": [
       "243939"
      ]
     },
     "execution_count": 1525,
     "metadata": {},
     "output_type": "execute_result"
    }
   ],
   "source": [
    "out.count(\")\") * 3  + out.count(\"]\") * 57  + out.count(\"}\") * 1197  +out.count(\">\") * 25137  "
   ]
  },
  {
   "cell_type": "code",
   "execution_count": 1526,
   "id": "5a1b457f",
   "metadata": {},
   "outputs": [],
   "source": [
    "#b"
   ]
  },
  {
   "cell_type": "code",
   "execution_count": 1527,
   "id": "a54bc0eb",
   "metadata": {},
   "outputs": [],
   "source": [
    "correct = []\n",
    "for x in range(len(result)):\n",
    "    if not result[x]:\n",
    "        correct.append(inp[x])"
   ]
  },
  {
   "cell_type": "code",
   "execution_count": 1528,
   "id": "38009e1f",
   "metadata": {},
   "outputs": [],
   "source": [
    "def complete_line(line):\n",
    "    stack = []\n",
    "    for x in line:\n",
    "        if x not in ends: \n",
    "            stack.append(x)\n",
    "        else:\n",
    "            op = stack.pop()\n",
    "    stack.reverse()\n",
    "    return [inv_map[x] for x in stack]"
   ]
  },
  {
   "cell_type": "code",
   "execution_count": 1529,
   "id": "39bfaa71",
   "metadata": {},
   "outputs": [],
   "source": [
    "def calc_result(comp):\n",
    "    score = 0\n",
    "    for x in comp: \n",
    "        score = score * 5 \n",
    "        if x == \")\":\n",
    "            score += 1\n",
    "        elif x == \"]\":\n",
    "            score += 2\n",
    "        elif x == \"}\":\n",
    "            score += 3\n",
    "        elif x == \">\":\n",
    "            score += 4\n",
    "        else:\n",
    "            print(\"broken\")\n",
    "    return score"
   ]
  },
  {
   "cell_type": "code",
   "execution_count": 1530,
   "id": "155e4fb0",
   "metadata": {},
   "outputs": [],
   "source": [
    "completions = [complete_line(x) for x in correct]"
   ]
  },
  {
   "cell_type": "code",
   "execution_count": 1531,
   "id": "bb3c6474",
   "metadata": {},
   "outputs": [],
   "source": [
    "scores = [calc_result(x) for x in completions]"
   ]
  },
  {
   "cell_type": "code",
   "execution_count": 1532,
   "id": "711ff94b",
   "metadata": {},
   "outputs": [],
   "source": [
    "scores = sorted(scores)"
   ]
  },
  {
   "cell_type": "code",
   "execution_count": 1534,
   "id": "12b3136a",
   "metadata": {},
   "outputs": [
    {
     "data": {
      "text/plain": [
       "2421222841"
      ]
     },
     "execution_count": 1534,
     "metadata": {},
     "output_type": "execute_result"
    }
   ],
   "source": [
    "scores[25]"
   ]
  },
  {
   "cell_type": "code",
   "execution_count": 1533,
   "id": "875adc4b",
   "metadata": {},
   "outputs": [
    {
     "data": {
      "text/plain": [
       "51"
      ]
     },
     "execution_count": 1533,
     "metadata": {},
     "output_type": "execute_result"
    }
   ],
   "source": [
    "len(scores)"
   ]
  },
  {
   "cell_type": "markdown",
   "id": "696748e0",
   "metadata": {
    "jp-MarkdownHeadingCollapsed": true,
    "tags": []
   },
   "source": [
    "# 11"
   ]
  },
  {
   "cell_type": "code",
   "execution_count": 173,
   "id": "82641e57",
   "metadata": {},
   "outputs": [],
   "source": [
    "inp = open(\"inputs/input11.txt\", \"r+\")\n",
    "inp = inp.read()\n",
    "inp = inp.split(\"\\n\")\n",
    "inp = np.array([list(x) for x in inp]).astype(int)"
   ]
  },
  {
   "cell_type": "code",
   "execution_count": 174,
   "id": "38a664e9",
   "metadata": {},
   "outputs": [],
   "source": [
    "def raise_arround(x,y):\n",
    "    if x > 0:\n",
    "        start[x-1,y] += 1\n",
    "    if x < (len(start) -1) :\n",
    "        start[x+1,y] += 1\n",
    "    if y > 0:\n",
    "        start[x,y-1] += 1\n",
    "    if y < (len(start) -1):\n",
    "        start[x,y+1] += 1  \n",
    "    if (x < (len(start) -1)) and (y < (len(start) -1)):\n",
    "        start[x+1,y+1] += 1\n",
    "    if (x > 0 ) and (y > 0 ):\n",
    "        start[x-1,y-1 ] += 1\n",
    "    if (x < (len(start) -1)) and (y > 0):\n",
    "        start[x+1,y-1] += 1\n",
    "    if (x > 0) and (y < (len(start) -1)):\n",
    "        start[x-1,y+1] += 1"
   ]
  },
  {
   "cell_type": "code",
   "execution_count": 196,
   "id": "099b0705",
   "metadata": {},
   "outputs": [],
   "source": [
    "# step 2\n",
    "def check_blink():\n",
    "    current = np.where((start >= 10) & (~ blink))\n",
    "    blink[current] = True\n",
    "    for x in range(len(current[0])):\n",
    "            raise_arround(current[0][x],current[1][x])\n",
    "    if len(np.where((start >= 10) & (~ blink))[0]) > 0:\n",
    "        check_blink()\n",
    "    else:\n",
    "        pass"
   ]
  },
  {
   "cell_type": "code",
   "execution_count": 202,
   "id": "8435ce00",
   "metadata": {
    "tags": []
   },
   "outputs": [
    {
     "name": "stdout",
     "output_type": "stream",
     "text": [
      "323\n",
      "333\n",
      "343\n",
      "353\n",
      "363\n",
      "373\n",
      "383\n",
      "393\n",
      "403\n",
      "413\n",
      "423\n",
      "433\n",
      "443\n",
      "453\n",
      "463\n",
      "473\n",
      "483\n",
      "493\n"
     ]
    },
    {
     "data": {
      "text/plain": [
       "6977"
      ]
     },
     "execution_count": 202,
     "metadata": {},
     "output_type": "execute_result"
    }
   ],
   "source": [
    "start = inp.astype(int)\n",
    "counter = 0\n",
    "for x in range(500):\n",
    "    blink = np.zeros(inp.shape).astype(bool)\n",
    "    start = start + 1\n",
    "    check_blink()\n",
    "    counter += blink.sum()\n",
    "    if blink.sum() == 100: \n",
    "        print(x)\n",
    "    start[np.where(start >= 10)] = 0 \n",
    "counter"
   ]
  },
  {
   "cell_type": "code",
   "execution_count": 165,
   "id": "383271ef",
   "metadata": {
    "tags": []
   },
   "outputs": [
    {
     "data": {
      "text/plain": [
       "array([[1, 6, 5, 7, 0, 9, 7, 6, 6, 6],\n",
       "       [1, 7, 6, 2, 4, 0, 9, 7, 6, 6],\n",
       "       [1, 8, 9, 1, 3, 0, 0, 9, 7, 6],\n",
       "       [8, 1, 1, 1, 2, 4, 0, 0, 9, 7],\n",
       "       [1, 1, 1, 1, 1, 2, 6, 5, 0, 9],\n",
       "       [6, 1, 1, 1, 1, 5, 3, 3, 4, 0],\n",
       "       [4, 5, 7, 5, 4, 3, 2, 2, 3, 3],\n",
       "       [3, 3, 4, 6, 2, 2, 2, 2, 2, 8],\n",
       "       [4, 4, 3, 5, 8, 5, 4, 3, 8, 6],\n",
       "       [0, 4, 3, 4, 0, 0, 0, 8, 6, 5]])"
      ]
     },
     "execution_count": 165,
     "metadata": {},
     "output_type": "execute_result"
    }
   ],
   "source": [
    "start"
   ]
  },
  {
   "cell_type": "code",
   "execution_count": 107,
   "id": "829543d3",
   "metadata": {},
   "outputs": [
    {
     "data": {
      "text/plain": [
       "array([[  10,   10,    4,    5,   10,   10,   12,    8,   11,   11],\n",
       "       [  13,   16,   10,   15,   11,   14,   20,   17,   22,   14],\n",
       "       [   8,   16,   13,   12,   15,   17,   10,   18,   14,   10],\n",
       "       [2946, 2945,   14,   14,   12,   18,   18,   11,   10,   10],\n",
       "       [   9, 2943,   14,   10,   12,   13,   12,   13,    6,    7],\n",
       "       [2946, 2943,   16,   14,   11,   13,   10,   13,   10,    5],\n",
       "       [  11,   13,   17,   15,   15,   13,   14,   12,   14,    7],\n",
       "       [  13,   19,   10,   10,    6,   10,   12,   10,   16,   14],\n",
       "       [  13,   15,   18,   10,    4,    8,   11,   16,   14,   13],\n",
       "       [   8,   12,   10,   10,    6,    5,   10,   15,   10,   10]])"
      ]
     },
     "execution_count": 107,
     "metadata": {},
     "output_type": "execute_result"
    }
   ],
   "source": [
    "start"
   ]
  },
  {
   "cell_type": "code",
   "execution_count": 15,
   "id": "c1e5c1aa",
   "metadata": {},
   "outputs": [
    {
     "data": {
      "text/plain": [
       "array([[False, False, False, False, False, False,  True, False, False,\n",
       "        False],\n",
       "       [False, False, False, False, False, False, False, False, False,\n",
       "        False],\n",
       "       [False,  True, False, False,  True, False, False,  True, False,\n",
       "        False],\n",
       "       [False, False, False, False, False, False, False, False, False,\n",
       "        False],\n",
       "       [False, False, False, False, False, False, False, False, False,\n",
       "        False],\n",
       "       [False, False, False,  True, False, False, False,  True, False,\n",
       "        False],\n",
       "       [False, False, False, False, False, False, False, False,  True,\n",
       "        False],\n",
       "       [False, False, False, False, False, False,  True, False, False,\n",
       "         True],\n",
       "       [ True, False,  True, False, False, False, False, False, False,\n",
       "        False],\n",
       "       [False, False, False, False, False, False,  True, False, False,\n",
       "        False]])"
      ]
     },
     "execution_count": 15,
     "metadata": {},
     "output_type": "execute_result"
    }
   ],
   "source": [
    "inp == 9"
   ]
  },
  {
   "cell_type": "code",
   "execution_count": 144,
   "id": "460f039a",
   "metadata": {},
   "outputs": [
    {
     "data": {
      "text/plain": [
       "(array([], dtype=int64), array([], dtype=int64))"
      ]
     },
     "execution_count": 144,
     "metadata": {},
     "output_type": "execute_result"
    }
   ],
   "source": [
    "np.where(inp == 9)"
   ]
  },
  {
   "cell_type": "code",
   "execution_count": 138,
   "id": "e0e136b4",
   "metadata": {},
   "outputs": [
    {
     "data": {
      "text/plain": [
       "array([[8, 7, 2, 3, 7, 5, 9, 3, 2, 8],\n",
       "       [8, 7, 2, 8, 3, 4, 8, 7, 8, 3],\n",
       "       [3, 9, 6, 4, 9, 8, 2, 9, 4, 7],\n",
       "       [8, 3, 2, 5, 4, 7, 8, 2, 4, 6],\n",
       "       [2, 6, 4, 4, 4, 7, 6, 7, 2, 5],\n",
       "       [7, 3, 6, 9, 2, 8, 3, 9, 7, 3],\n",
       "       [6, 4, 8, 8, 7, 8, 6, 6, 9, 4],\n",
       "       [6, 7, 2, 4, 3, 7, 9, 3, 8, 9],\n",
       "       [9, 4, 9, 2, 2, 4, 5, 5, 7, 6],\n",
       "       [4, 5, 5, 6, 5, 3, 9, 8, 4, 4]])"
      ]
     },
     "execution_count": 138,
     "metadata": {},
     "output_type": "execute_result"
    }
   ],
   "source": []
  },
  {
   "cell_type": "code",
   "execution_count": null,
   "id": "2bf3cb97",
   "metadata": {},
   "outputs": [],
   "source": []
  },
  {
   "cell_type": "markdown",
   "id": "979588d9",
   "metadata": {
    "jp-MarkdownHeadingCollapsed": true,
    "tags": []
   },
   "source": [
    "# 12"
   ]
  },
  {
   "cell_type": "code",
   "execution_count": 582,
   "id": "7ccf69f8",
   "metadata": {
    "tags": []
   },
   "outputs": [],
   "source": [
    "# Function to build the graph\n",
    "def build_graph(edges):\n",
    "    graph = defaultdict(list)\n",
    "    # Loop to iterate over every\n",
    "    # edge of the graph\n",
    "    for edge in edges:\n",
    "        a, b = edge[0], edge[1]\n",
    "         \n",
    "        # Creating the graph\n",
    "        # as adjacency list\n",
    "        graph[a].append(b)\n",
    "        graph[b].append(a)\n",
    "    return graph"
   ]
  },
  {
   "cell_type": "code",
   "execution_count": 583,
   "id": "46b9a94a",
   "metadata": {},
   "outputs": [],
   "source": [
    "def printAllPathsUtil(u, d):\n",
    "    #global double\n",
    "    global counter \n",
    "\n",
    "    # Mark the current node as visited and store in path\n",
    "    if unique[u]: \n",
    "        visited[u]= True\n",
    "    path.append(u)\n",
    "\n",
    "    # If current vertex is same as destination, then print\n",
    "    # current path[]\n",
    "    if u == d:\n",
    "        counter +=1\n",
    "        collection.append(path)\n",
    "    else:\n",
    "        # If current vertex is not destination\n",
    "        # Recur for all the vertices adjacent to this vertex\n",
    "        for i in graph[u]:\n",
    "            if visited[i] == False:\n",
    "                printAllPathsUtil(i, d)\n",
    "            #elif visited[i] == True:\n",
    "                #double = i\n",
    "                #printAllPathsUtil(i, d)\n",
    "\n",
    "\n",
    "    # Remove current vertex from path[] and mark it as unvisited\n",
    "    path.pop()\n",
    "    visited[u]= False\n",
    "    #if double == u: \n",
    "     #   double = False"
   ]
  },
  {
   "cell_type": "code",
   "execution_count": 607,
   "id": "f9d6055f",
   "metadata": {},
   "outputs": [],
   "source": [
    "inp = open(\"inputs/input12.txt\", \"r+\")\n",
    "inp = inp.read()\n",
    "inp = inp.split(\"\\n\")\n",
    "inp = [x.split(\"-\")  for x in inp]"
   ]
  },
  {
   "cell_type": "code",
   "execution_count": 608,
   "id": "48e7cfbb",
   "metadata": {},
   "outputs": [],
   "source": [
    "graph = build_graph(inp)"
   ]
  },
  {
   "cell_type": "code",
   "execution_count": 586,
   "id": "f33513ed",
   "metadata": {},
   "outputs": [],
   "source": [
    "#a"
   ]
  },
  {
   "cell_type": "code",
   "execution_count": 587,
   "id": "9bc6d665",
   "metadata": {},
   "outputs": [],
   "source": [
    "visited = copy.deepcopy(graph)\n",
    "for x in visited.keys():\n",
    "    visited[x] = False"
   ]
  },
  {
   "cell_type": "code",
   "execution_count": 588,
   "id": "e30954c4",
   "metadata": {},
   "outputs": [],
   "source": [
    "unique = copy.deepcopy(graph)\n",
    "for x in unique.keys():\n",
    "    if x.isupper():\n",
    "        unique[x] = False \n",
    "    else:\n",
    "        unique[x] = True"
   ]
  },
  {
   "cell_type": "code",
   "execution_count": 589,
   "id": "08fc3cb0",
   "metadata": {
    "tags": []
   },
   "outputs": [],
   "source": [
    "# The Search\n",
    "path = []\n",
    "collection = []\n",
    "counter = 0\n",
    "printAllPathsUtil(\"start\", \"end\")"
   ]
  },
  {
   "cell_type": "code",
   "execution_count": 590,
   "id": "b8d8c0d5",
   "metadata": {},
   "outputs": [
    {
     "data": {
      "text/plain": [
       "19"
      ]
     },
     "execution_count": 590,
     "metadata": {},
     "output_type": "execute_result"
    }
   ],
   "source": [
    "counter"
   ]
  },
  {
   "cell_type": "code",
   "execution_count": null,
   "id": "4d272a91",
   "metadata": {},
   "outputs": [],
   "source": [
    "# b "
   ]
  },
  {
   "cell_type": "code",
   "execution_count": 638,
   "id": "8f8e0869",
   "metadata": {},
   "outputs": [],
   "source": [
    "inp = open(\"inputs/input12.txt\", \"r+\")\n",
    "inp = inp.read()\n",
    "inp = inp.split(\"\\n\")\n",
    "inp = [x.split(\"-\")  for x in inp]"
   ]
  },
  {
   "cell_type": "code",
   "execution_count": 639,
   "id": "414f0cf4",
   "metadata": {},
   "outputs": [],
   "source": [
    "graph = build_graph(inp)"
   ]
  },
  {
   "cell_type": "code",
   "execution_count": 640,
   "id": "62fea65b",
   "metadata": {},
   "outputs": [],
   "source": [
    "visited = copy.deepcopy(graph)\n",
    "for x in visited.keys():\n",
    "    visited[x] = False"
   ]
  },
  {
   "cell_type": "code",
   "execution_count": 641,
   "id": "4e073b84",
   "metadata": {},
   "outputs": [],
   "source": [
    "unique = copy.deepcopy(graph)\n",
    "for x in unique.keys():\n",
    "    if x.isupper():\n",
    "        unique[x] = False \n",
    "    else:\n",
    "        unique[x] = True"
   ]
  },
  {
   "cell_type": "code",
   "execution_count": 642,
   "id": "95d707b6",
   "metadata": {},
   "outputs": [],
   "source": [
    "def printAllPathsUtil(u, d):\n",
    "    global double\n",
    "    global counter \n",
    "    \n",
    "    if unique[u]: \n",
    "        visited[u]= True\n",
    "    path.append(u)\n",
    "\n",
    "    if u == d:\n",
    "        counter +=1\n",
    "    else:\n",
    "\n",
    "        for i in graph[u]:\n",
    "            if visited[i] == False:\n",
    "                printAllPathsUtil(i, d)\n",
    "            \n",
    "            elif (visited[i] == True) and (not double) and (i != \"start\") and (i != \"end\")  :\n",
    "                double = i\n",
    "                printAllPathsUtil(i, d)\n",
    "    \n",
    "\n",
    "    # Remove current vertex from path[] and mark it as unvisited\n",
    "    path.pop()\n",
    "    if double == u: \n",
    "        double = False\n",
    "    else:\n",
    "        visited[u]= False"
   ]
  },
  {
   "cell_type": "code",
   "execution_count": 643,
   "id": "ee67d8c6",
   "metadata": {
    "tags": []
   },
   "outputs": [
    {
     "data": {
      "text/plain": [
       "120506"
      ]
     },
     "execution_count": 643,
     "metadata": {},
     "output_type": "execute_result"
    }
   ],
   "source": [
    "# The Search\n",
    "path = []\n",
    "collection = []\n",
    "counter = 0\n",
    "double = False\n",
    "printAllPathsUtil(\"start\", \"end\")\n",
    "counter"
   ]
  },
  {
   "cell_type": "markdown",
   "id": "2f7ccdbd",
   "metadata": {
    "jp-MarkdownHeadingCollapsed": true,
    "tags": []
   },
   "source": [
    "# 13"
   ]
  },
  {
   "cell_type": "code",
   "execution_count": 11,
   "id": "fe990abe",
   "metadata": {},
   "outputs": [],
   "source": [
    "inp = open(\"inputs/input13.txt\", \"r+\")\n",
    "inp = inp.read()\n",
    "inp = inp.split(\"\\n\")"
   ]
  },
  {
   "cell_type": "code",
   "execution_count": 64,
   "id": "7d6bbf15",
   "metadata": {},
   "outputs": [],
   "source": [
    "paper = np.array([x.split(\",\") for x in inp[:750]]).astype(int)\n",
    "a = np.zeros(paper.max(axis=0)+1)\n",
    "for x in paper: \n",
    "    a[x[0],x[1]] = 1\n",
    "paper = a"
   ]
  },
  {
   "cell_type": "code",
   "execution_count": 17,
   "id": "b82f61d3",
   "metadata": {},
   "outputs": [],
   "source": [
    "instr = [[y[0][-1],y[1]] for y in [x.split(\"=\") for x in inp[751:]]]"
   ]
  },
  {
   "cell_type": "code",
   "execution_count": 35,
   "id": "1e79068b",
   "metadata": {},
   "outputs": [],
   "source": [
    "#a \n",
    "#split on 655\n",
    "up = paper[:655,:]\n",
    "down = paper[656:,:]"
   ]
  },
  {
   "cell_type": "code",
   "execution_count": 53,
   "id": "c64d0d90",
   "metadata": {},
   "outputs": [],
   "source": [
    "mirror = np.flip(np.flip(down),1)"
   ]
  },
  {
   "cell_type": "code",
   "execution_count": 68,
   "id": "bf1f5f9b",
   "metadata": {},
   "outputs": [
    {
     "data": {
      "text/plain": [
       "610"
      ]
     },
     "execution_count": 68,
     "metadata": {},
     "output_type": "execute_result"
    }
   ],
   "source": [
    "np.logical_or(up, mirror).sum()"
   ]
  },
  {
   "cell_type": "code",
   "execution_count": 61,
   "id": "da5ecbf7",
   "metadata": {},
   "outputs": [],
   "source": [
    "#b"
   ]
  },
  {
   "cell_type": "code",
   "execution_count": 80,
   "id": "2e604217",
   "metadata": {},
   "outputs": [
    {
     "name": "stdout",
     "output_type": "stream",
     "text": [
      "['x', '655']\n",
      "['y', '447']\n",
      "['x', '327']\n",
      "['y', '223']\n",
      "['x', '163']\n",
      "['y', '111']\n",
      "['x', '81']\n",
      "['y', '55']\n",
      "['x', '40']\n",
      "['y', '27']\n",
      "['y', '13']\n",
      "['y', '6']\n"
     ]
    }
   ],
   "source": [
    "current = paper \n",
    "for x in instr:\n",
    "    print(x)\n",
    "    line = int(x[1])\n",
    "    if x[0] == \"x\":\n",
    "        line = int(x[1])\n",
    "        up = current[:line,:]\n",
    "        down = current[line+1:,:]\n",
    "        mirror = np.flip(np.flip(down),1)\n",
    "        current = np.logical_or(up, mirror)\n",
    "    else:\n",
    "        up = current[:,:line]\n",
    "        down = current[:,line+1:]\n",
    "        mirror = np.flip(down,1)\n",
    "        current = np.logical_or(up, mirror)"
   ]
  },
  {
   "cell_type": "code",
   "execution_count": 83,
   "id": "0a03f934",
   "metadata": {},
   "outputs": [
    {
     "data": {
      "text/plain": [
       "<matplotlib.image.AxesImage at 0x1698a01cca0>"
      ]
     },
     "execution_count": 83,
     "metadata": {},
     "output_type": "execute_result"
    },
    {
     "data": {
      "image/png": "[encoded data removed]",
      "text/plain": [
       "<Figure size 432x288 with 1 Axes>"
      ]
     },
     "metadata": {
      "needs_background": "light"
     },
     "output_type": "display_data"
    }
   ],
   "source": [
    "plt.imshow(current.T)"
   ]
  },
  {
   "cell_type": "markdown",
   "id": "bbcc26d8",
   "metadata": {
    "jp-MarkdownHeadingCollapsed": true,
    "tags": []
   },
   "source": [
    "# 14"
   ]
  },
  {
   "cell_type": "code",
   "execution_count": 545,
   "id": "f289a877",
   "metadata": {},
   "outputs": [],
   "source": [
    "inp = open(\"inputs/input14.txt\", \"r+\")\n",
    "inp = inp.read()\n",
    "inp = inp.split(\"\\n\")"
   ]
  },
  {
   "cell_type": "code",
   "execution_count": 546,
   "id": "7cbbed9f",
   "metadata": {},
   "outputs": [],
   "source": [
    "start = inp[0]"
   ]
  },
  {
   "cell_type": "code",
   "execution_count": 547,
   "id": "09b84be2",
   "metadata": {},
   "outputs": [],
   "source": [
    "rules = [x.split(\" -> \") for x in inp[2:]]"
   ]
  },
  {
   "cell_type": "code",
   "execution_count": 548,
   "id": "92b2256e",
   "metadata": {},
   "outputs": [],
   "source": [
    "def deconstruct():\n",
    "    window = []\n",
    "    for x in range (len(current)):\n",
    "        window.append(current[x:x+2])\n",
    "    return window"
   ]
  },
  {
   "cell_type": "code",
   "execution_count": 549,
   "id": "540bc7a3",
   "metadata": {
    "tags": []
   },
   "outputs": [],
   "source": [
    "def add(window):\n",
    "    for x in rules: \n",
    "        match = [index for index, element in enumerate(window) if element == x[0]]\n",
    "        for y in match:\n",
    "            window[y] = window[y][0] + x[1] + window[y][1]\n",
    "    return window"
   ]
  },
  {
   "cell_type": "code",
   "execution_count": 550,
   "id": "c86a2df8",
   "metadata": {},
   "outputs": [],
   "source": [
    "def rebuild(window):\n",
    "    rebuild = []\n",
    "    for x in window:\n",
    "        if len(x) == 1: \n",
    "            rebuild.append(x)\n",
    "        else:\n",
    "            rebuild.append(x[:-1])\n",
    "    rebuild = \"\".join(rebuild)\n",
    "    return rebuild"
   ]
  },
  {
   "cell_type": "code",
   "execution_count": 551,
   "id": "f94ec5f1",
   "metadata": {},
   "outputs": [],
   "source": [
    "current = start\n",
    "for x in range(10):\n",
    "    window = deconstruct()\n",
    "    window  = add(window)\n",
    "    current = rebuild(window)"
   ]
  },
  {
   "cell_type": "code",
   "execution_count": 552,
   "id": "cca5e66d",
   "metadata": {},
   "outputs": [],
   "source": [
    "count = {}\n",
    "for x in current: \n",
    "    if x in count.keys():\n",
    "        count[x] += 1\n",
    "    else:\n",
    "        count[x] = 1"
   ]
  },
  {
   "cell_type": "code",
   "execution_count": 553,
   "id": "0e9fd0b1",
   "metadata": {},
   "outputs": [],
   "source": [
    "#b"
   ]
  },
  {
   "cell_type": "code",
   "execution_count": 554,
   "id": "033b5b8d",
   "metadata": {},
   "outputs": [],
   "source": [
    "current = start\n",
    "current = deconstruct()"
   ]
  },
  {
   "cell_type": "code",
   "execution_count": 555,
   "id": "ec912137",
   "metadata": {},
   "outputs": [],
   "source": [
    "combos = {}\n",
    "ruleDict = {}\n",
    "added = {}"
   ]
  },
  {
   "cell_type": "code",
   "execution_count": 556,
   "id": "aba46657",
   "metadata": {},
   "outputs": [],
   "source": [
    "for x in rules: \n",
    "    combos[x[0]] = 0\n",
    "    ruleDict[x[0]] = x[1]"
   ]
  },
  {
   "cell_type": "code",
   "execution_count": 557,
   "id": "28f13865",
   "metadata": {},
   "outputs": [],
   "source": [
    "for x in set(np.array(rules).T[1]):\n",
    "    added[x] = 0\n",
    "for x in start: \n",
    "    added[x] += 1"
   ]
  },
  {
   "cell_type": "code",
   "execution_count": 558,
   "id": "a636fc84",
   "metadata": {},
   "outputs": [],
   "source": [
    "for x in current:\n",
    "    if len(x) > 1:\n",
    "        combos[x] += 1"
   ]
  },
  {
   "cell_type": "code",
   "execution_count": 559,
   "id": "814cf3bb",
   "metadata": {},
   "outputs": [
    {
     "data": {
      "text/plain": [
       "True"
      ]
     },
     "execution_count": 559,
     "metadata": {},
     "output_type": "execute_result"
    }
   ],
   "source": [
    "combos.keys() == ruleDict.keys()"
   ]
  },
  {
   "cell_type": "code",
   "execution_count": 560,
   "id": "17ae0eea",
   "metadata": {},
   "outputs": [],
   "source": [
    "def step():\n",
    "    intermediate = copy.deepcopy(combos)\n",
    "    for x in intermediate.keys():\n",
    "        if intermediate[x] > 0: \n",
    "                front = x[0] + ruleDict[x]\n",
    "                back =  ruleDict[x] + x[1]\n",
    "                combos[front] += intermediate[x]\n",
    "                combos[back] += intermediate[x]\n",
    "                combos[x] -= intermediate[x]  \n",
    "                added[ruleDict[x]] += intermediate[x]"
   ]
  },
  {
   "cell_type": "code",
   "execution_count": 561,
   "id": "5c24bb4c",
   "metadata": {},
   "outputs": [],
   "source": [
    "for x in range(40): \n",
    "    step()"
   ]
  },
  {
   "cell_type": "code",
   "execution_count": 562,
   "id": "25829a04",
   "metadata": {},
   "outputs": [],
   "source": [
    "inv_map = {v: k for k, v in added.items()}"
   ]
  },
  {
   "cell_type": "code",
   "execution_count": 563,
   "id": "cfd25b44",
   "metadata": {},
   "outputs": [
    {
     "data": {
      "text/plain": [
       "3906445077999"
      ]
     },
     "execution_count": 563,
     "metadata": {},
     "output_type": "execute_result"
    }
   ],
   "source": [
    "added[inv_map[max(inv_map.keys())]] - added[inv_map[min(inv_map.keys())]]"
   ]
  },
  {
   "cell_type": "code",
   "execution_count": 520,
   "id": "e963bec5",
   "metadata": {},
   "outputs": [
    {
     "data": {
      "text/plain": [
       "3849876073"
      ]
     },
     "execution_count": 520,
     "metadata": {},
     "output_type": "execute_result"
    }
   ],
   "source": [
    "added[inv_map[min(inv_map.keys())]]"
   ]
  },
  {
   "cell_type": "code",
   "execution_count": 521,
   "id": "bc11e2b4",
   "metadata": {},
   "outputs": [
    {
     "data": {
      "text/plain": [
       "2192039569602"
      ]
     },
     "execution_count": 521,
     "metadata": {},
     "output_type": "execute_result"
    }
   ],
   "source": [
    "added[inv_map[max(inv_map.keys())]]"
   ]
  },
  {
   "cell_type": "markdown",
   "id": "f5f88878",
   "metadata": {
    "tags": []
   },
   "source": [
    "# 15"
   ]
  },
  {
   "cell_type": "code",
   "execution_count": 739,
   "id": "efb1cef5",
   "metadata": {},
   "outputs": [],
   "source": [
    "def shortest(x,y):\n",
    "    if (x == 0) and (y == 0): \n",
    "        shortestPaths[0,0] = 1\n",
    "    elif x == 0 and y != 0: \n",
    "        shortest(0,y-1)\n",
    "        shortestPaths[0,y] = shortestPaths[0,y-1] + inp[x,y]\n",
    "        \n",
    "    elif x != 0 and y == 0: \n",
    "        shortest(x-1,0)\n",
    "        shortestPaths[x,0] = shortestPaths[x-1,0] + inp[x,y]\n",
    "    else:\n",
    "        shortest(x,y-1) \n",
    "        shortest(x-1,y)\n",
    "        top = shortestPaths[x,y-1] + inp[x,y]\n",
    "        left = shortestPaths[x-1,y] + inp[x,y]\n",
    "        shortestPaths[x,y] = (min(top,left))\n",
    "        return (min(top,left))"
   ]
  },
  {
   "cell_type": "code",
   "execution_count": 740,
   "id": "fceb3b63",
   "metadata": {},
   "outputs": [],
   "source": [
    "def shortest(x,y):\n",
    "    if (x == 0) and (y == 0): \n",
    "        return 0\n",
    "    elif x == 0 and y != 0: \n",
    "        return shortest(0,y-1) + inp[x,y]\n",
    "    elif x != 0 and y == 0: \n",
    "        return shortest(x-1,0) + inp[x,y]\n",
    "    else:\n",
    "        return min(shortest(x,y-1)+ inp[x,y],shortest(x-1,y) + inp[x,y])"
   ]
  },
  {
   "cell_type": "code",
   "execution_count": 737,
   "id": "9c8ae863",
   "metadata": {},
   "outputs": [],
   "source": [
    "shortestPaths = np.zeros(inp.shape)\n",
    "shortestPaths[:,:] = np.inf"
   ]
  },
  {
   "cell_type": "code",
   "execution_count": 870,
   "id": "862c0d8a",
   "metadata": {},
   "outputs": [],
   "source": [
    "visited = np.zeros(inp.shape)\n",
    "q = []"
   ]
  },
  {
   "cell_type": "code",
   "execution_count": 872,
   "id": "3d88d27c",
   "metadata": {
    "collapsed": true,
    "jupyter": {
     "outputs_hidden": true
    },
    "tags": []
   },
   "outputs": [
    {
     "ename": "KeyboardInterrupt",
     "evalue": "",
     "output_type": "error",
     "traceback": [
      "\u001b[0;31m---------------------------------------------------------------------------\u001b[0m",
      "\u001b[0;31mKeyboardInterrupt\u001b[0m                         Traceback (most recent call last)",
      "\u001b[0;32m<ipython-input-872-77aedaea5e69>\u001b[0m in \u001b[0;36m<module>\u001b[0;34m\u001b[0m\n\u001b[0;32m----> 1\u001b[0;31m \u001b[0mbfs\u001b[0m\u001b[0;34m(\u001b[0m\u001b[0mvisited\u001b[0m\u001b[0;34m,\u001b[0m\u001b[0minp\u001b[0m\u001b[0;34m,\u001b[0m\u001b[0;36m0\u001b[0m\u001b[0;34m,\u001b[0m\u001b[0;36m0\u001b[0m\u001b[0;34m)\u001b[0m\u001b[0;34m\u001b[0m\u001b[0;34m\u001b[0m\u001b[0m\n\u001b[0m",
      "\u001b[0;32m<ipython-input-871-eb458df8923b>\u001b[0m in \u001b[0;36mbfs\u001b[0;34m(visited, inp, startX, startY)\u001b[0m\n\u001b[1;32m      7\u001b[0m         \u001b[0my\u001b[0m \u001b[0;34m=\u001b[0m \u001b[0ms\u001b[0m\u001b[0;34m[\u001b[0m\u001b[0;36m1\u001b[0m\u001b[0;34m]\u001b[0m\u001b[0;34m\u001b[0m\u001b[0;34m\u001b[0m\u001b[0m\n\u001b[1;32m      8\u001b[0m         \u001b[0;32mif\u001b[0m \u001b[0my\u001b[0m\u001b[0;34m+\u001b[0m\u001b[0;36m1\u001b[0m \u001b[0;34m<\u001b[0m \u001b[0;36m100\u001b[0m\u001b[0;34m:\u001b[0m\u001b[0;34m\u001b[0m\u001b[0;34m\u001b[0m\u001b[0m\n\u001b[0;32m----> 9\u001b[0;31m             \u001b[0mpath\u001b[0m \u001b[0;34m=\u001b[0m \u001b[0mvisited\u001b[0m\u001b[0;34m[\u001b[0m\u001b[0mx\u001b[0m\u001b[0;34m,\u001b[0m\u001b[0my\u001b[0m\u001b[0;34m]\u001b[0m \u001b[0;34m+\u001b[0m \u001b[0minp\u001b[0m\u001b[0;34m[\u001b[0m\u001b[0mx\u001b[0m\u001b[0;34m,\u001b[0m\u001b[0my\u001b[0m\u001b[0;34m+\u001b[0m\u001b[0;36m1\u001b[0m\u001b[0;34m]\u001b[0m\u001b[0;34m\u001b[0m\u001b[0;34m\u001b[0m\u001b[0m\n\u001b[0m\u001b[1;32m     10\u001b[0m             \u001b[0;32mif\u001b[0m \u001b[0mvisited\u001b[0m\u001b[0;34m[\u001b[0m\u001b[0mx\u001b[0m\u001b[0;34m,\u001b[0m\u001b[0my\u001b[0m\u001b[0;34m+\u001b[0m\u001b[0;36m1\u001b[0m\u001b[0;34m]\u001b[0m \u001b[0;34m==\u001b[0m \u001b[0;36m0\u001b[0m\u001b[0;34m:\u001b[0m\u001b[0;34m\u001b[0m\u001b[0;34m\u001b[0m\u001b[0m\n\u001b[1;32m     11\u001b[0m                 \u001b[0mvisited\u001b[0m\u001b[0;34m[\u001b[0m\u001b[0mx\u001b[0m\u001b[0;34m,\u001b[0m\u001b[0my\u001b[0m\u001b[0;34m+\u001b[0m\u001b[0;36m1\u001b[0m\u001b[0;34m]\u001b[0m  \u001b[0;34m=\u001b[0m \u001b[0mpath\u001b[0m\u001b[0;34m\u001b[0m\u001b[0;34m\u001b[0m\u001b[0m\n",
      "\u001b[0;31mKeyboardInterrupt\u001b[0m: "
     ]
    }
   ],
   "source": [
    "bfs(visited,inp,0,0)"
   ]
  },
  {
   "cell_type": "code",
   "execution_count": 891,
   "id": "ca587dd2",
   "metadata": {},
   "outputs": [],
   "source": [
    "def bfs(visited,inp,startX,startY): \n",
    "    visited[startX,startY] = 0\n",
    "    q.append((startX,startY))\n",
    "    while q:\n",
    "        s = q.pop()\n",
    "        x  = s[0]\n",
    "        y = s[1]\n",
    "        if y+1 < 100: \n",
    "            path = visited[x,y] + inp[x,y+1]\n",
    "            if visited[x,y+1] == 0:\n",
    "                visited[x,y+1]  = path\n",
    "            elif path < visited[x,y+1] and visited[x,y+1] > 0: \n",
    "                visited[x,y+1]  = path\n",
    "            q.append((x,y+1))\n",
    "        if x+1 < 100: \n",
    "            path = visited[x,y] + inp[x+1,y]\n",
    "            if visited[x+1,y] == 0:\n",
    "                visited[x+1,y]  = path\n",
    "            if path < visited[x+1,y] and visited[x+1,y] > 0: \n",
    "                visited[x+1,y]  = path\n",
    "            q.append((x+1,y))  "
   ]
  },
  {
   "cell_type": "code",
   "execution_count": 1016,
   "id": "65d77bfb",
   "metadata": {},
   "outputs": [],
   "source": [
    "inp = open(\"inputs/input15.txt\", \"r+\")\n",
    "inp = inp.read()\n",
    "inp = inp.split(\"\\n\")\n",
    "inp = np.array([list(x) for x in inp]).astype(int)"
   ]
  },
  {
   "cell_type": "code",
   "execution_count": 1017,
   "id": "5775629f",
   "metadata": {},
   "outputs": [],
   "source": [
    "def dijkstra(inp, x = 0 ,y = 0):\n",
    "    \n",
    "    \n",
    "    visited = np.zeros(inp.shape)\n",
    "    distance = np.zeros(inp.shape)\n",
    "    distance[:,:] = np.inf\n",
    "    distance[0,0] = 0\n",
    "\n",
    "    pq = PriorityQueue()\n",
    "    pq.put((0,x,y))\n",
    "\n",
    "    while not pq.empty():\n",
    "        dist,x,y = pq.get()\n",
    "        visited[x,y] = True\n",
    "\n",
    "        if x < (inp.shape[0]-1):\n",
    "            right = distance[x+1,y]\n",
    "            if not visited[x+1,y]:\n",
    "                old = distance[x+1,y]\n",
    "                new = distance[x,y] + inp[x+1,y]\n",
    "                if new < old: \n",
    "                    pq.put((new, x+1, y))\n",
    "                    distance[x+1,y] = new\n",
    "        if y < (inp.shape[1]-1):\n",
    "            right = distance[x,y+1]\n",
    "            if not visited[x,y+1]:\n",
    "                old = distance[x,y+1]\n",
    "                new = distance[x,y] + inp[x,y+1]\n",
    "                if new < old: \n",
    "                    pq.put((new, x, y+1))\n",
    "                    distance[x,y+1] = new\n",
    "                    \n",
    "        if x > 0:\n",
    "            right = distance[x-1,y]\n",
    "            if not visited[x-1,y]:\n",
    "                old = distance[x-1,y]\n",
    "                new = distance[x,y] + inp[x-1,y]\n",
    "                if new < old: \n",
    "                    pq.put((new, x-1, y))\n",
    "                    distance[x-1,y] = new\n",
    "        if  y > 0 :\n",
    "            right = distance[x,y-1]\n",
    "            if not visited[x,y-1]:\n",
    "                old = distance[x,y-1]\n",
    "                new = distance[x,y] + inp[x,y-1]\n",
    "                if new < old: \n",
    "                    pq.put((new, x, y-1))\n",
    "                    distance[x,y-1] = new\n",
    "                    \n",
    "    return visited, distance"
   ]
  },
  {
   "cell_type": "code",
   "execution_count": 1018,
   "id": "ebfbe212",
   "metadata": {},
   "outputs": [],
   "source": [
    "vis, dis = dijkstra(inp)"
   ]
  },
  {
   "cell_type": "code",
   "execution_count": 1019,
   "id": "367cee89",
   "metadata": {},
   "outputs": [
    {
     "data": {
      "text/plain": [
       "array([[  0.,   4.,  11., ..., 373., 378., 386.],\n",
       "       [  7.,   6.,   7., ..., 368., 371., 379.],\n",
       "       [  9.,  15.,  13., ..., 374., 373., 374.],\n",
       "       ...,\n",
       "       [393., 384., 392., ..., 517., 519., 518.],\n",
       "       [397., 393., 398., ..., 518., 526., 526.],\n",
       "       [405., 400., 407., ..., 519., 527., 527.]])"
      ]
     },
     "execution_count": 1019,
     "metadata": {},
     "output_type": "execute_result"
    }
   ],
   "source": [
    "dis"
   ]
  },
  {
   "cell_type": "code",
   "execution_count": 1020,
   "id": "dfdfda0b",
   "metadata": {},
   "outputs": [],
   "source": [
    "#b \n",
    "def tile(inp): \n",
    "    inp = inp +1\n",
    "    inp[inp == 10] = 1\n",
    "    return inp"
   ]
  },
  {
   "cell_type": "code",
   "execution_count": 1021,
   "id": "e713729f",
   "metadata": {},
   "outputs": [],
   "source": [
    "current = inp\n",
    "stack = [inp]\n",
    "for x in range(4):\n",
    "    current = tile(current)\n",
    "    stack.append(current)\n",
    "box = []\n",
    "for y in stack: \n",
    "    current = y\n",
    "    stack = [y]\n",
    "    for x in range(4):\n",
    "        current = tile(current)\n",
    "        stack.append(current)\n",
    "    box.append(np.concatenate(stack))\n",
    "box = np.concatenate(box,axis=1)"
   ]
  },
  {
   "cell_type": "code",
   "execution_count": 1022,
   "id": "1c63abc1",
   "metadata": {},
   "outputs": [
    {
     "name": "stdout",
     "output_type": "stream",
     "text": [
      "--- 1.800626277923584 seconds ---\n"
     ]
    }
   ],
   "source": [
    "start_time = time.time()\n",
    "vis, dis = dijkstra(box)\n",
    "print(\"--- %s seconds ---\" % (time.time() - start_time))"
   ]
  },
  {
   "cell_type": "markdown",
   "id": "3f143229",
   "metadata": {},
   "source": [
    "# 16"
   ]
  },
  {
   "cell_type": "code",
   "execution_count": 101,
   "id": "7298fceb",
   "metadata": {},
   "outputs": [],
   "source": [
    "inp = open(\"inputs/input16.txt\", \"r+\")\n",
    "inp = inp.read()"
   ]
  },
  {
   "cell_type": "code",
   "execution_count": 118,
   "id": "ca05f6e6",
   "metadata": {},
   "outputs": [],
   "source": [
    "inp = \"EE00D40C823060\""
   ]
  },
  {
   "cell_type": "code",
   "execution_count": 119,
   "id": "15484dbc",
   "metadata": {},
   "outputs": [],
   "source": [
    "binCode = [bin(int(x,16))[2:] for x in inp]\n",
    "for x in range(len(binCode)):\n",
    "    if binCode[x] == \"0\":\n",
    "        binCode[x] = \"0000\"\n",
    "    elif len(binCode[x]) != 4: \n",
    "        binCode[x] = \"0\" * (4 - len(binCode[x])) + binCode[x]\n",
    "        \n",
    "string = \"\".join(binCode)"
   ]
  },
  {
   "cell_type": "code",
   "execution_count": 120,
   "id": "82aa60d3",
   "metadata": {},
   "outputs": [],
   "source": [
    "def decode_literal(inp,pointer):\n",
    "    out = []\n",
    "    while True: \n",
    "        if inp[pointer] == \"1\": \n",
    "            out.append(inp[pointer+1:pointer+5])\n",
    "            pointer += 5\n",
    "        else:\n",
    "            out.append(inp[pointer+1:pointer+5])\n",
    "            return int(\"\".join(out),2), pointer+5"
   ]
  },
  {
   "cell_type": "code",
   "execution_count": 121,
   "id": "48cdc815",
   "metadata": {},
   "outputs": [],
   "source": [
    "def decode_15(inp):\n",
    "    length = int(inp[:15],2)\n",
    "    print(length)\n",
    "    packages = []\n",
    "    pointer = 0\n",
    "    while pointer < length - 5:\n",
    "        print(pointer)\n",
    "        package, pointer = decode_literal(inp[15:],pointer)\n",
    "        print(package)\n",
    "        packages.append(package)\n",
    "    return packages"
   ]
  },
  {
   "cell_type": "code",
   "execution_count": 122,
   "id": "36d57eff",
   "metadata": {},
   "outputs": [],
   "source": [
    "def decode_11(inp):\n",
    "    n = int(inp[:11],2)\n",
    "    return n"
   ]
  },
  {
   "cell_type": "code",
   "execution_count": 123,
   "id": "19ae15d3",
   "metadata": {},
   "outputs": [],
   "source": [
    "# decode full: \n",
    "def read(inp):\n",
    "    out = []\n",
    "    inp = string\n",
    "    header = int(inp[:3],2)\n",
    "    packetID = int(inp[3:6],2)\n",
    "    if packetID == 4:\n",
    "        return decode_literal(inp[6:],0)[0]\n",
    "    else:\n",
    "        if inp[6] == 0:\n",
    "            out =  decode_15(inp[7:])\n",
    "        else:\n",
    "            out =  decode_11(inp[7:])\n",
    "    return out"
   ]
  },
  {
   "cell_type": "code",
   "execution_count": 124,
   "id": "79435e2d",
   "metadata": {},
   "outputs": [
    {
     "data": {
      "text/plain": [
       "3"
      ]
     },
     "execution_count": 124,
     "metadata": {},
     "output_type": "execute_result"
    }
   ],
   "source": [
    "read(string)"
   ]
  },
  {
   "cell_type": "code",
   "execution_count": null,
   "id": "a7b97907",
   "metadata": {},
   "outputs": [],
   "source": [
    "full\n",
    "header = [:3] event\n",
    "id = [3:6]\n",
    "if id == 4: \n",
    "    return decode_literal(inp[6:])\n",
    "else:\n",
    "    type = [6]\n",
    "    if type == 0:\n",
    "        decode_15(inp[7:]\n",
    "        \n",
    "    if type == 1: \n",
    "        decode_11(inp[7:]\n",
    "    "
   ]
  },
  {
   "cell_type": "code",
   "execution_count": 99,
   "id": "340180d9",
   "metadata": {
    "tags": []
   },
   "outputs": [
    {
     "name": "stdout",
     "output_type": "stream",
     "text": [
      "27\n",
      "0\n",
      "165\n",
      "10\n",
      "5\n",
      "15\n",
      "4\n",
      "20\n",
      "9\n"
     ]
    },
    {
     "data": {
      "text/plain": [
       "[165, 5, 4, 9]"
      ]
     },
     "execution_count": 99,
     "metadata": {},
     "output_type": "execute_result"
    }
   ],
   "source": [
    "decode_15(string[7:])"
   ]
  },
  {
   "cell_type": "code",
   "execution_count": null,
   "id": "8ae3fbc6",
   "metadata": {},
   "outputs": [],
   "source": [
    "000000000011011"
   ]
  },
  {
   "cell_type": "code",
   "execution_count": 82,
   "id": "ac74980e",
   "metadata": {},
   "outputs": [
    {
     "data": {
      "text/plain": [
       "27"
      ]
     },
     "execution_count": 82,
     "metadata": {},
     "output_type": "execute_result"
    }
   ],
   "source": [
    "int(\"000000000011011\",2)"
   ]
  },
  {
   "cell_type": "code",
   "execution_count": 10,
   "id": "b058ba79",
   "metadata": {},
   "outputs": [],
   "source": [
    "import binascii\n",
    "\n",
    "binary_string = binascii.unhexlify(inp)"
   ]
  },
  {
   "cell_type": "code",
   "execution_count": 15,
   "id": "054594a8",
   "metadata": {},
   "outputs": [
    {
     "ename": "TypeError",
     "evalue": "'bytes' object cannot be interpreted as an integer",
     "output_type": "error",
     "traceback": [
      "\u001b[1;31m---------------------------------------------------------------------------\u001b[0m",
      "\u001b[1;31mTypeError\u001b[0m                                 Traceback (most recent call last)",
      "\u001b[1;32m<ipython-input-15-9f3114b8cc2b>\u001b[0m in \u001b[0;36m<module>\u001b[1;34m\u001b[0m\n\u001b[1;32m----> 1\u001b[1;33m \u001b[0mbin\u001b[0m\u001b[1;33m(\u001b[0m\u001b[0mbinary_string\u001b[0m\u001b[1;33m)\u001b[0m\u001b[1;33m\u001b[0m\u001b[1;33m\u001b[0m\u001b[0m\n\u001b[0m",
      "\u001b[1;31mTypeError\u001b[0m: 'bytes' object cannot be interpreted as an integer"
     ]
    }
   ],
   "source": [
    "bin(binary_string)"
   ]
  },
  {
   "cell_type": "code",
   "execution_count": null,
   "id": "f1b64985",
   "metadata": {},
   "outputs": [],
   "source": []
  },
  {
   "cell_type": "markdown",
   "id": "7bc7d8be",
   "metadata": {
    "tags": []
   },
   "source": [
    "# 17"
   ]
  },
  {
   "cell_type": "code",
   "execution_count": 1023,
   "id": "5824d438",
   "metadata": {},
   "outputs": [],
   "source": [
    "from matplotlib.collections import PatchCollection\n",
    "from matplotlib.patches import Rectangle"
   ]
  },
  {
   "cell_type": "code",
   "execution_count": 1119,
   "id": "4139036d",
   "metadata": {},
   "outputs": [],
   "source": [
    "x= [207, 263]\n",
    "y=[-115, -63]"
   ]
  },
  {
   "cell_type": "code",
   "execution_count": 1120,
   "id": "44d1da93",
   "metadata": {},
   "outputs": [],
   "source": [
    "def step(position,vel):\n",
    "    position[0] += vel[0]\n",
    "    position[1] += vel[1]\n",
    "    if vel[0] > 0: \n",
    "        vel[0] -= 1\n",
    "    if vel[0] < 0: \n",
    "        vel[0] += 1\n",
    "    vel[1] -= 1\n",
    "    return position, vel"
   ]
  },
  {
   "cell_type": "code",
   "execution_count": 1121,
   "id": "ac695293",
   "metadata": {},
   "outputs": [],
   "source": [
    "def check(position, x,y):\n",
    "    if position[0] >= x[0] and position[0] <= x[1]:\n",
    "        if position[1] <= y[1] and position[1] >= y[0]:\n",
    "            return True\n",
    "    return False"
   ]
  },
  {
   "cell_type": "code",
   "execution_count": 1122,
   "id": "271c9612",
   "metadata": {},
   "outputs": [],
   "source": [
    "def out(position, x,y):\n",
    "    if position[0] > x[1] or position[1] < y[0]: \n",
    "        return True\n",
    "    return False"
   ]
  },
  {
   "cell_type": "code",
   "execution_count": 1123,
   "id": "63c1b261",
   "metadata": {},
   "outputs": [],
   "source": [
    "def check_sum(n):\n",
    "    return  (n / 2) * (n + 1)"
   ]
  },
  {
   "cell_type": "code",
   "execution_count": 1132,
   "id": "dcc46881",
   "metadata": {},
   "outputs": [
    {
     "data": {
      "text/plain": [
       "6555.0"
      ]
     },
     "execution_count": 1132,
     "metadata": {},
     "output_type": "execute_result"
    }
   ],
   "source": [
    "# analytic solution: \n",
    "# x doesnt matter\n",
    "# y is garantueed to come out at 0 so since max y = -115 -->\n",
    "check_sum(114)"
   ]
  },
  {
   "cell_type": "code",
   "execution_count": 1127,
   "id": "41140012",
   "metadata": {},
   "outputs": [
    {
     "data": {
      "text/plain": [
       "6555.0"
      ]
     },
     "execution_count": 1127,
     "metadata": {},
     "output_type": "execute_result"
    }
   ],
   "source": [
    "check_sum(114)"
   ]
  },
  {
   "cell_type": "code",
   "execution_count": 1125,
   "id": "a244ec4d",
   "metadata": {},
   "outputs": [],
   "source": [
    "#b"
   ]
  },
  {
   "cell_type": "code",
   "execution_count": 1189,
   "id": "61614313",
   "metadata": {},
   "outputs": [],
   "source": [
    "x= [207, 263]\n",
    "y=[-115, -63]\n",
    "start = [0,0]"
   ]
  },
  {
   "cell_type": "code",
   "execution_count": 1181,
   "id": "4d32db37",
   "metadata": {},
   "outputs": [],
   "source": [
    "x= [20,30]\n",
    "y= [-10, -5]\n",
    "start = [0,0]"
   ]
  },
  {
   "cell_type": "code",
   "execution_count": 1192,
   "id": "ce339c8d",
   "metadata": {},
   "outputs": [],
   "source": [
    "possibleXV = []\n",
    "# which b work: \n",
    "for v in range(0,264):\n",
    "    pos = [0,0]\n",
    "    vel = v\n",
    "    while not out(pos,x,y):\n",
    "        pos[0] += vel\n",
    "        vel = max(vel-1,0)\n",
    "        if pos[0] >= x[0] and pos[0] <= x[1]:\n",
    "            possibleXV.append(v)\n",
    "            break\n",
    "        elif vel == 0: \n",
    "            break"
   ]
  },
  {
   "cell_type": "code",
   "execution_count": 1193,
   "id": "e8667083",
   "metadata": {
    "tags": []
   },
   "outputs": [],
   "source": [
    "possible = []\n",
    "for xV in possibleXV: \n",
    "    for yV in range(-200, 200):\n",
    "        pos = [0,0]\n",
    "        vel = [xV,yV]\n",
    "        while not out(pos,x,y):\n",
    "            pos, vel = step(pos, vel)\n",
    "            result = check(pos, x,y)\n",
    "            if result:\n",
    "                possible.append([xV,yV])\n",
    "                break"
   ]
  },
  {
   "cell_type": "code",
   "execution_count": 1194,
   "id": "963139ed",
   "metadata": {},
   "outputs": [
    {
     "data": {
      "text/plain": [
       "4973"
      ]
     },
     "execution_count": 1194,
     "metadata": {},
     "output_type": "execute_result"
    }
   ],
   "source": [
    "len(possible)"
   ]
  },
  {
   "cell_type": "markdown",
   "id": "a241edf2",
   "metadata": {},
   "source": [
    "# 18"
   ]
  },
  {
   "cell_type": "code",
   "execution_count": 43,
   "id": "de7375d8",
   "metadata": {},
   "outputs": [],
   "source": [
    "def depth(seq):\n",
    "    for level in count():\n",
    "        if not seq:\n",
    "            return level\n",
    "        seq = list(chain.from_iterable(s for s in seq if isinstance(s, Sequence)))"
   ]
  },
  {
   "cell_type": "code",
   "execution_count": 126,
   "id": "73f82ce1",
   "metadata": {},
   "outputs": [],
   "source": [
    "inp = open(\"inputs/input18.txt\", \"r+\")\n",
    "inp = inp.read()\n",
    "inp = inp.split(\"\\n\")\n",
    "#import ast\n",
    "#inp = [ast.literal_eval(x) for x in inp]\n",
    "#from collections import Sequence\n",
    "#from itertools import chain, count\n",
    "import re\n",
    "original = inp\n",
    "inp = [x.replace(\"[\", \"O\") for x in inp]\n",
    "inp = [x.replace(\"]\", \"C\") for x in inp]"
   ]
  },
  {
   "cell_type": "code",
   "execution_count": 128,
   "id": "ebce0c4a",
   "metadata": {},
   "outputs": [
    {
     "data": {
      "text/plain": [
       "'[[[[2,2],7],[[9,2],[5,2]]],[4,[[8,9],9]]]'"
      ]
     },
     "execution_count": 128,
     "metadata": {},
     "output_type": "execute_result"
    }
   ],
   "source": [
    "original[0]"
   ]
  },
  {
   "cell_type": "code",
   "execution_count": 135,
   "id": "78bb4693",
   "metadata": {},
   "outputs": [
    {
     "data": {
      "text/plain": [
       "'OOOO2,2C,7C,OO9,2C,O5,2CCC,O4,OO8,9C,9CCC'"
      ]
     },
     "execution_count": 135,
     "metadata": {},
     "output_type": "execute_result"
    }
   ],
   "source": [
    "inp[0]"
   ]
  },
  {
   "cell_type": "code",
   "execution_count": 155,
   "id": "6cf5ef2f",
   "metadata": {},
   "outputs": [],
   "source": [
    "a = 'O.,O'\n",
    "b = 'C,.C'"
   ]
  },
  {
   "cell_type": "code",
   "execution_count": 153,
   "id": "42092653",
   "metadata": {},
   "outputs": [
    {
     "data": {
      "text/plain": [
       "True"
      ]
     },
     "execution_count": 153,
     "metadata": {},
     "output_type": "execute_result"
    }
   ],
   "source": [
    "\"C,9C\" in inp[0]"
   ]
  },
  {
   "cell_type": "code",
   "execution_count": 161,
   "id": "448bdfd1",
   "metadata": {},
   "outputs": [
    {
     "name": "stdout",
     "output_type": "stream",
     "text": [
      "7\n",
      "35\n"
     ]
    }
   ],
   "source": [
    "matches = re.findall(b, inp[0])\n",
    "for x in matches: \n",
    "    print(inp[0].index(x))"
   ]
  },
  {
   "cell_type": "code",
   "execution_count": null,
   "id": "20280f8d",
   "metadata": {},
   "outputs": [],
   "source": [
    "inp[0].index()"
   ]
  },
  {
   "cell_type": "code",
   "execution_count": 77,
   "id": "28aa0ade",
   "metadata": {},
   "outputs": [
    {
     "ename": "SyntaxError",
     "evalue": "unexpected EOF while parsing (<ipython-input-77-f995c226ea68>, line 1)",
     "output_type": "error",
     "traceback": [
      "\u001b[1;36m  File \u001b[1;32m\"<ipython-input-77-f995c226ea68>\"\u001b[1;36m, line \u001b[1;32m1\u001b[0m\n\u001b[1;33m    def get_all_literals(inp):\u001b[0m\n\u001b[1;37m                              ^\u001b[0m\n\u001b[1;31mSyntaxError\u001b[0m\u001b[1;31m:\u001b[0m unexpected EOF while parsing\n"
     ]
    }
   ],
   "source": [
    "def get_all_literals(inp):\n",
    "    # either [[3,5],5], [5, [3,5]]\n",
    "    for x in"
   ]
  },
  {
   "cell_type": "code",
   "execution_count": 75,
   "id": "f08a79dc",
   "metadata": {},
   "outputs": [],
   "source": [
    "depth = get_depth_list(inp[0])\n",
    "explode = depth.index(max(depth))"
   ]
  },
  {
   "cell_type": "code",
   "execution_count": 76,
   "id": "ed13563f",
   "metadata": {},
   "outputs": [
    {
     "data": {
      "text/plain": [
       "'[2,2]'"
      ]
     },
     "execution_count": 76,
     "metadata": {},
     "output_type": "execute_result"
    }
   ],
   "source": [
    "    inp[0][explode:explode+5]"
   ]
  },
  {
   "cell_type": "code",
   "execution_count": 63,
   "id": "22a1ac5b",
   "metadata": {},
   "outputs": [
    {
     "data": {
      "text/plain": [
       "41"
      ]
     },
     "execution_count": 63,
     "metadata": {},
     "output_type": "execute_result"
    }
   ],
   "source": [
    "len(inp[0])"
   ]
  },
  {
   "cell_type": "code",
   "execution_count": 73,
   "id": "d24629b1",
   "metadata": {},
   "outputs": [
    {
     "data": {
      "text/plain": [
       "'[2,2]'"
      ]
     },
     "execution_count": 73,
     "metadata": {},
     "output_type": "execute_result"
    }
   ],
   "source": [
    "inp[0][3:3+5]"
   ]
  },
  {
   "cell_type": "code",
   "execution_count": 48,
   "id": "c5659813",
   "metadata": {},
   "outputs": [
    {
     "data": {
      "text/plain": [
       "5"
      ]
     },
     "execution_count": 48,
     "metadata": {},
     "output_type": "execute_result"
    }
   ],
   "source": [
    "depth(L)"
   ]
  },
  {
   "cell_type": "markdown",
   "id": "c4a4d96b",
   "metadata": {},
   "source": [
    "# 19"
   ]
  },
  {
   "cell_type": "code",
   "execution_count": null,
   "id": "a3ee4086",
   "metadata": {},
   "outputs": [],
   "source": []
  },
  {
   "cell_type": "markdown",
   "id": "f6114870",
   "metadata": {},
   "source": [
    "# 20"
   ]
  },
  {
   "cell_type": "code",
   "execution_count": 525,
   "id": "abc2435d",
   "metadata": {},
   "outputs": [],
   "source": [
    "import numpy as np\n",
    "inp = open(\"inputs/input20.txt\", \"r+\")\n",
    "inp = inp.read()\n",
    "inp = inp.split(\"\\n\")\n",
    "for x in range(len(inp)):\n",
    "    inp[x] = inp[x].replace(\"#\", \"1\")\n",
    "    inp[x] = inp[x].replace(\".\", \"0\")\n",
    "alg = list(inp[0])\n",
    "img = np.array([list(x) for x in inp[2:]]).astype(int)"
   ]
  },
  {
   "cell_type": "code",
   "execution_count": 526,
   "id": "538310cf-ce45-4a6f-9012-878357c571f3",
   "metadata": {},
   "outputs": [],
   "source": [
    "img = np.pad(img,110)"
   ]
  },
  {
   "cell_type": "code",
   "execution_count": 527,
   "id": "483922e2-0401-4ee4-9fa8-37a35ba6294a",
   "metadata": {},
   "outputs": [],
   "source": [
    "def convolve_1(img):\n",
    "    img = np.pad(img,1)\n",
    "    out = np.zeros((img.shape[0]-2,img.shape[1]-2))\n",
    "    out[:,:] = np.nan\n",
    "    for x in range(1,img.shape[0]-1):\n",
    "        for y in range(1, img.shape[1]-1):\n",
    "            a = img[x-1:x+2, y-1:y+2]\n",
    "            b = a.flatten()\n",
    "            c = int(\"\".join(list(b.astype(str))),2)\n",
    "            d = int(alg[c])\n",
    "            out[x-1,y-1] = d\n",
    "    return out.astype(int)"
   ]
  },
  {
   "cell_type": "code",
   "execution_count": 528,
   "id": "6d336540-37ca-4e66-a235-8dc989103ae9",
   "metadata": {},
   "outputs": [],
   "source": [
    "a = img\n",
    "for x in range(50):\n",
    "    a = convolve_1(a)\n",
    "    "
   ]
  },
  {
   "cell_type": "code",
   "execution_count": 530,
   "id": "2e1442de-d885-49a9-8ff3-9d464c2f95c9",
   "metadata": {},
   "outputs": [
    {
     "data": {
      "text/plain": [
       "(320, 320)"
      ]
     },
     "execution_count": 530,
     "metadata": {},
     "output_type": "execute_result"
    },
    {
     "data": {
      "image/png": "[encoded data removed]",
      "text/plain": [
       "<Figure size 432x288 with 1 Axes>"
      ]
     },
     "metadata": {
      "needs_background": "light"
     },
     "output_type": "display_data"
    }
   ],
   "source": [
    "plt.imshow(img)\n",
    "img.shape"
   ]
  },
  {
   "cell_type": "code",
   "execution_count": 531,
   "id": "e9fe25af-8c98-429b-8293-eec83eb8c80f",
   "metadata": {},
   "outputs": [
    {
     "data": {
      "text/plain": [
       "(320, 320)"
      ]
     },
     "execution_count": 531,
     "metadata": {},
     "output_type": "execute_result"
    },
    {
     "data": {
      "image/png": "[encoded data removed]",
      "text/plain": [
       "<Figure size 432x288 with 1 Axes>"
      ]
     },
     "metadata": {
      "needs_background": "light"
     },
     "output_type": "display_data"
    }
   ],
   "source": [
    "plt.imshow(a)\n",
    "a.shape"
   ]
  },
  {
   "cell_type": "code",
   "execution_count": 533,
   "id": "c522d14a-ce1d-4837-a890-2ee3e0e8fc6c",
   "metadata": {},
   "outputs": [
    {
     "data": {
      "text/plain": [
       "<matplotlib.image.AxesImage at 0x7ff8e282b240>"
      ]
     },
     "execution_count": 533,
     "metadata": {},
     "output_type": "execute_result"
    },
    {
     "data": {
      "image/png": "[encoded data removed]",
      "text/plain": [
       "<Figure size 432x288 with 1 Axes>"
      ]
     },
     "metadata": {
      "needs_background": "light"
     },
     "output_type": "display_data"
    }
   ],
   "source": [
    "plt.imshow(a[50:-50,50:-50])"
   ]
  },
  {
   "cell_type": "code",
   "execution_count": 534,
   "id": "001ac97a-e458-4a00-b688-ded096b40765",
   "metadata": {},
   "outputs": [
    {
     "data": {
      "text/plain": [
       "17325"
      ]
     },
     "execution_count": 534,
     "metadata": {},
     "output_type": "execute_result"
    }
   ],
   "source": [
    "a[50:-50,50:-50].sum()"
   ]
  },
  {
   "cell_type": "code",
   "execution_count": 471,
   "id": "89ae873e-7d15-4ddd-8ec9-7e38ffa0d8e9",
   "metadata": {},
   "outputs": [
    {
     "data": {
      "text/plain": [
       "5419"
      ]
     },
     "execution_count": 471,
     "metadata": {},
     "output_type": "execute_result"
    }
   ],
   "source": [
    "b[2:-2,2:-2].sum()"
   ]
  },
  {
   "cell_type": "code",
   "execution_count": 64,
   "id": "89d4d574-2753-45c3-8a29-f2490dc2ab5b",
   "metadata": {},
   "outputs": [],
   "source": [
    "import numpy as np\n",
    "p1 = 4\n",
    "p2 = 6\n",
    "p1S = 0 \n",
    "p2S = 0\n",
    "dice = np.arange(1,101)\n",
    "dice = np.concatenate([dice]*20)\n",
    "pointer = 0"
   ]
  },
  {
   "cell_type": "code",
   "execution_count": 65,
   "id": "c545a770-e93e-4ee8-a8a4-77081527e15a",
   "metadata": {},
   "outputs": [
    {
     "name": "stdout",
     "output_type": "stream",
     "text": [
      "993 1000 895\n"
     ]
    }
   ],
   "source": [
    "while p1S < 1000 and p2S < 1000: \n",
    "    \n",
    "    roll1 = dice[pointer:pointer+3]\n",
    "    roll2 = dice[pointer+3: pointer +6]\n",
    "    p1 += sum(roll1)\n",
    "    p2 += sum(roll2)\n",
    "    if (p1 % 10) == 0. : \n",
    "        p1 = 10\n",
    "    else:\n",
    "        p1 = p1 %10\n",
    "        \n",
    "    if (p2 % 10) == 0. : \n",
    "        p2 = 10\n",
    "    else:\n",
    "        p2 = p2 %10\n",
    "    p1S += p1\n",
    "    if p1S >=1000:\n",
    "        pointer +=3\n",
    "        break\n",
    "    p2S += p2\n",
    "    pointer += 6\n",
    "print(pointer,p1S,p2S)"
   ]
  },
  {
   "cell_type": "code",
   "execution_count": 69,
   "id": "e4fbba2d-e17c-44e1-9c7e-151e7c9782d3",
   "metadata": {},
   "outputs": [
    {
     "data": {
      "text/plain": [
       "31381059609"
      ]
     },
     "execution_count": 69,
     "metadata": {},
     "output_type": "execute_result"
    }
   ],
   "source": [
    "#b "
   ]
  },
  {
   "cell_type": "code",
   "execution_count": 34,
   "id": "b8022038-f4d6-4e69-812c-65e6da7a9ed8",
   "metadata": {},
   "outputs": [],
   "source": [
    "import numpy as np\n",
    "p1 = 4\n",
    "p2 = 8\n",
    "p1S = 0 \n",
    "p2S = 0"
   ]
  },
  {
   "cell_type": "code",
   "execution_count": 36,
   "id": "80f73107-5776-4461-bb5b-d2b4e694a747",
   "metadata": {},
   "outputs": [],
   "source": [
    "def roll(p,pS):\n",
    "    p += np.random.randint(1,4)\n",
    "    if (p % 10) == 0. : \n",
    "        p = 10\n",
    "    else:\n",
    "        p = p %10 \n",
    "    pS += p\n",
    "    return p, pS"
   ]
  },
  {
   "cell_type": "code",
   "execution_count": null,
   "id": "888a65e2-01b3-4165-8a32-a0fc6f3c7ea4",
   "metadata": {},
   "outputs": [],
   "source": []
  },
  {
   "cell_type": "code",
   "execution_count": 3,
   "id": "79aebe08-ed1d-44b3-b61f-4237a78554e1",
   "metadata": {},
   "outputs": [],
   "source": [
    "univ = 341960390180808 + 444356092776315"
   ]
  },
  {
   "cell_type": "code",
   "execution_count": 4,
   "id": "9fbe3816-4488-48d8-9087-e682c4197ed1",
   "metadata": {},
   "outputs": [
    {
     "ename": "SyntaxError",
     "evalue": "invalid syntax (<ipython-input-4-77e3bfcf3282>, line 4)",
     "output_type": "error",
     "traceback": [
      "\u001b[1;36m  File \u001b[1;32m\"<ipython-input-4-77e3bfcf3282>\"\u001b[1;36m, line \u001b[1;32m4\u001b[0m\n\u001b[1;33m    def roll(p,pS)\u001b[0m\n\u001b[1;37m                  ^\u001b[0m\n\u001b[1;31mSyntaxError\u001b[0m\u001b[1;31m:\u001b[0m invalid syntax\n"
     ]
    }
   ],
   "source": [
    "    roll1 = dice[pointer:pointer+3]\n",
    "    roll2 = dice[pointer+3: pointer +6]\n",
    "    \n"
   ]
  },
  {
   "cell_type": "code",
   "execution_count": 33,
   "id": "e0414bc8-f70c-4852-9d45-dfe220778567",
   "metadata": {},
   "outputs": [
    {
     "data": {
      "text/plain": [
       "3"
      ]
     },
     "execution_count": 33,
     "metadata": {},
     "output_type": "execute_result"
    }
   ],
   "source": []
  },
  {
   "cell_type": "code",
   "execution_count": 16,
   "id": "22bcac72-559c-4ad4-aeec-63041b07de73",
   "metadata": {},
   "outputs": [
    {
     "data": {
      "text/plain": [
       "131406"
      ]
     },
     "execution_count": 16,
     "metadata": {},
     "output_type": "execute_result"
    }
   ],
   "source": [
    "363 * 362"
   ]
  },
  {
   "cell_type": "markdown",
   "id": "4f277d78-a973-4e57-97db-601066b4c134",
   "metadata": {},
   "source": [
    "# 22"
   ]
  },
  {
   "cell_type": "code",
   "execution_count": 1,
   "id": "fd6d611f-8ced-4447-987d-79c399d37cc2",
   "metadata": {},
   "outputs": [],
   "source": [
    "import numpy as np\n",
    "inp = open(\"inputs/input22.txt\", \"r+\")\n",
    "inp = inp.read()\n",
    "inp = inp.split(\"\\n\")"
   ]
  },
  {
   "cell_type": "code",
   "execution_count": 2,
   "id": "5a009821-31b7-4b83-9ddc-fb91a632c4c7",
   "metadata": {},
   "outputs": [],
   "source": [
    "inp = [x.split(\",\") for x in inp]"
   ]
  },
  {
   "cell_type": "code",
   "execution_count": 3,
   "id": "0d12540b-9ba5-42dc-a620-c2b9b014b7a0",
   "metadata": {},
   "outputs": [],
   "source": [
    "turn = [x[0].split(\" \")[0] for x in inp]"
   ]
  },
  {
   "cell_type": "code",
   "execution_count": 4,
   "id": "5c7889fd-7bc7-49d1-9ced-41fe3d4ccb67",
   "metadata": {},
   "outputs": [],
   "source": [
    "turn = [x.replace(\"on\", \"1\") for x in turn]\n",
    "turn = [x.replace(\"off\", \"0\") for x in turn]\n",
    "turn = np.array(turn).astype(bool)"
   ]
  },
  {
   "cell_type": "code",
   "execution_count": 5,
   "id": "7980bbad-bb6d-48ab-935d-a09c16f982d2",
   "metadata": {},
   "outputs": [],
   "source": [
    "coords = [[x[0].split(\" \")[1], x[1], x[2]] for x in inp]\n",
    "coords = [[x[0].replace(\"x=\", \"\").split(\" \")[1], x[1].replace(\"y=\", \"\"), x[2].replace(\"z=\", \"\")] for x in inp]\n",
    "coords = np.array([[x[0].split(\"..\"),x[1].split(\"..\"),x[2].split(\"..\")] for x in coords]).astype(int)\n",
    "coords = coords + 50"
   ]
  },
  {
   "cell_type": "code",
   "execution_count": 6,
   "id": "d30688aa-7b76-451e-87c2-dd1333ebdb5c",
   "metadata": {},
   "outputs": [],
   "source": [
    "#a"
   ]
  },
  {
   "cell_type": "code",
   "execution_count": 7,
   "id": "683af375-9d28-4f33-9beb-ac24b194e56a",
   "metadata": {},
   "outputs": [],
   "source": [
    "cube = np.zeros((101,101,101)).astype(bool)"
   ]
  },
  {
   "cell_type": "code",
   "execution_count": 8,
   "id": "794b1bde-8d96-4f05-bad1-909bbe84ff09",
   "metadata": {},
   "outputs": [],
   "source": [
    "for step in range(len(turn)):\n",
    "    x = coords[step][0] \n",
    "    y = coords[step][1]\n",
    "    z = coords[step][2]\n",
    "    if np.all(np.abs(coords[step]) == coords[step]):\n",
    "        cube[x[0]:x[1]+1, y[0]:y[1]+1, z[0]:z[1]+1] = turn[step]"
   ]
  },
  {
   "cell_type": "code",
   "execution_count": 9,
   "id": "c55323ad-8d28-443b-b90b-16d53ed4e7c0",
   "metadata": {},
   "outputs": [
    {
     "data": {
      "text/plain": [
       "474140"
      ]
     },
     "execution_count": 9,
     "metadata": {},
     "output_type": "execute_result"
    }
   ],
   "source": [
    "cube.sum()"
   ]
  },
  {
   "cell_type": "code",
   "execution_count": 163,
   "id": "ff1bc2a6-4ca5-4d5d-b209-1671567e9ea7",
   "metadata": {},
   "outputs": [],
   "source": [
    "# b"
   ]
  },
  {
   "cell_type": "code",
   "execution_count": 32,
   "id": "b9ceebcc-e1c2-4752-a0af-e28670da93b9",
   "metadata": {},
   "outputs": [],
   "source": [
    "X = np.zeros((coords.max(axis=0).T[0][0] + np.abs(coords.min(axis=0).T[0][0])))\n",
    "Y = np.zeros((coords.max(axis=0).T[0][1] + np.abs(coords.min(axis=0).T[0][1])))\n",
    "Z = np.zeros((coords.max(axis=0).T[0][2] + np.abs(coords.min(axis=0).T[0][2])))"
   ]
  },
  {
   "cell_type": "code",
   "execution_count": 36,
   "id": "1c273712-49aa-466e-a3e9-4da7d01b07ce",
   "metadata": {},
   "outputs": [],
   "source": [
    "for step in range(len(turn)):\n",
    "    x = coords[step][0] + np.abs(coords.min(axis=0).T[0][0])\n",
    "    y = coords[step][1] + np.abs(coords.min(axis=0).T[0][1])\n",
    "    z = coords[step][2] + np.abs(coords.min(axis=0).T[0][2])\n",
    "    X[x[0]:x[1]+1] = turn[step]\n",
    "    Y[y[0]:y[1]+1] = turn[step]\n",
    "    Z[z[0]:z[1]+1] = turn[step]\n",
    "# NO. :)"
   ]
  },
  {
   "cell_type": "code",
   "execution_count": 39,
   "id": "b75baa10-5631-400f-80e3-c6df0f66de81",
   "metadata": {},
   "outputs": [
    {
     "data": {
      "text/plain": [
       "175794"
      ]
     },
     "execution_count": 39,
     "metadata": {},
     "output_type": "execute_result"
    }
   ],
   "source": [
    "# Idea. Just somehow save a range\n",
    "X = \n",
    "Y =\n",
    "Z =\n"
   ]
  },
  {
   "cell_type": "code",
   "execution_count": 46,
   "id": "74a800e4-387d-454e-8068-ec337d8a689b",
   "metadata": {},
   "outputs": [
    {
     "data": {
      "text/plain": [
       "array([[45, 97],\n",
       "       [19, 72],\n",
       "       [31, 83]])"
      ]
     },
     "execution_count": 46,
     "metadata": {},
     "output_type": "execute_result"
    }
   ],
   "source": [
    "coords[0]"
   ]
  },
  {
   "cell_type": "code",
   "execution_count": 47,
   "id": "3a8988b1-044d-4ac9-9a5a-03b44f2cebef",
   "metadata": {},
   "outputs": [
    {
     "data": {
      "text/plain": [
       "array([[ 6, 55],\n",
       "       [23, 71],\n",
       "       [36, 85]])"
      ]
     },
     "execution_count": 47,
     "metadata": {},
     "output_type": "execute_result"
    }
   ],
   "source": [
    "coords[1]"
   ]
  },
  {
   "cell_type": "code",
   "execution_count": 18,
   "id": "454e9de8-8b63-44fd-8f91-bf6df6c9a5be",
   "metadata": {},
   "outputs": [
    {
     "data": {
      "text/plain": [
       "175794"
      ]
     },
     "execution_count": 18,
     "metadata": {},
     "output_type": "execute_result"
    }
   ],
   "source": [
    "2758514936282235"
   ]
  },
  {
   "cell_type": "markdown",
   "id": "206da89e-0157-4dd4-899d-5fc94a8bb91f",
   "metadata": {},
   "source": [
    "# 23"
   ]
  },
  {
   "cell_type": "code",
   "execution_count": 2,
   "id": "a0b2d49f-2250-4c21-b29e-21196b5b8420",
   "metadata": {},
   "outputs": [],
   "source": [
    "import numpy as np\n",
    "import matplotlib.pyplot as plt\n",
    "import copy"
   ]
  },
  {
   "cell_type": "code",
   "execution_count": 3,
   "id": "cc62bd5b-c689-42cc-ad8c-6a6b07af6d59",
   "metadata": {},
   "outputs": [],
   "source": [
    "def check_win(field): \n",
    "    if np.all(field.T[2] == [0,1,1,1,1]):\n",
    "        if np.all(field.T[4] == [0,2,2,2,2]):\n",
    "            if np.all(field.T[6] == [0,3,3,3,3]):\n",
    "                if np.all(field.T[8] == [0,4,4,4,4]):\n",
    "                    return True\n",
    "    return False"
   ]
  },
  {
   "cell_type": "code",
   "execution_count": 157,
   "id": "f9400a95-ccf2-4e37-b0de-4d18a6c57a33",
   "metadata": {},
   "outputs": [],
   "source": [
    "def move(start, end, field):\n",
    "    count = 0\n",
    "    if field[end] != 0: \n",
    "        return False\n",
    "    if field[start] <= 0:\n",
    "        return False\n",
    "    \n",
    "    if start[0] == 0: \n",
    "        # move from top to row: \n",
    "        if start[1] > end[1]:\n",
    "            moves = np.arange(end[1],start[1])\n",
    "        else:\n",
    "            moves = np.arange(start[1]+1, end[1]+1)\n",
    "        for x in moves: \n",
    "            count +=1\n",
    "            if field[start[0],x] != 0:\n",
    "                return False\n",
    "        moves = np.arange(start[0]+1, end[0]+1)\n",
    "        for x in moves: \n",
    "            count +=1\n",
    "            if field[x,end[1]] != 0: \n",
    "                return False\n",
    "    else: \n",
    "        # for move from room: \n",
    "        moves = np.arange(0, start[0])\n",
    "        for x in moves: \n",
    "            count +=1\n",
    "            if field[x,start[1]] != 0: \n",
    "                return False\n",
    "        if start[1] > end[1]:\n",
    "            moves = np.arange(end[1],start[1])\n",
    "        else:\n",
    "            moves = np.arange(start[1]+1, end[1]+1)\n",
    "        for x in moves: \n",
    "            count +=1\n",
    "            if field[0, x] != 0: \n",
    "                return False\n",
    "        moves = np.arange(1, end[0]+1)\n",
    "        for x in moves: \n",
    "            count +=1\n",
    "            if field[x,end[1]] != 0: \n",
    "                return False\n",
    "            \n",
    "    field[end] = field[start]\n",
    "    field[start] = 0\n",
    "    if field[end] == 1: \n",
    "        return (count * 1, field)\n",
    "    if field[end] == 2: \n",
    "        return (count * 10, field)\n",
    "    if field[end] == 3: \n",
    "        return (count * 100, field)\n",
    "    if field[end] == 4: \n",
    "        return (count * 1000, field)\n",
    "    print(\"BROKEN\")"
   ]
  },
  {
   "cell_type": "code",
   "execution_count": 158,
   "id": "fec6b705-6829-4069-a543-47289979e586",
   "metadata": {
    "tags": []
   },
   "outputs": [],
   "source": [
    "def run_moves(moves): \n",
    "    completeCost = [0]\n",
    "    field = copy.deepcopy(base)\n",
    "    animation = []\n",
    "    animation.append(copy.deepcopy(base))\n",
    "    for x in moves: \n",
    "        res = move(tuple(x[0]), tuple(x[1]),field)\n",
    "        if res:\n",
    "            field = res[1]\n",
    "            completeCost.append(res[0])\n",
    "            animation.append(copy.deepcopy(field))\n",
    "        else: \n",
    "            return False, completeCost, animation\n",
    "    print(\"Path complete\")\n",
    "    return check_win(field), completeCost, animation"
   ]
  },
  {
   "cell_type": "code",
   "execution_count": 159,
   "id": "b86fa37f-75f2-43f3-b1fd-f4293c44f56d",
   "metadata": {
    "jupyter": {
     "source_hidden": true
    },
    "tags": []
   },
   "outputs": [],
   "source": [
    "def mutate(moves): \n",
    "    \n",
    "    #swap random steps:\n",
    "    mutate = (np.random.rand(len(moves)) > 0.5).T\n",
    "    swap = moves[mutate]\n",
    "    order = np.arange(0,len(swap))\n",
    "    swap = swap[order]\n",
    "    moves[mutate] = swap\n",
    "    \n",
    "    # add length\n",
    "    if np.random.rand(1) > 0.5: \n",
    "        moves = np.concatenate((moves,np.random.randint(0,5,(1,2,2))))\n",
    "    if moves.shape[0] > 32: # so it converges to arround 25\n",
    "            moves = moves[1:,:,:]\n",
    "    \n",
    "    # change coordinates\n",
    "    mutate = (np.random.rand(2,len(moves)) > 0.5).T\n",
    "    new = np.random.randint(0,5, (mutate.sum(),2))\n",
    "    moves[mutate] = new     \n",
    "    return moves\n",
    "    "
   ]
  },
  {
   "cell_type": "code",
   "execution_count": 160,
   "id": "9ae86f03-a2d8-41e5-ac4f-29112885441f",
   "metadata": {},
   "outputs": [],
   "source": [
    "base = np.array([\n",
    "[0,0,0,0,0,0,0,0,0,0,0],\n",
    "[-1,-1,3,-1,2,-1,4,-1,1,-1,-1],\n",
    "[-1,-1,4,-1,3,-1,2,-1,1,-1,-1],\n",
    "[-1,-1,4,-1,2,-1,1,-1,3,-1,-1],\n",
    "[-1,-1,2,-1,4,-1,1,-1,3,-1,-1]])"
   ]
  },
  {
   "cell_type": "code",
   "execution_count": 161,
   "id": "a1dbb903-efe3-4501-b3d5-6a5c4910e41f",
   "metadata": {},
   "outputs": [],
   "source": [
    "#############\n",
    "#...........#\n",
    "###C#B#D#A###\n",
    "  #D#C#B#A#\n",
    "  #D#B#A#C#\n",
    "  #B#D#A#C#\n",
    "  #########"
   ]
  },
  {
   "cell_type": "code",
   "execution_count": 162,
   "id": "55657c4f-5453-4c37-b392-10944b278aa4",
   "metadata": {},
   "outputs": [],
   "source": [
    "basePath = [[(1,2),(0,0)],\n",
    "            [(2,2),(0,10)],\n",
    "            [(3,2),(0,9)],\n",
    "            [(4,2),(0,1)],\n",
    "            [(1,8),(4,2)], \n",
    "            [(2,8),(3,2)],\n",
    "            \n",
    "            [(3,8),(0,3)],\n",
    "            [(4,8),(0,5)],\n",
    "            [(0,9),(4,8)],\n",
    "            [(0,10),(3,8)], \n",
    "            [(1,6),(2,8)],\n",
    "\n",
    "            [(2,6),(0,10)],\n",
    "            [(3,6),(0,9)],\n",
    "            [(4,6),(0,7)],\n",
    "            [(0,5),(4,6)], \n",
    "            [(0,3),(3,6)],\n",
    "            \n",
    "            [(0,7),(2,2)],\n",
    "            [(0,9),(1,2)],\n",
    "            [(1,4),(0,3)],\n",
    "            [(2,4),(2,6)], \n",
    "            [(3,4),(0,9)],\n",
    "            \n",
    "            [(4,4),(1,8)],\n",
    "            [(0,3),(4,4)],\n",
    "            [(0,9),(3,4)],\n",
    "            [(0,1),(2,4)], \n",
    "            [(0,0),(1,6)],\n",
    "            [(0,10),(1,4)],\n",
    "           ]"
   ]
  },
  {
   "cell_type": "code",
   "execution_count": 163,
   "id": "763eca54-4cb2-4073-8dd7-51b090f59a98",
   "metadata": {},
   "outputs": [
    {
     "name": "stdout",
     "output_type": "stream",
     "text": [
      "Path complete\n"
     ]
    }
   ],
   "source": [
    "res =  run_moves(basePath)"
   ]
  },
  {
   "cell_type": "code",
   "execution_count": 167,
   "id": "a3521653-2802-4621-9d98-4443087da6dc",
   "metadata": {},
   "outputs": [
    {
     "data": {
      "text/plain": [
       "48708"
      ]
     },
     "execution_count": 167,
     "metadata": {},
     "output_type": "execute_result"
    }
   ],
   "source": [
    "sum(res[1])"
   ]
  },
  {
   "cell_type": "code",
   "execution_count": 165,
   "id": "55c64854-acc2-4441-8554-4387599bd7f9",
   "metadata": {},
   "outputs": [
    {
     "data": {
      "image/png": "[encoded data removed]",
      "text/plain": [
       "<Figure size 2160x2160 with 28 Axes>"
      ]
     },
     "metadata": {
      "needs_background": "light"
     },
     "output_type": "display_data"
    }
   ],
   "source": [
    "# using the variable axs for multiple Axes\n",
    "fig, axs = plt.subplots(7, 4, figsize=(30,30))\n",
    "count = 0\n",
    "yAxis = 0\n",
    "for x in range(len(res[2])):\n",
    "    axs[yAxis,count].imshow(res[2][x])\n",
    "    axs[yAxis,count].set_title(res[1][x])\n",
    "    count +=1\n",
    "    if count % 4 == 0 and count != 0: \n",
    "        count = 0 \n",
    "        yAxis += 1 "
   ]
  },
  {
   "cell_type": "markdown",
   "id": "65266c72-4a4f-4d64-a52c-968ddb8b4f0b",
   "metadata": {},
   "source": [
    "# 24"
   ]
  },
  {
   "cell_type": "code",
   "execution_count": 33,
   "id": "9bde649c-cf5e-4392-9f06-db22f64c26a0",
   "metadata": {},
   "outputs": [],
   "source": [
    "import numpy as np\n",
    "import math\n",
    "inp = open(\"inputs/input24.txt\", \"r+\")\n",
    "inp = inp.read()\n",
    "inp = inp.split(\"\\n\")"
   ]
  },
  {
   "cell_type": "code",
   "execution_count": 37,
   "id": "97c54126-e5e4-441c-838a-4eb62c390a82",
   "metadata": {},
   "outputs": [
    {
     "data": {
      "text/plain": [
       "['mul', 'x', '0']"
      ]
     },
     "execution_count": 37,
     "metadata": {},
     "output_type": "execute_result"
    }
   ],
   "source": [
    "inp[1].split()"
   ]
  },
  {
   "cell_type": "code",
   "execution_count": 13,
   "id": "216d2c30-a22b-4a9d-9e64-94d93c228a03",
   "metadata": {
    "tags": []
   },
   "outputs": [],
   "source": [
    "class ALU:\n",
    "    def __init__(self):\n",
    "        self.store = [None,None,None,None]\n",
    "    def inp(self,inp,where):\n",
    "        self.store[where] = inp\n",
    "    def add(self,ind1, ind2):\n",
    "        self.store[ind1] = self.store[ind1] + self.store[ind2]\n",
    "    def mul(self,ind1, ind2):\n",
    "        self.store[ind1] = self.store[ind1] * self.store[ind2]\n",
    "    def div(self,ind1, ind2):\n",
    "        self.store[ind1] = self.store[ind1] // self.store[ind2]\n",
    "    def mod(self,ind1, ind2):\n",
    "        self.store[ind1] = self.store[ind1] % self.store[ind2]\n",
    "    def eql(self,ind1, ind2):\n",
    "        self.store[ind1] = 1 if self.store[ind1] == self.store[ind2] else 0\n",
    "    \n",
    "    def parse_command(self,command): \n",
    "        command.split([0])"
   ]
  },
  {
   "cell_type": "code",
   "execution_count": 17,
   "id": "dbc17d10-6f2c-4d45-81be-8349d462240f",
   "metadata": {},
   "outputs": [],
   "source": [
    "A = ALU()"
   ]
  },
  {
   "cell_type": "markdown",
   "id": "13e41427-4ec6-4639-b03b-8c7cfb398975",
   "metadata": {},
   "source": [
    "# 25"
   ]
  },
  {
   "cell_type": "code",
   "execution_count": 272,
   "id": "b3d7855b-8096-48c5-9560-6959b430dba3",
   "metadata": {},
   "outputs": [],
   "source": [
    "import numpy as np\n",
    "inp = open(\"inputs/input25.txt\", \"r+\")\n",
    "inp = inp.read()\n",
    "inp = inp.split(\"\\n\")\n",
    "inp = [x.replace(\"v\", \"1\") for x in inp]\n",
    "inp = [x.replace(\">\", \"2\") for x in inp]\n",
    "inp = [x.replace(\".\", \"0\") for x in inp]\n",
    "base = np.array([list(x) for x in inp]).astype(int)"
   ]
  },
  {
   "cell_type": "code",
   "execution_count": 273,
   "id": "ce70af3b-a204-43b2-b28a-26dcb16da266",
   "metadata": {},
   "outputs": [],
   "source": [
    "def move_east():\n",
    "    east = np.where(inp==2)\n",
    "    nex = east[1] + 1\n",
    "    nex[nex == inp.shape[1]] = 0\n",
    "    nex = (east[0], nex)\n",
    "    empty = (inp[nex] == 0)\n",
    "    move = (east[0][empty], east[1][empty])\n",
    "    to = (nex[0][empty], nex[1][empty])\n",
    "    inp[move] = 0 \n",
    "    inp[to] = 2"
   ]
  },
  {
   "cell_type": "code",
   "execution_count": 274,
   "id": "f486e888-4fcf-475a-a2b6-22afc6e44561",
   "metadata": {},
   "outputs": [],
   "source": [
    "def move_south():\n",
    "    south = np.where(inp==1)\n",
    "    nex = south[0] + 1\n",
    "    nex[nex == inp.shape[0]] = 0\n",
    "    nex = (nex, south[1])\n",
    "    move = (south[0][inp[nex] == 0], south[1][inp[nex] == 0])\n",
    "    to = (nex[0][inp[nex] == 0], nex[1][inp[nex] == 0])\n",
    "    inp[move] = 0 \n",
    "    inp[to] = 1"
   ]
  },
  {
   "cell_type": "code",
   "execution_count": 275,
   "id": "d79a6620-77ae-467d-82d9-b1dfd53a1399",
   "metadata": {},
   "outputs": [],
   "source": [
    "inp = copy.deepcopy(base)\n",
    "count = 0"
   ]
  },
  {
   "cell_type": "code",
   "execution_count": 276,
   "id": "c785584e-b4c9-4323-a9f4-6457b1a1e855",
   "metadata": {},
   "outputs": [],
   "source": [
    "while True: \n",
    "    saved = copy.deepcopy(inp)\n",
    "    move_east()\n",
    "    move_south()\n",
    "    count +=1\n",
    "    if np.all(saved == inp): \n",
    "        break"
   ]
  },
  {
   "cell_type": "code",
   "execution_count": 277,
   "id": "a6300585-6a84-43f0-811d-452f47202732",
   "metadata": {},
   "outputs": [
    {
     "data": {
      "text/plain": [
       "380"
      ]
     },
     "execution_count": 277,
     "metadata": {},
     "output_type": "execute_result"
    }
   ],
   "source": [
    "count"
   ]
  },
  {
   "cell_type": "code",
   "execution_count": 261,
   "id": "ba376e8c-504e-48b2-9448-83fb6de792c1",
   "metadata": {},
   "outputs": [],
   "source": [
    "move_south()"
   ]
  },
  {
   "cell_type": "code",
   "execution_count": 260,
   "id": "073e2dab-3996-4882-af3c-be397becf492",
   "metadata": {},
   "outputs": [
    {
     "data": {
      "text/plain": [
       "<matplotlib.image.AxesImage at 0x1af6047abe0>"
      ]
     },
     "execution_count": 260,
     "metadata": {},
     "output_type": "execute_result"
    },
    {
     "data": {
      "image/png": "[encoded data removed]",
      "text/plain": [
       "<Figure size 432x288 with 1 Axes>"
      ]
     },
     "metadata": {
      "needs_background": "light"
     },
     "output_type": "display_data"
    }
   ],
   "source": [
    "plt.imshow(base)"
   ]
  },
  {
   "cell_type": "code",
   "execution_count": 268,
   "id": "79b3df6c-1236-4ad6-8ef0-18cfb9687b8d",
   "metadata": {},
   "outputs": [
    {
     "data": {
      "text/plain": [
       "<matplotlib.image.AxesImage at 0x1af605d9a30>"
      ]
     },
     "execution_count": 268,
     "metadata": {},
     "output_type": "execute_result"
    },
    {
     "data": {
      "image/png": "[encoded data removed]",
      "text/plain": [
       "<Figure size 432x288 with 1 Axes>"
      ]
     },
     "metadata": {
      "needs_background": "light"
     },
     "output_type": "display_data"
    }
   ],
   "source": [
    "plt.imshow(inp)"
   ]
  },
  {
   "cell_type": "code",
   "execution_count": 262,
   "id": "beed9348-011d-423a-9f12-6dfe0d501627",
   "metadata": {},
   "outputs": [
    {
     "data": {
      "text/plain": [
       "<matplotlib.image.AxesImage at 0x1af60f0a2e0>"
      ]
     },
     "execution_count": 262,
     "metadata": {},
     "output_type": "execute_result"
    },
    {
     "data": {
      "image/png": "[encoded data removed]",
      "text/plain": [
       "<Figure size 432x288 with 1 Axes>"
      ]
     },
     "metadata": {
      "needs_background": "light"
     },
     "output_type": "display_data"
    }
   ],
   "source": [
    "plt.imshow(inp)"
   ]
  },
  {
   "cell_type": "code",
   "execution_count": 185,
   "id": "4853fc82-c826-4f82-b318-ae089cfd2864",
   "metadata": {},
   "outputs": [
    {
     "ename": "TypeError",
     "evalue": "can only concatenate tuple (not \"int\") to tuple",
     "output_type": "error",
     "traceback": [
      "\u001b[1;31m---------------------------------------------------------------------------\u001b[0m",
      "\u001b[1;31mTypeError\u001b[0m                                 Traceback (most recent call last)",
      "\u001b[1;32m<ipython-input-185-68db72529fe5>\u001b[0m in \u001b[0;36m<module>\u001b[1;34m\u001b[0m\n\u001b[1;32m----> 1\u001b[1;33m \u001b[0meast\u001b[0m \u001b[1;33m+\u001b[0m \u001b[1;36m1\u001b[0m\u001b[1;33m\u001b[0m\u001b[1;33m\u001b[0m\u001b[0m\n\u001b[0m",
      "\u001b[1;31mTypeError\u001b[0m: can only concatenate tuple (not \"int\") to tuple"
     ]
    }
   ],
   "source": [
    "east[0] = east[0]+1"
   ]
  },
  {
   "cell_type": "code",
   "execution_count": 186,
   "id": "a6cd9384-fe82-404f-b5c6-30d1a2525e7c",
   "metadata": {},
   "outputs": [
    {
     "data": {
      "text/plain": [
       "(array([0, 0, 0, 1, 1, 2, 2, 2, 2, 3, 3, 3, 3, 3, 4, 5, 5, 5, 6, 6, 7, 7,\n",
       "        8], dtype=int64),\n",
       " array([4, 5, 9, 3, 4, 0, 1, 3, 5, 0, 1, 3, 4, 6, 1, 0, 2, 3, 5, 7, 5, 6,\n",
       "        9], dtype=int64))"
      ]
     },
     "execution_count": 186,
     "metadata": {},
     "output_type": "execute_result"
    }
   ],
   "source": [
    "east"
   ]
  },
  {
   "cell_type": "code",
   "execution_count": null,
   "id": "180497cc-ddbd-4d6c-b406-e9b88312020d",
   "metadata": {},
   "outputs": [],
   "source": []
  }
 ],
 "metadata": {
  "kernelspec": {
   "display_name": "Python 3",
   "language": "python",
   "name": "python3"
  },
  "language_info": {
   "codemirror_mode": {
    "name": "ipython",
    "version": 3
   },
   "file_extension": ".py",
   "mimetype": "text/x-python",
   "name": "python",
   "nbconvert_exporter": "python",
   "pygments_lexer": "ipython3",
   "version": "3.8.8"
  }
 },
 "nbformat": 4,
 "nbformat_minor": 5
}
