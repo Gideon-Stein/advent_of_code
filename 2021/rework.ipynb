{
 "cells": [
  {
   "cell_type": "code",
   "execution_count": 2,
   "metadata": {},
   "outputs": [],
   "source": [
    "import numpy as np"
   ]
  },
  {
   "cell_type": "markdown",
   "metadata": {
    "jp-MarkdownHeadingCollapsed": true,
    "tags": []
   },
   "source": [
    "# 8"
   ]
  },
  {
   "cell_type": "code",
   "execution_count": 118,
   "metadata": {},
   "outputs": [],
   "source": [
    "inp = open(\"home/input8.txt\", \"r+\")\n",
    "inp = inp.read()\n",
    "inp = np.array(inp.split(\"\\n\"))\n",
    "inp = [line.split(\" | \") for line in inp]\n",
    "inp = [[block.split(\" \") for block in line]for line in inp]"
   ]
  },
  {
   "cell_type": "code",
   "execution_count": 119,
   "metadata": {},
   "outputs": [],
   "source": [
    "#b \n",
    "\n",
    "# 2 : 1\n",
    "# 3 : 7\n",
    "# 4 : 4\n",
    "# 5 : 2,3,5\n",
    "# 6 : 0,6,9\n",
    "# 7 : 8"
   ]
  },
  {
   "cell_type": "code",
   "execution_count": 120,
   "metadata": {},
   "outputs": [],
   "source": [
    "final = []\n",
    "for line in inp: \n",
    "    tester = [sorted(x) for x in line[0]]\n",
    "    # start\n",
    "    numberMap = {x: None for x in range(10)}\n",
    "    for x in tester:\n",
    "        if len(x) == 2: \n",
    "            numberMap[1] = x\n",
    "        if len(x) == 3: \n",
    "            numberMap[7] = x\n",
    "        if len(x) == 4: \n",
    "            numberMap[4] = x\n",
    "        if len(x) == 7: \n",
    "            numberMap[8] = x\n",
    "    letterMap = {x:None for x in [\"a\", \"b\", \"c\", \"d\", \"e\", \"f\", \"g\"]}\n",
    "    # \n",
    "    for x in numberMap[7]:\n",
    "        if x not in numberMap[1]:\n",
    "            letterMap[\"a\"] = x\n",
    "    #1 \n",
    "    for x in tester: \n",
    "        if len(x) != 6:\n",
    "            pass\n",
    "        else:\n",
    "            if set(numberMap[7] + numberMap[4]).issubset(set(x)):\n",
    "                numberMap[9] = x\n",
    "                for y in x: \n",
    "                    if y not in set(numberMap[7] + numberMap[4]):\n",
    "                        letterMap[\"g\"] = y \n",
    "    #2 \n",
    "    letterMap[\"e\"] = [x for x in  numberMap[8] if x not in numberMap[9]][0]\n",
    "    #3 \n",
    "    for x in tester:\n",
    "        if len(x) != 5: \n",
    "            pass\n",
    "        else:\n",
    "            if letterMap[\"e\"] in x: \n",
    "                numberMap[2] = x\n",
    "    #4\n",
    "    letterMap[\"f\"] = [x for x in numberMap[1] if x not in numberMap[2]][0]\n",
    "    letterMap[\"c\"] = [x for x in numberMap[1] if x in numberMap[2]][0]\n",
    "    \n",
    "    #5 \n",
    "    for x in tester:\n",
    "        if len(x) != 6: \n",
    "            pass\n",
    "        else:\n",
    "            if (letterMap[\"c\"] in x) and (x != numberMap[9]):\n",
    "                numberMap[6] = x\n",
    "    #6\n",
    "    for x in tester:\n",
    "        if len(x) != 6: \n",
    "            pass\n",
    "        else:\n",
    "            if (letterMap[\"c\"] not in x) and (x != numberMap[9]):\n",
    "                 numberMap[6] = x\n",
    "            elif (letterMap[\"c\"] in x) and (x != numberMap[9]):\n",
    "                 numberMap[0] = x\n",
    "    #7\n",
    "    for x in tester:\n",
    "        if len(x) != 5: \n",
    "            pass\n",
    "        else:\n",
    "            if (letterMap[\"c\"] not in x) and (x != numberMap[2]):\n",
    "                 numberMap[5] = x\n",
    "            elif (letterMap[\"c\"] in x) and (x != numberMap[2]):\n",
    "                 numberMap[3] = x\n",
    "    stack = []\n",
    "    for x in numberMap.keys():\n",
    "        stack.append( numberMap[x])\n",
    "    out = []\n",
    "    for x in [sorted(x) for x in line[1]]:\n",
    "        for y in range(len(stack)): \n",
    "            if x == stack[y]: \n",
    "                out.append(y)\n",
    "    final.append(out)"
   ]
  },
  {
   "cell_type": "code",
   "execution_count": 128,
   "metadata": {},
   "outputs": [
    {
     "data": {
      "text/plain": [
       "1023686"
      ]
     },
     "execution_count": 128,
     "metadata": {},
     "output_type": "execute_result"
    }
   ],
   "source": [
    "sum([int(\"\".join(x)) for x in np.array(final).astype(str)])"
   ]
  }
 ],
 "metadata": {
  "kernelspec": {
   "display_name": "Python 3",
   "language": "python",
   "name": "python3"
  },
  "language_info": {
   "codemirror_mode": {
    "name": "ipython",
    "version": 3
   },
   "file_extension": ".py",
   "mimetype": "text/x-python",
   "name": "python",
   "nbconvert_exporter": "python",
   "pygments_lexer": "ipython3",
   "version": "3.7.9"
  }
 },
 "nbformat": 4,
 "nbformat_minor": 5
}
